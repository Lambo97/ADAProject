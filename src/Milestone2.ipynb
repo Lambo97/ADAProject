{
 "cells": [
  {
   "cell_type": "markdown",
   "metadata": {},
   "source": [
    "# Milestone 2 \n",
    "# How much emission are you REALLY responsible for.\n",
    "\n",
    "In this notebook we focus on exploring the dataset we have selected, and prepare the data for the sory telling in milestone 3.\n",
    "\n",
    "## Table of contents\n",
    "1. [Introduction](#introduction)\n",
    "    1. [Percentage of the emission due to agriculture](#percentage_emissions)\n",
    "    2. [Part of emission for meat/vegetal products](#world_meat_vegetal)\n",
    "    3. [Emissions by Countries](#emissions_countries)\n",
    "2. [Correcting emissions for Belgium and Switzerland](#correcting_emissions)\n",
    "    1. [Belgium](#belgium_trade)\n",
    "    2. [Switzerland](#swiss_trade)\n",
    "    3. [Comparison between Belgium and Switzerland](#comparison_belgium_swiss_trade)\n"
   ]
  },
  {
   "cell_type": "markdown",
   "metadata": {},
   "source": [
    "## Introduction <a name=\"introduction\"></a>\n",
    "we will presented the data from the world point of view including\n",
    "   - Percentage of the emission due to agriculture in total emission\n",
    "   - The part of emission in agriculture due to the meat production and all other animal product and the part of emission due to the vegetable source of food\n",
    "   - The same as the previous point but by country.\n",
    "    \n",
    "In the introduction we will show the evolution of these data from 1961 to 2017."
   ]
  },
  {
   "cell_type": "code",
   "execution_count": 1,
   "metadata": {},
   "outputs": [],
   "source": [
    "import pandas as pd\n",
    "import numpy as np\n",
    "import matplotlib.pyplot as plt"
   ]
  },
  {
   "cell_type": "code",
   "execution_count": 2,
   "metadata": {},
   "outputs": [],
   "source": [
    "# constants\n",
    "DATA_PATH = '../data/'\n",
    "GENERATED_DATA_PATH = '../generated/'"
   ]
  },
  {
   "cell_type": "markdown",
   "metadata": {},
   "source": [
    "### Percentage of the emission due to agriculture in total emission <a name=\"percentage_emissions\"></a>"
   ]
  },
  {
   "cell_type": "markdown",
   "metadata": {},
   "source": [
    "Use the Environment_Emissions_by_Sector_E_All_Data_(Normalized) for the world only to show the evolution of the percentage of agriculture emission"
   ]
  },
  {
   "cell_type": "code",
   "execution_count": null,
   "metadata": {},
   "outputs": [],
   "source": []
  },
  {
   "cell_type": "code",
   "execution_count": null,
   "metadata": {},
   "outputs": [],
   "source": []
  },
  {
   "cell_type": "markdown",
   "metadata": {},
   "source": [
    "### Part of emissions for meat/vegetable <a name=\"world_meat_vegetal\"></a>\n",
    "Now we will show the evolution of the part of emission due to animal product and the part due to the production of vegetables."
   ]
  },
  {
   "cell_type": "code",
   "execution_count": 3,
   "metadata": {},
   "outputs": [],
   "source": [
    "emissions_total_path = DATA_PATH+'Emissions_Agriculture_Agriculture_total_E_All_Data_(Norm).csv'\n",
    "emissions_total = pd.read_csv(emissions_total_path, encoding='latin-1', engine='python')"
   ]
  },
  {
   "cell_type": "code",
   "execution_count": 4,
   "metadata": {},
   "outputs": [
    {
     "name": "stdout",
     "output_type": "stream",
     "text": [
      "(517655, 12)\n"
     ]
    },
    {
     "data": {
      "text/html": [
       "<div>\n",
       "<style scoped>\n",
       "    .dataframe tbody tr th:only-of-type {\n",
       "        vertical-align: middle;\n",
       "    }\n",
       "\n",
       "    .dataframe tbody tr th {\n",
       "        vertical-align: top;\n",
       "    }\n",
       "\n",
       "    .dataframe thead th {\n",
       "        text-align: right;\n",
       "    }\n",
       "</style>\n",
       "<table border=\"1\" class=\"dataframe\">\n",
       "  <thead>\n",
       "    <tr style=\"text-align: right;\">\n",
       "      <th></th>\n",
       "      <th>Area Code</th>\n",
       "      <th>Area</th>\n",
       "      <th>Item Code</th>\n",
       "      <th>Item</th>\n",
       "      <th>Element Code</th>\n",
       "      <th>Element</th>\n",
       "      <th>Year Code</th>\n",
       "      <th>Year</th>\n",
       "      <th>Unit</th>\n",
       "      <th>Value</th>\n",
       "      <th>Flag</th>\n",
       "      <th>Note</th>\n",
       "    </tr>\n",
       "  </thead>\n",
       "  <tbody>\n",
       "    <tr>\n",
       "      <td>0</td>\n",
       "      <td>2</td>\n",
       "      <td>Afghanistan</td>\n",
       "      <td>5058</td>\n",
       "      <td>Enteric Fermentation</td>\n",
       "      <td>7225</td>\n",
       "      <td>Emissions (CH4)</td>\n",
       "      <td>1961</td>\n",
       "      <td>1961</td>\n",
       "      <td>gigagrams</td>\n",
       "      <td>240.6831</td>\n",
       "      <td>A</td>\n",
       "      <td>NaN</td>\n",
       "    </tr>\n",
       "    <tr>\n",
       "      <td>1</td>\n",
       "      <td>2</td>\n",
       "      <td>Afghanistan</td>\n",
       "      <td>5058</td>\n",
       "      <td>Enteric Fermentation</td>\n",
       "      <td>7225</td>\n",
       "      <td>Emissions (CH4)</td>\n",
       "      <td>1962</td>\n",
       "      <td>1962</td>\n",
       "      <td>gigagrams</td>\n",
       "      <td>245.3106</td>\n",
       "      <td>A</td>\n",
       "      <td>NaN</td>\n",
       "    </tr>\n",
       "    <tr>\n",
       "      <td>2</td>\n",
       "      <td>2</td>\n",
       "      <td>Afghanistan</td>\n",
       "      <td>5058</td>\n",
       "      <td>Enteric Fermentation</td>\n",
       "      <td>7225</td>\n",
       "      <td>Emissions (CH4)</td>\n",
       "      <td>1963</td>\n",
       "      <td>1963</td>\n",
       "      <td>gigagrams</td>\n",
       "      <td>255.8285</td>\n",
       "      <td>A</td>\n",
       "      <td>NaN</td>\n",
       "    </tr>\n",
       "    <tr>\n",
       "      <td>3</td>\n",
       "      <td>2</td>\n",
       "      <td>Afghanistan</td>\n",
       "      <td>5058</td>\n",
       "      <td>Enteric Fermentation</td>\n",
       "      <td>7225</td>\n",
       "      <td>Emissions (CH4)</td>\n",
       "      <td>1964</td>\n",
       "      <td>1964</td>\n",
       "      <td>gigagrams</td>\n",
       "      <td>259.0650</td>\n",
       "      <td>A</td>\n",
       "      <td>NaN</td>\n",
       "    </tr>\n",
       "    <tr>\n",
       "      <td>4</td>\n",
       "      <td>2</td>\n",
       "      <td>Afghanistan</td>\n",
       "      <td>5058</td>\n",
       "      <td>Enteric Fermentation</td>\n",
       "      <td>7225</td>\n",
       "      <td>Emissions (CH4)</td>\n",
       "      <td>1965</td>\n",
       "      <td>1965</td>\n",
       "      <td>gigagrams</td>\n",
       "      <td>265.5980</td>\n",
       "      <td>A</td>\n",
       "      <td>NaN</td>\n",
       "    </tr>\n",
       "  </tbody>\n",
       "</table>\n",
       "</div>"
      ],
      "text/plain": [
       "   Area Code         Area  Item Code                  Item  Element Code  \\\n",
       "0          2  Afghanistan       5058  Enteric Fermentation          7225   \n",
       "1          2  Afghanistan       5058  Enteric Fermentation          7225   \n",
       "2          2  Afghanistan       5058  Enteric Fermentation          7225   \n",
       "3          2  Afghanistan       5058  Enteric Fermentation          7225   \n",
       "4          2  Afghanistan       5058  Enteric Fermentation          7225   \n",
       "\n",
       "           Element  Year Code  Year       Unit     Value Flag  Note  \n",
       "0  Emissions (CH4)       1961  1961  gigagrams  240.6831    A   NaN  \n",
       "1  Emissions (CH4)       1962  1962  gigagrams  245.3106    A   NaN  \n",
       "2  Emissions (CH4)       1963  1963  gigagrams  255.8285    A   NaN  \n",
       "3  Emissions (CH4)       1964  1964  gigagrams  259.0650    A   NaN  \n",
       "4  Emissions (CH4)       1965  1965  gigagrams  265.5980    A   NaN  "
      ]
     },
     "execution_count": 4,
     "metadata": {},
     "output_type": "execute_result"
    }
   ],
   "source": [
    "print(emissions_total.shape)\n",
    "emissions_total.head()"
   ]
  },
  {
   "cell_type": "code",
   "execution_count": 5,
   "metadata": {},
   "outputs": [
    {
     "data": {
      "text/plain": [
       "Index(['Note'], dtype='object')"
      ]
     },
     "execution_count": 5,
     "metadata": {},
     "output_type": "execute_result"
    }
   ],
   "source": [
    "# check for NaN values\n",
    "emissions_total.columns[emissions_total.isna().any()]"
   ]
  },
  {
   "cell_type": "code",
   "execution_count": 6,
   "metadata": {},
   "outputs": [
    {
     "name": "stdout",
     "output_type": "stream",
     "text": [
      "We have the following kind of emissions: ['Emissions (CH4)' 'Emissions (CO2eq)' 'Emissions (CO2eq) from CH4'\n",
      " 'Emissions (CO2eq) from N2O' 'Emissions (N2O)']\n"
     ]
    }
   ],
   "source": [
    "# What kind of emissions are there?\n",
    "print(\"We have the following kind of emissions:\",emissions_total['Element'].unique())\n",
    "#print(emissions_total['Element Code'].unique())\n",
    "\n",
    "# Units are all in Gigagrams\n",
    "# print(emissions_total['Unit'].unique())\n",
    "\n",
    "#emissions_total['Country'].unique()"
   ]
  },
  {
   "cell_type": "markdown",
   "metadata": {},
   "source": [
    "CO2eq means 'Carbon dioxide equivalent'\n",
    "https://ec.europa.eu/eurostat/statistics-explained/index.php/Glossary:Carbon_dioxide_equivalent"
   ]
  },
  {
   "cell_type": "code",
   "execution_count": 7,
   "metadata": {},
   "outputs": [
    {
     "data": {
      "text/plain": [
       "array(['Enteric Fermentation', 'Manure Management', 'Rice Cultivation',\n",
       "       'Synthetic Fertilizers', 'Manure applied to Soils',\n",
       "       'Manure left on Pasture', 'Crop Residues',\n",
       "       'Burning - Crop residues', 'Burning - Savanna',\n",
       "       'Agriculture total', 'Agricultural Soils',\n",
       "       'Cultivation of Organic Soils'], dtype=object)"
      ]
     },
     "execution_count": 7,
     "metadata": {},
     "output_type": "execute_result"
    }
   ],
   "source": [
    "emissions_total.Item.unique()"
   ]
  },
  {
   "cell_type": "code",
   "execution_count": 8,
   "metadata": {},
   "outputs": [],
   "source": [
    "vegetal_emissions = ['Rice Cultivation', 'Synthetic Fertilizers', 'Manure applied to Soils', 'Crop Residues',\n",
    "       'Cultivation of Organic Soils', 'Burning - Crop residues']\n",
    "animal_emissions = ['Enteric Fermentation', 'Manure Management', 'Manure left on Pasture']"
   ]
  },
  {
   "cell_type": "code",
   "execution_count": 9,
   "metadata": {},
   "outputs": [],
   "source": [
    "# CO2eq is the total (CH4+N20) expressed as Carbon dioxide equivalent\n",
    "\n",
    "element_code = {'CO2eq': 7231, 'N2O': 7243, 'CH4': 7244}\n",
    "columns = ['Item', 'Value']"
   ]
  },
  {
   "cell_type": "code",
   "execution_count": 10,
   "metadata": {},
   "outputs": [],
   "source": [
    "emissions_world = emissions_total[(emissions_total['Area'] == 'World')]"
   ]
  },
  {
   "cell_type": "code",
   "execution_count": 11,
   "metadata": {},
   "outputs": [],
   "source": [
    "%%capture\n",
    "\n",
    "emissions_world_CO2eq = emissions_world[emissions_world['Element Code'] == element_code['CO2eq']]\n",
    "emissions_world_CO2eq = emissions_world_CO2eq[columns].groupby(['Item']).sum().reset_index().set_index('Item')\n",
    "\n",
    "emissions_world_N2O = emissions_world[emissions_world['Element Code'] == element_code['N2O']]\n",
    "emissions_world_N2O = emissions_world_N2O[columns].groupby(['Item']).sum().reset_index().set_index('Item')\n",
    "\n",
    "emissions_world_CH4 = emissions_world[emissions_world['Element Code'] == element_code['CH4']]\n",
    "emissions_world_CH4 = emissions_world_CH4[columns].groupby(['Item']).sum().reset_index().set_index('Item')"
   ]
  },
  {
   "cell_type": "code",
   "execution_count": 12,
   "metadata": {},
   "outputs": [
    {
     "name": "stdout",
     "output_type": "stream",
     "text": [
      "                               Value\n",
      "Item                                \n",
      "Enteric Fermentation    1.065453e+08\n",
      "Manure left on Pasture  3.920270e+07\n",
      "Rice Cultivation        2.733425e+07\n",
      "Synthetic Fertilizers   2.636272e+07\n",
      "Manure Management       1.875165e+07\n"
     ]
    }
   ],
   "source": [
    "# Drop stats that are sum of the others\n",
    "emissions_world_CO2eq.drop(['Agricultural Soils', 'Agriculture total'], inplace=True)\n",
    "emissions_world_CO2eq.sort_values('Value', ascending=False, inplace=True)\n",
    "print(emissions_world_CO2eq.head())\n",
    "\n",
    "emissions_world_N2O.drop(['Agricultural Soils', 'Agriculture total'], inplace=True)\n",
    "emissions_world_N2O.sort_values('Value', ascending=False, inplace=True)\n",
    "\n",
    "emissions_world_CH4.drop('Agriculture total', inplace=True)\n",
    "emissions_world_CH4.sort_values('Value', ascending=False, inplace=True)"
   ]
  },
  {
   "cell_type": "code",
   "execution_count": 13,
   "metadata": {},
   "outputs": [
    {
     "data": {
      "text/html": [
       "<div>\n",
       "<style scoped>\n",
       "    .dataframe tbody tr th:only-of-type {\n",
       "        vertical-align: middle;\n",
       "    }\n",
       "\n",
       "    .dataframe tbody tr th {\n",
       "        vertical-align: top;\n",
       "    }\n",
       "\n",
       "    .dataframe thead th {\n",
       "        text-align: right;\n",
       "    }\n",
       "</style>\n",
       "<table border=\"1\" class=\"dataframe\">\n",
       "  <thead>\n",
       "    <tr style=\"text-align: right;\">\n",
       "      <th></th>\n",
       "      <th>Item</th>\n",
       "      <th>ValueCO2eq</th>\n",
       "      <th>ValueN20</th>\n",
       "      <th>ValueCH4</th>\n",
       "    </tr>\n",
       "  </thead>\n",
       "  <tbody>\n",
       "    <tr>\n",
       "      <td>0</td>\n",
       "      <td>Enteric Fermentation</td>\n",
       "      <td>1.065453e+08</td>\n",
       "      <td>0.000000e+00</td>\n",
       "      <td>1.065453e+08</td>\n",
       "    </tr>\n",
       "    <tr>\n",
       "      <td>1</td>\n",
       "      <td>Manure left on Pasture</td>\n",
       "      <td>3.920270e+07</td>\n",
       "      <td>3.920270e+07</td>\n",
       "      <td>0.000000e+00</td>\n",
       "    </tr>\n",
       "    <tr>\n",
       "      <td>2</td>\n",
       "      <td>Rice Cultivation</td>\n",
       "      <td>2.733425e+07</td>\n",
       "      <td>0.000000e+00</td>\n",
       "      <td>2.733425e+07</td>\n",
       "    </tr>\n",
       "    <tr>\n",
       "      <td>3</td>\n",
       "      <td>Synthetic Fertilizers</td>\n",
       "      <td>2.636272e+07</td>\n",
       "      <td>2.636272e+07</td>\n",
       "      <td>0.000000e+00</td>\n",
       "    </tr>\n",
       "    <tr>\n",
       "      <td>4</td>\n",
       "      <td>Manure Management</td>\n",
       "      <td>1.875165e+07</td>\n",
       "      <td>7.782507e+06</td>\n",
       "      <td>1.096914e+07</td>\n",
       "    </tr>\n",
       "  </tbody>\n",
       "</table>\n",
       "</div>"
      ],
      "text/plain": [
       "                     Item    ValueCO2eq      ValueN20      ValueCH4\n",
       "0    Enteric Fermentation  1.065453e+08  0.000000e+00  1.065453e+08\n",
       "1  Manure left on Pasture  3.920270e+07  3.920270e+07  0.000000e+00\n",
       "2        Rice Cultivation  2.733425e+07  0.000000e+00  2.733425e+07\n",
       "3   Synthetic Fertilizers  2.636272e+07  2.636272e+07  0.000000e+00\n",
       "4       Manure Management  1.875165e+07  7.782507e+06  1.096914e+07"
      ]
     },
     "execution_count": 13,
     "metadata": {},
     "output_type": "execute_result"
    }
   ],
   "source": [
    "# Left join\n",
    "emissions_plot = emissions_world_CO2eq.join(emissions_world_N2O, lsuffix=\"CO2eq\", rsuffix=\"N20\").join(emissions_world_CH4)\\\n",
    "                    .rename({'Value':'ValueCH4'}, axis=1).reset_index().fillna(0)\n",
    "emissions_plot.head()"
   ]
  },
  {
   "cell_type": "code",
   "execution_count": 14,
   "metadata": {},
   "outputs": [
    {
     "data": {
      "image/png": "[encoded data removed]",
      "text/plain": [
       "<Figure size 720x504 with 1 Axes>"
      ]
     },
     "metadata": {
      "needs_background": "light"
     },
     "output_type": "display_data"
    }
   ],
   "source": [
    "from matplotlib.rcsetup import cycler\n",
    "\n",
    "fig, ax = plt.subplots(figsize=(10,7))  \n",
    "\n",
    "items = emissions_plot['Item']\n",
    "margin_bottom = np.zeros(emissions_plot.shape[1]-1)\n",
    "\n",
    "ind = [\"Total\", \"N2O\", \"CH4\"]\n",
    "\n",
    "colors = plt.cm.tab10(np.linspace(0, 1, len(emissions_plot['Item'])))\n",
    "\n",
    "for num, item in enumerate(items):\n",
    "    values = list(emissions_plot.loc[num])[1:4]\n",
    "    plt.bar(ind, values, bottom=margin_bottom, color = colors[num],label=item)\n",
    "    margin_bottom += values\n",
    "plt.legend()\n",
    "plt.show()\n",
    "\n",
    "#should add the emissions from energy use"
   ]
  },
  {
   "cell_type": "markdown",
   "metadata": {},
   "source": [
    "### Emission By countries <a name=\"emissions_countries\"></a>\n",
    "\n",
    "After studying the emissions in their globality we will focus on the emsissions by countries."
   ]
  },
  {
   "cell_type": "code",
   "execution_count": 15,
   "metadata": {},
   "outputs": [],
   "source": [
    "# Filter only Emissions (CO2eq)\n",
    "emissions_total = emissions_total[emissions_total.Element == 'Emissions (CO2eq)']\n",
    "# We can get rid of all codes + Unit + Element\n",
    "emissions_total = emissions_total.drop(columns=['Area Code', 'Item Code', 'Element Code', 'Year Code', 'Unit', 'Element'])"
   ]
  },
  {
   "cell_type": "code",
   "execution_count": 16,
   "metadata": {},
   "outputs": [
    {
     "name": "stdout",
     "output_type": "stream",
     "text": [
      "(144391, 6)\n"
     ]
    },
    {
     "data": {
      "text/html": [
       "<div>\n",
       "<style scoped>\n",
       "    .dataframe tbody tr th:only-of-type {\n",
       "        vertical-align: middle;\n",
       "    }\n",
       "\n",
       "    .dataframe tbody tr th {\n",
       "        vertical-align: top;\n",
       "    }\n",
       "\n",
       "    .dataframe thead th {\n",
       "        text-align: right;\n",
       "    }\n",
       "</style>\n",
       "<table border=\"1\" class=\"dataframe\">\n",
       "  <thead>\n",
       "    <tr style=\"text-align: right;\">\n",
       "      <th></th>\n",
       "      <th>Area</th>\n",
       "      <th>Item</th>\n",
       "      <th>Year</th>\n",
       "      <th>Value</th>\n",
       "      <th>Flag</th>\n",
       "      <th>Note</th>\n",
       "    </tr>\n",
       "  </thead>\n",
       "  <tbody>\n",
       "    <tr>\n",
       "      <td>59</td>\n",
       "      <td>Afghanistan</td>\n",
       "      <td>Enteric Fermentation</td>\n",
       "      <td>1961</td>\n",
       "      <td>5054.3459</td>\n",
       "      <td>A</td>\n",
       "      <td>NaN</td>\n",
       "    </tr>\n",
       "    <tr>\n",
       "      <td>60</td>\n",
       "      <td>Afghanistan</td>\n",
       "      <td>Enteric Fermentation</td>\n",
       "      <td>1962</td>\n",
       "      <td>5151.5228</td>\n",
       "      <td>A</td>\n",
       "      <td>NaN</td>\n",
       "    </tr>\n",
       "    <tr>\n",
       "      <td>61</td>\n",
       "      <td>Afghanistan</td>\n",
       "      <td>Enteric Fermentation</td>\n",
       "      <td>1963</td>\n",
       "      <td>5372.3989</td>\n",
       "      <td>A</td>\n",
       "      <td>NaN</td>\n",
       "    </tr>\n",
       "    <tr>\n",
       "      <td>62</td>\n",
       "      <td>Afghanistan</td>\n",
       "      <td>Enteric Fermentation</td>\n",
       "      <td>1964</td>\n",
       "      <td>5440.3650</td>\n",
       "      <td>A</td>\n",
       "      <td>NaN</td>\n",
       "    </tr>\n",
       "    <tr>\n",
       "      <td>63</td>\n",
       "      <td>Afghanistan</td>\n",
       "      <td>Enteric Fermentation</td>\n",
       "      <td>1965</td>\n",
       "      <td>5577.5580</td>\n",
       "      <td>A</td>\n",
       "      <td>NaN</td>\n",
       "    </tr>\n",
       "  </tbody>\n",
       "</table>\n",
       "</div>"
      ],
      "text/plain": [
       "           Area                  Item  Year      Value Flag  Note\n",
       "59  Afghanistan  Enteric Fermentation  1961  5054.3459    A   NaN\n",
       "60  Afghanistan  Enteric Fermentation  1962  5151.5228    A   NaN\n",
       "61  Afghanistan  Enteric Fermentation  1963  5372.3989    A   NaN\n",
       "62  Afghanistan  Enteric Fermentation  1964  5440.3650    A   NaN\n",
       "63  Afghanistan  Enteric Fermentation  1965  5577.5580    A   NaN"
      ]
     },
     "execution_count": 16,
     "metadata": {},
     "output_type": "execute_result"
    }
   ],
   "source": [
    "# Filter only Emmisions (CO2eq)\n",
    "print(emissions_total.shape)\n",
    "emissions_total.head()"
   ]
  },
  {
   "cell_type": "code",
   "execution_count": 17,
   "metadata": {},
   "outputs": [
    {
     "data": {
      "text/plain": [
       "A     127183\n",
       "Fc      9807\n",
       "EA      7401\n",
       "Name: Flag, dtype: int64"
      ]
     },
     "execution_count": 17,
     "metadata": {},
     "output_type": "execute_result"
    }
   ],
   "source": [
    "# Flags\n",
    "emissions_total.Flag.value_counts()"
   ]
  },
  {
   "cell_type": "markdown",
   "metadata": {},
   "source": [
    "The flags represent : \n",
    "* `A` : Aggregate, may include official, semi-official, estimated or calculated data\n",
    "* `Fc` : Calculated data\n",
    "* `EA` : Emissions computed using data from Fertilizer Archive dataset\n",
    "\n",
    "All these flag are acceptable we can then drop this column"
   ]
  },
  {
   "cell_type": "code",
   "execution_count": 18,
   "metadata": {},
   "outputs": [],
   "source": [
    "emissions_total = emissions_total.drop(columns=['Flag', 'Note'])"
   ]
  },
  {
   "cell_type": "markdown",
   "metadata": {},
   "source": [
    "We will check the countries to remove aggragated countries."
   ]
  },
  {
   "cell_type": "code",
   "execution_count": 19,
   "metadata": {},
   "outputs": [
    {
     "data": {
      "text/html": [
       "<div>\n",
       "<style scoped>\n",
       "    .dataframe tbody tr th:only-of-type {\n",
       "        vertical-align: middle;\n",
       "    }\n",
       "\n",
       "    .dataframe tbody tr th {\n",
       "        vertical-align: top;\n",
       "    }\n",
       "\n",
       "    .dataframe thead th {\n",
       "        text-align: right;\n",
       "    }\n",
       "</style>\n",
       "<table border=\"1\" class=\"dataframe\">\n",
       "  <thead>\n",
       "    <tr style=\"text-align: right;\">\n",
       "      <th></th>\n",
       "      <th>Area</th>\n",
       "      <th>Item</th>\n",
       "      <th>Year</th>\n",
       "      <th>Value</th>\n",
       "    </tr>\n",
       "  </thead>\n",
       "  <tbody>\n",
       "    <tr>\n",
       "      <td>327050</td>\n",
       "      <td>Russian Federation</td>\n",
       "      <td>Enteric Fermentation</td>\n",
       "      <td>1992</td>\n",
       "      <td>95206.1100</td>\n",
       "    </tr>\n",
       "    <tr>\n",
       "      <td>327051</td>\n",
       "      <td>Russian Federation</td>\n",
       "      <td>Enteric Fermentation</td>\n",
       "      <td>1993</td>\n",
       "      <td>91153.9093</td>\n",
       "    </tr>\n",
       "    <tr>\n",
       "      <td>327052</td>\n",
       "      <td>Russian Federation</td>\n",
       "      <td>Enteric Fermentation</td>\n",
       "      <td>1994</td>\n",
       "      <td>85305.2926</td>\n",
       "    </tr>\n",
       "    <tr>\n",
       "      <td>327053</td>\n",
       "      <td>Russian Federation</td>\n",
       "      <td>Enteric Fermentation</td>\n",
       "      <td>1995</td>\n",
       "      <td>75679.1753</td>\n",
       "    </tr>\n",
       "    <tr>\n",
       "      <td>327054</td>\n",
       "      <td>Russian Federation</td>\n",
       "      <td>Enteric Fermentation</td>\n",
       "      <td>1996</td>\n",
       "      <td>68794.2746</td>\n",
       "    </tr>\n",
       "    <tr>\n",
       "      <td>...</td>\n",
       "      <td>...</td>\n",
       "      <td>...</td>\n",
       "      <td>...</td>\n",
       "      <td>...</td>\n",
       "    </tr>\n",
       "    <tr>\n",
       "      <td>328193</td>\n",
       "      <td>Russian Federation</td>\n",
       "      <td>Agricultural Soils</td>\n",
       "      <td>2015</td>\n",
       "      <td>36634.1224</td>\n",
       "    </tr>\n",
       "    <tr>\n",
       "      <td>328194</td>\n",
       "      <td>Russian Federation</td>\n",
       "      <td>Agricultural Soils</td>\n",
       "      <td>2016</td>\n",
       "      <td>38897.1667</td>\n",
       "    </tr>\n",
       "    <tr>\n",
       "      <td>328195</td>\n",
       "      <td>Russian Federation</td>\n",
       "      <td>Agricultural Soils</td>\n",
       "      <td>2017</td>\n",
       "      <td>40253.8133</td>\n",
       "    </tr>\n",
       "    <tr>\n",
       "      <td>328196</td>\n",
       "      <td>Russian Federation</td>\n",
       "      <td>Agricultural Soils</td>\n",
       "      <td>2030</td>\n",
       "      <td>39625.6129</td>\n",
       "    </tr>\n",
       "    <tr>\n",
       "      <td>328197</td>\n",
       "      <td>Russian Federation</td>\n",
       "      <td>Agricultural Soils</td>\n",
       "      <td>2050</td>\n",
       "      <td>41164.0447</td>\n",
       "    </tr>\n",
       "  </tbody>\n",
       "</table>\n",
       "<p>336 rows × 4 columns</p>\n",
       "</div>"
      ],
      "text/plain": [
       "                      Area                  Item  Year       Value\n",
       "327050  Russian Federation  Enteric Fermentation  1992  95206.1100\n",
       "327051  Russian Federation  Enteric Fermentation  1993  91153.9093\n",
       "327052  Russian Federation  Enteric Fermentation  1994  85305.2926\n",
       "327053  Russian Federation  Enteric Fermentation  1995  75679.1753\n",
       "327054  Russian Federation  Enteric Fermentation  1996  68794.2746\n",
       "...                    ...                   ...   ...         ...\n",
       "328193  Russian Federation    Agricultural Soils  2015  36634.1224\n",
       "328194  Russian Federation    Agricultural Soils  2016  38897.1667\n",
       "328195  Russian Federation    Agricultural Soils  2017  40253.8133\n",
       "328196  Russian Federation    Agricultural Soils  2030  39625.6129\n",
       "328197  Russian Federation    Agricultural Soils  2050  41164.0447\n",
       "\n",
       "[336 rows x 4 columns]"
      ]
     },
     "execution_count": 19,
     "metadata": {},
     "output_type": "execute_result"
    }
   ],
   "source": [
    "emissions_total[emissions_total['Area'] == 'Russian Federation']"
   ]
  },
  {
   "cell_type": "code",
   "execution_count": 20,
   "metadata": {},
   "outputs": [
    {
     "data": {
      "text/plain": [
       "array(['Afghanistan', 'Albania', 'Algeria', 'American Samoa', 'Andorra',\n",
       "       'Angola', 'Anguilla', 'Antigua and Barbuda', 'Argentina',\n",
       "       'Armenia', 'Aruba', 'Australia', 'Austria', 'Azerbaijan',\n",
       "       'Bahamas', 'Bahrain', 'Bangladesh', 'Barbados', 'Belarus',\n",
       "       'Belgium', 'Belgium-Luxembourg', 'Belize', 'Benin', 'Bermuda',\n",
       "       'Bhutan', 'Bolivia (Plurinational State of)',\n",
       "       'Bosnia and Herzegovina', 'Botswana', 'Brazil',\n",
       "       'British Virgin Islands', 'Brunei Darussalam', 'Bulgaria',\n",
       "       'Burkina Faso', 'Burundi', 'Cabo Verde', 'Cambodia', 'Cameroon',\n",
       "       'Canada', 'Cayman Islands', 'Central African Republic', 'Chad',\n",
       "       'Chile', 'China', 'China, Hong Kong SAR', 'China, Macao SAR',\n",
       "       'China, mainland', 'China, Taiwan Province of', 'Colombia',\n",
       "       'Comoros', 'Congo', 'Cook Islands', 'Costa Rica', \"Côte d'Ivoire\",\n",
       "       'Croatia', 'Cuba', 'Cyprus', 'Czechia', 'Czechoslovakia',\n",
       "       \"Democratic People's Republic of Korea\",\n",
       "       'Democratic Republic of the Congo', 'Denmark', 'Djibouti',\n",
       "       'Dominica', 'Dominican Republic', 'Ecuador', 'Egypt',\n",
       "       'El Salvador', 'Equatorial Guinea', 'Eritrea', 'Estonia',\n",
       "       'Eswatini', 'Ethiopia', 'Ethiopia PDR',\n",
       "       'Falkland Islands (Malvinas)', 'Faroe Islands', 'Fiji', 'Finland',\n",
       "       'France', 'French Guiana', 'French Polynesia', 'Gabon', 'Gambia',\n",
       "       'Georgia', 'Germany', 'Ghana', 'Gibraltar', 'Greece', 'Greenland',\n",
       "       'Grenada', 'Guadeloupe', 'Guam', 'Guatemala', 'Guinea',\n",
       "       'Guinea-Bissau', 'Guyana', 'Haiti', 'Holy See', 'Honduras',\n",
       "       'Hungary', 'Iceland', 'India', 'Indonesia',\n",
       "       'Iran (Islamic Republic of)', 'Iraq', 'Ireland', 'Isle of Man',\n",
       "       'Israel', 'Italy', 'Jamaica', 'Japan', 'Jordan', 'Kazakhstan',\n",
       "       'Kenya', 'Kiribati', 'Kuwait', 'Kyrgyzstan',\n",
       "       \"Lao People's Democratic Republic\", 'Latvia', 'Lebanon', 'Lesotho',\n",
       "       'Liberia', 'Libya', 'Liechtenstein', 'Lithuania', 'Luxembourg',\n",
       "       'Madagascar', 'Malawi', 'Malaysia', 'Maldives', 'Mali', 'Malta',\n",
       "       'Marshall Islands', 'Martinique', 'Mauritania', 'Mauritius',\n",
       "       'Mayotte', 'Mexico', 'Micronesia (Federated States of)', 'Monaco',\n",
       "       'Mongolia', 'Montenegro', 'Montserrat', 'Morocco', 'Mozambique',\n",
       "       'Myanmar', 'Namibia', 'Nauru', 'Nepal', 'Netherlands',\n",
       "       'Netherlands Antilles (former)', 'New Caledonia', 'New Zealand',\n",
       "       'Nicaragua', 'Niger', 'Nigeria', 'Niue', 'Norfolk Island',\n",
       "       'North Macedonia', 'Northern Mariana Islands', 'Norway', 'Oman',\n",
       "       'Pacific Islands Trust Territory', 'Pakistan', 'Palau',\n",
       "       'Palestine', 'Panama', 'Papua New Guinea', 'Paraguay', 'Peru',\n",
       "       'Philippines', 'Pitcairn Islands', 'Poland', 'Portugal',\n",
       "       'Puerto Rico', 'Qatar', 'Republic of Korea', 'Republic of Moldova',\n",
       "       'Réunion', 'Romania', 'Russian Federation', 'Rwanda',\n",
       "       'Saint Helena, Ascension and Tristan da Cunha',\n",
       "       'Saint Kitts and Nevis', 'Saint Lucia',\n",
       "       'Saint Pierre and Miquelon', 'Saint Vincent and the Grenadines',\n",
       "       'Samoa', 'San Marino', 'Sao Tome and Principe', 'Saudi Arabia',\n",
       "       'Senegal', 'Serbia', 'Serbia and Montenegro', 'Seychelles',\n",
       "       'Sierra Leone', 'Singapore', 'Slovakia', 'Slovenia',\n",
       "       'Solomon Islands', 'Somalia', 'South Africa', 'South Sudan',\n",
       "       'Spain', 'Sri Lanka', 'Sudan', 'Sudan (former)', 'Suriname',\n",
       "       'Svalbard and Jan Mayen Islands', 'Sweden', 'Switzerland',\n",
       "       'Syrian Arab Republic', 'Tajikistan', 'Thailand', 'Timor-Leste',\n",
       "       'Togo', 'Tokelau', 'Tonga', 'Trinidad and Tobago', 'Tunisia',\n",
       "       'Turkey', 'Turkmenistan', 'Turks and Caicos Islands', 'Tuvalu',\n",
       "       'Uganda', 'Ukraine', 'United Arab Emirates', 'United Kingdom',\n",
       "       'United Republic of Tanzania', 'United States of America',\n",
       "       'United States Virgin Islands', 'Uruguay', 'USSR', 'Uzbekistan',\n",
       "       'Vanuatu', 'Venezuela (Bolivarian Republic of)', 'Viet Nam',\n",
       "       'Wallis and Futuna Islands', 'Western Sahara', 'Yemen',\n",
       "       'Yugoslav SFR', 'Zambia', 'Zimbabwe', 'World', 'Africa',\n",
       "       'Eastern Africa', 'Middle Africa', 'Northern Africa',\n",
       "       'Southern Africa', 'Western Africa', 'Americas',\n",
       "       'Northern America', 'Central America', 'Caribbean',\n",
       "       'South America', 'Asia', 'Central Asia', 'Eastern Asia',\n",
       "       'Southern Asia', 'South-Eastern Asia', 'Western Asia', 'Europe',\n",
       "       'Eastern Europe', 'Northern Europe', 'Southern Europe',\n",
       "       'Western Europe', 'Oceania', 'Australia and New Zealand',\n",
       "       'Melanesia', 'Micronesia', 'Polynesia', 'European Union',\n",
       "       'Least Developed Countries', 'Land Locked Developing Countries',\n",
       "       'Small Island Developing States',\n",
       "       'Low Income Food Deficit Countries',\n",
       "       'Net Food Importing Developing Countries', 'Annex I countries',\n",
       "       'Non-Annex I countries', 'OECD'], dtype=object)"
      ]
     },
     "execution_count": 20,
     "metadata": {},
     "output_type": "execute_result"
    }
   ],
   "source": [
    "emissions_total.Area.unique()"
   ]
  },
  {
   "cell_type": "code",
   "execution_count": 21,
   "metadata": {},
   "outputs": [],
   "source": [
    "# Remove aggregation item\n",
    "agg_item = ['Agriculture total', 'Agricultural Soils']\n",
    "emissions_total = emissions_total.drop(emissions_total[emissions_total['Item'].isin(agg_item)].index)\n",
    "\n",
    "# Remove aggregation countries\n",
    "# We remove China as we have different data for Hong kong, Tawain, Macao and the Mainland\n",
    "agg_country = ['Belgium-Luxembourg', 'China', 'Yugoslav SFR','World', 'Africa',\n",
    "       'Eastern Africa', 'Middle Africa', 'Northern Africa',\n",
    "       'Southern Africa', 'Western Africa', 'Americas',\n",
    "       'Northern America', 'Central America', 'Caribbean',\n",
    "       'South America', 'Asia', 'Central Asia', 'Eastern Asia',\n",
    "       'Southern Asia', 'South-Eastern Asia', 'Western Asia', 'Europe',\n",
    "       'Eastern Europe', 'Northern Europe', 'Southern Europe',\n",
    "       'Western Europe', 'Oceania', 'Australia and New Zealand',\n",
    "       'Melanesia', 'Micronesia', 'Polynesia', 'European Union',\n",
    "       'Least Developed Countries', 'Land Locked Developing Countries',\n",
    "       'Small Island Developing States',\n",
    "       'Low Income Food Deficit Countries',\n",
    "       'Net Food Importing Developing Countries', 'Annex I countries',\n",
    "       'Non-Annex I countries', 'OECD']\n",
    "emissions_total = emissions_total.drop(emissions_total[emissions_total['Area'].isin(agg_country)].index)\n",
    "emissions_total = emissions_total.rename(columns={'Area':'Country'})\n",
    "\n",
    "# Keep only past data\n",
    "emissions_total = emissions_total[emissions_total.Year < 2019]"
   ]
  },
  {
   "cell_type": "code",
   "execution_count": 22,
   "metadata": {},
   "outputs": [],
   "source": [
    "# Sudan is dived into two country Sudan (former) until 2011 and Sudan from 2012\n",
    "# We will just merge both\n",
    "emissions_total.loc[emissions_total[emissions_total['Country'] == 'Sudan (former)'].index,'Country'] = 'Sudan'\n",
    "# We will do the same for USSR we will consider it as Russian Federation even if the\n",
    "# Russian federation exists from 1992 and that they do not cover the same regions\n",
    "emissions_total.loc[emissions_total[emissions_total['Country'] == 'USSR'].index,'Country'] = 'Russian Federation'"
   ]
  },
  {
   "cell_type": "code",
   "execution_count": 23,
   "metadata": {},
   "outputs": [
    {
     "data": {
      "text/html": [
       "<div>\n",
       "<style scoped>\n",
       "    .dataframe tbody tr th:only-of-type {\n",
       "        vertical-align: middle;\n",
       "    }\n",
       "\n",
       "    .dataframe tbody tr th {\n",
       "        vertical-align: top;\n",
       "    }\n",
       "\n",
       "    .dataframe thead th {\n",
       "        text-align: right;\n",
       "    }\n",
       "</style>\n",
       "<table border=\"1\" class=\"dataframe\">\n",
       "  <thead>\n",
       "    <tr style=\"text-align: right;\">\n",
       "      <th></th>\n",
       "      <th>Item</th>\n",
       "      <th>Burning - Crop residues</th>\n",
       "      <th>Burning - Savanna</th>\n",
       "      <th>Crop Residues</th>\n",
       "      <th>Cultivation of Organic Soils</th>\n",
       "      <th>Enteric Fermentation</th>\n",
       "      <th>Manure Management</th>\n",
       "      <th>Manure applied to Soils</th>\n",
       "      <th>Manure left on Pasture</th>\n",
       "      <th>Rice Cultivation</th>\n",
       "      <th>Synthetic Fertilizers</th>\n",
       "    </tr>\n",
       "    <tr>\n",
       "      <th>Country</th>\n",
       "      <th>Year</th>\n",
       "      <th></th>\n",
       "      <th></th>\n",
       "      <th></th>\n",
       "      <th></th>\n",
       "      <th></th>\n",
       "      <th></th>\n",
       "      <th></th>\n",
       "      <th></th>\n",
       "      <th></th>\n",
       "      <th></th>\n",
       "    </tr>\n",
       "  </thead>\n",
       "  <tbody>\n",
       "    <tr>\n",
       "      <td rowspan=\"5\" valign=\"top\">Afghanistan</td>\n",
       "      <td>1961</td>\n",
       "      <td>118.2797</td>\n",
       "      <td>NaN</td>\n",
       "      <td>332.7512</td>\n",
       "      <td>NaN</td>\n",
       "      <td>5054.3459</td>\n",
       "      <td>367.8310</td>\n",
       "      <td>390.4421</td>\n",
       "      <td>2368.1734</td>\n",
       "      <td>617.4</td>\n",
       "      <td>6.4546</td>\n",
       "    </tr>\n",
       "    <tr>\n",
       "      <td>1962</td>\n",
       "      <td>121.7607</td>\n",
       "      <td>NaN</td>\n",
       "      <td>335.2904</td>\n",
       "      <td>NaN</td>\n",
       "      <td>5151.5228</td>\n",
       "      <td>376.4362</td>\n",
       "      <td>396.0043</td>\n",
       "      <td>2326.1498</td>\n",
       "      <td>617.4</td>\n",
       "      <td>6.4546</td>\n",
       "    </tr>\n",
       "    <tr>\n",
       "      <td>1963</td>\n",
       "      <td>121.7607</td>\n",
       "      <td>NaN</td>\n",
       "      <td>312.7451</td>\n",
       "      <td>NaN</td>\n",
       "      <td>5372.3989</td>\n",
       "      <td>392.5811</td>\n",
       "      <td>406.7487</td>\n",
       "      <td>2390.2709</td>\n",
       "      <td>617.4</td>\n",
       "      <td>6.4546</td>\n",
       "    </tr>\n",
       "    <tr>\n",
       "      <td>1964</td>\n",
       "      <td>122.7093</td>\n",
       "      <td>NaN</td>\n",
       "      <td>337.2814</td>\n",
       "      <td>NaN</td>\n",
       "      <td>5440.3650</td>\n",
       "      <td>399.8526</td>\n",
       "      <td>415.1598</td>\n",
       "      <td>2422.8848</td>\n",
       "      <td>646.8</td>\n",
       "      <td>6.4546</td>\n",
       "    </tr>\n",
       "    <tr>\n",
       "      <td>1965</td>\n",
       "      <td>122.3902</td>\n",
       "      <td>NaN</td>\n",
       "      <td>340.9305</td>\n",
       "      <td>NaN</td>\n",
       "      <td>5577.5580</td>\n",
       "      <td>413.3914</td>\n",
       "      <td>427.7566</td>\n",
       "      <td>2482.0286</td>\n",
       "      <td>646.8</td>\n",
       "      <td>6.4546</td>\n",
       "    </tr>\n",
       "  </tbody>\n",
       "</table>\n",
       "</div>"
      ],
      "text/plain": [
       "Item              Burning - Crop residues  Burning - Savanna  Crop Residues  \\\n",
       "Country     Year                                                              \n",
       "Afghanistan 1961                 118.2797                NaN       332.7512   \n",
       "            1962                 121.7607                NaN       335.2904   \n",
       "            1963                 121.7607                NaN       312.7451   \n",
       "            1964                 122.7093                NaN       337.2814   \n",
       "            1965                 122.3902                NaN       340.9305   \n",
       "\n",
       "Item              Cultivation of Organic Soils  Enteric Fermentation  \\\n",
       "Country     Year                                                       \n",
       "Afghanistan 1961                           NaN             5054.3459   \n",
       "            1962                           NaN             5151.5228   \n",
       "            1963                           NaN             5372.3989   \n",
       "            1964                           NaN             5440.3650   \n",
       "            1965                           NaN             5577.5580   \n",
       "\n",
       "Item              Manure Management  Manure applied to Soils  \\\n",
       "Country     Year                                               \n",
       "Afghanistan 1961           367.8310                 390.4421   \n",
       "            1962           376.4362                 396.0043   \n",
       "            1963           392.5811                 406.7487   \n",
       "            1964           399.8526                 415.1598   \n",
       "            1965           413.3914                 427.7566   \n",
       "\n",
       "Item              Manure left on Pasture  Rice Cultivation  \\\n",
       "Country     Year                                             \n",
       "Afghanistan 1961               2368.1734             617.4   \n",
       "            1962               2326.1498             617.4   \n",
       "            1963               2390.2709             617.4   \n",
       "            1964               2422.8848             646.8   \n",
       "            1965               2482.0286             646.8   \n",
       "\n",
       "Item              Synthetic Fertilizers  \n",
       "Country     Year                         \n",
       "Afghanistan 1961                 6.4546  \n",
       "            1962                 6.4546  \n",
       "            1963                 6.4546  \n",
       "            1964                 6.4546  \n",
       "            1965                 6.4546  "
      ]
     },
     "execution_count": 23,
     "metadata": {},
     "output_type": "execute_result"
    }
   ],
   "source": [
    "# Pivot the table to make element columns\n",
    "emissions_total = pd.pivot_table(emissions_total, values='Value', index=['Country', 'Year'], columns='Item')\n",
    "emissions_total.head()"
   ]
  },
  {
   "cell_type": "code",
   "execution_count": 24,
   "metadata": {},
   "outputs": [],
   "source": [
    "# Here we assume that if there is no data the country just do not produce any emission of that type\n",
    "emissions_total.fillna(0, inplace=True)"
   ]
  },
  {
   "cell_type": "markdown",
   "metadata": {},
   "source": [
    "We will now divide the emissions between animal and vegetal emissions"
   ]
  },
  {
   "cell_type": "code",
   "execution_count": 25,
   "metadata": {},
   "outputs": [
    {
     "data": {
      "text/html": [
       "<div>\n",
       "<style scoped>\n",
       "    .dataframe tbody tr th:only-of-type {\n",
       "        vertical-align: middle;\n",
       "    }\n",
       "\n",
       "    .dataframe tbody tr th {\n",
       "        vertical-align: top;\n",
       "    }\n",
       "\n",
       "    .dataframe thead th {\n",
       "        text-align: right;\n",
       "    }\n",
       "</style>\n",
       "<table border=\"1\" class=\"dataframe\">\n",
       "  <thead>\n",
       "    <tr style=\"text-align: right;\">\n",
       "      <th></th>\n",
       "      <th>Item</th>\n",
       "      <th>Animal</th>\n",
       "      <th>Vegetal</th>\n",
       "    </tr>\n",
       "    <tr>\n",
       "      <th>Country</th>\n",
       "      <th>Year</th>\n",
       "      <th></th>\n",
       "      <th></th>\n",
       "    </tr>\n",
       "  </thead>\n",
       "  <tbody>\n",
       "    <tr>\n",
       "      <td rowspan=\"5\" valign=\"top\">Afghanistan</td>\n",
       "      <td>1961</td>\n",
       "      <td>7790.3503</td>\n",
       "      <td>1465.3276</td>\n",
       "    </tr>\n",
       "    <tr>\n",
       "      <td>1962</td>\n",
       "      <td>7854.1088</td>\n",
       "      <td>1476.9100</td>\n",
       "    </tr>\n",
       "    <tr>\n",
       "      <td>1963</td>\n",
       "      <td>8155.2509</td>\n",
       "      <td>1465.1091</td>\n",
       "    </tr>\n",
       "    <tr>\n",
       "      <td>1964</td>\n",
       "      <td>8263.1024</td>\n",
       "      <td>1528.4051</td>\n",
       "    </tr>\n",
       "    <tr>\n",
       "      <td>1965</td>\n",
       "      <td>8472.9780</td>\n",
       "      <td>1544.3319</td>\n",
       "    </tr>\n",
       "  </tbody>\n",
       "</table>\n",
       "</div>"
      ],
      "text/plain": [
       "Item                 Animal    Vegetal\n",
       "Country     Year                      \n",
       "Afghanistan 1961  7790.3503  1465.3276\n",
       "            1962  7854.1088  1476.9100\n",
       "            1963  8155.2509  1465.1091\n",
       "            1964  8263.1024  1528.4051\n",
       "            1965  8472.9780  1544.3319"
      ]
     },
     "execution_count": 25,
     "metadata": {},
     "output_type": "execute_result"
    }
   ],
   "source": [
    "emissions_total['Animal'] = emissions_total[animal_emissions].sum(axis=1)\n",
    "emissions_total['Vegetal'] = emissions_total[vegetal_emissions].sum(axis=1)\n",
    "emissions_total = emissions_total[['Animal', 'Vegetal']]\n",
    "emissions_total.head()"
   ]
  },
  {
   "cell_type": "code",
   "execution_count": 26,
   "metadata": {},
   "outputs": [
    {
     "data": {
      "text/html": [
       "<div>\n",
       "<style scoped>\n",
       "    .dataframe tbody tr th:only-of-type {\n",
       "        vertical-align: middle;\n",
       "    }\n",
       "\n",
       "    .dataframe tbody tr th {\n",
       "        vertical-align: top;\n",
       "    }\n",
       "\n",
       "    .dataframe thead th {\n",
       "        text-align: right;\n",
       "    }\n",
       "</style>\n",
       "<table border=\"1\" class=\"dataframe\">\n",
       "  <thead>\n",
       "    <tr style=\"text-align: right;\">\n",
       "      <th></th>\n",
       "      <th>Item</th>\n",
       "      <th>Animal</th>\n",
       "      <th>Vegetal</th>\n",
       "      <th>Sum</th>\n",
       "    </tr>\n",
       "    <tr>\n",
       "      <th>Country</th>\n",
       "      <th>Year</th>\n",
       "      <th></th>\n",
       "      <th></th>\n",
       "      <th></th>\n",
       "    </tr>\n",
       "  </thead>\n",
       "  <tbody>\n",
       "    <tr>\n",
       "      <td rowspan=\"5\" valign=\"top\">Afghanistan</td>\n",
       "      <td>1961</td>\n",
       "      <td>7790.3503</td>\n",
       "      <td>1465.3276</td>\n",
       "      <td>9255.6779</td>\n",
       "    </tr>\n",
       "    <tr>\n",
       "      <td>1962</td>\n",
       "      <td>7854.1088</td>\n",
       "      <td>1476.9100</td>\n",
       "      <td>9331.0188</td>\n",
       "    </tr>\n",
       "    <tr>\n",
       "      <td>1963</td>\n",
       "      <td>8155.2509</td>\n",
       "      <td>1465.1091</td>\n",
       "      <td>9620.3600</td>\n",
       "    </tr>\n",
       "    <tr>\n",
       "      <td>1964</td>\n",
       "      <td>8263.1024</td>\n",
       "      <td>1528.4051</td>\n",
       "      <td>9791.5075</td>\n",
       "    </tr>\n",
       "    <tr>\n",
       "      <td>1965</td>\n",
       "      <td>8472.9780</td>\n",
       "      <td>1544.3319</td>\n",
       "      <td>10017.3099</td>\n",
       "    </tr>\n",
       "  </tbody>\n",
       "</table>\n",
       "</div>"
      ],
      "text/plain": [
       "Item                 Animal    Vegetal         Sum\n",
       "Country     Year                                  \n",
       "Afghanistan 1961  7790.3503  1465.3276   9255.6779\n",
       "            1962  7854.1088  1476.9100   9331.0188\n",
       "            1963  8155.2509  1465.1091   9620.3600\n",
       "            1964  8263.1024  1528.4051   9791.5075\n",
       "            1965  8472.9780  1544.3319  10017.3099"
      ]
     },
     "execution_count": 26,
     "metadata": {},
     "output_type": "execute_result"
    }
   ],
   "source": [
    "# Create a new column sum\n",
    "emissions_total['Sum'] = emissions_total.sum(axis=1)\n",
    "emissions_total.head()"
   ]
  },
  {
   "cell_type": "code",
   "execution_count": 27,
   "metadata": {},
   "outputs": [
    {
     "data": {
      "text/html": [
       "<div>\n",
       "<style scoped>\n",
       "    .dataframe tbody tr th:only-of-type {\n",
       "        vertical-align: middle;\n",
       "    }\n",
       "\n",
       "    .dataframe tbody tr th {\n",
       "        vertical-align: top;\n",
       "    }\n",
       "\n",
       "    .dataframe thead th {\n",
       "        text-align: right;\n",
       "    }\n",
       "</style>\n",
       "<table border=\"1\" class=\"dataframe\">\n",
       "  <thead>\n",
       "    <tr style=\"text-align: right;\">\n",
       "      <th></th>\n",
       "      <th></th>\n",
       "      <th>% Animal</th>\n",
       "      <th>% Vegetal</th>\n",
       "      <th>% Sum</th>\n",
       "    </tr>\n",
       "    <tr>\n",
       "      <th>Country</th>\n",
       "      <th>Year</th>\n",
       "      <th></th>\n",
       "      <th></th>\n",
       "      <th></th>\n",
       "    </tr>\n",
       "  </thead>\n",
       "  <tbody>\n",
       "    <tr>\n",
       "      <td rowspan=\"5\" valign=\"top\">Afghanistan</td>\n",
       "      <td>1961</td>\n",
       "      <td>84.168338</td>\n",
       "      <td>15.831662</td>\n",
       "      <td>100.0</td>\n",
       "    </tr>\n",
       "    <tr>\n",
       "      <td>1962</td>\n",
       "      <td>84.172039</td>\n",
       "      <td>15.827961</td>\n",
       "      <td>100.0</td>\n",
       "    </tr>\n",
       "    <tr>\n",
       "      <td>1963</td>\n",
       "      <td>84.770746</td>\n",
       "      <td>15.229254</td>\n",
       "      <td>100.0</td>\n",
       "    </tr>\n",
       "    <tr>\n",
       "      <td>1964</td>\n",
       "      <td>84.390503</td>\n",
       "      <td>15.609497</td>\n",
       "      <td>100.0</td>\n",
       "    </tr>\n",
       "    <tr>\n",
       "      <td>1965</td>\n",
       "      <td>84.583367</td>\n",
       "      <td>15.416633</td>\n",
       "      <td>100.0</td>\n",
       "    </tr>\n",
       "  </tbody>\n",
       "</table>\n",
       "</div>"
      ],
      "text/plain": [
       "                   % Animal  % Vegetal  % Sum\n",
       "Country     Year                             \n",
       "Afghanistan 1961  84.168338  15.831662  100.0\n",
       "            1962  84.172039  15.827961  100.0\n",
       "            1963  84.770746  15.229254  100.0\n",
       "            1964  84.390503  15.609497  100.0\n",
       "            1965  84.583367  15.416633  100.0"
      ]
     },
     "execution_count": 27,
     "metadata": {},
     "output_type": "execute_result"
    }
   ],
   "source": [
    "# create a new dataframe with relative numbers\n",
    "relative_emissions_total = pd.DataFrame()\n",
    "for col in emissions_total.columns:\n",
    "    new_col = '% '+col\n",
    "    relative_emissions_total[new_col] = emissions_total[col]/emissions_total['Sum'] * 100\n",
    "    \n",
    "relative_emissions_total.head()"
   ]
  },
  {
   "cell_type": "code",
   "execution_count": 28,
   "metadata": {},
   "outputs": [],
   "source": [
    "# Save the datasets\n",
    "emissions_total.to_csv(GENERATED_DATA_PATH+'emissions_total.csv')\n",
    "relative_emissions_total.to_csv(GENERATED_DATA_PATH+'relative_emissions_total.csv')"
   ]
  },
  {
   "cell_type": "markdown",
   "metadata": {},
   "source": [
    "#### EDA\n",
    "\n",
    "We will now look at the descriptive statisitcs of the emission total data frame."
   ]
  },
  {
   "cell_type": "code",
   "execution_count": 29,
   "metadata": {},
   "outputs": [
    {
     "data": {
      "image/png": "[encoded data removed]",
      "text/plain": [
       "<Figure size 1008x504 with 3 Axes>"
      ]
     },
     "metadata": {
      "needs_background": "light"
     },
     "output_type": "display_data"
    }
   ],
   "source": [
    "emissions_total.hist(figsize=(14,7), log=True, layout=(1,3))\n",
    "plt.show()"
   ]
  },
  {
   "cell_type": "markdown",
   "metadata": {},
   "source": [
    "The distribution seems to follow a exponantial law. Indeed if we look at the higer entry we see that it correspond to the two most populated country in the world (China) for the last years."
   ]
  },
  {
   "cell_type": "code",
   "execution_count": 30,
   "metadata": {},
   "outputs": [
    {
     "data": {
      "text/plain": [
       "Country          Year\n",
       "China, mainland  2016    687038.3516\n",
       "                 2015    684334.3034\n",
       "                 2014    674444.4485\n",
       "                 2017    674109.1996\n",
       "                 2013    672499.5226\n",
       "                 2012    669684.1531\n",
       "                 2010    668059.8261\n",
       "                 2011    667251.7956\n",
       "                 1996    663535.3512\n",
       "                 2009    658057.4815\n",
       "Name: Sum, dtype: float64"
      ]
     },
     "execution_count": 30,
     "metadata": {},
     "output_type": "execute_result"
    }
   ],
   "source": [
    "emissions_total['Sum'].sort_values(ascending=False).head(10)"
   ]
  },
  {
   "cell_type": "markdown",
   "metadata": {},
   "source": [
    "To balance this bias indroduced by the number of habitans we will divide all the emissions by the number of people to obtain the emission per capita.\n",
    "The population information are available in the `Population_E_All_Data_(Normalized).csv` dataset."
   ]
  },
  {
   "cell_type": "code",
   "execution_count": 31,
   "metadata": {},
   "outputs": [
    {
     "name": "stdout",
     "output_type": "stream",
     "text": [
      "(160411, 12)\n"
     ]
    },
    {
     "data": {
      "text/html": [
       "<div>\n",
       "<style scoped>\n",
       "    .dataframe tbody tr th:only-of-type {\n",
       "        vertical-align: middle;\n",
       "    }\n",
       "\n",
       "    .dataframe tbody tr th {\n",
       "        vertical-align: top;\n",
       "    }\n",
       "\n",
       "    .dataframe thead th {\n",
       "        text-align: right;\n",
       "    }\n",
       "</style>\n",
       "<table border=\"1\" class=\"dataframe\">\n",
       "  <thead>\n",
       "    <tr style=\"text-align: right;\">\n",
       "      <th></th>\n",
       "      <th>Area Code</th>\n",
       "      <th>Area</th>\n",
       "      <th>Item Code</th>\n",
       "      <th>Item</th>\n",
       "      <th>Element Code</th>\n",
       "      <th>Element</th>\n",
       "      <th>Year Code</th>\n",
       "      <th>Year</th>\n",
       "      <th>Unit</th>\n",
       "      <th>Value</th>\n",
       "      <th>Flag</th>\n",
       "      <th>Note</th>\n",
       "    </tr>\n",
       "  </thead>\n",
       "  <tbody>\n",
       "    <tr>\n",
       "      <td>0</td>\n",
       "      <td>2</td>\n",
       "      <td>Afghanistan</td>\n",
       "      <td>3010</td>\n",
       "      <td>Population - Est. &amp; Proj.</td>\n",
       "      <td>511</td>\n",
       "      <td>Total Population - Both sexes</td>\n",
       "      <td>1950</td>\n",
       "      <td>1950</td>\n",
       "      <td>1000 persons</td>\n",
       "      <td>7752.118</td>\n",
       "      <td>X</td>\n",
       "      <td>NaN</td>\n",
       "    </tr>\n",
       "    <tr>\n",
       "      <td>1</td>\n",
       "      <td>2</td>\n",
       "      <td>Afghanistan</td>\n",
       "      <td>3010</td>\n",
       "      <td>Population - Est. &amp; Proj.</td>\n",
       "      <td>511</td>\n",
       "      <td>Total Population - Both sexes</td>\n",
       "      <td>1951</td>\n",
       "      <td>1951</td>\n",
       "      <td>1000 persons</td>\n",
       "      <td>7840.156</td>\n",
       "      <td>X</td>\n",
       "      <td>NaN</td>\n",
       "    </tr>\n",
       "    <tr>\n",
       "      <td>2</td>\n",
       "      <td>2</td>\n",
       "      <td>Afghanistan</td>\n",
       "      <td>3010</td>\n",
       "      <td>Population - Est. &amp; Proj.</td>\n",
       "      <td>511</td>\n",
       "      <td>Total Population - Both sexes</td>\n",
       "      <td>1952</td>\n",
       "      <td>1952</td>\n",
       "      <td>1000 persons</td>\n",
       "      <td>7935.997</td>\n",
       "      <td>X</td>\n",
       "      <td>NaN</td>\n",
       "    </tr>\n",
       "    <tr>\n",
       "      <td>3</td>\n",
       "      <td>2</td>\n",
       "      <td>Afghanistan</td>\n",
       "      <td>3010</td>\n",
       "      <td>Population - Est. &amp; Proj.</td>\n",
       "      <td>511</td>\n",
       "      <td>Total Population - Both sexes</td>\n",
       "      <td>1953</td>\n",
       "      <td>1953</td>\n",
       "      <td>1000 persons</td>\n",
       "      <td>8039.694</td>\n",
       "      <td>X</td>\n",
       "      <td>NaN</td>\n",
       "    </tr>\n",
       "    <tr>\n",
       "      <td>4</td>\n",
       "      <td>2</td>\n",
       "      <td>Afghanistan</td>\n",
       "      <td>3010</td>\n",
       "      <td>Population - Est. &amp; Proj.</td>\n",
       "      <td>511</td>\n",
       "      <td>Total Population - Both sexes</td>\n",
       "      <td>1954</td>\n",
       "      <td>1954</td>\n",
       "      <td>1000 persons</td>\n",
       "      <td>8151.317</td>\n",
       "      <td>X</td>\n",
       "      <td>NaN</td>\n",
       "    </tr>\n",
       "  </tbody>\n",
       "</table>\n",
       "</div>"
      ],
      "text/plain": [
       "   Area Code         Area  Item Code                       Item  Element Code  \\\n",
       "0          2  Afghanistan       3010  Population - Est. & Proj.           511   \n",
       "1          2  Afghanistan       3010  Population - Est. & Proj.           511   \n",
       "2          2  Afghanistan       3010  Population - Est. & Proj.           511   \n",
       "3          2  Afghanistan       3010  Population - Est. & Proj.           511   \n",
       "4          2  Afghanistan       3010  Population - Est. & Proj.           511   \n",
       "\n",
       "                         Element  Year Code  Year          Unit     Value  \\\n",
       "0  Total Population - Both sexes       1950  1950  1000 persons  7752.118   \n",
       "1  Total Population - Both sexes       1951  1951  1000 persons  7840.156   \n",
       "2  Total Population - Both sexes       1952  1952  1000 persons  7935.997   \n",
       "3  Total Population - Both sexes       1953  1953  1000 persons  8039.694   \n",
       "4  Total Population - Both sexes       1954  1954  1000 persons  8151.317   \n",
       "\n",
       "  Flag  Note  \n",
       "0    X   NaN  \n",
       "1    X   NaN  \n",
       "2    X   NaN  \n",
       "3    X   NaN  \n",
       "4    X   NaN  "
      ]
     },
     "execution_count": 31,
     "metadata": {},
     "output_type": "execute_result"
    }
   ],
   "source": [
    "population = pd.read_csv(DATA_PATH+'Population_E_All_Data_(Normalized).csv',  encoding='latin-1', engine='python')\n",
    "print(population.shape)\n",
    "population.head()"
   ]
  },
  {
   "cell_type": "markdown",
   "metadata": {},
   "source": [
    "We need to clean the dataset"
   ]
  },
  {
   "cell_type": "code",
   "execution_count": 32,
   "metadata": {},
   "outputs": [
    {
     "name": "stdout",
     "output_type": "stream",
     "text": [
      "(39441, 1)\n"
     ]
    },
    {
     "data": {
      "text/html": [
       "<div>\n",
       "<style scoped>\n",
       "    .dataframe tbody tr th:only-of-type {\n",
       "        vertical-align: middle;\n",
       "    }\n",
       "\n",
       "    .dataframe tbody tr th {\n",
       "        vertical-align: top;\n",
       "    }\n",
       "\n",
       "    .dataframe thead th {\n",
       "        text-align: right;\n",
       "    }\n",
       "</style>\n",
       "<table border=\"1\" class=\"dataframe\">\n",
       "  <thead>\n",
       "    <tr style=\"text-align: right;\">\n",
       "      <th></th>\n",
       "      <th></th>\n",
       "      <th>Population</th>\n",
       "    </tr>\n",
       "    <tr>\n",
       "      <th>Country</th>\n",
       "      <th>Year</th>\n",
       "      <th></th>\n",
       "    </tr>\n",
       "  </thead>\n",
       "  <tbody>\n",
       "    <tr>\n",
       "      <td rowspan=\"5\" valign=\"top\">Afghanistan</td>\n",
       "      <td>1950</td>\n",
       "      <td>7752118.0</td>\n",
       "    </tr>\n",
       "    <tr>\n",
       "      <td>1951</td>\n",
       "      <td>7840156.0</td>\n",
       "    </tr>\n",
       "    <tr>\n",
       "      <td>1952</td>\n",
       "      <td>7935997.0</td>\n",
       "    </tr>\n",
       "    <tr>\n",
       "      <td>1953</td>\n",
       "      <td>8039694.0</td>\n",
       "    </tr>\n",
       "    <tr>\n",
       "      <td>1954</td>\n",
       "      <td>8151317.0</td>\n",
       "    </tr>\n",
       "  </tbody>\n",
       "</table>\n",
       "</div>"
      ],
      "text/plain": [
       "                  Population\n",
       "Country     Year            \n",
       "Afghanistan 1950   7752118.0\n",
       "            1951   7840156.0\n",
       "            1952   7935997.0\n",
       "            1953   8039694.0\n",
       "            1954   8151317.0"
      ]
     },
     "execution_count": 32,
     "metadata": {},
     "output_type": "execute_result"
    }
   ],
   "source": [
    "population = population[population['Element'] == 'Total Population - Both sexes']\n",
    "population = population.drop(columns = ['Area Code', 'Item Code', 'Item', 'Element Code', 'Element', 'Year Code', 'Unit', 'Flag', 'Note'])\n",
    "population = population.rename(columns={'Area':'Country', 'Value':'Population'})\n",
    "# We also apply the transformation from Sudan Fromer to Sudan and fro USSR to Russian Federation\n",
    "population.loc[population[population['Country'] == 'Sudan (former)'].index,'Country'] = 'Sudan'\n",
    "population.loc[population[population['Country'] == 'USSR'].index,'Country'] = 'Russian Federation'\n",
    "# Set Country + Year as index\n",
    "population = population.set_index(['Country', 'Year'])\n",
    "print(population.shape)\n",
    "# we have to multiply the value of popluation by 1000 because the unit was 1000 people\n",
    "population['Population'] *= 1000\n",
    "population.head()"
   ]
  },
  {
   "cell_type": "code",
   "execution_count": 33,
   "metadata": {},
   "outputs": [
    {
     "data": {
      "text/html": [
       "<div>\n",
       "<style scoped>\n",
       "    .dataframe tbody tr th:only-of-type {\n",
       "        vertical-align: middle;\n",
       "    }\n",
       "\n",
       "    .dataframe tbody tr th {\n",
       "        vertical-align: top;\n",
       "    }\n",
       "\n",
       "    .dataframe thead th {\n",
       "        text-align: right;\n",
       "    }\n",
       "</style>\n",
       "<table border=\"1\" class=\"dataframe\">\n",
       "  <thead>\n",
       "    <tr style=\"text-align: right;\">\n",
       "      <th></th>\n",
       "      <th></th>\n",
       "      <th>Animal</th>\n",
       "      <th>Vegetal</th>\n",
       "      <th>Sum</th>\n",
       "      <th>Population</th>\n",
       "    </tr>\n",
       "    <tr>\n",
       "      <th>Country</th>\n",
       "      <th>Year</th>\n",
       "      <th></th>\n",
       "      <th></th>\n",
       "      <th></th>\n",
       "      <th></th>\n",
       "    </tr>\n",
       "  </thead>\n",
       "  <tbody>\n",
       "    <tr>\n",
       "      <td rowspan=\"5\" valign=\"top\">Afghanistan</td>\n",
       "      <td>1961</td>\n",
       "      <td>7790.3503</td>\n",
       "      <td>1465.3276</td>\n",
       "      <td>9255.6779</td>\n",
       "      <td>9169410.0</td>\n",
       "    </tr>\n",
       "    <tr>\n",
       "      <td>1962</td>\n",
       "      <td>7854.1088</td>\n",
       "      <td>1476.9100</td>\n",
       "      <td>9331.0188</td>\n",
       "      <td>9351441.0</td>\n",
       "    </tr>\n",
       "    <tr>\n",
       "      <td>1963</td>\n",
       "      <td>8155.2509</td>\n",
       "      <td>1465.1091</td>\n",
       "      <td>9620.3600</td>\n",
       "      <td>9543205.0</td>\n",
       "    </tr>\n",
       "    <tr>\n",
       "      <td>1964</td>\n",
       "      <td>8263.1024</td>\n",
       "      <td>1528.4051</td>\n",
       "      <td>9791.5075</td>\n",
       "      <td>9744781.0</td>\n",
       "    </tr>\n",
       "    <tr>\n",
       "      <td>1965</td>\n",
       "      <td>8472.9780</td>\n",
       "      <td>1544.3319</td>\n",
       "      <td>10017.3099</td>\n",
       "      <td>9956320.0</td>\n",
       "    </tr>\n",
       "  </tbody>\n",
       "</table>\n",
       "</div>"
      ],
      "text/plain": [
       "                     Animal    Vegetal         Sum  Population\n",
       "Country     Year                                              \n",
       "Afghanistan 1961  7790.3503  1465.3276   9255.6779   9169410.0\n",
       "            1962  7854.1088  1476.9100   9331.0188   9351441.0\n",
       "            1963  8155.2509  1465.1091   9620.3600   9543205.0\n",
       "            1964  8263.1024  1528.4051   9791.5075   9744781.0\n",
       "            1965  8472.9780  1544.3319  10017.3099   9956320.0"
      ]
     },
     "execution_count": 33,
     "metadata": {},
     "output_type": "execute_result"
    }
   ],
   "source": [
    "# We can now make a join with the emission dataset\n",
    "emissions_total_population = pd.merge(emissions_total, population, left_index=True, right_index=True).sort_index()\n",
    "emissions_total_population.head()"
   ]
  },
  {
   "cell_type": "markdown",
   "metadata": {},
   "source": [
    "Finally we can devide the columns `Animal`, `Vegetal` and `Sum` by the population to obtain the emission per capita. We multiply by $$10^6$$ because the emission dataset is in gigagram so know the emission per capita dataframe is in kilogram of CO2eq "
   ]
  },
  {
   "cell_type": "code",
   "execution_count": 34,
   "metadata": {},
   "outputs": [
    {
     "data": {
      "text/html": [
       "<div>\n",
       "<style scoped>\n",
       "    .dataframe tbody tr th:only-of-type {\n",
       "        vertical-align: middle;\n",
       "    }\n",
       "\n",
       "    .dataframe tbody tr th {\n",
       "        vertical-align: top;\n",
       "    }\n",
       "\n",
       "    .dataframe thead th {\n",
       "        text-align: right;\n",
       "    }\n",
       "</style>\n",
       "<table border=\"1\" class=\"dataframe\">\n",
       "  <thead>\n",
       "    <tr style=\"text-align: right;\">\n",
       "      <th></th>\n",
       "      <th></th>\n",
       "      <th>Animal</th>\n",
       "      <th>Vegetal</th>\n",
       "      <th>Sum</th>\n",
       "    </tr>\n",
       "    <tr>\n",
       "      <th>Country</th>\n",
       "      <th>Year</th>\n",
       "      <th></th>\n",
       "      <th></th>\n",
       "      <th></th>\n",
       "    </tr>\n",
       "  </thead>\n",
       "  <tbody>\n",
       "    <tr>\n",
       "      <td rowspan=\"5\" valign=\"top\">Afghanistan</td>\n",
       "      <td>1961</td>\n",
       "      <td>849.602134</td>\n",
       "      <td>159.806094</td>\n",
       "      <td>1009.408228</td>\n",
       "    </tr>\n",
       "    <tr>\n",
       "      <td>1962</td>\n",
       "      <td>839.882196</td>\n",
       "      <td>157.933948</td>\n",
       "      <td>997.816144</td>\n",
       "    </tr>\n",
       "    <tr>\n",
       "      <td>1963</td>\n",
       "      <td>854.561010</td>\n",
       "      <td>153.523800</td>\n",
       "      <td>1008.084810</td>\n",
       "    </tr>\n",
       "    <tr>\n",
       "      <td>1964</td>\n",
       "      <td>847.951575</td>\n",
       "      <td>156.843453</td>\n",
       "      <td>1004.795028</td>\n",
       "    </tr>\n",
       "    <tr>\n",
       "      <td>1965</td>\n",
       "      <td>851.015034</td>\n",
       "      <td>155.110714</td>\n",
       "      <td>1006.125747</td>\n",
       "    </tr>\n",
       "  </tbody>\n",
       "</table>\n",
       "</div>"
      ],
      "text/plain": [
       "                      Animal     Vegetal          Sum\n",
       "Country     Year                                     \n",
       "Afghanistan 1961  849.602134  159.806094  1009.408228\n",
       "            1962  839.882196  157.933948   997.816144\n",
       "            1963  854.561010  153.523800  1008.084810\n",
       "            1964  847.951575  156.843453  1004.795028\n",
       "            1965  851.015034  155.110714  1006.125747"
      ]
     },
     "execution_count": 34,
     "metadata": {},
     "output_type": "execute_result"
    }
   ],
   "source": [
    "emissions_per_capita = pd.DataFrame()\n",
    "for col in ['Animal', 'Vegetal', 'Sum']:\n",
    "    emissions_per_capita[col] = emissions_total_population[col] / emissions_total_population['Population'] * 1e6\n",
    "emissions_per_capita.head()"
   ]
  },
  {
   "cell_type": "code",
   "execution_count": 35,
   "metadata": {},
   "outputs": [
    {
     "data": {
      "image/png": "[encoded data removed]",
      "text/plain": [
       "<Figure size 1008x504 with 3 Axes>"
      ]
     },
     "metadata": {
      "needs_background": "light"
     },
     "output_type": "display_data"
    }
   ],
   "source": [
    "emissions_per_capita.hist(figsize=(14,7), log=True, layout=(1,3))\n",
    "plt.show()"
   ]
  },
  {
   "cell_type": "markdown",
   "metadata": {},
   "source": [
    "It seems to have outliers. Let's look at them. "
   ]
  },
  {
   "cell_type": "code",
   "execution_count": 36,
   "metadata": {},
   "outputs": [
    {
     "data": {
      "text/html": [
       "<div>\n",
       "<style scoped>\n",
       "    .dataframe tbody tr th:only-of-type {\n",
       "        vertical-align: middle;\n",
       "    }\n",
       "\n",
       "    .dataframe tbody tr th {\n",
       "        vertical-align: top;\n",
       "    }\n",
       "\n",
       "    .dataframe thead th {\n",
       "        text-align: right;\n",
       "    }\n",
       "</style>\n",
       "<table border=\"1\" class=\"dataframe\">\n",
       "  <thead>\n",
       "    <tr style=\"text-align: right;\">\n",
       "      <th></th>\n",
       "      <th></th>\n",
       "      <th>Animal</th>\n",
       "      <th>Vegetal</th>\n",
       "      <th>Sum</th>\n",
       "    </tr>\n",
       "    <tr>\n",
       "      <th>Country</th>\n",
       "      <th>Year</th>\n",
       "      <th></th>\n",
       "      <th></th>\n",
       "      <th></th>\n",
       "    </tr>\n",
       "  </thead>\n",
       "  <tbody>\n",
       "    <tr>\n",
       "      <td rowspan=\"57\" valign=\"top\">Falkland Islands (Malvinas)</td>\n",
       "      <td>1961</td>\n",
       "      <td>64893.273754</td>\n",
       "      <td>132.126058</td>\n",
       "      <td>65025.399812</td>\n",
       "    </tr>\n",
       "    <tr>\n",
       "      <td>1962</td>\n",
       "      <td>65012.618147</td>\n",
       "      <td>132.277883</td>\n",
       "      <td>65144.896030</td>\n",
       "    </tr>\n",
       "    <tr>\n",
       "      <td>1963</td>\n",
       "      <td>67021.763869</td>\n",
       "      <td>133.143670</td>\n",
       "      <td>67154.907539</td>\n",
       "    </tr>\n",
       "    <tr>\n",
       "      <td>1964</td>\n",
       "      <td>66947.388596</td>\n",
       "      <td>134.786775</td>\n",
       "      <td>67082.175371</td>\n",
       "    </tr>\n",
       "    <tr>\n",
       "      <td>1965</td>\n",
       "      <td>67267.709336</td>\n",
       "      <td>136.333013</td>\n",
       "      <td>67404.042348</td>\n",
       "    </tr>\n",
       "    <tr>\n",
       "      <td>1966</td>\n",
       "      <td>67575.801749</td>\n",
       "      <td>138.532556</td>\n",
       "      <td>67714.334305</td>\n",
       "    </tr>\n",
       "    <tr>\n",
       "      <td>1967</td>\n",
       "      <td>69144.958190</td>\n",
       "      <td>141.170684</td>\n",
       "      <td>69286.128874</td>\n",
       "    </tr>\n",
       "    <tr>\n",
       "      <td>1968</td>\n",
       "      <td>68678.525482</td>\n",
       "      <td>141.415141</td>\n",
       "      <td>68819.940623</td>\n",
       "    </tr>\n",
       "    <tr>\n",
       "      <td>1969</td>\n",
       "      <td>69333.083832</td>\n",
       "      <td>142.415170</td>\n",
       "      <td>69475.499002</td>\n",
       "    </tr>\n",
       "    <tr>\n",
       "      <td>1970</td>\n",
       "      <td>70271.887550</td>\n",
       "      <td>142.921687</td>\n",
       "      <td>70414.809237</td>\n",
       "    </tr>\n",
       "    <tr>\n",
       "      <td>1971</td>\n",
       "      <td>71866.394697</td>\n",
       "      <td>144.212137</td>\n",
       "      <td>72010.606833</td>\n",
       "    </tr>\n",
       "    <tr>\n",
       "      <td>1972</td>\n",
       "      <td>71340.878896</td>\n",
       "      <td>142.616249</td>\n",
       "      <td>71483.495146</td>\n",
       "    </tr>\n",
       "    <tr>\n",
       "      <td>1973</td>\n",
       "      <td>69476.141079</td>\n",
       "      <td>143.931535</td>\n",
       "      <td>69620.072614</td>\n",
       "    </tr>\n",
       "    <tr>\n",
       "      <td>1974</td>\n",
       "      <td>71083.575884</td>\n",
       "      <td>143.866944</td>\n",
       "      <td>71227.442827</td>\n",
       "    </tr>\n",
       "    <tr>\n",
       "      <td>1975</td>\n",
       "      <td>73702.417236</td>\n",
       "      <td>145.454545</td>\n",
       "      <td>73847.871781</td>\n",
       "    </tr>\n",
       "    <tr>\n",
       "      <td>1976</td>\n",
       "      <td>74198.464796</td>\n",
       "      <td>146.003176</td>\n",
       "      <td>74344.467972</td>\n",
       "    </tr>\n",
       "    <tr>\n",
       "      <td>1977</td>\n",
       "      <td>73767.607885</td>\n",
       "      <td>147.416090</td>\n",
       "      <td>73915.023974</td>\n",
       "    </tr>\n",
       "    <tr>\n",
       "      <td>1978</td>\n",
       "      <td>74743.619861</td>\n",
       "      <td>172.290443</td>\n",
       "      <td>74915.910304</td>\n",
       "    </tr>\n",
       "    <tr>\n",
       "      <td>1979</td>\n",
       "      <td>75740.182894</td>\n",
       "      <td>198.224852</td>\n",
       "      <td>75938.407746</td>\n",
       "    </tr>\n",
       "    <tr>\n",
       "      <td>1980</td>\n",
       "      <td>76314.347357</td>\n",
       "      <td>211.866235</td>\n",
       "      <td>76526.213592</td>\n",
       "    </tr>\n",
       "    <tr>\n",
       "      <td>1981</td>\n",
       "      <td>75276.543879</td>\n",
       "      <td>238.515710</td>\n",
       "      <td>75515.059588</td>\n",
       "    </tr>\n",
       "    <tr>\n",
       "      <td>1982</td>\n",
       "      <td>76268.110449</td>\n",
       "      <td>251.109908</td>\n",
       "      <td>76519.220357</td>\n",
       "    </tr>\n",
       "    <tr>\n",
       "      <td>1983</td>\n",
       "      <td>77077.131993</td>\n",
       "      <td>271.645845</td>\n",
       "      <td>77348.777838</td>\n",
       "    </tr>\n",
       "    <tr>\n",
       "      <td>1984</td>\n",
       "      <td>77603.629469</td>\n",
       "      <td>292.470206</td>\n",
       "      <td>77896.099675</td>\n",
       "    </tr>\n",
       "    <tr>\n",
       "      <td>1985</td>\n",
       "      <td>78946.108108</td>\n",
       "      <td>297.351351</td>\n",
       "      <td>79243.459459</td>\n",
       "    </tr>\n",
       "    <tr>\n",
       "      <td>1986</td>\n",
       "      <td>79171.482480</td>\n",
       "      <td>287.439353</td>\n",
       "      <td>79458.921833</td>\n",
       "    </tr>\n",
       "    <tr>\n",
       "      <td>1987</td>\n",
       "      <td>76761.423221</td>\n",
       "      <td>245.318352</td>\n",
       "      <td>77006.741573</td>\n",
       "    </tr>\n",
       "    <tr>\n",
       "      <td>1988</td>\n",
       "      <td>76928.291909</td>\n",
       "      <td>235.060814</td>\n",
       "      <td>77163.352723</td>\n",
       "    </tr>\n",
       "    <tr>\n",
       "      <td>1989</td>\n",
       "      <td>79316.537066</td>\n",
       "      <td>223.276309</td>\n",
       "      <td>79539.813375</td>\n",
       "    </tr>\n",
       "    <tr>\n",
       "      <td>1990</td>\n",
       "      <td>76305.802220</td>\n",
       "      <td>534600.655903</td>\n",
       "      <td>610906.458123</td>\n",
       "    </tr>\n",
       "    <tr>\n",
       "      <td>1991</td>\n",
       "      <td>71976.635967</td>\n",
       "      <td>513604.071740</td>\n",
       "      <td>585580.707707</td>\n",
       "    </tr>\n",
       "    <tr>\n",
       "      <td>1992</td>\n",
       "      <td>67150.740741</td>\n",
       "      <td>490528.101852</td>\n",
       "      <td>557678.842593</td>\n",
       "    </tr>\n",
       "    <tr>\n",
       "      <td>1993</td>\n",
       "      <td>64349.253076</td>\n",
       "      <td>465516.827768</td>\n",
       "      <td>529866.080844</td>\n",
       "    </tr>\n",
       "    <tr>\n",
       "      <td>1994</td>\n",
       "      <td>61742.193386</td>\n",
       "      <td>443545.123483</td>\n",
       "      <td>505287.316869</td>\n",
       "    </tr>\n",
       "    <tr>\n",
       "      <td>1995</td>\n",
       "      <td>58334.176707</td>\n",
       "      <td>425534.618474</td>\n",
       "      <td>483868.795181</td>\n",
       "    </tr>\n",
       "    <tr>\n",
       "      <td>1996</td>\n",
       "      <td>53471.379045</td>\n",
       "      <td>408147.072419</td>\n",
       "      <td>461618.451464</td>\n",
       "    </tr>\n",
       "    <tr>\n",
       "      <td>1997</td>\n",
       "      <td>53331.748979</td>\n",
       "      <td>393446.825102</td>\n",
       "      <td>446778.574081</td>\n",
       "    </tr>\n",
       "    <tr>\n",
       "      <td>1998</td>\n",
       "      <td>51758.849077</td>\n",
       "      <td>383475.497647</td>\n",
       "      <td>435234.346725</td>\n",
       "    </tr>\n",
       "    <tr>\n",
       "      <td>1999</td>\n",
       "      <td>49740.161915</td>\n",
       "      <td>372942.731433</td>\n",
       "      <td>422682.893347</td>\n",
       "    </tr>\n",
       "    <tr>\n",
       "      <td>2000</td>\n",
       "      <td>49455.809129</td>\n",
       "      <td>366361.721992</td>\n",
       "      <td>415817.531120</td>\n",
       "    </tr>\n",
       "    <tr>\n",
       "      <td>2001</td>\n",
       "      <td>47446.912317</td>\n",
       "      <td>361146.741726</td>\n",
       "      <td>408593.654043</td>\n",
       "    </tr>\n",
       "    <tr>\n",
       "      <td>2002</td>\n",
       "      <td>47223.515439</td>\n",
       "      <td>359147.234476</td>\n",
       "      <td>406370.749915</td>\n",
       "    </tr>\n",
       "    <tr>\n",
       "      <td>2003</td>\n",
       "      <td>47091.308759</td>\n",
       "      <td>357933.919513</td>\n",
       "      <td>405025.228272</td>\n",
       "    </tr>\n",
       "    <tr>\n",
       "      <td>2004</td>\n",
       "      <td>47220.481519</td>\n",
       "      <td>358902.848423</td>\n",
       "      <td>406123.329942</td>\n",
       "    </tr>\n",
       "    <tr>\n",
       "      <td>2005</td>\n",
       "      <td>47446.916525</td>\n",
       "      <td>360462.180579</td>\n",
       "      <td>407909.097104</td>\n",
       "    </tr>\n",
       "    <tr>\n",
       "      <td>2006</td>\n",
       "      <td>47464.246762</td>\n",
       "      <td>360546.830266</td>\n",
       "      <td>408011.077028</td>\n",
       "    </tr>\n",
       "    <tr>\n",
       "      <td>2007</td>\n",
       "      <td>48126.046987</td>\n",
       "      <td>360140.619680</td>\n",
       "      <td>408266.666667</td>\n",
       "    </tr>\n",
       "    <tr>\n",
       "      <td>2008</td>\n",
       "      <td>48207.366985</td>\n",
       "      <td>360768.656207</td>\n",
       "      <td>408976.023192</td>\n",
       "    </tr>\n",
       "    <tr>\n",
       "      <td>2009</td>\n",
       "      <td>48455.262256</td>\n",
       "      <td>362506.787796</td>\n",
       "      <td>410962.050051</td>\n",
       "    </tr>\n",
       "    <tr>\n",
       "      <td>2010</td>\n",
       "      <td>48736.091003</td>\n",
       "      <td>364558.083420</td>\n",
       "      <td>413294.174423</td>\n",
       "    </tr>\n",
       "    <tr>\n",
       "      <td>2011</td>\n",
       "      <td>49204.594501</td>\n",
       "      <td>368102.714932</td>\n",
       "      <td>417307.309433</td>\n",
       "    </tr>\n",
       "    <tr>\n",
       "      <td>2012</td>\n",
       "      <td>50076.089267</td>\n",
       "      <td>374622.422954</td>\n",
       "      <td>424698.512221</td>\n",
       "    </tr>\n",
       "    <tr>\n",
       "      <td>2013</td>\n",
       "      <td>50589.262706</td>\n",
       "      <td>378549.212598</td>\n",
       "      <td>429138.475304</td>\n",
       "    </tr>\n",
       "    <tr>\n",
       "      <td>2014</td>\n",
       "      <td>50625.429799</td>\n",
       "      <td>378820.379656</td>\n",
       "      <td>429445.809456</td>\n",
       "    </tr>\n",
       "    <tr>\n",
       "      <td>2015</td>\n",
       "      <td>49697.424135</td>\n",
       "      <td>373204.622442</td>\n",
       "      <td>422902.046577</td>\n",
       "    </tr>\n",
       "    <tr>\n",
       "      <td>2016</td>\n",
       "      <td>48057.240437</td>\n",
       "      <td>361221.789617</td>\n",
       "      <td>409279.030055</td>\n",
       "    </tr>\n",
       "    <tr>\n",
       "      <td>2017</td>\n",
       "      <td>45981.681877</td>\n",
       "      <td>344738.461538</td>\n",
       "      <td>390720.143416</td>\n",
       "    </tr>\n",
       "  </tbody>\n",
       "</table>\n",
       "</div>"
      ],
      "text/plain": [
       "                                        Animal        Vegetal            Sum\n",
       "Country                     Year                                            \n",
       "Falkland Islands (Malvinas) 1961  64893.273754     132.126058   65025.399812\n",
       "                            1962  65012.618147     132.277883   65144.896030\n",
       "                            1963  67021.763869     133.143670   67154.907539\n",
       "                            1964  66947.388596     134.786775   67082.175371\n",
       "                            1965  67267.709336     136.333013   67404.042348\n",
       "                            1966  67575.801749     138.532556   67714.334305\n",
       "                            1967  69144.958190     141.170684   69286.128874\n",
       "                            1968  68678.525482     141.415141   68819.940623\n",
       "                            1969  69333.083832     142.415170   69475.499002\n",
       "                            1970  70271.887550     142.921687   70414.809237\n",
       "                            1971  71866.394697     144.212137   72010.606833\n",
       "                            1972  71340.878896     142.616249   71483.495146\n",
       "                            1973  69476.141079     143.931535   69620.072614\n",
       "                            1974  71083.575884     143.866944   71227.442827\n",
       "                            1975  73702.417236     145.454545   73847.871781\n",
       "                            1976  74198.464796     146.003176   74344.467972\n",
       "                            1977  73767.607885     147.416090   73915.023974\n",
       "                            1978  74743.619861     172.290443   74915.910304\n",
       "                            1979  75740.182894     198.224852   75938.407746\n",
       "                            1980  76314.347357     211.866235   76526.213592\n",
       "                            1981  75276.543879     238.515710   75515.059588\n",
       "                            1982  76268.110449     251.109908   76519.220357\n",
       "                            1983  77077.131993     271.645845   77348.777838\n",
       "                            1984  77603.629469     292.470206   77896.099675\n",
       "                            1985  78946.108108     297.351351   79243.459459\n",
       "                            1986  79171.482480     287.439353   79458.921833\n",
       "                            1987  76761.423221     245.318352   77006.741573\n",
       "                            1988  76928.291909     235.060814   77163.352723\n",
       "                            1989  79316.537066     223.276309   79539.813375\n",
       "                            1990  76305.802220  534600.655903  610906.458123\n",
       "                            1991  71976.635967  513604.071740  585580.707707\n",
       "                            1992  67150.740741  490528.101852  557678.842593\n",
       "                            1993  64349.253076  465516.827768  529866.080844\n",
       "                            1994  61742.193386  443545.123483  505287.316869\n",
       "                            1995  58334.176707  425534.618474  483868.795181\n",
       "                            1996  53471.379045  408147.072419  461618.451464\n",
       "                            1997  53331.748979  393446.825102  446778.574081\n",
       "                            1998  51758.849077  383475.497647  435234.346725\n",
       "                            1999  49740.161915  372942.731433  422682.893347\n",
       "                            2000  49455.809129  366361.721992  415817.531120\n",
       "                            2001  47446.912317  361146.741726  408593.654043\n",
       "                            2002  47223.515439  359147.234476  406370.749915\n",
       "                            2003  47091.308759  357933.919513  405025.228272\n",
       "                            2004  47220.481519  358902.848423  406123.329942\n",
       "                            2005  47446.916525  360462.180579  407909.097104\n",
       "                            2006  47464.246762  360546.830266  408011.077028\n",
       "                            2007  48126.046987  360140.619680  408266.666667\n",
       "                            2008  48207.366985  360768.656207  408976.023192\n",
       "                            2009  48455.262256  362506.787796  410962.050051\n",
       "                            2010  48736.091003  364558.083420  413294.174423\n",
       "                            2011  49204.594501  368102.714932  417307.309433\n",
       "                            2012  50076.089267  374622.422954  424698.512221\n",
       "                            2013  50589.262706  378549.212598  429138.475304\n",
       "                            2014  50625.429799  378820.379656  429445.809456\n",
       "                            2015  49697.424135  373204.622442  422902.046577\n",
       "                            2016  48057.240437  361221.789617  409279.030055\n",
       "                            2017  45981.681877  344738.461538  390720.143416"
      ]
     },
     "execution_count": 36,
     "metadata": {},
     "output_type": "execute_result"
    }
   ],
   "source": [
    "emissions_per_capita[emissions_per_capita['Animal'] > 40000]"
   ]
  },
  {
   "cell_type": "code",
   "execution_count": 37,
   "metadata": {},
   "outputs": [
    {
     "data": {
      "text/html": [
       "<div>\n",
       "<style scoped>\n",
       "    .dataframe tbody tr th:only-of-type {\n",
       "        vertical-align: middle;\n",
       "    }\n",
       "\n",
       "    .dataframe tbody tr th {\n",
       "        vertical-align: top;\n",
       "    }\n",
       "\n",
       "    .dataframe thead th {\n",
       "        text-align: right;\n",
       "    }\n",
       "</style>\n",
       "<table border=\"1\" class=\"dataframe\">\n",
       "  <thead>\n",
       "    <tr style=\"text-align: right;\">\n",
       "      <th></th>\n",
       "      <th>Animal</th>\n",
       "      <th>Vegetal</th>\n",
       "      <th>Sum</th>\n",
       "      <th>Population</th>\n",
       "    </tr>\n",
       "    <tr>\n",
       "      <th>Year</th>\n",
       "      <th></th>\n",
       "      <th></th>\n",
       "      <th></th>\n",
       "      <th></th>\n",
       "    </tr>\n",
       "  </thead>\n",
       "  <tbody>\n",
       "    <tr>\n",
       "      <td>1961</td>\n",
       "      <td>137.9631</td>\n",
       "      <td>0.2809</td>\n",
       "      <td>138.2440</td>\n",
       "      <td>2126.0</td>\n",
       "    </tr>\n",
       "    <tr>\n",
       "      <td>1962</td>\n",
       "      <td>137.5667</td>\n",
       "      <td>0.2799</td>\n",
       "      <td>137.8466</td>\n",
       "      <td>2116.0</td>\n",
       "    </tr>\n",
       "    <tr>\n",
       "      <td>1963</td>\n",
       "      <td>141.3489</td>\n",
       "      <td>0.2808</td>\n",
       "      <td>141.6297</td>\n",
       "      <td>2109.0</td>\n",
       "    </tr>\n",
       "    <tr>\n",
       "      <td>1964</td>\n",
       "      <td>139.7192</td>\n",
       "      <td>0.2813</td>\n",
       "      <td>140.0005</td>\n",
       "      <td>2087.0</td>\n",
       "    </tr>\n",
       "    <tr>\n",
       "      <td>1965</td>\n",
       "      <td>139.7823</td>\n",
       "      <td>0.2833</td>\n",
       "      <td>140.0656</td>\n",
       "      <td>2078.0</td>\n",
       "    </tr>\n",
       "  </tbody>\n",
       "</table>\n",
       "</div>"
      ],
      "text/plain": [
       "        Animal  Vegetal       Sum  Population\n",
       "Year                                         \n",
       "1961  137.9631   0.2809  138.2440      2126.0\n",
       "1962  137.5667   0.2799  137.8466      2116.0\n",
       "1963  141.3489   0.2808  141.6297      2109.0\n",
       "1964  139.7192   0.2813  140.0005      2087.0\n",
       "1965  139.7823   0.2833  140.0656      2078.0"
      ]
     },
     "execution_count": 37,
     "metadata": {},
     "output_type": "execute_result"
    }
   ],
   "source": [
    "emissions_total_population.loc['Falkland Islands (Malvinas)'].head()"
   ]
  },
  {
   "cell_type": "markdown",
   "metadata": {},
   "source": [
    "We see that it is only the outliers are constuted by only one country `Falkland Islands (Malvinas)`. Indeed the emission are not so big on absolute but the island is only populated by 2000 people (the data contained in the dataset is correct, we have checked). Furthermore the island (which has the 5th highest Gross Product per Capita) is known for its industry of sheep farming. That explained that the emission coming from animals is the biggest one per capita. For now let us remove that country because even if the data are correct we want to focus on larger country and we do not care about this particular case."
   ]
  },
  {
   "cell_type": "code",
   "execution_count": 38,
   "metadata": {},
   "outputs": [],
   "source": [
    "emissions_per_capita = emissions_per_capita.drop(index='Falkland Islands (Malvinas)')"
   ]
  },
  {
   "cell_type": "markdown",
   "metadata": {},
   "source": [
    "We will now take the mean of the emissions for each country over the years in order to see which are the one who emits the most per capita."
   ]
  },
  {
   "cell_type": "code",
   "execution_count": 39,
   "metadata": {},
   "outputs": [
    {
     "data": {
      "image/png": "[encoded data removed]",
      "text/plain": [
       "<Figure size 1008x504 with 3 Axes>"
      ]
     },
     "metadata": {
      "needs_background": "light"
     },
     "output_type": "display_data"
    }
   ],
   "source": [
    "emissions_per_capita = emissions_per_capita.groupby(level=[0]).mean()\n",
    "emissions_per_capita.hist(figsize=(14,7), log=True, layout=(1,3))\n",
    "plt.show()"
   ]
  },
  {
   "cell_type": "code",
   "execution_count": 40,
   "metadata": {},
   "outputs": [
    {
     "data": {
      "text/plain": [
       "Country\n",
       "New Zealand    11205.914393\n",
       "Uruguay         7271.916084\n",
       "Mongolia        6767.536759\n",
       "Australia       6433.997722\n",
       "Ireland         5112.793678\n",
       "Paraguay        3499.582256\n",
       "Argentina       3400.526636\n",
       "Namibia         3083.451317\n",
       "Somalia         2960.614716\n",
       "Mauritania      2857.659876\n",
       "Name: Sum, dtype: float64"
      ]
     },
     "execution_count": 40,
     "metadata": {},
     "output_type": "execute_result"
    }
   ],
   "source": [
    "emissions_per_capita['Sum'].sort_values(ascending=False).head(10)"
   ]
  },
  {
   "cell_type": "code",
   "execution_count": 41,
   "metadata": {},
   "outputs": [
    {
     "data": {
      "text/plain": [
       "Country\n",
       "New Zealand    10824.516077\n",
       "Uruguay         6846.297304\n",
       "Australia       6008.929775\n",
       "Mongolia        5605.749529\n",
       "Ireland         3910.083472\n",
       "Paraguay        3333.476185\n",
       "Argentina       3159.249555\n",
       "Namibia         3047.898249\n",
       "Somalia         2927.568741\n",
       "Mauritania      2795.033964\n",
       "Name: Animal, dtype: float64"
      ]
     },
     "execution_count": 41,
     "metadata": {},
     "output_type": "execute_result"
    }
   ],
   "source": [
    "emissions_per_capita['Animal'].sort_values(ascending=False).head(10)"
   ]
  },
  {
   "cell_type": "code",
   "execution_count": 42,
   "metadata": {},
   "outputs": [
    {
     "data": {
      "text/plain": [
       "Country\n",
       "Guyana       1388.612344\n",
       "Ireland      1202.710206\n",
       "Mongolia     1161.787230\n",
       "Belarus      1058.975877\n",
       "Suriname      964.414557\n",
       "Cambodia      764.574279\n",
       "Lithuania     761.597859\n",
       "Estonia       761.298587\n",
       "Thailand      731.992301\n",
       "Denmark       724.873941\n",
       "Name: Vegetal, dtype: float64"
      ]
     },
     "execution_count": 42,
     "metadata": {},
     "output_type": "execute_result"
    }
   ],
   "source": [
    "emissions_per_capita['Vegetal'].sort_values(ascending=False).head(10)"
   ]
  },
  {
   "cell_type": "markdown",
   "metadata": {},
   "source": [
    "These country are not necessarily the ones we expected. Indeed we do not see China or India.\n",
    "That's because this dataset focus on emission due to agriculture. Moreover we can see that the top 10 emitters are the same (almost in the same order) if we look at the total emsissions and the emsissions du to animal products. These countries are known for producing a lot of meat. It could be interesting to look at their emission when we have will consider the importations and exportations."
   ]
  },
  {
   "cell_type": "markdown",
   "metadata": {},
   "source": [
    "## Correcting emissions for Belgium and Switzerland <a name=\"correcting_emissions\"></a>\n",
    "Then our main analysis will focus on comparing emission from Belgium and Switzerland for vegetable products and meat products.\n",
    "\n",
    "The data presented in the introduction do not take into account the importation/exportation of the country.\n",
    "We will use the `detailed trade matrix` data set to adapt these emission by adding emmission due to the production of imported procuct and removing emission for exportation product.\n",
    "\n",
    "We will then compare these new data between belgium and Switzerland to figure out which country is responsible for the most emission."
   ]
  },
  {
   "cell_type": "markdown",
   "metadata": {},
   "source": [
    "First because the trade data set is huge we will only select rows concerning Belgium and then export the dataset to pandas to create a new csv file containing the rows we want."
   ]
  },
  {
   "cell_type": "code",
   "execution_count": 43,
   "metadata": {},
   "outputs": [],
   "source": [
    "import pyspark\n",
    "import pyspark.sql\n",
    "from pyspark.sql import *\n",
    "from pyspark.sql.functions import *\n",
    "\n",
    "conf = pyspark.SparkConf().setMaster(\"local[*]\").setAll([\n",
    "                                   ('spark.executor.memory', '12g'),  # find\n",
    "                                   ('spark.driver.memory','4g'), # your\n",
    "                                   ('spark.driver.maxResultSize', '2G') # setup\n",
    "                                  ])\n",
    "# create the session\n",
    "spark = SparkSession.builder.config(conf=conf).getOrCreate()\n",
    "\n",
    "# create the context\n",
    "sc = spark.sparkContext\n",
    "\n",
    "# FIX for Spark 2.x\n",
    "locale = sc._jvm.java.util.Locale\n",
    "locale.setDefault(locale.forLanguageTag(\"en-US\"))"
   ]
  },
  {
   "cell_type": "code",
   "execution_count": 44,
   "metadata": {},
   "outputs": [],
   "source": [
    "trades = spark.read.csv(DATA_PATH+'Trade_DetailedTradeMatrix_E_All_Data_(Normalized).csv', header =True)"
   ]
  },
  {
   "cell_type": "code",
   "execution_count": 45,
   "metadata": {},
   "outputs": [
    {
     "name": "stdout",
     "output_type": "stream",
     "text": [
      "root\n",
      " |-- Reporter Country Code: string (nullable = true)\n",
      " |-- Reporter Countries: string (nullable = true)\n",
      " |-- Partner Country Code: string (nullable = true)\n",
      " |-- Partner Countries: string (nullable = true)\n",
      " |-- Item Code: string (nullable = true)\n",
      " |-- Item: string (nullable = true)\n",
      " |-- Element Code: string (nullable = true)\n",
      " |-- Element: string (nullable = true)\n",
      " |-- Year Code: string (nullable = true)\n",
      " |-- Year: string (nullable = true)\n",
      " |-- Unit: string (nullable = true)\n",
      " |-- Value: string (nullable = true)\n",
      " |-- Flag: string (nullable = true)\n",
      "\n"
     ]
    }
   ],
   "source": [
    "trades.printSchema()"
   ]
  },
  {
   "cell_type": "code",
   "execution_count": 46,
   "metadata": {},
   "outputs": [],
   "source": [
    "trades = trades.withColumnRenamed('Reporter Countries', 'Countries')"
   ]
  },
  {
   "cell_type": "markdown",
   "metadata": {},
   "source": [
    "### Belgium <a name=\"belgium_trade\"></a>\n",
    "\n",
    "We will first study the trade of belgium"
   ]
  },
  {
   "cell_type": "code",
   "execution_count": 47,
   "metadata": {},
   "outputs": [
    {
     "name": "stdout",
     "output_type": "stream",
     "text": [
      "+---------------------+---------+--------------------+-----------------+---------+---------------+------------+---------------+---------+----+--------+--------+----+\n",
      "|Reporter Country Code|Countries|Partner Country Code|Partner Countries|Item Code|           Item|Element Code|        Element|Year Code|Year|    Unit|   Value|Flag|\n",
      "+---------------------+---------+--------------------+-----------------+---------+---------------+------------+---------------+---------+----+--------+--------+----+\n",
      "|                  255|  Belgium|                   2|      Afghanistan|      231|Almonds shelled|        5610|Import Quantity|     2015|2015|  tonnes|0.000000|null|\n",
      "|                  255|  Belgium|                   2|      Afghanistan|      231|Almonds shelled|        5610|Import Quantity|     2016|2016|  tonnes|1.000000|null|\n",
      "|                  255|  Belgium|                   2|      Afghanistan|      231|Almonds shelled|        5610|Import Quantity|     2017|2017|  tonnes|1.000000|null|\n",
      "|                  255|  Belgium|                   2|      Afghanistan|      231|Almonds shelled|        5622|   Import Value|     2015|2015|1000 US$|0.000000|null|\n",
      "|                  255|  Belgium|                   2|      Afghanistan|      231|Almonds shelled|        5622|   Import Value|     2016|2016|1000 US$|4.000000|null|\n",
      "+---------------------+---------+--------------------+-----------------+---------+---------------+------------+---------------+---------+----+--------+--------+----+\n",
      "only showing top 5 rows\n",
      "\n"
     ]
    }
   ],
   "source": [
    "trades.registerTempTable(\"Trades\")\n",
    "\n",
    "query = \"\"\"\n",
    "SELECT *\n",
    "FROM Trades\n",
    "WHERE Countries = 'Belgium'\n",
    "\"\"\"\n",
    "\n",
    "belgium_trade = spark.sql(query)\n",
    "belgium_trade.show(5)"
   ]
  },
  {
   "cell_type": "code",
   "execution_count": 48,
   "metadata": {},
   "outputs": [],
   "source": [
    "belgium_trade_df = belgium_trade.toPandas()"
   ]
  },
  {
   "cell_type": "code",
   "execution_count": 49,
   "metadata": {},
   "outputs": [],
   "source": [
    "belgium_trade_df.to_csv(GENERATED_DATA_PATH+'trade_belgium.csv')"
   ]
  },
  {
   "cell_type": "markdown",
   "metadata": {},
   "source": [
    "From now we can begin with this cell."
   ]
  },
  {
   "cell_type": "code",
   "execution_count": 50,
   "metadata": {},
   "outputs": [],
   "source": [
    "belgium_trade_df = pd.read_csv(GENERATED_DATA_PATH+'trade_belgium.csv', index_col=0)"
   ]
  },
  {
   "cell_type": "code",
   "execution_count": 51,
   "metadata": {},
   "outputs": [
    {
     "data": {
      "text/html": [
       "<div>\n",
       "<style scoped>\n",
       "    .dataframe tbody tr th:only-of-type {\n",
       "        vertical-align: middle;\n",
       "    }\n",
       "\n",
       "    .dataframe tbody tr th {\n",
       "        vertical-align: top;\n",
       "    }\n",
       "\n",
       "    .dataframe thead th {\n",
       "        text-align: right;\n",
       "    }\n",
       "</style>\n",
       "<table border=\"1\" class=\"dataframe\">\n",
       "  <thead>\n",
       "    <tr style=\"text-align: right;\">\n",
       "      <th></th>\n",
       "      <th>Reporter Country Code</th>\n",
       "      <th>Countries</th>\n",
       "      <th>Partner Country Code</th>\n",
       "      <th>Partner Countries</th>\n",
       "      <th>Item Code</th>\n",
       "      <th>Item</th>\n",
       "      <th>Element Code</th>\n",
       "      <th>Element</th>\n",
       "      <th>Year Code</th>\n",
       "      <th>Year</th>\n",
       "      <th>Unit</th>\n",
       "      <th>Value</th>\n",
       "      <th>Flag</th>\n",
       "    </tr>\n",
       "  </thead>\n",
       "  <tbody>\n",
       "    <tr>\n",
       "      <td>0</td>\n",
       "      <td>255</td>\n",
       "      <td>Belgium</td>\n",
       "      <td>2</td>\n",
       "      <td>Afghanistan</td>\n",
       "      <td>231</td>\n",
       "      <td>Almonds shelled</td>\n",
       "      <td>5610</td>\n",
       "      <td>Import Quantity</td>\n",
       "      <td>2015</td>\n",
       "      <td>2015</td>\n",
       "      <td>tonnes</td>\n",
       "      <td>0.0</td>\n",
       "      <td>NaN</td>\n",
       "    </tr>\n",
       "    <tr>\n",
       "      <td>1</td>\n",
       "      <td>255</td>\n",
       "      <td>Belgium</td>\n",
       "      <td>2</td>\n",
       "      <td>Afghanistan</td>\n",
       "      <td>231</td>\n",
       "      <td>Almonds shelled</td>\n",
       "      <td>5610</td>\n",
       "      <td>Import Quantity</td>\n",
       "      <td>2016</td>\n",
       "      <td>2016</td>\n",
       "      <td>tonnes</td>\n",
       "      <td>1.0</td>\n",
       "      <td>NaN</td>\n",
       "    </tr>\n",
       "    <tr>\n",
       "      <td>2</td>\n",
       "      <td>255</td>\n",
       "      <td>Belgium</td>\n",
       "      <td>2</td>\n",
       "      <td>Afghanistan</td>\n",
       "      <td>231</td>\n",
       "      <td>Almonds shelled</td>\n",
       "      <td>5610</td>\n",
       "      <td>Import Quantity</td>\n",
       "      <td>2017</td>\n",
       "      <td>2017</td>\n",
       "      <td>tonnes</td>\n",
       "      <td>1.0</td>\n",
       "      <td>NaN</td>\n",
       "    </tr>\n",
       "    <tr>\n",
       "      <td>3</td>\n",
       "      <td>255</td>\n",
       "      <td>Belgium</td>\n",
       "      <td>2</td>\n",
       "      <td>Afghanistan</td>\n",
       "      <td>231</td>\n",
       "      <td>Almonds shelled</td>\n",
       "      <td>5622</td>\n",
       "      <td>Import Value</td>\n",
       "      <td>2015</td>\n",
       "      <td>2015</td>\n",
       "      <td>1000 US$</td>\n",
       "      <td>0.0</td>\n",
       "      <td>NaN</td>\n",
       "    </tr>\n",
       "    <tr>\n",
       "      <td>4</td>\n",
       "      <td>255</td>\n",
       "      <td>Belgium</td>\n",
       "      <td>2</td>\n",
       "      <td>Afghanistan</td>\n",
       "      <td>231</td>\n",
       "      <td>Almonds shelled</td>\n",
       "      <td>5622</td>\n",
       "      <td>Import Value</td>\n",
       "      <td>2016</td>\n",
       "      <td>2016</td>\n",
       "      <td>1000 US$</td>\n",
       "      <td>4.0</td>\n",
       "      <td>NaN</td>\n",
       "    </tr>\n",
       "  </tbody>\n",
       "</table>\n",
       "</div>"
      ],
      "text/plain": [
       "   Reporter Country Code Countries  Partner Country Code Partner Countries  \\\n",
       "0                    255   Belgium                     2       Afghanistan   \n",
       "1                    255   Belgium                     2       Afghanistan   \n",
       "2                    255   Belgium                     2       Afghanistan   \n",
       "3                    255   Belgium                     2       Afghanistan   \n",
       "4                    255   Belgium                     2       Afghanistan   \n",
       "\n",
       "   Item Code             Item  Element Code          Element  Year Code  Year  \\\n",
       "0        231  Almonds shelled          5610  Import Quantity       2015  2015   \n",
       "1        231  Almonds shelled          5610  Import Quantity       2016  2016   \n",
       "2        231  Almonds shelled          5610  Import Quantity       2017  2017   \n",
       "3        231  Almonds shelled          5622     Import Value       2015  2015   \n",
       "4        231  Almonds shelled          5622     Import Value       2016  2016   \n",
       "\n",
       "       Unit  Value Flag  \n",
       "0    tonnes    0.0  NaN  \n",
       "1    tonnes    1.0  NaN  \n",
       "2    tonnes    1.0  NaN  \n",
       "3  1000 US$    0.0  NaN  \n",
       "4  1000 US$    4.0  NaN  "
      ]
     },
     "execution_count": 51,
     "metadata": {},
     "output_type": "execute_result"
    }
   ],
   "source": [
    "belgium_trade_df.head()"
   ]
  },
  {
   "cell_type": "markdown",
   "metadata": {},
   "source": [
    "Get rid of useless columns and rename `Partner Countries`"
   ]
  },
  {
   "cell_type": "code",
   "execution_count": 52,
   "metadata": {},
   "outputs": [],
   "source": [
    "belgium_trade_df = belgium_trade_df.drop(columns=['Reporter Country Code', 'Countries', 'Partner Country Code', 'Item Code', 'Element Code', 'Year Code', 'Unit', 'Flag'])\n",
    "belgium_trade_df = belgium_trade_df.rename(columns={'Partner Countries': 'Country'})"
   ]
  },
  {
   "cell_type": "code",
   "execution_count": 53,
   "metadata": {},
   "outputs": [
    {
     "data": {
      "text/html": [
       "<div>\n",
       "<style scoped>\n",
       "    .dataframe tbody tr th:only-of-type {\n",
       "        vertical-align: middle;\n",
       "    }\n",
       "\n",
       "    .dataframe tbody tr th {\n",
       "        vertical-align: top;\n",
       "    }\n",
       "\n",
       "    .dataframe thead th {\n",
       "        text-align: right;\n",
       "    }\n",
       "</style>\n",
       "<table border=\"1\" class=\"dataframe\">\n",
       "  <thead>\n",
       "    <tr style=\"text-align: right;\">\n",
       "      <th></th>\n",
       "      <th>Country</th>\n",
       "      <th>Item</th>\n",
       "      <th>Element</th>\n",
       "      <th>Year</th>\n",
       "      <th>Value</th>\n",
       "    </tr>\n",
       "  </thead>\n",
       "  <tbody>\n",
       "    <tr>\n",
       "      <td>0</td>\n",
       "      <td>Afghanistan</td>\n",
       "      <td>Almonds shelled</td>\n",
       "      <td>Import Quantity</td>\n",
       "      <td>2015</td>\n",
       "      <td>0.0</td>\n",
       "    </tr>\n",
       "    <tr>\n",
       "      <td>1</td>\n",
       "      <td>Afghanistan</td>\n",
       "      <td>Almonds shelled</td>\n",
       "      <td>Import Quantity</td>\n",
       "      <td>2016</td>\n",
       "      <td>1.0</td>\n",
       "    </tr>\n",
       "    <tr>\n",
       "      <td>2</td>\n",
       "      <td>Afghanistan</td>\n",
       "      <td>Almonds shelled</td>\n",
       "      <td>Import Quantity</td>\n",
       "      <td>2017</td>\n",
       "      <td>1.0</td>\n",
       "    </tr>\n",
       "    <tr>\n",
       "      <td>3</td>\n",
       "      <td>Afghanistan</td>\n",
       "      <td>Almonds shelled</td>\n",
       "      <td>Import Value</td>\n",
       "      <td>2015</td>\n",
       "      <td>0.0</td>\n",
       "    </tr>\n",
       "    <tr>\n",
       "      <td>4</td>\n",
       "      <td>Afghanistan</td>\n",
       "      <td>Almonds shelled</td>\n",
       "      <td>Import Value</td>\n",
       "      <td>2016</td>\n",
       "      <td>4.0</td>\n",
       "    </tr>\n",
       "  </tbody>\n",
       "</table>\n",
       "</div>"
      ],
      "text/plain": [
       "       Country             Item          Element  Year  Value\n",
       "0  Afghanistan  Almonds shelled  Import Quantity  2015    0.0\n",
       "1  Afghanistan  Almonds shelled  Import Quantity  2016    1.0\n",
       "2  Afghanistan  Almonds shelled  Import Quantity  2017    1.0\n",
       "3  Afghanistan  Almonds shelled     Import Value  2015    0.0\n",
       "4  Afghanistan  Almonds shelled     Import Value  2016    4.0"
      ]
     },
     "execution_count": 53,
     "metadata": {},
     "output_type": "execute_result"
    }
   ],
   "source": [
    "belgium_trade_df.head()"
   ]
  },
  {
   "cell_type": "markdown",
   "metadata": {},
   "source": [
    "We will separate this dataset into 2 dataset : one for the trading of meat and animal product and the other for the vegetable products. The lists of animal items and vegetable item are in the `anim_items_trade.txt` and `veg_items_trade.txt` and have been done by hand."
   ]
  },
  {
   "cell_type": "code",
   "execution_count": 54,
   "metadata": {},
   "outputs": [],
   "source": [
    "animal_item = np.loadtxt(DATA_PATH+'anim_items_trade.txt', delimiter = '  ', dtype='str')"
   ]
  },
  {
   "cell_type": "code",
   "execution_count": 55,
   "metadata": {},
   "outputs": [
    {
     "data": {
      "text/html": [
       "<div>\n",
       "<style scoped>\n",
       "    .dataframe tbody tr th:only-of-type {\n",
       "        vertical-align: middle;\n",
       "    }\n",
       "\n",
       "    .dataframe tbody tr th {\n",
       "        vertical-align: top;\n",
       "    }\n",
       "\n",
       "    .dataframe thead th {\n",
       "        text-align: right;\n",
       "    }\n",
       "</style>\n",
       "<table border=\"1\" class=\"dataframe\">\n",
       "  <thead>\n",
       "    <tr style=\"text-align: right;\">\n",
       "      <th></th>\n",
       "      <th>Country</th>\n",
       "      <th>Item</th>\n",
       "      <th>Element</th>\n",
       "      <th>Year</th>\n",
       "      <th>Value</th>\n",
       "    </tr>\n",
       "  </thead>\n",
       "  <tbody>\n",
       "    <tr>\n",
       "      <td>6</td>\n",
       "      <td>Afghanistan</td>\n",
       "      <td>Animals, live, non-food</td>\n",
       "      <td>Export Value</td>\n",
       "      <td>2008</td>\n",
       "      <td>14.0</td>\n",
       "    </tr>\n",
       "    <tr>\n",
       "      <td>7</td>\n",
       "      <td>Afghanistan</td>\n",
       "      <td>Animals, live, non-food</td>\n",
       "      <td>Export Value</td>\n",
       "      <td>2009</td>\n",
       "      <td>9.0</td>\n",
       "    </tr>\n",
       "    <tr>\n",
       "      <td>8</td>\n",
       "      <td>Afghanistan</td>\n",
       "      <td>Animals, live, non-food</td>\n",
       "      <td>Export Value</td>\n",
       "      <td>2017</td>\n",
       "      <td>34.0</td>\n",
       "    </tr>\n",
       "    <tr>\n",
       "      <td>17</td>\n",
       "      <td>Afghanistan</td>\n",
       "      <td>Bacon and ham</td>\n",
       "      <td>Export Quantity</td>\n",
       "      <td>2005</td>\n",
       "      <td>0.0</td>\n",
       "    </tr>\n",
       "    <tr>\n",
       "      <td>18</td>\n",
       "      <td>Afghanistan</td>\n",
       "      <td>Bacon and ham</td>\n",
       "      <td>Export Quantity</td>\n",
       "      <td>2015</td>\n",
       "      <td>5.0</td>\n",
       "    </tr>\n",
       "  </tbody>\n",
       "</table>\n",
       "</div>"
      ],
      "text/plain": [
       "        Country                     Item          Element  Year  Value\n",
       "6   Afghanistan  Animals, live, non-food     Export Value  2008   14.0\n",
       "7   Afghanistan  Animals, live, non-food     Export Value  2009    9.0\n",
       "8   Afghanistan  Animals, live, non-food     Export Value  2017   34.0\n",
       "17  Afghanistan            Bacon and ham  Export Quantity  2005    0.0\n",
       "18  Afghanistan            Bacon and ham  Export Quantity  2015    5.0"
      ]
     },
     "execution_count": 55,
     "metadata": {},
     "output_type": "execute_result"
    }
   ],
   "source": [
    "belgium_animal_trade = belgium_trade_df[belgium_trade_df.Item.isin(animal_item)]\n",
    "belgium_animal_trade.head()"
   ]
  },
  {
   "cell_type": "code",
   "execution_count": 56,
   "metadata": {},
   "outputs": [],
   "source": [
    "belgium_animal_trade = belgium_animal_trade.drop(columns='Item')"
   ]
  },
  {
   "cell_type": "markdown",
   "metadata": {},
   "source": [
    "Get only the export quantity and import quantity"
   ]
  },
  {
   "cell_type": "code",
   "execution_count": 57,
   "metadata": {},
   "outputs": [
    {
     "data": {
      "text/plain": [
       "array(['Export Value', 'Export Quantity', 'Import Quantity',\n",
       "       'Import Value'], dtype=object)"
      ]
     },
     "execution_count": 57,
     "metadata": {},
     "output_type": "execute_result"
    }
   ],
   "source": [
    "belgium_animal_trade.Element.unique()"
   ]
  },
  {
   "cell_type": "code",
   "execution_count": 58,
   "metadata": {},
   "outputs": [],
   "source": [
    "belgium_animal_trade = belgium_animal_trade[belgium_animal_trade.Element.isin(['Export Quantity', 'Import Quantity'])]"
   ]
  },
  {
   "cell_type": "code",
   "execution_count": 59,
   "metadata": {},
   "outputs": [
    {
     "data": {
      "text/html": [
       "<div>\n",
       "<style scoped>\n",
       "    .dataframe tbody tr th:only-of-type {\n",
       "        vertical-align: middle;\n",
       "    }\n",
       "\n",
       "    .dataframe tbody tr th {\n",
       "        vertical-align: top;\n",
       "    }\n",
       "\n",
       "    .dataframe thead th {\n",
       "        text-align: right;\n",
       "    }\n",
       "</style>\n",
       "<table border=\"1\" class=\"dataframe\">\n",
       "  <thead>\n",
       "    <tr style=\"text-align: right;\">\n",
       "      <th></th>\n",
       "      <th>Element</th>\n",
       "      <th>Export Quantity</th>\n",
       "      <th>Import Quantity</th>\n",
       "    </tr>\n",
       "    <tr>\n",
       "      <th>Country</th>\n",
       "      <th>Year</th>\n",
       "      <th></th>\n",
       "      <th></th>\n",
       "    </tr>\n",
       "  </thead>\n",
       "  <tbody>\n",
       "    <tr>\n",
       "      <td rowspan=\"5\" valign=\"top\">Afghanistan</td>\n",
       "      <td>2003</td>\n",
       "      <td>22.000000</td>\n",
       "      <td>NaN</td>\n",
       "    </tr>\n",
       "    <tr>\n",
       "      <td>2004</td>\n",
       "      <td>0.000000</td>\n",
       "      <td>NaN</td>\n",
       "    </tr>\n",
       "    <tr>\n",
       "      <td>2005</td>\n",
       "      <td>1.166667</td>\n",
       "      <td>NaN</td>\n",
       "    </tr>\n",
       "    <tr>\n",
       "      <td>2006</td>\n",
       "      <td>14.000000</td>\n",
       "      <td>NaN</td>\n",
       "    </tr>\n",
       "    <tr>\n",
       "      <td>2007</td>\n",
       "      <td>25.000000</td>\n",
       "      <td>NaN</td>\n",
       "    </tr>\n",
       "  </tbody>\n",
       "</table>\n",
       "</div>"
      ],
      "text/plain": [
       "Element           Export Quantity  Import Quantity\n",
       "Country     Year                                  \n",
       "Afghanistan 2003        22.000000              NaN\n",
       "            2004         0.000000              NaN\n",
       "            2005         1.166667              NaN\n",
       "            2006        14.000000              NaN\n",
       "            2007        25.000000              NaN"
      ]
     },
     "execution_count": 59,
     "metadata": {},
     "output_type": "execute_result"
    }
   ],
   "source": [
    "# Pivot the table\n",
    "belgium_animal_trade = pd.pivot_table(belgium_animal_trade, values='Value', index=['Country', 'Year'], columns='Element')\n",
    "belgium_animal_trade.head()"
   ]
  },
  {
   "cell_type": "code",
   "execution_count": 60,
   "metadata": {},
   "outputs": [
    {
     "data": {
      "text/plain": [
       "Element\n",
       "Export Quantity      22\n",
       "Import Quantity    1702\n",
       "dtype: int64"
      ]
     },
     "execution_count": 60,
     "metadata": {},
     "output_type": "execute_result"
    }
   ],
   "source": [
    "belgium_animal_trade.isnull().sum()[belgium_animal_trade.isnull().sum() != 0]"
   ]
  },
  {
   "cell_type": "markdown",
   "metadata": {},
   "source": [
    "We will fill the NaN value with 0 and consider the Belgium dif no import/export animal product the corresponding year from/to the country"
   ]
  },
  {
   "cell_type": "code",
   "execution_count": 61,
   "metadata": {},
   "outputs": [],
   "source": [
    "belgium_animal_trade = belgium_animal_trade.fillna(value=0)"
   ]
  },
  {
   "cell_type": "markdown",
   "metadata": {},
   "source": [
    "We will compute the net importation/exportation quantity between a country and belgium"
   ]
  },
  {
   "cell_type": "code",
   "execution_count": 62,
   "metadata": {},
   "outputs": [],
   "source": [
    "belgium_animal_trade['Net Quantity'] = belgium_animal_trade['Import Quantity'] - belgium_animal_trade['Export Quantity']"
   ]
  },
  {
   "cell_type": "markdown",
   "metadata": {},
   "source": [
    "We have information about ony the 21st century"
   ]
  },
  {
   "cell_type": "code",
   "execution_count": 63,
   "metadata": {},
   "outputs": [
    {
     "data": {
      "text/plain": [
       "Int64Index([2000, 2001, 2002, 2003, 2004, 2005, 2006, 2007, 2008, 2009, 2010,\n",
       "            2011, 2012, 2013, 2014, 2015, 2016, 2017],\n",
       "           dtype='int64', name='Year')"
      ]
     },
     "execution_count": 63,
     "metadata": {},
     "output_type": "execute_result"
    }
   ],
   "source": [
    "belgium_animal_trade.index.levels[1]"
   ]
  },
  {
   "cell_type": "markdown",
   "metadata": {},
   "source": [
    "But for some countries we do not have information about all year. We will just fill these years with 0's and consider that belgium didn't trade with these countries these years."
   ]
  },
  {
   "cell_type": "code",
   "execution_count": 64,
   "metadata": {},
   "outputs": [],
   "source": [
    "new_data = pd.DataFrame()\n",
    "for col in belgium_animal_trade.columns:\n",
    "    new_data[col] = belgium_animal_trade[col].unstack().fillna(value=0).stack()\n",
    "belgium_animal_trade = new_data"
   ]
  },
  {
   "cell_type": "code",
   "execution_count": 65,
   "metadata": {},
   "outputs": [
    {
     "data": {
      "text/html": [
       "<div>\n",
       "<style scoped>\n",
       "    .dataframe tbody tr th:only-of-type {\n",
       "        vertical-align: middle;\n",
       "    }\n",
       "\n",
       "    .dataframe tbody tr th {\n",
       "        vertical-align: top;\n",
       "    }\n",
       "\n",
       "    .dataframe thead th {\n",
       "        text-align: right;\n",
       "    }\n",
       "</style>\n",
       "<table border=\"1\" class=\"dataframe\">\n",
       "  <thead>\n",
       "    <tr style=\"text-align: right;\">\n",
       "      <th></th>\n",
       "      <th></th>\n",
       "      <th>Export Quantity</th>\n",
       "      <th>Import Quantity</th>\n",
       "      <th>Net Quantity</th>\n",
       "    </tr>\n",
       "    <tr>\n",
       "      <th>Country</th>\n",
       "      <th>Year</th>\n",
       "      <th></th>\n",
       "      <th></th>\n",
       "      <th></th>\n",
       "    </tr>\n",
       "  </thead>\n",
       "  <tbody>\n",
       "    <tr>\n",
       "      <td rowspan=\"5\" valign=\"top\">Afghanistan</td>\n",
       "      <td>2000</td>\n",
       "      <td>0.0</td>\n",
       "      <td>0.0</td>\n",
       "      <td>0.0</td>\n",
       "    </tr>\n",
       "    <tr>\n",
       "      <td>2001</td>\n",
       "      <td>0.0</td>\n",
       "      <td>0.0</td>\n",
       "      <td>0.0</td>\n",
       "    </tr>\n",
       "    <tr>\n",
       "      <td>2002</td>\n",
       "      <td>0.0</td>\n",
       "      <td>0.0</td>\n",
       "      <td>0.0</td>\n",
       "    </tr>\n",
       "    <tr>\n",
       "      <td>2003</td>\n",
       "      <td>22.0</td>\n",
       "      <td>0.0</td>\n",
       "      <td>-22.0</td>\n",
       "    </tr>\n",
       "    <tr>\n",
       "      <td>2004</td>\n",
       "      <td>0.0</td>\n",
       "      <td>0.0</td>\n",
       "      <td>0.0</td>\n",
       "    </tr>\n",
       "  </tbody>\n",
       "</table>\n",
       "</div>"
      ],
      "text/plain": [
       "                  Export Quantity  Import Quantity  Net Quantity\n",
       "Country     Year                                                \n",
       "Afghanistan 2000              0.0              0.0           0.0\n",
       "            2001              0.0              0.0           0.0\n",
       "            2002              0.0              0.0           0.0\n",
       "            2003             22.0              0.0         -22.0\n",
       "            2004              0.0              0.0           0.0"
      ]
     },
     "execution_count": 65,
     "metadata": {},
     "output_type": "execute_result"
    }
   ],
   "source": [
    "belgium_animal_trade.head()"
   ]
  },
  {
   "cell_type": "markdown",
   "metadata": {},
   "source": [
    "We will do the same with the vegetable products"
   ]
  },
  {
   "cell_type": "code",
   "execution_count": 66,
   "metadata": {},
   "outputs": [
    {
     "data": {
      "text/html": [
       "<div>\n",
       "<style scoped>\n",
       "    .dataframe tbody tr th:only-of-type {\n",
       "        vertical-align: middle;\n",
       "    }\n",
       "\n",
       "    .dataframe tbody tr th {\n",
       "        vertical-align: top;\n",
       "    }\n",
       "\n",
       "    .dataframe thead th {\n",
       "        text-align: right;\n",
       "    }\n",
       "</style>\n",
       "<table border=\"1\" class=\"dataframe\">\n",
       "  <thead>\n",
       "    <tr style=\"text-align: right;\">\n",
       "      <th></th>\n",
       "      <th></th>\n",
       "      <th>Export Quantity</th>\n",
       "      <th>Import Quantity</th>\n",
       "      <th>Net Quantity</th>\n",
       "    </tr>\n",
       "    <tr>\n",
       "      <th>Country</th>\n",
       "      <th>Year</th>\n",
       "      <th></th>\n",
       "      <th></th>\n",
       "      <th></th>\n",
       "    </tr>\n",
       "  </thead>\n",
       "  <tbody>\n",
       "    <tr>\n",
       "      <td rowspan=\"5\" valign=\"top\">Afghanistan</td>\n",
       "      <td>2000</td>\n",
       "      <td>8154.50</td>\n",
       "      <td>0.0</td>\n",
       "      <td>-8154.50</td>\n",
       "    </tr>\n",
       "    <tr>\n",
       "      <td>2001</td>\n",
       "      <td>1014.00</td>\n",
       "      <td>0.0</td>\n",
       "      <td>-1014.00</td>\n",
       "    </tr>\n",
       "    <tr>\n",
       "      <td>2002</td>\n",
       "      <td>151.40</td>\n",
       "      <td>0.0</td>\n",
       "      <td>-151.40</td>\n",
       "    </tr>\n",
       "    <tr>\n",
       "      <td>2003</td>\n",
       "      <td>373.00</td>\n",
       "      <td>0.0</td>\n",
       "      <td>-373.00</td>\n",
       "    </tr>\n",
       "    <tr>\n",
       "      <td>2004</td>\n",
       "      <td>710.25</td>\n",
       "      <td>0.0</td>\n",
       "      <td>-710.25</td>\n",
       "    </tr>\n",
       "  </tbody>\n",
       "</table>\n",
       "</div>"
      ],
      "text/plain": [
       "                  Export Quantity  Import Quantity  Net Quantity\n",
       "Country     Year                                                \n",
       "Afghanistan 2000          8154.50              0.0      -8154.50\n",
       "            2001          1014.00              0.0      -1014.00\n",
       "            2002           151.40              0.0       -151.40\n",
       "            2003           373.00              0.0       -373.00\n",
       "            2004           710.25              0.0       -710.25"
      ]
     },
     "execution_count": 66,
     "metadata": {},
     "output_type": "execute_result"
    }
   ],
   "source": [
    "vegetable_item = np.loadtxt(DATA_PATH+'veg_items_trade.txt', delimiter = '  ', dtype='str')\n",
    "\n",
    "def clean_trade_data(country_trade, item_list):\n",
    "    # Keep animal or vegetable items\n",
    "    trade = country_trade[country_trade.Item.isin(item_list)]\n",
    "    trade = trade.drop(columns='Item')\n",
    "    trade = trade[trade.Element.isin(['Export Quantity', 'Import Quantity'])]\n",
    "    # Keep data from 2000 and after\n",
    "    trade = trade[trade.Year >= 2000]\n",
    "    # Pivot the table\n",
    "    trade = pd.pivot_table(trade, values='Value', index=['Country', 'Year'], columns='Element')\n",
    "    # Fill NaN\n",
    "    trade.fillna(value=0, inplace=True)\n",
    "    # Compute the Net Quantity\n",
    "    trade['Net Quantity'] = trade['Import Quantity'] - trade['Export Quantity']\n",
    "    # Fill the missing years with 0's\n",
    "    new_data = pd.DataFrame()\n",
    "    for col in trade.columns:\n",
    "        new_data[col] = trade[col].unstack().fillna(value=0).stack()\n",
    "    trade = new_data\n",
    "    return trade\n",
    "\n",
    "belgium_vegetable_trade = clean_trade_data(belgium_trade_df, vegetable_item)\n",
    "belgium_vegetable_trade.head()"
   ]
  },
  {
   "cell_type": "markdown",
   "metadata": {},
   "source": [
    "We will now look at the evolution of the total net quantity traded by belgium from 2000 to 2017 for animal products and vegetable products."
   ]
  },
  {
   "cell_type": "code",
   "execution_count": 67,
   "metadata": {},
   "outputs": [
    {
     "data": {
      "image/png": "[encoded data removed]",
      "text/plain": [
       "<Figure size 432x288 with 1 Axes>"
      ]
     },
     "metadata": {
      "needs_background": "light"
     },
     "output_type": "display_data"
    }
   ],
   "source": [
    "total_animal_product = []\n",
    "total_vegetable_product = []\n",
    "for year in range(2000, 2018):\n",
    "    total_animal_product.append(belgium_animal_trade.xs(year, level=1)['Net Quantity'].sum())\n",
    "    total_vegetable_product.append(belgium_vegetable_trade.xs(year, level=1)['Net Quantity'].sum())\n",
    "\n",
    "plt.plot(range(2000,2018), total_animal_product, label='Animal products')\n",
    "plt.plot(range(2000,2018), total_vegetable_product, label='Vegetable products')\n",
    "plt.title(\"Evolution of the quantity of traded products in Belgium\")\n",
    "plt.ylabel(\"Quantity (tons) of traded products (negative for exportation)\")\n",
    "plt.xlabel(\"Year\")\n",
    "plt.legend()\n",
    "plt.show()"
   ]
  },
  {
   "cell_type": "markdown",
   "metadata": {},
   "source": [
    "We can see that Belgium export more animal product than it import and that the quantity of exported animal product is relatively constant while Belgium imports much more vegetable products (one part of these vegetable product are used to feed the livestock). Moreover the importation of vegetable product has grown in the past few years."
   ]
  },
  {
   "cell_type": "markdown",
   "metadata": {},
   "source": [
    "### Switzerland <a name=\"swiss_trade\"></a>\n",
    "\n",
    "We will do the same job for switzerland\n",
    "We first neeed to extract data related to switzerlad in the detailed trade matrix"
   ]
  },
  {
   "cell_type": "code",
   "execution_count": 68,
   "metadata": {},
   "outputs": [],
   "source": [
    "trades.registerTempTable(\"Trades\")\n",
    "\n",
    "query = \"\"\"\n",
    "SELECT *\n",
    "FROM Trades\n",
    "WHERE Countries = 'Switzerland'\n",
    "\"\"\"\n",
    "\n",
    "swiss_trade = spark.sql(query)"
   ]
  },
  {
   "cell_type": "code",
   "execution_count": 69,
   "metadata": {},
   "outputs": [],
   "source": [
    "swiss_trade_df = swiss_trade.toPandas()\n",
    "swiss_trade_df.to_csv(GENERATED_DATA_PATH+'trade_switzerland.csv')"
   ]
  },
  {
   "cell_type": "code",
   "execution_count": 70,
   "metadata": {},
   "outputs": [],
   "source": [
    "swiss_trade_df = pd.read_csv(GENERATED_DATA_PATH+'trade_switzerland.csv', index_col=0)\n",
    "swiss_trade_df = swiss_trade_df.drop(columns=['Reporter Country Code', 'Countries', 'Partner Country Code', 'Item Code', 'Element Code', 'Year Code', 'Unit', 'Flag'])\n",
    "swiss_trade_df = swiss_trade_df.rename(columns={'Partner Countries': 'Country'})"
   ]
  },
  {
   "cell_type": "code",
   "execution_count": 71,
   "metadata": {},
   "outputs": [],
   "source": [
    "swiss_animal_trade = clean_trade_data(swiss_trade_df, animal_item)\n",
    "swiss_vegetable_trade = clean_trade_data(swiss_trade_df, vegetable_item)"
   ]
  },
  {
   "cell_type": "code",
   "execution_count": 72,
   "metadata": {},
   "outputs": [
    {
     "data": {
      "image/png": "[encoded data removed]",
      "text/plain": [
       "<Figure size 432x288 with 1 Axes>"
      ]
     },
     "metadata": {
      "needs_background": "light"
     },
     "output_type": "display_data"
    }
   ],
   "source": [
    "total_animal_product = []\n",
    "total_vegetable_product = []\n",
    "for year in range(2000, 2018):\n",
    "    total_animal_product.append(swiss_animal_trade.xs(year, level=1)['Net Quantity'].sum())\n",
    "    total_vegetable_product.append(swiss_vegetable_trade.xs(year, level=1)['Net Quantity'].sum())\n",
    "\n",
    "plt.plot(range(2000,2018), total_animal_product, label='Animal products')\n",
    "plt.plot(range(2000,2018), total_vegetable_product, label='Vegetable products')\n",
    "plt.title(\"Evolution of the quantity of traded products in Switzerland\")\n",
    "plt.ylabel(\"Quantity (tons) of traded products (negative for exportation)\")\n",
    "plt.xlabel(\"Year\")\n",
    "plt.legend()\n",
    "plt.show()"
   ]
  },
  {
   "cell_type": "markdown",
   "metadata": {},
   "source": [
    "We can see that switzerland import both animal and vegetable products. The importation of meat product is constant while the importation of vegetable product has decrease from 2002."
   ]
  },
  {
   "cell_type": "markdown",
   "metadata": {},
   "source": [
    "### Comparison between belgium and switzerland <a name=\"comparison_belgium_swiss_trade\"></a>\n",
    "The first comparison is made based on the quantity of importation for animal and vegetable products."
   ]
  },
  {
   "cell_type": "code",
   "execution_count": 73,
   "metadata": {},
   "outputs": [
    {
     "data": {
      "image/png": "[encoded data removed]",
      "text/plain": [
       "<Figure size 1008x576 with 1 Axes>"
      ]
     },
     "metadata": {
      "needs_background": "light"
     },
     "output_type": "display_data"
    }
   ],
   "source": [
    "total_animal_product_belgium = []\n",
    "total_vegetable_product_belgium = []\n",
    "total_animal_product_switzerland = []\n",
    "total_vegetable_product_switzerland = []\n",
    "\n",
    "people_swiss = 8556000\n",
    "people_belgium = 11400000\n",
    "\n",
    "for year in range(2000, 2018):\n",
    "    total_animal_product_belgium.append(belgium_animal_trade.xs(year, level=1)['Net Quantity'].sum()/people_belgium)\n",
    "    total_vegetable_product_belgium.append(belgium_vegetable_trade.xs(year, level=1)['Net Quantity'].sum()/people_belgium)\n",
    "    total_animal_product_switzerland.append(swiss_animal_trade.xs(year, level=1)['Net Quantity'].sum()/people_swiss)\n",
    "    total_vegetable_product_switzerland.append(swiss_vegetable_trade.xs(year, level=1)['Net Quantity'].sum()/people_swiss)\n",
    "\n",
    "plt.figure(figsize=(14,8))\n",
    "plt.plot(range(2000,2018), total_animal_product_belgium, label='Animal products Belgium')\n",
    "plt.plot(range(2000,2018), total_vegetable_product_belgium, label='Vegetable products Belgium')\n",
    "plt.plot(range(2000,2018), total_animal_product_switzerland, label='Animal products Switzerland')\n",
    "plt.plot(range(2000,2018), total_vegetable_product_switzerland, label='Vegetable products Switzerland')\n",
    "plt.title(\"Comparison of the evolution of the quantity of traded products in Switzerland and in Belgium\")\n",
    "plt.ylabel(\"Quantity (tons) of traded products per capita (negative for exportation)\")\n",
    "plt.xlabel(\"Year\")\n",
    "plt.legend()\n",
    "plt.show()"
   ]
  },
  {
   "cell_type": "markdown",
   "metadata": {},
   "source": [
    "We can see that per capita, Belgium export more animal products but import much more vegetable product than Switzerland."
   ]
  },
  {
   "cell_type": "markdown",
   "metadata": {},
   "source": [
    "### Adding emissions <a name=\"adding_emissions\"></a>\n",
    "We will first compare direct emissions of the two countries. Then we will add the emission from the country where Belgium and Switzerland import their food. \n",
    "\n",
    "We will now join the emission dataframe with the dataframes created in the previous section"
   ]
  },
  {
   "cell_type": "code",
   "execution_count": 74,
   "metadata": {},
   "outputs": [],
   "source": [
    "swiss_emission = emissions_total.loc['Switzerland']\n",
    "swiss_emission = swiss_emission[swiss_emission.index >= 2000]\n",
    "swiss_emission = swiss_emission[swiss_emission.index < 2018]\n",
    "\n",
    "belgium_emission = emissions_total.loc['Belgium']\n",
    "belgium_emission = belgium_emission[belgium_emission.index >= 2000]\n",
    "belgium_emission = belgium_emission[belgium_emission.index < 2018]"
   ]
  },
  {
   "cell_type": "code",
   "execution_count": 75,
   "metadata": {},
   "outputs": [
    {
     "data": {
      "image/png": "[encoded data removed]",
      "text/plain": [
       "<Figure size 1008x576 with 1 Axes>"
      ]
     },
     "metadata": {
      "needs_background": "light"
     },
     "output_type": "display_data"
    }
   ],
   "source": [
    "plt.figure(figsize=(14,8))\n",
    "plt.plot(swiss_emission.index, swiss_emission.Sum/people_swiss, label='Swiss Emssion')\n",
    "plt.plot(belgium_emission.index, belgium_emission.Sum/people_belgium, label='Belgium Emssion')\n",
    "plt.title(\"Comparison between the emission of CO2(eq) per capita from Switzerland and Belgium\")\n",
    "plt.ylabel(\"Emission (Gigagram of CO2eq) per capita\")\n",
    "plt.xlabel(\"Year\")\n",
    "plt.legend()\n",
    "plt.show()"
   ]
  },
  {
   "cell_type": "markdown",
   "metadata": {},
   "source": [
    "We see that Belgium emits much more CO2eq per capita than Switerland. But it seems that both country try to reduce their emissions of CO2 eq."
   ]
  },
  {
   "cell_type": "code",
   "execution_count": 76,
   "metadata": {},
   "outputs": [
    {
     "data": {
      "image/png": "[encoded data removed]",
      "text/plain": [
       "<Figure size 1008x576 with 1 Axes>"
      ]
     },
     "metadata": {
      "needs_background": "light"
     },
     "output_type": "display_data"
    }
   ],
   "source": [
    "plt.figure(figsize=(14,8))\n",
    "plt.plot(swiss_emission.index, swiss_emission.Animal/people_swiss, label='Swiss Emssion from Animals')\n",
    "plt.plot(swiss_emission.index, swiss_emission.Vegetal/people_swiss, label='Swiss Emssion from Vegetables')\n",
    "plt.plot(belgium_emission.index, belgium_emission.Animal/people_belgium, label='Belgium Emssion from Animals')\n",
    "plt.plot(belgium_emission.index, belgium_emission.Vegetal/people_belgium, label='Belgium Emssion from Vegetables')\n",
    "plt.title(\"Comparison between the emission of CO2(eq) of vegetable and animal prouction per capita from Switzerland and Belgium\")\n",
    "plt.ylabel(\"Emission (Gigagram of CO2eq) per capita\")\n",
    "plt.xlabel(\"Year\")\n",
    "plt.legend()\n",
    "plt.show()"
   ]
  },
  {
   "cell_type": "markdown",
   "metadata": {},
   "source": [
    "As seen before the majority of the emission is due to the production of animal product. Moreover the decreasing of the emission in total is due more by the reduction of emission of CO2eq from the production of animal products."
   ]
  },
  {
   "cell_type": "markdown",
   "metadata": {},
   "source": [
    "We now add the emission in the previously constructed datasets"
   ]
  },
  {
   "cell_type": "code",
   "execution_count": 77,
   "metadata": {},
   "outputs": [],
   "source": [
    "def add_emissions(trade, emissions_total, local_emission):\n",
    "    trade = pd.merge(trade, emissions_total['Animal'], left_index=True, right_index=True)\n",
    "    trade = trade.rename(columns={'Animal':'Emission'})\n",
    "    trade = pd.merge(trade, local_emission['Animal'], left_index=True, right_index=True)\n",
    "    trade = trade.rename(columns={'Animal':'Local Emission'})\n",
    "    return trade\n",
    "\n",
    "\n",
    "belgium_animal_trade = add_emissions(belgium_animal_trade, emissions_total, belgium_emission)\n",
    "belgium_vegetable_trade = add_emissions(belgium_vegetable_trade, emissions_total, belgium_emission)\n",
    "swiss_animal_trade = add_emissions(swiss_animal_trade, emissions_total, swiss_emission)\n",
    "swiss_vegetable_trade = add_emissions(swiss_vegetable_trade, emissions_total, swiss_emission)"
   ]
  },
  {
   "cell_type": "code",
   "execution_count": 78,
   "metadata": {},
   "outputs": [],
   "source": [
    "belgium_animal_trade.to_csv(GENERATED_DATA_PATH+'belgium_animal_trade.csv')\n",
    "belgium_vegetable_trade.to_csv(GENERATED_DATA_PATH+'belgium_vegetable_trade.csv')\n",
    "swiss_animal_trade.to_csv(GENERATED_DATA_PATH+'swiss_animal_trade.csv')\n",
    "swiss_vegetable_trade.to_csv(GENERATED_DATA_PATH+'swiss_vegetable_trade.csv')"
   ]
  },
  {
   "cell_type": "code",
   "execution_count": null,
   "metadata": {},
   "outputs": [],
   "source": []
  },
  {
   "cell_type": "code",
   "execution_count": null,
   "metadata": {},
   "outputs": [],
   "source": []
  }
 ],
 "metadata": {
  "kernelspec": {
   "display_name": "Python [conda env:ada] *",
   "language": "python",
   "name": "conda-env-ada-py"
  },
  "language_info": {
   "codemirror_mode": {
    "name": "ipython",
    "version": 3
   },
   "file_extension": ".py",
   "mimetype": "text/x-python",
   "name": "python",
   "nbconvert_exporter": "python",
   "pygments_lexer": "ipython3",
   "version": "3.7.4"
  }
 },
 "nbformat": 4,
 "nbformat_minor": 4
}
