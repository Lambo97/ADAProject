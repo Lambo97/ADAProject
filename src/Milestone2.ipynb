{
 "cells": [
  {
   "cell_type": "markdown",
   "metadata": {},
   "source": [
    "# Milestone 2 \n",
    "# How much emission are you REALLY responsible for.\n",
    "\n",
    "In this notebook we focus on exploring the dataset we have selected, and prepare the data for the sory telling in milestone 3.\n",
    "\n",
    "This notebook will be devided into the same section as our datasory."
   ]
  },
  {
   "cell_type": "markdown",
   "metadata": {},
   "source": [
    "## Introduction\n",
    "we will presented the data from the world point of view including\n",
    "   - Percentage of the emission due to agriculture in total emission\n",
    "   - The part of emission in agriculture due to the meat production and all other animal product and the part of emission due to the vegetable source of food\n",
    "   - The same as the previous point but by country.\n",
    "    \n",
    "In the introduction we will show the evolution of these data from 1961 to 2017."
   ]
  },
  {
   "cell_type": "code",
   "execution_count": 1,
   "metadata": {},
   "outputs": [],
   "source": [
    "import pandas as pd\n",
    "import numpy as np\n",
    "import matplotlib.pyplot as plt"
   ]
  },
  {
   "cell_type": "code",
   "execution_count": 2,
   "metadata": {},
   "outputs": [],
   "source": [
    "# constants\n",
    "DATA_PATH = '../data/'\n",
    "GENERATED_DATA_PATH = '../generated/'"
   ]
  },
  {
   "cell_type": "markdown",
   "metadata": {},
   "source": [
    "### Percentage of the emission due to agriculture in total emission"
   ]
  },
  {
   "cell_type": "markdown",
   "metadata": {},
   "source": [
    "Use the Environment_Emissions_by_Sector_E_All_Data_(Normalized) for the world only to show the evolution of the percentage of agriculture emission"
   ]
  },
  {
   "cell_type": "code",
   "execution_count": null,
   "metadata": {},
   "outputs": [],
   "source": []
  },
  {
   "cell_type": "code",
   "execution_count": null,
   "metadata": {},
   "outputs": [],
   "source": []
  },
  {
   "cell_type": "markdown",
   "metadata": {},
   "source": [
    "### Part of emission for meat/vegetable\n",
    "Now we will show the evolution of the part of emission due to animal product and the part due to the production of vegetables."
   ]
  },
  {
   "cell_type": "code",
   "execution_count": 142,
   "metadata": {},
   "outputs": [],
   "source": [
    "emission_total_path = DATA_PATH+'Emissions_Agriculture_Agriculture_total_E_All_Data_(Norm).csv'\n",
    "emissions_total = pd.read_csv(emission_total_path, encoding='latin-1', engine='python')"
   ]
  },
  {
   "cell_type": "code",
   "execution_count": 143,
   "metadata": {},
   "outputs": [
    {
     "name": "stdout",
     "output_type": "stream",
     "text": [
      "(517655, 12)\n"
     ]
    },
    {
     "data": {
      "text/html": [
       "<div>\n",
       "<style scoped>\n",
       "    .dataframe tbody tr th:only-of-type {\n",
       "        vertical-align: middle;\n",
       "    }\n",
       "\n",
       "    .dataframe tbody tr th {\n",
       "        vertical-align: top;\n",
       "    }\n",
       "\n",
       "    .dataframe thead th {\n",
       "        text-align: right;\n",
       "    }\n",
       "</style>\n",
       "<table border=\"1\" class=\"dataframe\">\n",
       "  <thead>\n",
       "    <tr style=\"text-align: right;\">\n",
       "      <th></th>\n",
       "      <th>Area Code</th>\n",
       "      <th>Area</th>\n",
       "      <th>Item Code</th>\n",
       "      <th>Item</th>\n",
       "      <th>Element Code</th>\n",
       "      <th>Element</th>\n",
       "      <th>Year Code</th>\n",
       "      <th>Year</th>\n",
       "      <th>Unit</th>\n",
       "      <th>Value</th>\n",
       "      <th>Flag</th>\n",
       "      <th>Note</th>\n",
       "    </tr>\n",
       "  </thead>\n",
       "  <tbody>\n",
       "    <tr>\n",
       "      <td>0</td>\n",
       "      <td>2</td>\n",
       "      <td>Afghanistan</td>\n",
       "      <td>5058</td>\n",
       "      <td>Enteric Fermentation</td>\n",
       "      <td>7225</td>\n",
       "      <td>Emissions (CH4)</td>\n",
       "      <td>1961</td>\n",
       "      <td>1961</td>\n",
       "      <td>gigagrams</td>\n",
       "      <td>240.6831</td>\n",
       "      <td>A</td>\n",
       "      <td>NaN</td>\n",
       "    </tr>\n",
       "    <tr>\n",
       "      <td>1</td>\n",
       "      <td>2</td>\n",
       "      <td>Afghanistan</td>\n",
       "      <td>5058</td>\n",
       "      <td>Enteric Fermentation</td>\n",
       "      <td>7225</td>\n",
       "      <td>Emissions (CH4)</td>\n",
       "      <td>1962</td>\n",
       "      <td>1962</td>\n",
       "      <td>gigagrams</td>\n",
       "      <td>245.3106</td>\n",
       "      <td>A</td>\n",
       "      <td>NaN</td>\n",
       "    </tr>\n",
       "    <tr>\n",
       "      <td>2</td>\n",
       "      <td>2</td>\n",
       "      <td>Afghanistan</td>\n",
       "      <td>5058</td>\n",
       "      <td>Enteric Fermentation</td>\n",
       "      <td>7225</td>\n",
       "      <td>Emissions (CH4)</td>\n",
       "      <td>1963</td>\n",
       "      <td>1963</td>\n",
       "      <td>gigagrams</td>\n",
       "      <td>255.8285</td>\n",
       "      <td>A</td>\n",
       "      <td>NaN</td>\n",
       "    </tr>\n",
       "    <tr>\n",
       "      <td>3</td>\n",
       "      <td>2</td>\n",
       "      <td>Afghanistan</td>\n",
       "      <td>5058</td>\n",
       "      <td>Enteric Fermentation</td>\n",
       "      <td>7225</td>\n",
       "      <td>Emissions (CH4)</td>\n",
       "      <td>1964</td>\n",
       "      <td>1964</td>\n",
       "      <td>gigagrams</td>\n",
       "      <td>259.0650</td>\n",
       "      <td>A</td>\n",
       "      <td>NaN</td>\n",
       "    </tr>\n",
       "    <tr>\n",
       "      <td>4</td>\n",
       "      <td>2</td>\n",
       "      <td>Afghanistan</td>\n",
       "      <td>5058</td>\n",
       "      <td>Enteric Fermentation</td>\n",
       "      <td>7225</td>\n",
       "      <td>Emissions (CH4)</td>\n",
       "      <td>1965</td>\n",
       "      <td>1965</td>\n",
       "      <td>gigagrams</td>\n",
       "      <td>265.5980</td>\n",
       "      <td>A</td>\n",
       "      <td>NaN</td>\n",
       "    </tr>\n",
       "  </tbody>\n",
       "</table>\n",
       "</div>"
      ],
      "text/plain": [
       "   Area Code         Area  Item Code                  Item  Element Code  \\\n",
       "0          2  Afghanistan       5058  Enteric Fermentation          7225   \n",
       "1          2  Afghanistan       5058  Enteric Fermentation          7225   \n",
       "2          2  Afghanistan       5058  Enteric Fermentation          7225   \n",
       "3          2  Afghanistan       5058  Enteric Fermentation          7225   \n",
       "4          2  Afghanistan       5058  Enteric Fermentation          7225   \n",
       "\n",
       "           Element  Year Code  Year       Unit     Value Flag  Note  \n",
       "0  Emissions (CH4)       1961  1961  gigagrams  240.6831    A   NaN  \n",
       "1  Emissions (CH4)       1962  1962  gigagrams  245.3106    A   NaN  \n",
       "2  Emissions (CH4)       1963  1963  gigagrams  255.8285    A   NaN  \n",
       "3  Emissions (CH4)       1964  1964  gigagrams  259.0650    A   NaN  \n",
       "4  Emissions (CH4)       1965  1965  gigagrams  265.5980    A   NaN  "
      ]
     },
     "execution_count": 143,
     "metadata": {},
     "output_type": "execute_result"
    }
   ],
   "source": [
    "print(emissions_total.shape)\n",
    "emissions_total.head()"
   ]
  },
  {
   "cell_type": "code",
   "execution_count": 55,
   "metadata": {},
   "outputs": [
    {
     "data": {
      "text/plain": [
       "Index([], dtype='object')"
      ]
     },
     "execution_count": 55,
     "metadata": {},
     "output_type": "execute_result"
    }
   ],
   "source": [
    "# check for NaN values\n",
    "emissions_total.columns[emissions_total.isna().any()]"
   ]
  },
  {
   "cell_type": "code",
   "execution_count": 56,
   "metadata": {},
   "outputs": [
    {
     "name": "stdout",
     "output_type": "stream",
     "text": [
      "We have the following kind of emissions: ['Emissions (CO2eq)' 'Emissions (CO2eq) from CH4'\n",
      " 'Emissions (CO2eq) from N2O']\n"
     ]
    }
   ],
   "source": [
    "# What kind of emissions are there?\n",
    "print(\"We have the following kind of emissions:\",emissions_total['Element'].unique())\n",
    "#print(emissions_total['Element Code'].unique())\n",
    "\n",
    "# Units are all in Gigagrams\n",
    "# print(emissions_total['Unit'].unique())\n",
    "\n",
    "#emissions_total['Country'].unique()"
   ]
  },
  {
   "cell_type": "markdown",
   "metadata": {},
   "source": [
    "CO2eq means 'Carbon dioxide equivalent'\n",
    "https://ec.europa.eu/eurostat/statistics-explained/index.php/Glossary:Carbon_dioxide_equivalent"
   ]
  },
  {
   "cell_type": "code",
   "execution_count": 58,
   "metadata": {},
   "outputs": [
    {
     "data": {
      "text/plain": [
       "array(['Enteric Fermentation', 'Manure Management', 'Rice Cultivation',\n",
       "       'Synthetic Fertilizers', 'Manure applied to Soils',\n",
       "       'Manure left on Pasture', 'Crop Residues',\n",
       "       'Cultivation of Organic Soils', 'Burning - Crop residues',\n",
       "       'Burning - Savanna', 'Agriculture total', 'Agricultural Soils'],\n",
       "      dtype=object)"
      ]
     },
     "execution_count": 58,
     "metadata": {},
     "output_type": "execute_result"
    }
   ],
   "source": [
    "emissions_total.Item.unique()"
   ]
  },
  {
   "cell_type": "code",
   "execution_count": 130,
   "metadata": {},
   "outputs": [],
   "source": [
    "vegetal_emissions = ['Rice Cultivation', 'Synthetic Fertilizers', 'Manure applied to Soils', 'Crop Residues',\n",
    "       'Cultivation of Organic Soils', 'Burning - Crop residues']\n",
    "animal_emissions = ['Enteric Fermentation', 'Manure Management', 'Manure left on Pasture']"
   ]
  },
  {
   "cell_type": "code",
   "execution_count": 7,
   "metadata": {},
   "outputs": [],
   "source": [
    "# CO2eq is the total (CH4+N20) expressed as Carbon dioxide equivalent\n",
    "\n",
    "element_code = {'CO2eq': 7231, 'N2O': 7243, 'CH4': 7244}\n",
    "columns = ['Item', 'Value']"
   ]
  },
  {
   "cell_type": "code",
   "execution_count": 131,
   "metadata": {},
   "outputs": [],
   "source": [
    "emissions_world = emissions_total[(emissions_total['Area'] == 'World')]"
   ]
  },
  {
   "cell_type": "code",
   "execution_count": 9,
   "metadata": {},
   "outputs": [],
   "source": [
    "%%capture\n",
    "\n",
    "emissions_world_CO2eq = emissions_world[emissions_world['Element Code'] == element_code['CO2eq']]\n",
    "emissions_world_CO2eq = emissions_world_CO2eq[columns].groupby(['Item']).sum().reset_index().set_index('Item')\n",
    "\n",
    "emissions_world_N2O = emissions_world[emissions_world['Element Code'] == element_code['N2O']]\n",
    "emissions_world_N2O = emissions_world_N2O[columns].groupby(['Item']).sum().reset_index().set_index('Item')\n",
    "\n",
    "emissions_world_CH4 = emissions_world[emissions_world['Element Code'] == element_code['CH4']]\n",
    "emissions_world_CH4 = emissions_world_CH4[columns].groupby(['Item']).sum().reset_index().set_index('Item')"
   ]
  },
  {
   "cell_type": "code",
   "execution_count": 10,
   "metadata": {},
   "outputs": [
    {
     "name": "stdout",
     "output_type": "stream",
     "text": [
      "                               Value\n",
      "Item                                \n",
      "Enteric Fermentation    1.007673e+08\n",
      "Manure left on Pasture  3.681827e+07\n",
      "Rice Cultivation        2.576103e+07\n",
      "Synthetic Fertilizers   2.375089e+07\n",
      "Manure Management       1.777713e+07\n"
     ]
    }
   ],
   "source": [
    "# Drop stats that are sum of the others\n",
    "emissions_world_CO2eq.drop(['Agricultural Soils', 'Agriculture total'], inplace=True)\n",
    "emissions_world_CO2eq.sort_values('Value', ascending=False, inplace=True)\n",
    "print(emissions_world_CO2eq.head())\n",
    "\n",
    "emissions_world_N2O.drop(['Agricultural Soils', 'Agriculture total'], inplace=True)\n",
    "emissions_world_N2O.sort_values('Value', ascending=False, inplace=True)\n",
    "\n",
    "emissions_world_CH4.drop('Agriculture total', inplace=True)\n",
    "emissions_world_CH4.sort_values('Value', ascending=False, inplace=True)"
   ]
  },
  {
   "cell_type": "code",
   "execution_count": 11,
   "metadata": {},
   "outputs": [
    {
     "data": {
      "text/html": [
       "<div>\n",
       "<style scoped>\n",
       "    .dataframe tbody tr th:only-of-type {\n",
       "        vertical-align: middle;\n",
       "    }\n",
       "\n",
       "    .dataframe tbody tr th {\n",
       "        vertical-align: top;\n",
       "    }\n",
       "\n",
       "    .dataframe thead th {\n",
       "        text-align: right;\n",
       "    }\n",
       "</style>\n",
       "<table border=\"1\" class=\"dataframe\">\n",
       "  <thead>\n",
       "    <tr style=\"text-align: right;\">\n",
       "      <th></th>\n",
       "      <th>Item</th>\n",
       "      <th>ValueCO2eq</th>\n",
       "      <th>ValueN20</th>\n",
       "      <th>ValueCH4</th>\n",
       "    </tr>\n",
       "  </thead>\n",
       "  <tbody>\n",
       "    <tr>\n",
       "      <td>0</td>\n",
       "      <td>Enteric Fermentation</td>\n",
       "      <td>1.007673e+08</td>\n",
       "      <td>0.000000e+00</td>\n",
       "      <td>1.007673e+08</td>\n",
       "    </tr>\n",
       "    <tr>\n",
       "      <td>1</td>\n",
       "      <td>Manure left on Pasture</td>\n",
       "      <td>3.681827e+07</td>\n",
       "      <td>3.681827e+07</td>\n",
       "      <td>0.000000e+00</td>\n",
       "    </tr>\n",
       "    <tr>\n",
       "      <td>2</td>\n",
       "      <td>Rice Cultivation</td>\n",
       "      <td>2.576103e+07</td>\n",
       "      <td>0.000000e+00</td>\n",
       "      <td>2.576103e+07</td>\n",
       "    </tr>\n",
       "    <tr>\n",
       "      <td>3</td>\n",
       "      <td>Synthetic Fertilizers</td>\n",
       "      <td>2.375089e+07</td>\n",
       "      <td>2.375089e+07</td>\n",
       "      <td>0.000000e+00</td>\n",
       "    </tr>\n",
       "    <tr>\n",
       "      <td>4</td>\n",
       "      <td>Manure Management</td>\n",
       "      <td>1.777713e+07</td>\n",
       "      <td>7.436514e+06</td>\n",
       "      <td>1.034062e+07</td>\n",
       "    </tr>\n",
       "  </tbody>\n",
       "</table>\n",
       "</div>"
      ],
      "text/plain": [
       "                     Item    ValueCO2eq      ValueN20      ValueCH4\n",
       "0    Enteric Fermentation  1.007673e+08  0.000000e+00  1.007673e+08\n",
       "1  Manure left on Pasture  3.681827e+07  3.681827e+07  0.000000e+00\n",
       "2        Rice Cultivation  2.576103e+07  0.000000e+00  2.576103e+07\n",
       "3   Synthetic Fertilizers  2.375089e+07  2.375089e+07  0.000000e+00\n",
       "4       Manure Management  1.777713e+07  7.436514e+06  1.034062e+07"
      ]
     },
     "execution_count": 11,
     "metadata": {},
     "output_type": "execute_result"
    }
   ],
   "source": [
    "# Left join\n",
    "emissions_plot = emissions_world_CO2eq.join(emissions_world_N2O, lsuffix=\"CO2eq\", rsuffix=\"N20\").join(emissions_world_CH4)\\\n",
    "                    .rename({'Value':'ValueCH4'}, axis=1).reset_index().fillna(0)\n",
    "emissions_plot.head()"
   ]
  },
  {
   "cell_type": "code",
   "execution_count": 12,
   "metadata": {},
   "outputs": [
    {
     "data": {
      "image/png": "[encoded data removed]",
      "text/plain": [
       "<Figure size 720x504 with 1 Axes>"
      ]
     },
     "metadata": {
      "needs_background": "light"
     },
     "output_type": "display_data"
    }
   ],
   "source": [
    "from matplotlib.rcsetup import cycler\n",
    "\n",
    "fig, ax = plt.subplots(figsize=(10,7))  \n",
    "\n",
    "items = emissions_plot['Item']\n",
    "margin_bottom = np.zeros(emissions_plot.shape[1]-1)\n",
    "\n",
    "ind = [\"Total\", \"N2O\", \"CH4\"]\n",
    "\n",
    "colors = plt.cm.tab10(np.linspace(0, 1, len(emissions_plot['Item'])))\n",
    "\n",
    "for num, item in enumerate(items):\n",
    "    values = list(emissions_plot.loc[num])[1:4]\n",
    "    plt.bar(ind, values, bottom=margin_bottom, color = colors[num],label=item)\n",
    "    margin_bottom += values\n",
    "plt.legend()\n",
    "plt.show()\n",
    "\n",
    "#should add the emissions from energy use"
   ]
  },
  {
   "cell_type": "markdown",
   "metadata": {},
   "source": [
    "### Emission By countries"
   ]
  },
  {
   "cell_type": "code",
   "execution_count": 144,
   "metadata": {},
   "outputs": [],
   "source": [
    "# Filter only Emissions (CO2eq)\n",
    "emissions_total = emissions_total[emissions_total.Element == 'Emissions (CO2eq)']\n",
    "# We can get rid of all codes + Unit + Element\n",
    "emissions_total = emissions_total.drop(columns=['Area Code', 'Item Code', 'Element Code', 'Year Code', 'Unit', 'Element'])"
   ]
  },
  {
   "cell_type": "code",
   "execution_count": 145,
   "metadata": {},
   "outputs": [
    {
     "name": "stdout",
     "output_type": "stream",
     "text": [
      "(144391, 6)\n"
     ]
    },
    {
     "data": {
      "text/html": [
       "<div>\n",
       "<style scoped>\n",
       "    .dataframe tbody tr th:only-of-type {\n",
       "        vertical-align: middle;\n",
       "    }\n",
       "\n",
       "    .dataframe tbody tr th {\n",
       "        vertical-align: top;\n",
       "    }\n",
       "\n",
       "    .dataframe thead th {\n",
       "        text-align: right;\n",
       "    }\n",
       "</style>\n",
       "<table border=\"1\" class=\"dataframe\">\n",
       "  <thead>\n",
       "    <tr style=\"text-align: right;\">\n",
       "      <th></th>\n",
       "      <th>Area</th>\n",
       "      <th>Item</th>\n",
       "      <th>Year</th>\n",
       "      <th>Value</th>\n",
       "      <th>Flag</th>\n",
       "      <th>Note</th>\n",
       "    </tr>\n",
       "  </thead>\n",
       "  <tbody>\n",
       "    <tr>\n",
       "      <td>59</td>\n",
       "      <td>Afghanistan</td>\n",
       "      <td>Enteric Fermentation</td>\n",
       "      <td>1961</td>\n",
       "      <td>5054.3459</td>\n",
       "      <td>A</td>\n",
       "      <td>NaN</td>\n",
       "    </tr>\n",
       "    <tr>\n",
       "      <td>60</td>\n",
       "      <td>Afghanistan</td>\n",
       "      <td>Enteric Fermentation</td>\n",
       "      <td>1962</td>\n",
       "      <td>5151.5228</td>\n",
       "      <td>A</td>\n",
       "      <td>NaN</td>\n",
       "    </tr>\n",
       "    <tr>\n",
       "      <td>61</td>\n",
       "      <td>Afghanistan</td>\n",
       "      <td>Enteric Fermentation</td>\n",
       "      <td>1963</td>\n",
       "      <td>5372.3989</td>\n",
       "      <td>A</td>\n",
       "      <td>NaN</td>\n",
       "    </tr>\n",
       "    <tr>\n",
       "      <td>62</td>\n",
       "      <td>Afghanistan</td>\n",
       "      <td>Enteric Fermentation</td>\n",
       "      <td>1964</td>\n",
       "      <td>5440.3650</td>\n",
       "      <td>A</td>\n",
       "      <td>NaN</td>\n",
       "    </tr>\n",
       "    <tr>\n",
       "      <td>63</td>\n",
       "      <td>Afghanistan</td>\n",
       "      <td>Enteric Fermentation</td>\n",
       "      <td>1965</td>\n",
       "      <td>5577.5580</td>\n",
       "      <td>A</td>\n",
       "      <td>NaN</td>\n",
       "    </tr>\n",
       "  </tbody>\n",
       "</table>\n",
       "</div>"
      ],
      "text/plain": [
       "           Area                  Item  Year      Value Flag  Note\n",
       "59  Afghanistan  Enteric Fermentation  1961  5054.3459    A   NaN\n",
       "60  Afghanistan  Enteric Fermentation  1962  5151.5228    A   NaN\n",
       "61  Afghanistan  Enteric Fermentation  1963  5372.3989    A   NaN\n",
       "62  Afghanistan  Enteric Fermentation  1964  5440.3650    A   NaN\n",
       "63  Afghanistan  Enteric Fermentation  1965  5577.5580    A   NaN"
      ]
     },
     "execution_count": 145,
     "metadata": {},
     "output_type": "execute_result"
    }
   ],
   "source": [
    "# Filter only Emmisions (CO2eq)\n",
    "print(emissions_total.shape)\n",
    "emissions_total.head()"
   ]
  },
  {
   "cell_type": "code",
   "execution_count": 146,
   "metadata": {},
   "outputs": [
    {
     "data": {
      "text/plain": [
       "A     127183\n",
       "Fc      9807\n",
       "EA      7401\n",
       "Name: Flag, dtype: int64"
      ]
     },
     "execution_count": 146,
     "metadata": {},
     "output_type": "execute_result"
    }
   ],
   "source": [
    "# Flags\n",
    "emissions_total.Flag.value_counts()"
   ]
  },
  {
   "cell_type": "markdown",
   "metadata": {},
   "source": [
    "The flags represent : \n",
    "* `A` : Aggregate, may include official, semi-official, estimated or calculated data\n",
    "* `Fc` : Calculated data\n",
    "* `EA` : Emissions computed using data from Fertilizer Archive dataset\n",
    "\n",
    "All these flag are acceptable we can then drop this column"
   ]
  },
  {
   "cell_type": "code",
   "execution_count": 147,
   "metadata": {},
   "outputs": [],
   "source": [
    "emissions_total = emissions_total.drop(columns='Flag')"
   ]
  },
  {
   "cell_type": "code",
   "execution_count": 148,
   "metadata": {},
   "outputs": [],
   "source": [
    "# Remove aggregation item\n",
    "agg_item = ['Agriculture total', 'Agricultural Soils']\n",
    "emissions_total = emissions_total.drop(emissions_total[emissions_total['Item'].isin(agg_item)].index)\n",
    "\n",
    "# Remove aggregation countries\n",
    "agg_country = ['World', 'Africa',\n",
    "       'Eastern Africa', 'Middle Africa', 'Northern Africa',\n",
    "       'Southern Africa', 'Western Africa', 'Americas',\n",
    "       'Northern America', 'Central America', 'Caribbean',\n",
    "       'South America', 'Asia', 'Central Asia', 'Eastern Asia',\n",
    "       'Southern Asia', 'South-Eastern Asia', 'Western Asia', 'Europe',\n",
    "       'Eastern Europe', 'Northern Europe', 'Southern Europe',\n",
    "       'Western Europe', 'Oceania', 'Australia & New Zealand',\n",
    "       'Melanesia', 'Micronesia', 'Polynesia', 'European Union',\n",
    "       'Least Developed Countries', 'Land Locked Developing Countries',\n",
    "       'Small Island Developing States',\n",
    "       'Low Income Food Deficit Countries',\n",
    "       'Net Food Importing Developing Countries', 'Annex I countries',\n",
    "       'Non-Annex I countries', 'OECD']\n",
    "emissions_total = emissions_total.drop(emissions_total[emissions_total['Area'].isin(agg_country)].index)\n",
    "emissions_total = emissions_total.rename(columns={'Area':'Country'})"
   ]
  },
  {
   "cell_type": "code",
   "execution_count": 149,
   "metadata": {},
   "outputs": [
    {
     "data": {
      "text/html": [
       "<div>\n",
       "<style scoped>\n",
       "    .dataframe tbody tr th:only-of-type {\n",
       "        vertical-align: middle;\n",
       "    }\n",
       "\n",
       "    .dataframe tbody tr th {\n",
       "        vertical-align: top;\n",
       "    }\n",
       "\n",
       "    .dataframe thead th {\n",
       "        text-align: right;\n",
       "    }\n",
       "</style>\n",
       "<table border=\"1\" class=\"dataframe\">\n",
       "  <thead>\n",
       "    <tr style=\"text-align: right;\">\n",
       "      <th></th>\n",
       "      <th>Item</th>\n",
       "      <th>Burning - Crop residues</th>\n",
       "      <th>Burning - Savanna</th>\n",
       "      <th>Crop Residues</th>\n",
       "      <th>Cultivation of Organic Soils</th>\n",
       "      <th>Enteric Fermentation</th>\n",
       "      <th>Manure Management</th>\n",
       "      <th>Manure applied to Soils</th>\n",
       "      <th>Manure left on Pasture</th>\n",
       "      <th>Rice Cultivation</th>\n",
       "      <th>Synthetic Fertilizers</th>\n",
       "    </tr>\n",
       "    <tr>\n",
       "      <th>Country</th>\n",
       "      <th>Year</th>\n",
       "      <th></th>\n",
       "      <th></th>\n",
       "      <th></th>\n",
       "      <th></th>\n",
       "      <th></th>\n",
       "      <th></th>\n",
       "      <th></th>\n",
       "      <th></th>\n",
       "      <th></th>\n",
       "      <th></th>\n",
       "    </tr>\n",
       "  </thead>\n",
       "  <tbody>\n",
       "    <tr>\n",
       "      <td rowspan=\"5\" valign=\"top\">Afghanistan</td>\n",
       "      <td>1961</td>\n",
       "      <td>118.2797</td>\n",
       "      <td>NaN</td>\n",
       "      <td>332.7512</td>\n",
       "      <td>NaN</td>\n",
       "      <td>5054.3459</td>\n",
       "      <td>367.8310</td>\n",
       "      <td>390.4421</td>\n",
       "      <td>2368.1734</td>\n",
       "      <td>617.4</td>\n",
       "      <td>6.4546</td>\n",
       "    </tr>\n",
       "    <tr>\n",
       "      <td>1962</td>\n",
       "      <td>121.7607</td>\n",
       "      <td>NaN</td>\n",
       "      <td>335.2904</td>\n",
       "      <td>NaN</td>\n",
       "      <td>5151.5228</td>\n",
       "      <td>376.4362</td>\n",
       "      <td>396.0043</td>\n",
       "      <td>2326.1498</td>\n",
       "      <td>617.4</td>\n",
       "      <td>6.4546</td>\n",
       "    </tr>\n",
       "    <tr>\n",
       "      <td>1963</td>\n",
       "      <td>121.7607</td>\n",
       "      <td>NaN</td>\n",
       "      <td>312.7451</td>\n",
       "      <td>NaN</td>\n",
       "      <td>5372.3989</td>\n",
       "      <td>392.5811</td>\n",
       "      <td>406.7487</td>\n",
       "      <td>2390.2709</td>\n",
       "      <td>617.4</td>\n",
       "      <td>6.4546</td>\n",
       "    </tr>\n",
       "    <tr>\n",
       "      <td>1964</td>\n",
       "      <td>122.7093</td>\n",
       "      <td>NaN</td>\n",
       "      <td>337.2814</td>\n",
       "      <td>NaN</td>\n",
       "      <td>5440.3650</td>\n",
       "      <td>399.8526</td>\n",
       "      <td>415.1598</td>\n",
       "      <td>2422.8848</td>\n",
       "      <td>646.8</td>\n",
       "      <td>6.4546</td>\n",
       "    </tr>\n",
       "    <tr>\n",
       "      <td>1965</td>\n",
       "      <td>122.3902</td>\n",
       "      <td>NaN</td>\n",
       "      <td>340.9305</td>\n",
       "      <td>NaN</td>\n",
       "      <td>5577.5580</td>\n",
       "      <td>413.3914</td>\n",
       "      <td>427.7566</td>\n",
       "      <td>2482.0286</td>\n",
       "      <td>646.8</td>\n",
       "      <td>6.4546</td>\n",
       "    </tr>\n",
       "  </tbody>\n",
       "</table>\n",
       "</div>"
      ],
      "text/plain": [
       "Item              Burning - Crop residues  Burning - Savanna  Crop Residues  \\\n",
       "Country     Year                                                              \n",
       "Afghanistan 1961                 118.2797                NaN       332.7512   \n",
       "            1962                 121.7607                NaN       335.2904   \n",
       "            1963                 121.7607                NaN       312.7451   \n",
       "            1964                 122.7093                NaN       337.2814   \n",
       "            1965                 122.3902                NaN       340.9305   \n",
       "\n",
       "Item              Cultivation of Organic Soils  Enteric Fermentation  \\\n",
       "Country     Year                                                       \n",
       "Afghanistan 1961                           NaN             5054.3459   \n",
       "            1962                           NaN             5151.5228   \n",
       "            1963                           NaN             5372.3989   \n",
       "            1964                           NaN             5440.3650   \n",
       "            1965                           NaN             5577.5580   \n",
       "\n",
       "Item              Manure Management  Manure applied to Soils  \\\n",
       "Country     Year                                               \n",
       "Afghanistan 1961           367.8310                 390.4421   \n",
       "            1962           376.4362                 396.0043   \n",
       "            1963           392.5811                 406.7487   \n",
       "            1964           399.8526                 415.1598   \n",
       "            1965           413.3914                 427.7566   \n",
       "\n",
       "Item              Manure left on Pasture  Rice Cultivation  \\\n",
       "Country     Year                                             \n",
       "Afghanistan 1961               2368.1734             617.4   \n",
       "            1962               2326.1498             617.4   \n",
       "            1963               2390.2709             617.4   \n",
       "            1964               2422.8848             646.8   \n",
       "            1965               2482.0286             646.8   \n",
       "\n",
       "Item              Synthetic Fertilizers  \n",
       "Country     Year                         \n",
       "Afghanistan 1961                 6.4546  \n",
       "            1962                 6.4546  \n",
       "            1963                 6.4546  \n",
       "            1964                 6.4546  \n",
       "            1965                 6.4546  "
      ]
     },
     "execution_count": 149,
     "metadata": {},
     "output_type": "execute_result"
    }
   ],
   "source": [
    "# Pivot the table to make element columns\n",
    "emissions_total = pd.pivot_table(emissions_total, values='Value', index=['Country', 'Year'], columns='Item')\n",
    "emissions_total.head()"
   ]
  },
  {
   "cell_type": "code",
   "execution_count": 150,
   "metadata": {},
   "outputs": [],
   "source": [
    "# Here we assume that if there is no data the country just do not produce any emission of that type\n",
    "emissions_total.fillna(0, inplace=True)"
   ]
  },
  {
   "cell_type": "markdown",
   "metadata": {},
   "source": [
    "We will now divide the emissions between animal and vegetal emissions"
   ]
  },
  {
   "cell_type": "code",
   "execution_count": 151,
   "metadata": {},
   "outputs": [
    {
     "data": {
      "text/html": [
       "<div>\n",
       "<style scoped>\n",
       "    .dataframe tbody tr th:only-of-type {\n",
       "        vertical-align: middle;\n",
       "    }\n",
       "\n",
       "    .dataframe tbody tr th {\n",
       "        vertical-align: top;\n",
       "    }\n",
       "\n",
       "    .dataframe thead th {\n",
       "        text-align: right;\n",
       "    }\n",
       "</style>\n",
       "<table border=\"1\" class=\"dataframe\">\n",
       "  <thead>\n",
       "    <tr style=\"text-align: right;\">\n",
       "      <th></th>\n",
       "      <th>Item</th>\n",
       "      <th>Animal</th>\n",
       "      <th>Vegetal</th>\n",
       "    </tr>\n",
       "    <tr>\n",
       "      <th>Country</th>\n",
       "      <th>Year</th>\n",
       "      <th></th>\n",
       "      <th></th>\n",
       "    </tr>\n",
       "  </thead>\n",
       "  <tbody>\n",
       "    <tr>\n",
       "      <td rowspan=\"5\" valign=\"top\">Afghanistan</td>\n",
       "      <td>1961</td>\n",
       "      <td>7790.3503</td>\n",
       "      <td>1465.3276</td>\n",
       "    </tr>\n",
       "    <tr>\n",
       "      <td>1962</td>\n",
       "      <td>7854.1088</td>\n",
       "      <td>1476.9100</td>\n",
       "    </tr>\n",
       "    <tr>\n",
       "      <td>1963</td>\n",
       "      <td>8155.2509</td>\n",
       "      <td>1465.1091</td>\n",
       "    </tr>\n",
       "    <tr>\n",
       "      <td>1964</td>\n",
       "      <td>8263.1024</td>\n",
       "      <td>1528.4051</td>\n",
       "    </tr>\n",
       "    <tr>\n",
       "      <td>1965</td>\n",
       "      <td>8472.9780</td>\n",
       "      <td>1544.3319</td>\n",
       "    </tr>\n",
       "  </tbody>\n",
       "</table>\n",
       "</div>"
      ],
      "text/plain": [
       "Item                 Animal    Vegetal\n",
       "Country     Year                      \n",
       "Afghanistan 1961  7790.3503  1465.3276\n",
       "            1962  7854.1088  1476.9100\n",
       "            1963  8155.2509  1465.1091\n",
       "            1964  8263.1024  1528.4051\n",
       "            1965  8472.9780  1544.3319"
      ]
     },
     "execution_count": 151,
     "metadata": {},
     "output_type": "execute_result"
    }
   ],
   "source": [
    "emissions_total['Animal'] = emissions_total[animal_emissions].sum(axis=1)\n",
    "emissions_total['Vegetal'] = emissions_total[vegetal_emissions].sum(axis=1)\n",
    "emissions_total = emissions_total[['Animal', 'Vegetal']]\n",
    "emissions_total.head()"
   ]
  },
  {
   "cell_type": "code",
   "execution_count": 152,
   "metadata": {},
   "outputs": [
    {
     "data": {
      "text/html": [
       "<div>\n",
       "<style scoped>\n",
       "    .dataframe tbody tr th:only-of-type {\n",
       "        vertical-align: middle;\n",
       "    }\n",
       "\n",
       "    .dataframe tbody tr th {\n",
       "        vertical-align: top;\n",
       "    }\n",
       "\n",
       "    .dataframe thead th {\n",
       "        text-align: right;\n",
       "    }\n",
       "</style>\n",
       "<table border=\"1\" class=\"dataframe\">\n",
       "  <thead>\n",
       "    <tr style=\"text-align: right;\">\n",
       "      <th></th>\n",
       "      <th>Item</th>\n",
       "      <th>Animal</th>\n",
       "      <th>Vegetal</th>\n",
       "      <th>Sum</th>\n",
       "    </tr>\n",
       "    <tr>\n",
       "      <th>Country</th>\n",
       "      <th>Year</th>\n",
       "      <th></th>\n",
       "      <th></th>\n",
       "      <th></th>\n",
       "    </tr>\n",
       "  </thead>\n",
       "  <tbody>\n",
       "    <tr>\n",
       "      <td rowspan=\"5\" valign=\"top\">Afghanistan</td>\n",
       "      <td>1961</td>\n",
       "      <td>7790.3503</td>\n",
       "      <td>1465.3276</td>\n",
       "      <td>9255.6779</td>\n",
       "    </tr>\n",
       "    <tr>\n",
       "      <td>1962</td>\n",
       "      <td>7854.1088</td>\n",
       "      <td>1476.9100</td>\n",
       "      <td>9331.0188</td>\n",
       "    </tr>\n",
       "    <tr>\n",
       "      <td>1963</td>\n",
       "      <td>8155.2509</td>\n",
       "      <td>1465.1091</td>\n",
       "      <td>9620.3600</td>\n",
       "    </tr>\n",
       "    <tr>\n",
       "      <td>1964</td>\n",
       "      <td>8263.1024</td>\n",
       "      <td>1528.4051</td>\n",
       "      <td>9791.5075</td>\n",
       "    </tr>\n",
       "    <tr>\n",
       "      <td>1965</td>\n",
       "      <td>8472.9780</td>\n",
       "      <td>1544.3319</td>\n",
       "      <td>10017.3099</td>\n",
       "    </tr>\n",
       "  </tbody>\n",
       "</table>\n",
       "</div>"
      ],
      "text/plain": [
       "Item                 Animal    Vegetal         Sum\n",
       "Country     Year                                  \n",
       "Afghanistan 1961  7790.3503  1465.3276   9255.6779\n",
       "            1962  7854.1088  1476.9100   9331.0188\n",
       "            1963  8155.2509  1465.1091   9620.3600\n",
       "            1964  8263.1024  1528.4051   9791.5075\n",
       "            1965  8472.9780  1544.3319  10017.3099"
      ]
     },
     "execution_count": 152,
     "metadata": {},
     "output_type": "execute_result"
    }
   ],
   "source": [
    "# Create a new column sum\n",
    "emissions_total['Sum'] = emissions_total.sum(axis=1)\n",
    "emissions_total.head()"
   ]
  },
  {
   "cell_type": "code",
   "execution_count": 153,
   "metadata": {},
   "outputs": [
    {
     "data": {
      "text/html": [
       "<div>\n",
       "<style scoped>\n",
       "    .dataframe tbody tr th:only-of-type {\n",
       "        vertical-align: middle;\n",
       "    }\n",
       "\n",
       "    .dataframe tbody tr th {\n",
       "        vertical-align: top;\n",
       "    }\n",
       "\n",
       "    .dataframe thead th {\n",
       "        text-align: right;\n",
       "    }\n",
       "</style>\n",
       "<table border=\"1\" class=\"dataframe\">\n",
       "  <thead>\n",
       "    <tr style=\"text-align: right;\">\n",
       "      <th></th>\n",
       "      <th></th>\n",
       "      <th>% Animal</th>\n",
       "      <th>% Vegetal</th>\n",
       "      <th>% Sum</th>\n",
       "    </tr>\n",
       "    <tr>\n",
       "      <th>Country</th>\n",
       "      <th>Year</th>\n",
       "      <th></th>\n",
       "      <th></th>\n",
       "      <th></th>\n",
       "    </tr>\n",
       "  </thead>\n",
       "  <tbody>\n",
       "    <tr>\n",
       "      <td rowspan=\"5\" valign=\"top\">Afghanistan</td>\n",
       "      <td>1961</td>\n",
       "      <td>84.168338</td>\n",
       "      <td>15.831662</td>\n",
       "      <td>100.0</td>\n",
       "    </tr>\n",
       "    <tr>\n",
       "      <td>1962</td>\n",
       "      <td>84.172039</td>\n",
       "      <td>15.827961</td>\n",
       "      <td>100.0</td>\n",
       "    </tr>\n",
       "    <tr>\n",
       "      <td>1963</td>\n",
       "      <td>84.770746</td>\n",
       "      <td>15.229254</td>\n",
       "      <td>100.0</td>\n",
       "    </tr>\n",
       "    <tr>\n",
       "      <td>1964</td>\n",
       "      <td>84.390503</td>\n",
       "      <td>15.609497</td>\n",
       "      <td>100.0</td>\n",
       "    </tr>\n",
       "    <tr>\n",
       "      <td>1965</td>\n",
       "      <td>84.583367</td>\n",
       "      <td>15.416633</td>\n",
       "      <td>100.0</td>\n",
       "    </tr>\n",
       "  </tbody>\n",
       "</table>\n",
       "</div>"
      ],
      "text/plain": [
       "                   % Animal  % Vegetal  % Sum\n",
       "Country     Year                             \n",
       "Afghanistan 1961  84.168338  15.831662  100.0\n",
       "            1962  84.172039  15.827961  100.0\n",
       "            1963  84.770746  15.229254  100.0\n",
       "            1964  84.390503  15.609497  100.0\n",
       "            1965  84.583367  15.416633  100.0"
      ]
     },
     "execution_count": 153,
     "metadata": {},
     "output_type": "execute_result"
    }
   ],
   "source": [
    "# create a new dataframe with relative numbers\n",
    "relative_emissions_total = pd.DataFrame()\n",
    "for col in emissions_total.columns:\n",
    "    new_col = '% '+col\n",
    "    relative_emissions_total[new_col] = emissions_total[col]/emissions_total['Sum'] * 100\n",
    "    \n",
    "relative_emissions_total.head()"
   ]
  },
  {
   "cell_type": "code",
   "execution_count": 154,
   "metadata": {},
   "outputs": [],
   "source": [
    "# Save the datasets\n",
    "emissions_total.to_csv(GENERATED_DATA_PATH+'emissions_total.csv')\n",
    "relative_emissions_total.to_csv(GENERATED_DATA_PATH+'relative_emissions_total.csv')"
   ]
  },
  {
   "cell_type": "markdown",
   "metadata": {},
   "source": [
    "## Belgium vs Switzerland\n",
    "Then our main analysis will focus on comparing emission from Belgium and Switzerland for vegetable products and meat products.\n",
    "\n",
    "The data presented in the introduction do not take into account the importation/exportation of the country.\n",
    "We will use the `detailed trade matrix` data set to adapt these emission by adding emmission due to the production of imported procuct and removing emission for exportation product.\n",
    "\n",
    "We will then compare these new data between belgium and Switzerland to figure out which country is responsible for the most emission."
   ]
  },
  {
   "cell_type": "markdown",
   "metadata": {},
   "source": [
    "First because the trade data set is huge we will only select rows concerning Belgium and then export the dataset to pandas to create a new csv file containing the rows we want."
   ]
  },
  {
   "cell_type": "code",
   "execution_count": 8,
   "metadata": {},
   "outputs": [],
   "source": [
    "import pyspark\n",
    "import pyspark.sql\n",
    "from pyspark.sql import *\n",
    "from pyspark.sql.functions import *\n",
    "\n",
    "conf = pyspark.SparkConf().setMaster(\"local[*]\").setAll([\n",
    "                                   ('spark.executor.memory', '12g'),  # find\n",
    "                                   ('spark.driver.memory','4g'), # your\n",
    "                                   ('spark.driver.maxResultSize', '2G') # setup\n",
    "                                  ])\n",
    "# create the session\n",
    "spark = SparkSession.builder.config(conf=conf).getOrCreate()\n",
    "\n",
    "# create the context\n",
    "sc = spark.sparkContext\n",
    "\n",
    "# FIX for Spark 2.x\n",
    "locale = sc._jvm.java.util.Locale\n",
    "locale.setDefault(locale.forLanguageTag(\"en-US\"))"
   ]
  },
  {
   "cell_type": "code",
   "execution_count": 9,
   "metadata": {},
   "outputs": [],
   "source": [
    "trades = spark.read.csv(DATA_PATH+'Trade_DetailedTradeMatrix_E_All_Data_(Normalized).csv', header =True)"
   ]
  },
  {
   "cell_type": "code",
   "execution_count": 10,
   "metadata": {},
   "outputs": [
    {
     "name": "stdout",
     "output_type": "stream",
     "text": [
      "root\n",
      " |-- Reporter Country Code: string (nullable = true)\n",
      " |-- Reporter Countries: string (nullable = true)\n",
      " |-- Partner Country Code: string (nullable = true)\n",
      " |-- Partner Countries: string (nullable = true)\n",
      " |-- Item Code: string (nullable = true)\n",
      " |-- Item: string (nullable = true)\n",
      " |-- Element Code: string (nullable = true)\n",
      " |-- Element: string (nullable = true)\n",
      " |-- Year Code: string (nullable = true)\n",
      " |-- Year: string (nullable = true)\n",
      " |-- Unit: string (nullable = true)\n",
      " |-- Value: string (nullable = true)\n",
      " |-- Flag: string (nullable = true)\n",
      "\n"
     ]
    }
   ],
   "source": [
    "trades.printSchema()"
   ]
  },
  {
   "cell_type": "code",
   "execution_count": 11,
   "metadata": {},
   "outputs": [],
   "source": [
    "trades = trades.withColumnRenamed('Reporter Countries', 'Countries')"
   ]
  },
  {
   "cell_type": "markdown",
   "metadata": {},
   "source": [
    "### Belgium"
   ]
  },
  {
   "cell_type": "code",
   "execution_count": 22,
   "metadata": {},
   "outputs": [
    {
     "name": "stdout",
     "output_type": "stream",
     "text": [
      "+---------------------+---------+--------------------+-----------------+---------+---------------+------------+---------------+---------+----+--------+--------+----+\n",
      "|Reporter Country Code|Countries|Partner Country Code|Partner Countries|Item Code|           Item|Element Code|        Element|Year Code|Year|    Unit|   Value|Flag|\n",
      "+---------------------+---------+--------------------+-----------------+---------+---------------+------------+---------------+---------+----+--------+--------+----+\n",
      "|                  255|  Belgium|                   2|      Afghanistan|      231|Almonds shelled|        5610|Import Quantity|     2015|2015|  tonnes|0.000000|null|\n",
      "|                  255|  Belgium|                   2|      Afghanistan|      231|Almonds shelled|        5610|Import Quantity|     2016|2016|  tonnes|1.000000|null|\n",
      "|                  255|  Belgium|                   2|      Afghanistan|      231|Almonds shelled|        5610|Import Quantity|     2017|2017|  tonnes|1.000000|null|\n",
      "|                  255|  Belgium|                   2|      Afghanistan|      231|Almonds shelled|        5622|   Import Value|     2015|2015|1000 US$|0.000000|null|\n",
      "|                  255|  Belgium|                   2|      Afghanistan|      231|Almonds shelled|        5622|   Import Value|     2016|2016|1000 US$|4.000000|null|\n",
      "+---------------------+---------+--------------------+-----------------+---------+---------------+------------+---------------+---------+----+--------+--------+----+\n",
      "only showing top 5 rows\n",
      "\n"
     ]
    }
   ],
   "source": [
    "trades.registerTempTable(\"Trades\")\n",
    "\n",
    "query = \"\"\"\n",
    "SELECT *\n",
    "FROM Trades\n",
    "WHERE Countries = 'Belgium'\n",
    "\"\"\"\n",
    "\n",
    "belgium_trade = spark.sql(query)\n",
    "belgium_trade.show(5)"
   ]
  },
  {
   "cell_type": "code",
   "execution_count": 23,
   "metadata": {},
   "outputs": [],
   "source": [
    "belgium_trade_df = belgium_trade.toPandas()"
   ]
  },
  {
   "cell_type": "code",
   "execution_count": 24,
   "metadata": {},
   "outputs": [],
   "source": [
    "belgium_trade_df.to_csv(GENERATED_DATA_PATH+'trade_belgium.csv')"
   ]
  },
  {
   "cell_type": "markdown",
   "metadata": {},
   "source": [
    "From now we can begin with this cell."
   ]
  },
  {
   "cell_type": "code",
   "execution_count": 3,
   "metadata": {},
   "outputs": [],
   "source": [
    "belgium_trade_df = pd.read_csv(GENERATED_DATA_PATH+'trade_belgium.csv', index_col=0)"
   ]
  },
  {
   "cell_type": "code",
   "execution_count": 4,
   "metadata": {},
   "outputs": [
    {
     "data": {
      "text/html": [
       "<div>\n",
       "<style scoped>\n",
       "    .dataframe tbody tr th:only-of-type {\n",
       "        vertical-align: middle;\n",
       "    }\n",
       "\n",
       "    .dataframe tbody tr th {\n",
       "        vertical-align: top;\n",
       "    }\n",
       "\n",
       "    .dataframe thead th {\n",
       "        text-align: right;\n",
       "    }\n",
       "</style>\n",
       "<table border=\"1\" class=\"dataframe\">\n",
       "  <thead>\n",
       "    <tr style=\"text-align: right;\">\n",
       "      <th></th>\n",
       "      <th>Reporter Country Code</th>\n",
       "      <th>Countries</th>\n",
       "      <th>Partner Country Code</th>\n",
       "      <th>Partner Countries</th>\n",
       "      <th>Item Code</th>\n",
       "      <th>Item</th>\n",
       "      <th>Element Code</th>\n",
       "      <th>Element</th>\n",
       "      <th>Year Code</th>\n",
       "      <th>Year</th>\n",
       "      <th>Unit</th>\n",
       "      <th>Value</th>\n",
       "      <th>Flag</th>\n",
       "    </tr>\n",
       "  </thead>\n",
       "  <tbody>\n",
       "    <tr>\n",
       "      <td>0</td>\n",
       "      <td>255</td>\n",
       "      <td>Belgium</td>\n",
       "      <td>2</td>\n",
       "      <td>Afghanistan</td>\n",
       "      <td>231</td>\n",
       "      <td>Almonds shelled</td>\n",
       "      <td>5610</td>\n",
       "      <td>Import Quantity</td>\n",
       "      <td>2015</td>\n",
       "      <td>2015</td>\n",
       "      <td>tonnes</td>\n",
       "      <td>0.0</td>\n",
       "      <td>NaN</td>\n",
       "    </tr>\n",
       "    <tr>\n",
       "      <td>1</td>\n",
       "      <td>255</td>\n",
       "      <td>Belgium</td>\n",
       "      <td>2</td>\n",
       "      <td>Afghanistan</td>\n",
       "      <td>231</td>\n",
       "      <td>Almonds shelled</td>\n",
       "      <td>5610</td>\n",
       "      <td>Import Quantity</td>\n",
       "      <td>2016</td>\n",
       "      <td>2016</td>\n",
       "      <td>tonnes</td>\n",
       "      <td>1.0</td>\n",
       "      <td>NaN</td>\n",
       "    </tr>\n",
       "    <tr>\n",
       "      <td>2</td>\n",
       "      <td>255</td>\n",
       "      <td>Belgium</td>\n",
       "      <td>2</td>\n",
       "      <td>Afghanistan</td>\n",
       "      <td>231</td>\n",
       "      <td>Almonds shelled</td>\n",
       "      <td>5610</td>\n",
       "      <td>Import Quantity</td>\n",
       "      <td>2017</td>\n",
       "      <td>2017</td>\n",
       "      <td>tonnes</td>\n",
       "      <td>1.0</td>\n",
       "      <td>NaN</td>\n",
       "    </tr>\n",
       "    <tr>\n",
       "      <td>3</td>\n",
       "      <td>255</td>\n",
       "      <td>Belgium</td>\n",
       "      <td>2</td>\n",
       "      <td>Afghanistan</td>\n",
       "      <td>231</td>\n",
       "      <td>Almonds shelled</td>\n",
       "      <td>5622</td>\n",
       "      <td>Import Value</td>\n",
       "      <td>2015</td>\n",
       "      <td>2015</td>\n",
       "      <td>1000 US$</td>\n",
       "      <td>0.0</td>\n",
       "      <td>NaN</td>\n",
       "    </tr>\n",
       "    <tr>\n",
       "      <td>4</td>\n",
       "      <td>255</td>\n",
       "      <td>Belgium</td>\n",
       "      <td>2</td>\n",
       "      <td>Afghanistan</td>\n",
       "      <td>231</td>\n",
       "      <td>Almonds shelled</td>\n",
       "      <td>5622</td>\n",
       "      <td>Import Value</td>\n",
       "      <td>2016</td>\n",
       "      <td>2016</td>\n",
       "      <td>1000 US$</td>\n",
       "      <td>4.0</td>\n",
       "      <td>NaN</td>\n",
       "    </tr>\n",
       "  </tbody>\n",
       "</table>\n",
       "</div>"
      ],
      "text/plain": [
       "   Reporter Country Code Countries  Partner Country Code Partner Countries  \\\n",
       "0                    255   Belgium                     2       Afghanistan   \n",
       "1                    255   Belgium                     2       Afghanistan   \n",
       "2                    255   Belgium                     2       Afghanistan   \n",
       "3                    255   Belgium                     2       Afghanistan   \n",
       "4                    255   Belgium                     2       Afghanistan   \n",
       "\n",
       "   Item Code             Item  Element Code          Element  Year Code  Year  \\\n",
       "0        231  Almonds shelled          5610  Import Quantity       2015  2015   \n",
       "1        231  Almonds shelled          5610  Import Quantity       2016  2016   \n",
       "2        231  Almonds shelled          5610  Import Quantity       2017  2017   \n",
       "3        231  Almonds shelled          5622     Import Value       2015  2015   \n",
       "4        231  Almonds shelled          5622     Import Value       2016  2016   \n",
       "\n",
       "       Unit  Value Flag  \n",
       "0    tonnes    0.0  NaN  \n",
       "1    tonnes    1.0  NaN  \n",
       "2    tonnes    1.0  NaN  \n",
       "3  1000 US$    0.0  NaN  \n",
       "4  1000 US$    4.0  NaN  "
      ]
     },
     "execution_count": 4,
     "metadata": {},
     "output_type": "execute_result"
    }
   ],
   "source": [
    "belgium_trade_df.head()"
   ]
  },
  {
   "cell_type": "markdown",
   "metadata": {},
   "source": [
    "Get rid of useless columns and rename `Partner Countries`"
   ]
  },
  {
   "cell_type": "code",
   "execution_count": 5,
   "metadata": {},
   "outputs": [],
   "source": [
    "belgium_trade_df = belgium_trade_df.drop(columns=['Reporter Country Code', 'Countries', 'Partner Country Code', 'Item Code', 'Element Code', 'Year Code', 'Unit', 'Flag'])\n",
    "belgium_trade_df = belgium_trade_df.rename(columns={'Partner Countries': 'Country'})"
   ]
  },
  {
   "cell_type": "code",
   "execution_count": 6,
   "metadata": {},
   "outputs": [
    {
     "data": {
      "text/html": [
       "<div>\n",
       "<style scoped>\n",
       "    .dataframe tbody tr th:only-of-type {\n",
       "        vertical-align: middle;\n",
       "    }\n",
       "\n",
       "    .dataframe tbody tr th {\n",
       "        vertical-align: top;\n",
       "    }\n",
       "\n",
       "    .dataframe thead th {\n",
       "        text-align: right;\n",
       "    }\n",
       "</style>\n",
       "<table border=\"1\" class=\"dataframe\">\n",
       "  <thead>\n",
       "    <tr style=\"text-align: right;\">\n",
       "      <th></th>\n",
       "      <th>Country</th>\n",
       "      <th>Item</th>\n",
       "      <th>Element</th>\n",
       "      <th>Year</th>\n",
       "      <th>Value</th>\n",
       "    </tr>\n",
       "  </thead>\n",
       "  <tbody>\n",
       "    <tr>\n",
       "      <td>0</td>\n",
       "      <td>Afghanistan</td>\n",
       "      <td>Almonds shelled</td>\n",
       "      <td>Import Quantity</td>\n",
       "      <td>2015</td>\n",
       "      <td>0.0</td>\n",
       "    </tr>\n",
       "    <tr>\n",
       "      <td>1</td>\n",
       "      <td>Afghanistan</td>\n",
       "      <td>Almonds shelled</td>\n",
       "      <td>Import Quantity</td>\n",
       "      <td>2016</td>\n",
       "      <td>1.0</td>\n",
       "    </tr>\n",
       "    <tr>\n",
       "      <td>2</td>\n",
       "      <td>Afghanistan</td>\n",
       "      <td>Almonds shelled</td>\n",
       "      <td>Import Quantity</td>\n",
       "      <td>2017</td>\n",
       "      <td>1.0</td>\n",
       "    </tr>\n",
       "    <tr>\n",
       "      <td>3</td>\n",
       "      <td>Afghanistan</td>\n",
       "      <td>Almonds shelled</td>\n",
       "      <td>Import Value</td>\n",
       "      <td>2015</td>\n",
       "      <td>0.0</td>\n",
       "    </tr>\n",
       "    <tr>\n",
       "      <td>4</td>\n",
       "      <td>Afghanistan</td>\n",
       "      <td>Almonds shelled</td>\n",
       "      <td>Import Value</td>\n",
       "      <td>2016</td>\n",
       "      <td>4.0</td>\n",
       "    </tr>\n",
       "  </tbody>\n",
       "</table>\n",
       "</div>"
      ],
      "text/plain": [
       "       Country             Item          Element  Year  Value\n",
       "0  Afghanistan  Almonds shelled  Import Quantity  2015    0.0\n",
       "1  Afghanistan  Almonds shelled  Import Quantity  2016    1.0\n",
       "2  Afghanistan  Almonds shelled  Import Quantity  2017    1.0\n",
       "3  Afghanistan  Almonds shelled     Import Value  2015    0.0\n",
       "4  Afghanistan  Almonds shelled     Import Value  2016    4.0"
      ]
     },
     "execution_count": 6,
     "metadata": {},
     "output_type": "execute_result"
    }
   ],
   "source": [
    "belgium_trade_df.head()"
   ]
  },
  {
   "cell_type": "markdown",
   "metadata": {},
   "source": [
    "We will separate this dataset into 2 dataset : one for the trading of meat and animal product and the other for the vegetable products. The lists of animal items and vegetable item are in the `anim_items_trade.txt` and `veg_items_trade.txt` and have been done by hand."
   ]
  },
  {
   "cell_type": "code",
   "execution_count": 7,
   "metadata": {},
   "outputs": [],
   "source": [
    "animal_item = np.loadtxt(DATA_PATH+'anim_items_trade.txt', delimiter = '  ', dtype='str')"
   ]
  },
  {
   "cell_type": "code",
   "execution_count": 11,
   "metadata": {},
   "outputs": [
    {
     "data": {
      "text/html": [
       "<div>\n",
       "<style scoped>\n",
       "    .dataframe tbody tr th:only-of-type {\n",
       "        vertical-align: middle;\n",
       "    }\n",
       "\n",
       "    .dataframe tbody tr th {\n",
       "        vertical-align: top;\n",
       "    }\n",
       "\n",
       "    .dataframe thead th {\n",
       "        text-align: right;\n",
       "    }\n",
       "</style>\n",
       "<table border=\"1\" class=\"dataframe\">\n",
       "  <thead>\n",
       "    <tr style=\"text-align: right;\">\n",
       "      <th></th>\n",
       "      <th>Country</th>\n",
       "      <th>Item</th>\n",
       "      <th>Element</th>\n",
       "      <th>Year</th>\n",
       "      <th>Value</th>\n",
       "    </tr>\n",
       "  </thead>\n",
       "  <tbody>\n",
       "    <tr>\n",
       "      <td>6</td>\n",
       "      <td>Afghanistan</td>\n",
       "      <td>Animals, live, non-food</td>\n",
       "      <td>Export Value</td>\n",
       "      <td>2008</td>\n",
       "      <td>14.0</td>\n",
       "    </tr>\n",
       "    <tr>\n",
       "      <td>7</td>\n",
       "      <td>Afghanistan</td>\n",
       "      <td>Animals, live, non-food</td>\n",
       "      <td>Export Value</td>\n",
       "      <td>2009</td>\n",
       "      <td>9.0</td>\n",
       "    </tr>\n",
       "    <tr>\n",
       "      <td>8</td>\n",
       "      <td>Afghanistan</td>\n",
       "      <td>Animals, live, non-food</td>\n",
       "      <td>Export Value</td>\n",
       "      <td>2017</td>\n",
       "      <td>34.0</td>\n",
       "    </tr>\n",
       "    <tr>\n",
       "      <td>17</td>\n",
       "      <td>Afghanistan</td>\n",
       "      <td>Bacon and ham</td>\n",
       "      <td>Export Quantity</td>\n",
       "      <td>2005</td>\n",
       "      <td>0.0</td>\n",
       "    </tr>\n",
       "    <tr>\n",
       "      <td>18</td>\n",
       "      <td>Afghanistan</td>\n",
       "      <td>Bacon and ham</td>\n",
       "      <td>Export Quantity</td>\n",
       "      <td>2015</td>\n",
       "      <td>5.0</td>\n",
       "    </tr>\n",
       "  </tbody>\n",
       "</table>\n",
       "</div>"
      ],
      "text/plain": [
       "        Country                     Item          Element  Year  Value\n",
       "6   Afghanistan  Animals, live, non-food     Export Value  2008   14.0\n",
       "7   Afghanistan  Animals, live, non-food     Export Value  2009    9.0\n",
       "8   Afghanistan  Animals, live, non-food     Export Value  2017   34.0\n",
       "17  Afghanistan            Bacon and ham  Export Quantity  2005    0.0\n",
       "18  Afghanistan            Bacon and ham  Export Quantity  2015    5.0"
      ]
     },
     "execution_count": 11,
     "metadata": {},
     "output_type": "execute_result"
    }
   ],
   "source": [
    "belgium_animal_trade = belgium_trade_df[belgium_trade_df.Item.isin(animal_item)]\n",
    "belgium_animal_trade.head()"
   ]
  },
  {
   "cell_type": "code",
   "execution_count": 12,
   "metadata": {},
   "outputs": [],
   "source": [
    "belgium_animal_trade = belgium_animal_trade.drop(columns='Item')"
   ]
  },
  {
   "cell_type": "markdown",
   "metadata": {},
   "source": [
    "Get only the export quantity and import quantity"
   ]
  },
  {
   "cell_type": "code",
   "execution_count": 13,
   "metadata": {},
   "outputs": [
    {
     "data": {
      "text/plain": [
       "array(['Export Value', 'Export Quantity', 'Import Quantity',\n",
       "       'Import Value'], dtype=object)"
      ]
     },
     "execution_count": 13,
     "metadata": {},
     "output_type": "execute_result"
    }
   ],
   "source": [
    "belgium_animal_trade.Element.unique()"
   ]
  },
  {
   "cell_type": "code",
   "execution_count": 14,
   "metadata": {},
   "outputs": [],
   "source": [
    "belgium_animal_trade = belgium_animal_trade[belgium_animal_trade.Element.isin(['Export Quantity', 'Import Quantity'])]"
   ]
  },
  {
   "cell_type": "code",
   "execution_count": 15,
   "metadata": {},
   "outputs": [
    {
     "data": {
      "text/html": [
       "<div>\n",
       "<style scoped>\n",
       "    .dataframe tbody tr th:only-of-type {\n",
       "        vertical-align: middle;\n",
       "    }\n",
       "\n",
       "    .dataframe tbody tr th {\n",
       "        vertical-align: top;\n",
       "    }\n",
       "\n",
       "    .dataframe thead th {\n",
       "        text-align: right;\n",
       "    }\n",
       "</style>\n",
       "<table border=\"1\" class=\"dataframe\">\n",
       "  <thead>\n",
       "    <tr style=\"text-align: right;\">\n",
       "      <th></th>\n",
       "      <th>Element</th>\n",
       "      <th>Export Quantity</th>\n",
       "      <th>Import Quantity</th>\n",
       "    </tr>\n",
       "    <tr>\n",
       "      <th>Country</th>\n",
       "      <th>Year</th>\n",
       "      <th></th>\n",
       "      <th></th>\n",
       "    </tr>\n",
       "  </thead>\n",
       "  <tbody>\n",
       "    <tr>\n",
       "      <td rowspan=\"5\" valign=\"top\">Afghanistan</td>\n",
       "      <td>2003</td>\n",
       "      <td>22.000000</td>\n",
       "      <td>NaN</td>\n",
       "    </tr>\n",
       "    <tr>\n",
       "      <td>2004</td>\n",
       "      <td>0.000000</td>\n",
       "      <td>NaN</td>\n",
       "    </tr>\n",
       "    <tr>\n",
       "      <td>2005</td>\n",
       "      <td>1.166667</td>\n",
       "      <td>NaN</td>\n",
       "    </tr>\n",
       "    <tr>\n",
       "      <td>2006</td>\n",
       "      <td>14.000000</td>\n",
       "      <td>NaN</td>\n",
       "    </tr>\n",
       "    <tr>\n",
       "      <td>2007</td>\n",
       "      <td>25.000000</td>\n",
       "      <td>NaN</td>\n",
       "    </tr>\n",
       "  </tbody>\n",
       "</table>\n",
       "</div>"
      ],
      "text/plain": [
       "Element           Export Quantity  Import Quantity\n",
       "Country     Year                                  \n",
       "Afghanistan 2003        22.000000              NaN\n",
       "            2004         0.000000              NaN\n",
       "            2005         1.166667              NaN\n",
       "            2006        14.000000              NaN\n",
       "            2007        25.000000              NaN"
      ]
     },
     "execution_count": 15,
     "metadata": {},
     "output_type": "execute_result"
    }
   ],
   "source": [
    "# Pivot the table\n",
    "belgium_animal_trade = pd.pivot_table(belgium_animal_trade, values='Value', index=['Country', 'Year'], columns='Element')\n",
    "belgium_animal_trade.head()"
   ]
  },
  {
   "cell_type": "code",
   "execution_count": 16,
   "metadata": {},
   "outputs": [
    {
     "data": {
      "text/plain": [
       "Element\n",
       "Export Quantity      22\n",
       "Import Quantity    1702\n",
       "dtype: int64"
      ]
     },
     "execution_count": 16,
     "metadata": {},
     "output_type": "execute_result"
    }
   ],
   "source": [
    "belgium_animal_trade.isnull().sum()[belgium_animal_trade.isnull().sum() != 0]"
   ]
  },
  {
   "cell_type": "markdown",
   "metadata": {},
   "source": [
    "We will fill the NaN value with 0 and consider the Belgium dif no import/export animal product the corresponding year from/to the country"
   ]
  },
  {
   "cell_type": "code",
   "execution_count": 17,
   "metadata": {},
   "outputs": [],
   "source": [
    "belgium_animal_trade = belgium_animal_trade.fillna(value=0)"
   ]
  },
  {
   "cell_type": "markdown",
   "metadata": {},
   "source": [
    "We will compute the net importation/exportation quantity between a country and belgium"
   ]
  },
  {
   "cell_type": "code",
   "execution_count": 18,
   "metadata": {},
   "outputs": [],
   "source": [
    "belgium_animal_trade['Net Quantity'] = belgium_animal_trade['Import Quantity'] - belgium_animal_trade['Export Quantity']"
   ]
  },
  {
   "cell_type": "markdown",
   "metadata": {},
   "source": [
    "We have information about ony the 21st century"
   ]
  },
  {
   "cell_type": "code",
   "execution_count": 19,
   "metadata": {},
   "outputs": [
    {
     "data": {
      "text/plain": [
       "Int64Index([2000, 2001, 2002, 2003, 2004, 2005, 2006, 2007, 2008, 2009, 2010,\n",
       "            2011, 2012, 2013, 2014, 2015, 2016, 2017],\n",
       "           dtype='int64', name='Year')"
      ]
     },
     "execution_count": 19,
     "metadata": {},
     "output_type": "execute_result"
    }
   ],
   "source": [
    "belgium_animal_trade.index.levels[1]"
   ]
  },
  {
   "cell_type": "markdown",
   "metadata": {},
   "source": [
    "But for some countries we do not have information about all year. First we will look at the countries for which we do not have a lot of data"
   ]
  },
  {
   "cell_type": "code",
   "execution_count": 20,
   "metadata": {},
   "outputs": [],
   "source": [
    "noinfo_countries = belgium_animal_trade['Net Quantity'].unstack().isnull().sum(axis=1).sort_values(ascending=False)"
   ]
  },
  {
   "cell_type": "code",
   "execution_count": 21,
   "metadata": {},
   "outputs": [
    {
     "data": {
      "text/plain": [
       "Country\n",
       "Bermuda                             17\n",
       "Bhutan                              17\n",
       "Kiribati                            17\n",
       "Palestine                           16\n",
       "Wallis and Futuna Islands           16\n",
       "                                    ..\n",
       "Barbados                             1\n",
       "Bolivia (Plurinational State of)     1\n",
       "Liberia                              1\n",
       "Ethiopia                             1\n",
       "Trinidad and Tobago                  1\n",
       "Length: 66, dtype: int64"
      ]
     },
     "execution_count": 21,
     "metadata": {},
     "output_type": "execute_result"
    }
   ],
   "source": [
    "noinfo_countries = noinfo_countries[noinfo_countries > 0]\n",
    "noinfo_countries"
   ]
  },
  {
   "cell_type": "markdown",
   "metadata": {},
   "source": [
    "We can see that these country are very small countries and then do no influence a lot the impotation/exportation quantity of Belgium. We will then remove them."
   ]
  },
  {
   "cell_type": "code",
   "execution_count": 22,
   "metadata": {},
   "outputs": [],
   "source": [
    "belgium_animal_trade = belgium_animal_trade.drop(index=noinfo_countries.index)"
   ]
  },
  {
   "cell_type": "code",
   "execution_count": 23,
   "metadata": {},
   "outputs": [
    {
     "data": {
      "text/html": [
       "<div>\n",
       "<style scoped>\n",
       "    .dataframe tbody tr th:only-of-type {\n",
       "        vertical-align: middle;\n",
       "    }\n",
       "\n",
       "    .dataframe tbody tr th {\n",
       "        vertical-align: top;\n",
       "    }\n",
       "\n",
       "    .dataframe thead th {\n",
       "        text-align: right;\n",
       "    }\n",
       "</style>\n",
       "<table border=\"1\" class=\"dataframe\">\n",
       "  <thead>\n",
       "    <tr style=\"text-align: right;\">\n",
       "      <th></th>\n",
       "      <th>Element</th>\n",
       "      <th>Export Quantity</th>\n",
       "      <th>Import Quantity</th>\n",
       "      <th>Net Quantity</th>\n",
       "    </tr>\n",
       "    <tr>\n",
       "      <th>Country</th>\n",
       "      <th>Year</th>\n",
       "      <th></th>\n",
       "      <th></th>\n",
       "      <th></th>\n",
       "    </tr>\n",
       "  </thead>\n",
       "  <tbody>\n",
       "    <tr>\n",
       "      <td rowspan=\"5\" valign=\"top\">Albania</td>\n",
       "      <td>2000</td>\n",
       "      <td>46.833333</td>\n",
       "      <td>0.0</td>\n",
       "      <td>-46.833333</td>\n",
       "    </tr>\n",
       "    <tr>\n",
       "      <td>2001</td>\n",
       "      <td>148.000000</td>\n",
       "      <td>0.0</td>\n",
       "      <td>-148.000000</td>\n",
       "    </tr>\n",
       "    <tr>\n",
       "      <td>2002</td>\n",
       "      <td>69.333333</td>\n",
       "      <td>0.0</td>\n",
       "      <td>-69.333333</td>\n",
       "    </tr>\n",
       "    <tr>\n",
       "      <td>2003</td>\n",
       "      <td>58.000000</td>\n",
       "      <td>1.0</td>\n",
       "      <td>-57.000000</td>\n",
       "    </tr>\n",
       "    <tr>\n",
       "      <td>2004</td>\n",
       "      <td>75.250000</td>\n",
       "      <td>0.0</td>\n",
       "      <td>-75.250000</td>\n",
       "    </tr>\n",
       "  </tbody>\n",
       "</table>\n",
       "</div>"
      ],
      "text/plain": [
       "Element       Export Quantity  Import Quantity  Net Quantity\n",
       "Country Year                                                \n",
       "Albania 2000        46.833333              0.0    -46.833333\n",
       "        2001       148.000000              0.0   -148.000000\n",
       "        2002        69.333333              0.0    -69.333333\n",
       "        2003        58.000000              1.0    -57.000000\n",
       "        2004        75.250000              0.0    -75.250000"
      ]
     },
     "execution_count": 23,
     "metadata": {},
     "output_type": "execute_result"
    }
   ],
   "source": [
    "belgium_animal_trade.head()"
   ]
  },
  {
   "cell_type": "markdown",
   "metadata": {},
   "source": [
    "We will do the same with the vegetable products"
   ]
  },
  {
   "cell_type": "code",
   "execution_count": 28,
   "metadata": {},
   "outputs": [
    {
     "data": {
      "text/html": [
       "<div>\n",
       "<style scoped>\n",
       "    .dataframe tbody tr th:only-of-type {\n",
       "        vertical-align: middle;\n",
       "    }\n",
       "\n",
       "    .dataframe tbody tr th {\n",
       "        vertical-align: top;\n",
       "    }\n",
       "\n",
       "    .dataframe thead th {\n",
       "        text-align: right;\n",
       "    }\n",
       "</style>\n",
       "<table border=\"1\" class=\"dataframe\">\n",
       "  <thead>\n",
       "    <tr style=\"text-align: right;\">\n",
       "      <th></th>\n",
       "      <th>Element</th>\n",
       "      <th>Export Quantity</th>\n",
       "      <th>Import Quantity</th>\n",
       "      <th>Net Quantity</th>\n",
       "    </tr>\n",
       "    <tr>\n",
       "      <th>Country</th>\n",
       "      <th>Year</th>\n",
       "      <th></th>\n",
       "      <th></th>\n",
       "      <th></th>\n",
       "    </tr>\n",
       "  </thead>\n",
       "  <tbody>\n",
       "    <tr>\n",
       "      <td rowspan=\"5\" valign=\"top\">Afghanistan</td>\n",
       "      <td>2000</td>\n",
       "      <td>8154.50</td>\n",
       "      <td>0.0</td>\n",
       "      <td>-8154.50</td>\n",
       "    </tr>\n",
       "    <tr>\n",
       "      <td>2001</td>\n",
       "      <td>1014.00</td>\n",
       "      <td>0.0</td>\n",
       "      <td>-1014.00</td>\n",
       "    </tr>\n",
       "    <tr>\n",
       "      <td>2002</td>\n",
       "      <td>151.40</td>\n",
       "      <td>0.0</td>\n",
       "      <td>-151.40</td>\n",
       "    </tr>\n",
       "    <tr>\n",
       "      <td>2003</td>\n",
       "      <td>373.00</td>\n",
       "      <td>0.0</td>\n",
       "      <td>-373.00</td>\n",
       "    </tr>\n",
       "    <tr>\n",
       "      <td>2004</td>\n",
       "      <td>710.25</td>\n",
       "      <td>0.0</td>\n",
       "      <td>-710.25</td>\n",
       "    </tr>\n",
       "  </tbody>\n",
       "</table>\n",
       "</div>"
      ],
      "text/plain": [
       "Element           Export Quantity  Import Quantity  Net Quantity\n",
       "Country     Year                                                \n",
       "Afghanistan 2000          8154.50              0.0      -8154.50\n",
       "            2001          1014.00              0.0      -1014.00\n",
       "            2002           151.40              0.0       -151.40\n",
       "            2003           373.00              0.0       -373.00\n",
       "            2004           710.25              0.0       -710.25"
      ]
     },
     "execution_count": 28,
     "metadata": {},
     "output_type": "execute_result"
    }
   ],
   "source": [
    "vegetable_item = np.loadtxt(DATA_PATH+'veg_items_trade.txt', delimiter = '  ', dtype='str')\n",
    "\n",
    "def clean_trade_data(country_trade, item_list):\n",
    "    # Keep animal or vegetable items\n",
    "    trade = country_trade[country_trade.Item.isin(item_list)]\n",
    "    trade = trade.drop(columns='Item')\n",
    "    trade = trade[trade.Element.isin(['Export Quantity', 'Import Quantity'])]\n",
    "    # Keep data from 2000 and after\n",
    "    trade = trade[trade.Year >= 2000]\n",
    "    # Pivot the table\n",
    "    trade = pd.pivot_table(trade, values='Value', index=['Country', 'Year'], columns='Element')\n",
    "    # Fill NaN\n",
    "    trade.fillna(value=0, inplace=True)\n",
    "    # Compute the Net Quantity\n",
    "    trade['Net Quantity'] = trade['Import Quantity'] - trade['Export Quantity']\n",
    "    # Drop the country from which we do not have enough information (the same as for animals)\n",
    "    noinfo_countries = trade['Net Quantity'].unstack().isnull().sum(axis=1).sort_values(ascending=False)\n",
    "    noinfo_countries = noinfo_countries[noinfo_countries > 0]\n",
    "    trade = trade.drop(index=noinfo_countries.index)\n",
    "    return trade\n",
    "\n",
    "belgium_vegetable_trade = clean_trade_data(belgium_trade_df, vegetable_item)\n",
    "belgium_vegetable_trade.head()"
   ]
  },
  {
   "cell_type": "markdown",
   "metadata": {},
   "source": [
    "We will now look at the evolution of the total net quantity traded by belgium from 2000 to 2017 for animal products and vegetable products."
   ]
  },
  {
   "cell_type": "code",
   "execution_count": 29,
   "metadata": {},
   "outputs": [
    {
     "data": {
      "image/png": "[encoded data removed]",
      "text/plain": [
       "<Figure size 432x288 with 1 Axes>"
      ]
     },
     "metadata": {
      "needs_background": "light"
     },
     "output_type": "display_data"
    }
   ],
   "source": [
    "total_animal_product = []\n",
    "total_vegetable_product = []\n",
    "for year in range(2000, 2018):\n",
    "    total_animal_product.append(belgium_animal_trade.xs(year, level=1)['Net Quantity'].sum())\n",
    "    total_vegetable_product.append(belgium_vegetable_trade.xs(year, level=1)['Net Quantity'].sum())\n",
    "\n",
    "plt.plot(range(2000,2018), total_animal_product, label='Animal products')\n",
    "plt.plot(range(2000,2018), total_vegetable_product, label='Vegetable products')\n",
    "plt.title(\"Evolution of the quantity of traded products in Belgium\")\n",
    "plt.ylabel(\"Quantity (tons) of traded products (negative for exportation)\")\n",
    "plt.xlabel(\"Year\")\n",
    "plt.legend()\n",
    "plt.show()"
   ]
  },
  {
   "cell_type": "markdown",
   "metadata": {},
   "source": [
    "We can see that Belgium export more animal product than it import and that the quantity of exported animal product is relatively constant while Belgium imports much more vegetable products (one part of these vegetable product are used to feed the livestock). Moreover the importation of vegetable product has grown in the past few years."
   ]
  },
  {
   "cell_type": "markdown",
   "metadata": {},
   "source": [
    "### Switzerland\n",
    "We will do the same job for switzerland\n",
    "We first neeed to extract data related to switzerlad in the detailed trade matrix"
   ]
  },
  {
   "cell_type": "code",
   "execution_count": 12,
   "metadata": {},
   "outputs": [
    {
     "name": "stdout",
     "output_type": "stream",
     "text": [
      "+---------------------+-----------+--------------------+-----------------+---------+--------------------+------------+---------------+---------+----+--------+--------+----+\n",
      "|Reporter Country Code|  Countries|Partner Country Code|Partner Countries|Item Code|                Item|Element Code|        Element|Year Code|Year|    Unit|   Value|Flag|\n",
      "+---------------------+-----------+--------------------+-----------------+---------+--------------------+------------+---------------+---------+----+--------+--------+----+\n",
      "|                  211|Switzerland|                   2|      Afghanistan|      231|     Almonds shelled|        5610|Import Quantity|     2016|2016|  tonnes|0.000000|null|\n",
      "|                  211|Switzerland|                   2|      Afghanistan|      231|     Almonds shelled|        5622|   Import Value|     2016|2016|1000 US$|0.000000|null|\n",
      "|                  211|Switzerland|                   2|      Afghanistan|     1169|Animals, live, no...|        5622|   Import Value|     1995|1995|1000 US$|1.000000|null|\n",
      "|                  211|Switzerland|                   2|      Afghanistan|      527|       Apricots, dry|        5610|Import Quantity|     2012|2012|  tonnes|0.000000|null|\n",
      "|                  211|Switzerland|                   2|      Afghanistan|      527|       Apricots, dry|        5622|   Import Value|     2012|2012|1000 US$|0.000000|null|\n",
      "+---------------------+-----------+--------------------+-----------------+---------+--------------------+------------+---------------+---------+----+--------+--------+----+\n",
      "only showing top 5 rows\n",
      "\n"
     ]
    }
   ],
   "source": [
    "trades.registerTempTable(\"Trades\")\n",
    "\n",
    "query = \"\"\"\n",
    "SELECT *\n",
    "FROM Trades\n",
    "WHERE Countries = 'Switzerland'\n",
    "\"\"\"\n",
    "\n",
    "swiss_trade = spark.sql(query)"
   ]
  },
  {
   "cell_type": "code",
   "execution_count": 13,
   "metadata": {},
   "outputs": [],
   "source": [
    "swiss_trade_df = swiss_trade.toPandas()\n",
    "swiss_trade_df.to_csv(GENERATED_DATA_PATH+'trade_switzerland.csv')"
   ]
  },
  {
   "cell_type": "code",
   "execution_count": 27,
   "metadata": {},
   "outputs": [],
   "source": [
    "swiss_trade_df = pd.read_csv(GENERATED_DATA_PATH+'trade_switzerland.csv', index_col=0)\n",
    "swiss_trade_df = swiss_trade_df.drop(columns=['Reporter Country Code', 'Countries', 'Partner Country Code', 'Item Code', 'Element Code', 'Year Code', 'Unit', 'Flag'])\n",
    "swiss_trade_df = swiss_trade_df.rename(columns={'Partner Countries': 'Country'})"
   ]
  },
  {
   "cell_type": "code",
   "execution_count": 31,
   "metadata": {},
   "outputs": [],
   "source": [
    "swiss_animal_trade = clean_trade_data(swiss_trade_df, animal_item)\n",
    "swiss_vegetable_trade = clean_trade_data(swiss_trade_df, vegetable_item)"
   ]
  },
  {
   "cell_type": "code",
   "execution_count": 32,
   "metadata": {},
   "outputs": [
    {
     "data": {
      "image/png": "[encoded data removed]",
      "text/plain": [
       "<Figure size 432x288 with 1 Axes>"
      ]
     },
     "metadata": {
      "needs_background": "light"
     },
     "output_type": "display_data"
    }
   ],
   "source": [
    "total_animal_product = []\n",
    "total_vegetable_product = []\n",
    "for year in range(2000, 2018):\n",
    "    total_animal_product.append(swiss_animal_trade.xs(year, level=1)['Net Quantity'].sum())\n",
    "    total_vegetable_product.append(swiss_vegetable_trade.xs(year, level=1)['Net Quantity'].sum())\n",
    "\n",
    "plt.plot(range(2000,2018), total_animal_product, label='Animal products')\n",
    "plt.plot(range(2000,2018), total_vegetable_product, label='Vegetable products')\n",
    "plt.title(\"Evolution of the quantity of traded products in Switzerland\")\n",
    "plt.ylabel(\"Quantity (tons) of traded products (negative for exportation)\")\n",
    "plt.xlabel(\"Year\")\n",
    "plt.legend()\n",
    "plt.show()"
   ]
  },
  {
   "cell_type": "markdown",
   "metadata": {},
   "source": [
    "We can see that switzerland import both animal and vegetable products. The importation of meat product is constance while the importation of vegetable product has decrease from 2007."
   ]
  },
  {
   "cell_type": "markdown",
   "metadata": {},
   "source": [
    "### Comparison between belgium and switzerland\n",
    "The first comparison is made based on the quantity of importation for animal and vegetable products."
   ]
  },
  {
   "cell_type": "code",
   "execution_count": 38,
   "metadata": {},
   "outputs": [
    {
     "data": {
      "image/png": "[encoded data removed]",
      "text/plain": [
       "<Figure size 1008x576 with 1 Axes>"
      ]
     },
     "metadata": {
      "needs_background": "light"
     },
     "output_type": "display_data"
    }
   ],
   "source": [
    "total_animal_product_belgium = []\n",
    "total_vegetable_product_belgium = []\n",
    "total_animal_product_switzerland = []\n",
    "total_vegetable_product_switzerland = []\n",
    "\n",
    "people_swiss = 8556000\n",
    "people_belgium = 11400000\n",
    "\n",
    "for year in range(2000, 2018):\n",
    "    total_animal_product_belgium.append(belgium_animal_trade.xs(year, level=1)['Net Quantity'].sum()/people_belgium)\n",
    "    total_vegetable_product_belgium.append(belgium_vegetable_trade.xs(year, level=1)['Net Quantity'].sum()/people_belgium)\n",
    "    total_animal_product_switzerland.append(swiss_animal_trade.xs(year, level=1)['Net Quantity'].sum()/people_swiss)\n",
    "    total_vegetable_product_switzerland.append(swiss_vegetable_trade.xs(year, level=1)['Net Quantity'].sum()/people_swiss)\n",
    "\n",
    "plt.figure(figsize=(14,8))\n",
    "plt.plot(range(2000,2018), total_animal_product_belgium, label='Animal products Belgium')\n",
    "plt.plot(range(2000,2018), total_vegetable_product_belgium, label='Vegetable products Belgium')\n",
    "plt.plot(range(2000,2018), total_animal_product_switzerland, label='Animal products Switzerland')\n",
    "plt.plot(range(2000,2018), total_vegetable_product_switzerland, label='Vegetable products Switzerland')\n",
    "plt.title(\"Comparison of the evolution of the quantity of traded products in Switzerland and in Belgium\")\n",
    "plt.ylabel(\"Quantity (tons) of traded products per capita (negative for exportation)\")\n",
    "plt.xlabel(\"Year\")\n",
    "plt.legend()\n",
    "plt.show()"
   ]
  },
  {
   "cell_type": "markdown",
   "metadata": {},
   "source": [
    "We can see that per capita, Belgium export more animal products but import much more vegetable product than Switzerland."
   ]
  },
  {
   "cell_type": "markdown",
   "metadata": {},
   "source": [
    "### Adding emissions\n",
    "We will first compare direct emissions of the two countries. Then we will add the emission from the country where Belgium and Switzerland import their food. \n",
    "\n",
    "We will now join the emission dataframe with the dataframes created in the previous section"
   ]
  },
  {
   "cell_type": "code",
   "execution_count": 159,
   "metadata": {},
   "outputs": [],
   "source": [
    "swiss_emission = emissions_total.loc['Switzerland']\n",
    "swiss_emission = swiss_emission[swiss_emission.index >= 2000]\n",
    "swiss_emission = swiss_emission[swiss_emission.index < 2018]\n",
    "\n",
    "belgium_emission = emissions_total.loc['Belgium']\n",
    "belgium_emission = belgium_emission[belgium_emission.index >= 2000]\n",
    "belgium_emission = belgium_emission[belgium_emission.index < 2018]"
   ]
  },
  {
   "cell_type": "code",
   "execution_count": 163,
   "metadata": {},
   "outputs": [
    {
     "data": {
      "image/png": "[encoded data removed]",
      "text/plain": [
       "<Figure size 1008x576 with 1 Axes>"
      ]
     },
     "metadata": {
      "needs_background": "light"
     },
     "output_type": "display_data"
    }
   ],
   "source": [
    "plt.figure(figsize=(14,8))\n",
    "plt.plot(swiss_emission.index, swiss_emission.Sum/people_swiss, label='Swiss Emssion')\n",
    "plt.plot(belgium_emission.index, belgium_emission.Sum/people_belgium, label='Belgium Emssion')\n",
    "plt.title(\"Comparison between the emission of CO2(eq) per capita from Switzerland and Belgium\")\n",
    "plt.ylabel(\"Emission (Gigagram of CO2eq) per capita\")\n",
    "plt.xlabel(\"Year\")\n",
    "plt.legend()\n",
    "plt.show()"
   ]
  },
  {
   "cell_type": "markdown",
   "metadata": {},
   "source": [
    "We see that Belgium emits much more CO2eq per capita than Switerland. But it seems that both country try to reduce their emissions of CO2 eq."
   ]
  },
  {
   "cell_type": "code",
   "execution_count": 167,
   "metadata": {},
   "outputs": [
    {
     "data": {
      "image/png": "[encoded data removed]",
      "text/plain": [
       "<Figure size 1008x576 with 1 Axes>"
      ]
     },
     "metadata": {
      "needs_background": "light"
     },
     "output_type": "display_data"
    }
   ],
   "source": [
    "plt.figure(figsize=(14,8))\n",
    "plt.plot(swiss_emission.index, swiss_emission.Animal/people_swiss, label='Swiss Emssion from Animals')\n",
    "plt.plot(swiss_emission.index, swiss_emission.Vegetal/people_swiss, label='Swiss Emssion from Vegetables')\n",
    "plt.plot(belgium_emission.index, belgium_emission.Animal/people_belgium, label='Belgium Emssion from Animals')\n",
    "plt.plot(belgium_emission.index, belgium_emission.Vegetal/people_belgium, label='Belgium Emssion from Vegetables')\n",
    "plt.title(\"Comparison between the emission of CO2(eq) of vegetable and animal prouction per capita from Switzerland and Belgium\")\n",
    "plt.ylabel(\"Emission (Gigagram of CO2eq) per capita\")\n",
    "plt.xlabel(\"Year\")\n",
    "plt.legend()\n",
    "plt.show()"
   ]
  },
  {
   "cell_type": "markdown",
   "metadata": {},
   "source": [
    "As seen before the majority of the emission is due to the production of animal product. Moreover the decreasing of the emission in total is due more by the reduction of emission of CO2eq from the production of animal products."
   ]
  },
  {
   "cell_type": "markdown",
   "metadata": {},
   "source": [
    "We now add the emission in the previously constructed datasets"
   ]
  },
  {
   "cell_type": "code",
   "execution_count": 178,
   "metadata": {},
   "outputs": [],
   "source": [
    "def add_emissions(trade, emissions_total, local_emission):\n",
    "    trade = pd.merge(trade, emissions_total['Animal'], left_index=True, right_index=True)\n",
    "    trade = trade.rename(columns={'Animal':'Emission'})\n",
    "    trade = pd.merge(trade, local_emission['Animal'], left_index=True, right_index=True)\n",
    "    trade = trade.rename(columns={'Animal':'Local Emission'})\n",
    "    return trade\n",
    "\n",
    "\n",
    "belgium_animal_trade = add_emissions(belgium_animal_trade, emissions_total, belgium_emission)\n",
    "belgium_vegetable_trade = add_emissions(belgium_vegetable_trade, emissions_total, belgium_emission)\n",
    "swiss_animal_trade = add_emissions(swiss_animal_trade, emissions_total, swiss_emission)\n",
    "swiss_vegetable_trade = add_emissions(swiss_vegetable_trade, emissions_total, swiss_emission)"
   ]
  },
  {
   "cell_type": "code",
   "execution_count": 180,
   "metadata": {},
   "outputs": [],
   "source": [
    "belgium_animal_trade.to_csv(GENERATED_DATA_PATH+'belgium_animal_trade.csv')\n",
    "belgium_vegetable_trade.to_csv(GENERATED_DATA_PATH+'belgium_vegetable_trade.csv')\n",
    "swiss_animal_trade.to_csv(GENERATED_DATA_PATH+'swiss_animal_trade.csv')\n",
    "swiss_vegetable_trade.to_csv(GENERATED_DATA_PATH+'swiss_vegetable_trade.csv')"
   ]
  },
  {
   "cell_type": "code",
   "execution_count": null,
   "metadata": {},
   "outputs": [],
   "source": []
  }
 ],
 "metadata": {
  "kernelspec": {
   "display_name": "Python [conda env:ada] *",
   "language": "python",
   "name": "conda-env-ada-py"
  },
  "language_info": {
   "codemirror_mode": {
    "name": "ipython",
    "version": 3
   },
   "file_extension": ".py",
   "mimetype": "text/x-python",
   "name": "python",
   "nbconvert_exporter": "python",
   "pygments_lexer": "ipython3",
   "version": "3.7.4"
  }
 },
 "nbformat": 4,
 "nbformat_minor": 4
}
