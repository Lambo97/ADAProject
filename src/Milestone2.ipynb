{
 "cells": [
  {
   "cell_type": "markdown",
   "metadata": {
    "Collapsed": "false"
   },
   "source": [
    "# Milestone 2 \n",
    "# How much emission are you REALLY responsible for.\n",
    "\n",
    "In this notebook we focus on exploring the dataset we have selected, and prepare the data for the story telling in milestone 3.\n",
    "\n",
    "## Table of contents\n",
    "1. [Introduction](#introduction)\n",
    "    1. [Percentage of the worldly emission due to agriculture](#percentage_emissions)\n",
    "    2. [Part of emission for meat/vegetal products](#world_meat_vegetal)\n",
    "    3. [Emissions by Countries](#emissions_countries)\n",
    "2. [Correcting emissions for Belgium and Switzerland](#correcting_emissions)\n",
    "    1. [Belgium](#belgium_trade)\n",
    "    2. [Switzerland](#swiss_trade)\n",
    "    3. [Comparison between Belgium and Switzerland](#comparison_belgium_swiss_trade)\n"
   ]
  },
  {
   "cell_type": "markdown",
   "metadata": {
    "Collapsed": "false"
   },
   "source": [
    "## Introduction <a name=\"introduction\"></a>\n",
    "In this section, we will present the data from a world-point of view, to get a feeling of what we're dealing with. This includes:\n",
    "   - Visualising the percentage of emission due to agriculture\n",
    "   - The part of emission in agriculture due to animal and vegetal products\n",
    "   - The same as the previous point but by country.\n",
    "   "
   ]
  },
  {
   "cell_type": "code",
   "execution_count": 1,
   "metadata": {
    "Collapsed": "false"
   },
   "outputs": [],
   "source": [
    "import pandas as pd\n",
    "import numpy as np\n",
    "import matplotlib.pyplot as plt"
   ]
  },
  {
   "cell_type": "code",
   "execution_count": 2,
   "metadata": {
    "Collapsed": "false"
   },
   "outputs": [],
   "source": [
    "# constants\n",
    "DATA_PATH = '../data/'\n",
    "GENERATED_DATA_PATH = '../generated/'"
   ]
  },
  {
   "cell_type": "markdown",
   "metadata": {
    "Collapsed": "false"
   },
   "source": [
    "### Percentage of worldly emission due to agriculture <a name=\"percentage_emissions\"></a>"
   ]
  },
  {
   "cell_type": "markdown",
   "metadata": {
    "Collapsed": "false"
   },
   "source": [
    "In this section we will use the Environment_Emissions_by_Sector_E_All_Data_(Normalized) dataset. More information on this dataset can be found <a href=\"http://www.fao.org/faostat/en/#data/EM\"> here </a>. \n",
    "\n",
    "Our goal is to get a global view on the situation, and see how an important factor agriculture has been over the years.\n"
   ]
  },
  {
   "cell_type": "code",
   "execution_count": 3,
   "metadata": {
    "Collapsed": "false"
   },
   "outputs": [
    {
     "data": {
      "text/html": [
       "<div>\n",
       "<style scoped>\n",
       "    .dataframe tbody tr th:only-of-type {\n",
       "        vertical-align: middle;\n",
       "    }\n",
       "\n",
       "    .dataframe tbody tr th {\n",
       "        vertical-align: top;\n",
       "    }\n",
       "\n",
       "    .dataframe thead th {\n",
       "        text-align: right;\n",
       "    }\n",
       "</style>\n",
       "<table border=\"1\" class=\"dataframe\">\n",
       "  <thead>\n",
       "    <tr style=\"text-align: right;\">\n",
       "      <th></th>\n",
       "      <th>Area Code</th>\n",
       "      <th>Area</th>\n",
       "      <th>Item Code</th>\n",
       "      <th>Item</th>\n",
       "      <th>Element Code</th>\n",
       "      <th>Element</th>\n",
       "      <th>Year Code</th>\n",
       "      <th>Year</th>\n",
       "      <th>Unit</th>\n",
       "      <th>Value</th>\n",
       "      <th>Flag</th>\n",
       "    </tr>\n",
       "  </thead>\n",
       "  <tbody>\n",
       "    <tr>\n",
       "      <td>0</td>\n",
       "      <td>2</td>\n",
       "      <td>Afghanistan</td>\n",
       "      <td>6814</td>\n",
       "      <td>Energy (energy, manufacturing and construction...</td>\n",
       "      <td>7231</td>\n",
       "      <td>Emissions (CO2eq)</td>\n",
       "      <td>1990</td>\n",
       "      <td>1990</td>\n",
       "      <td>Gigagrams</td>\n",
       "      <td>943.2945</td>\n",
       "      <td>A</td>\n",
       "    </tr>\n",
       "    <tr>\n",
       "      <td>1</td>\n",
       "      <td>2</td>\n",
       "      <td>Afghanistan</td>\n",
       "      <td>6814</td>\n",
       "      <td>Energy (energy, manufacturing and construction...</td>\n",
       "      <td>7231</td>\n",
       "      <td>Emissions (CO2eq)</td>\n",
       "      <td>1991</td>\n",
       "      <td>1991</td>\n",
       "      <td>Gigagrams</td>\n",
       "      <td>1022.1110</td>\n",
       "      <td>A</td>\n",
       "    </tr>\n",
       "    <tr>\n",
       "      <td>2</td>\n",
       "      <td>2</td>\n",
       "      <td>Afghanistan</td>\n",
       "      <td>6814</td>\n",
       "      <td>Energy (energy, manufacturing and construction...</td>\n",
       "      <td>7231</td>\n",
       "      <td>Emissions (CO2eq)</td>\n",
       "      <td>1992</td>\n",
       "      <td>1992</td>\n",
       "      <td>Gigagrams</td>\n",
       "      <td>542.7868</td>\n",
       "      <td>A</td>\n",
       "    </tr>\n",
       "    <tr>\n",
       "      <td>3</td>\n",
       "      <td>2</td>\n",
       "      <td>Afghanistan</td>\n",
       "      <td>6814</td>\n",
       "      <td>Energy (energy, manufacturing and construction...</td>\n",
       "      <td>7231</td>\n",
       "      <td>Emissions (CO2eq)</td>\n",
       "      <td>1993</td>\n",
       "      <td>1993</td>\n",
       "      <td>Gigagrams</td>\n",
       "      <td>548.8871</td>\n",
       "      <td>A</td>\n",
       "    </tr>\n",
       "    <tr>\n",
       "      <td>4</td>\n",
       "      <td>2</td>\n",
       "      <td>Afghanistan</td>\n",
       "      <td>6814</td>\n",
       "      <td>Energy (energy, manufacturing and construction...</td>\n",
       "      <td>7231</td>\n",
       "      <td>Emissions (CO2eq)</td>\n",
       "      <td>1994</td>\n",
       "      <td>1994</td>\n",
       "      <td>Gigagrams</td>\n",
       "      <td>537.9067</td>\n",
       "      <td>A</td>\n",
       "    </tr>\n",
       "  </tbody>\n",
       "</table>\n",
       "</div>"
      ],
      "text/plain": [
       "   Area Code         Area  Item Code  \\\n",
       "0          2  Afghanistan       6814   \n",
       "1          2  Afghanistan       6814   \n",
       "2          2  Afghanistan       6814   \n",
       "3          2  Afghanistan       6814   \n",
       "4          2  Afghanistan       6814   \n",
       "\n",
       "                                                Item  Element Code  \\\n",
       "0  Energy (energy, manufacturing and construction...          7231   \n",
       "1  Energy (energy, manufacturing and construction...          7231   \n",
       "2  Energy (energy, manufacturing and construction...          7231   \n",
       "3  Energy (energy, manufacturing and construction...          7231   \n",
       "4  Energy (energy, manufacturing and construction...          7231   \n",
       "\n",
       "             Element  Year Code  Year       Unit      Value Flag  \n",
       "0  Emissions (CO2eq)       1990  1990  Gigagrams   943.2945    A  \n",
       "1  Emissions (CO2eq)       1991  1991  Gigagrams  1022.1110    A  \n",
       "2  Emissions (CO2eq)       1992  1992  Gigagrams   542.7868    A  \n",
       "3  Emissions (CO2eq)       1993  1993  Gigagrams   548.8871    A  \n",
       "4  Emissions (CO2eq)       1994  1994  Gigagrams   537.9067    A  "
      ]
     },
     "execution_count": 3,
     "metadata": {},
     "output_type": "execute_result"
    }
   ],
   "source": [
    "# Load data and drop unnecessary columns\n",
    "emissions_sector_path = DATA_PATH+'Environment_Emissions_by_Sector_E_All_Data_(Normalized).csv'\n",
    "emissions_sector = pd.read_csv(emissions_sector_path, encoding='latin-1', engine='python')\n",
    "emissions_sector.head()"
   ]
  },
  {
   "cell_type": "markdown",
   "metadata": {
    "Collapsed": "false"
   },
   "source": [
    "Emissions are expressed in <b>CO2eq units</b> (Carbon dioxide equivalent). CO2eq is a metric measure used to compare the emissions from various greenhouse gases on the basis of their global-warming potential (GWP), by converting amounts of other gases to the equivalent amount of carbon dioxide with the same global warming potential.\n",
    "\n",
    "The <b>flags</b> represent the way the data is gathered (the full list can be found <a href=\"http://www.fao.org/faostat/en/#definitions\"> here</a>).  "
   ]
  },
  {
   "cell_type": "code",
   "execution_count": 4,
   "metadata": {
    "Collapsed": "false"
   },
   "outputs": [
    {
     "name": "stdout",
     "output_type": "stream",
     "text": [
      "['Gigagrams' '%']\n"
     ]
    },
    {
     "data": {
      "text/plain": [
       "Fc    483973\n",
       "A     336049\n",
       "F        370\n",
       "Name: Flag, dtype: int64"
      ]
     },
     "execution_count": 4,
     "metadata": {},
     "output_type": "execute_result"
    }
   ],
   "source": [
    "# Units\n",
    "print(emissions_sector['Unit'].unique())\n",
    "# Flags\n",
    "emissions_sector.Flag.value_counts()"
   ]
  },
  {
   "cell_type": "markdown",
   "metadata": {
    "Collapsed": "false"
   },
   "source": [
    "The flags represent : \n",
    "* `A` : Aggregate, may include official, semi-official, estimated or calculated data\n",
    "* `Fc` : Calculated data\n",
    "* `F` : FAO estimate\n",
    "\n",
    "All these flag are acceptable, so we can then drop this column. From here on, we always implicitly check the flag values, but will not report it in this datastory (except if the flag represents unreliable data). \n",
    "\n",
    "Moreover, there is only one unit (Gigagrams), so we can drop this column aswell. "
   ]
  },
  {
   "cell_type": "code",
   "execution_count": 5,
   "metadata": {
    "Collapsed": "false"
   },
   "outputs": [],
   "source": [
    "# Drop unnecessary columns\n",
    "emissions_sector.drop(columns=['Area Code', 'Item Code', 'Element Code', 'Year Code', 'Flag', 'Unit'], inplace=True)"
   ]
  },
  {
   "cell_type": "code",
   "execution_count": 6,
   "metadata": {
    "Collapsed": "false"
   },
   "outputs": [],
   "source": [
    "# elements that are sum of other elements (found in the data META-file)\n",
    "aggregates = [\"Energy total\", \"Land Use total\", \"Sources total\",\"Sources total excl. AFOLU\"]"
   ]
  },
  {
   "cell_type": "code",
   "execution_count": 7,
   "metadata": {
    "Collapsed": "false"
   },
   "outputs": [],
   "source": [
    "# We want CO2eq emission over the world for the different sectors over the years\n",
    "emissions_sector_world = emissions_sector.loc[(emissions_sector['Area']==\"World\") & (emissions_sector['Element'] == \"Emissions (CO2eq)\")]\n",
    "emissions_sector_world = emissions_sector_world.drop(columns=[\"Element\",\"Area\"])\n",
    "\n",
    "# Pivot to make items into columns and clean\n",
    "emissions = pd.pivot_table(emissions_sector_world, columns='Item', index=[\"Year\"])\n",
    "emissions.columns = emissions.columns.droplevel(0)\n",
    "# Drop the aggregate values\n",
    "emissions = emissions.drop(columns=aggregates)\n",
    "\n",
    "emissions.rename(columns={'Energy (energy, manufacturing and construction industries and fugitive emissions)':'Energy'}, inplace=True)"
   ]
  },
  {
   "cell_type": "code",
   "execution_count": 8,
   "metadata": {
    "Collapsed": "false"
   },
   "outputs": [
    {
     "data": {
      "image/png": "[encoded data removed]",
      "text/plain": [
       "<Figure size 1152x720 with 1 Axes>"
      ]
     },
     "metadata": {
      "needs_background": "light"
     },
     "output_type": "display_data"
    }
   ],
   "source": [
    "# Plot evolution of emission over the years\n",
    "ax = emissions.plot.area()\n",
    "fig = ax.get_figure()\n",
    "fig.set_size_inches((16,10))\n",
    "plt.title(\"Evolution of emission over the world per sector\")\n",
    "plt.ylabel(\"CO2eq emission (Gigagrams)\")\n",
    "ax.set_xticks(range(1990,2010,2))\n",
    "plt.show()"
   ]
  },
  {
   "cell_type": "markdown",
   "metadata": {
    "Collapsed": "false"
   },
   "source": [
    "As expected, we see that the worldy emission is rising (fast). Energy clearly makes up the biggest part, but agriculture also has a big influence.\n",
    "\n",
    "Let's look at the percentages in 2010\n"
   ]
  },
  {
   "cell_type": "code",
   "execution_count": 144,
   "metadata": {
    "Collapsed": "false"
   },
   "outputs": [
    {
     "data": {
      "text/html": [
       "<div>\n",
       "<style scoped>\n",
       "    .dataframe tbody tr th:only-of-type {\n",
       "        vertical-align: middle;\n",
       "    }\n",
       "\n",
       "    .dataframe tbody tr th {\n",
       "        vertical-align: top;\n",
       "    }\n",
       "\n",
       "    .dataframe thead th {\n",
       "        text-align: right;\n",
       "    }\n",
       "</style>\n",
       "<table border=\"1\" class=\"dataframe\">\n",
       "  <thead>\n",
       "    <tr style=\"text-align: right;\">\n",
       "      <th></th>\n",
       "      <th>Item</th>\n",
       "      <th>Value</th>\n",
       "    </tr>\n",
       "  </thead>\n",
       "  <tbody>\n",
       "    <tr>\n",
       "      <td>696834</td>\n",
       "      <td>Other sources</td>\n",
       "      <td>0.54</td>\n",
       "    </tr>\n",
       "    <tr>\n",
       "      <td>697128</td>\n",
       "      <td>International bunkers</td>\n",
       "      <td>2.18</td>\n",
       "    </tr>\n",
       "    <tr>\n",
       "      <td>696540</td>\n",
       "      <td>Waste</td>\n",
       "      <td>2.93</td>\n",
       "    </tr>\n",
       "    <tr>\n",
       "      <td>696246</td>\n",
       "      <td>Industrial processes and product use</td>\n",
       "      <td>7.02</td>\n",
       "    </tr>\n",
       "    <tr>\n",
       "      <td>695952</td>\n",
       "      <td>Residential, commercial, institutional and AFF</td>\n",
       "      <td>7.58</td>\n",
       "    </tr>\n",
       "    <tr>\n",
       "      <td>697422</td>\n",
       "      <td>Agriculture total</td>\n",
       "      <td>10.28</td>\n",
       "    </tr>\n",
       "    <tr>\n",
       "      <td>695658</td>\n",
       "      <td>Transport</td>\n",
       "      <td>11.22</td>\n",
       "    </tr>\n",
       "    <tr>\n",
       "      <td>697716</td>\n",
       "      <td>Land use sources</td>\n",
       "      <td>11.22</td>\n",
       "    </tr>\n",
       "    <tr>\n",
       "      <td>695364</td>\n",
       "      <td>Energy (energy, manufacturing and construction...</td>\n",
       "      <td>47.04</td>\n",
       "    </tr>\n",
       "    <tr>\n",
       "      <td>698115</td>\n",
       "      <td>Energy total</td>\n",
       "      <td>65.84</td>\n",
       "    </tr>\n",
       "    <tr>\n",
       "      <td>698808</td>\n",
       "      <td>Sources total excl. AFOLU</td>\n",
       "      <td>78.50</td>\n",
       "    </tr>\n",
       "    <tr>\n",
       "      <td>698514</td>\n",
       "      <td>Sources total</td>\n",
       "      <td>100.00</td>\n",
       "    </tr>\n",
       "  </tbody>\n",
       "</table>\n",
       "</div>"
      ],
      "text/plain": [
       "                                                     Item   Value\n",
       "696834                                      Other sources    0.54\n",
       "697128                              International bunkers    2.18\n",
       "696540                                              Waste    2.93\n",
       "696246               Industrial processes and product use    7.02\n",
       "695952     Residential, commercial, institutional and AFF    7.58\n",
       "697422                                  Agriculture total   10.28\n",
       "695658                                          Transport   11.22\n",
       "697716                                   Land use sources   11.22\n",
       "695364  Energy (energy, manufacturing and construction...   47.04\n",
       "698115                                       Energy total   65.84\n",
       "698808                          Sources total excl. AFOLU   78.50\n",
       "698514                                      Sources total  100.00"
      ]
     },
     "execution_count": 144,
     "metadata": {},
     "output_type": "execute_result"
    }
   ],
   "source": [
    "emissions_sector_relative = emissions_sector.loc[(emissions_sector['Area'] == 'World') & (emissions_sector['Element'] == \"Share of sector in total emissions\") & (emissions_sector['Year'] == 2010)]\n",
    "emissions_sector_relative = emissions_sector_relative.drop(columns=['Area', 'Element', 'Year']).sort_values(by='Value').round(2)\n",
    "emissions_sector_relative"
   ]
  },
  {
   "cell_type": "markdown",
   "metadata": {
    "Collapsed": "false"
   },
   "source": [
    "Afolu means 'Agriculture, Forestry and Other Land Use' = 'Agriculture total' + 'Land use sources'"
   ]
  },
  {
   "cell_type": "markdown",
   "metadata": {
    "Collapsed": "false"
   },
   "source": [
    "### Part of emissions for meat/vegetable <a name=\"world_meat_vegetal\"></a>\n",
    "\n",
    "Now that we know that agriculture makes up a remarkable part of greenhouse emissions, it is time to have a closes look. Many people give up eating meat for the climate, we will now investigate if this sacrifice is grounded. \n",
    "\n",
    "We will visualize the the part of emission in agriculture due to animal and vegetal products\n"
   ]
  },
  {
   "cell_type": "code",
   "execution_count": 106,
   "metadata": {
    "Collapsed": "false"
   },
   "outputs": [],
   "source": [
    "# Load and clean data\n",
    "emissions_total_path = DATA_PATH+'Emissions_Agriculture_Agriculture_total_E_All_Data_(Normalized).csv'\n",
    "emissions_total = pd.read_csv(emissions_total_path, encoding='latin-1', engine='python')\n",
    "emissions_total = emissions_total.drop(columns=['Item Code', 'Element Code', 'Area Code', 'Year Code', 'Unit', 'Note', 'Flag'])"
   ]
  },
  {
   "cell_type": "code",
   "execution_count": 10,
   "metadata": {
    "Collapsed": "false"
   },
   "outputs": [],
   "source": [
    "vegetal_emissions = ['Rice Cultivation', 'Synthetic Fertilizers', 'Manure applied to Soils', 'Crop Residues',\n",
    "       'Cultivation of Organic Soils', 'Burning - Crop residues']\n",
    "animal_emissions = ['Enteric Fermentation', 'Manure Management', 'Manure left on Pasture']"
   ]
  },
  {
   "cell_type": "code",
   "execution_count": 11,
   "metadata": {
    "Collapsed": "false"
   },
   "outputs": [],
   "source": [
    "# We're only interested in the world data, and total emission\n",
    "emissions_world = emissions_total.loc[(emissions_total['Area'] == 'World') & (emissions_total['Element'] == \"Emissions (CO2eq)\")]\n",
    "emissions_world = emissions_world.drop(columns=['Area', 'Element'])"
   ]
  },
  {
   "cell_type": "code",
   "execution_count": 12,
   "metadata": {
    "Collapsed": "false"
   },
   "outputs": [],
   "source": [
    "# Pivot the table to make element columns\n",
    "emissions_world = pd.pivot_table(emissions_world, values='Value', index=['Year'], columns='Item')"
   ]
  },
  {
   "cell_type": "code",
   "execution_count": 13,
   "metadata": {
    "Collapsed": "false"
   },
   "outputs": [
    {
     "data": {
      "text/html": [
       "<div>\n",
       "<style scoped>\n",
       "    .dataframe tbody tr th:only-of-type {\n",
       "        vertical-align: middle;\n",
       "    }\n",
       "\n",
       "    .dataframe tbody tr th {\n",
       "        vertical-align: top;\n",
       "    }\n",
       "\n",
       "    .dataframe thead th {\n",
       "        text-align: right;\n",
       "    }\n",
       "</style>\n",
       "<table border=\"1\" class=\"dataframe\">\n",
       "  <thead>\n",
       "    <tr style=\"text-align: right;\">\n",
       "      <th>Item</th>\n",
       "      <th>Agricultural Soils</th>\n",
       "      <th>Agriculture total</th>\n",
       "      <th>Burning - Crop residues</th>\n",
       "      <th>Burning - Savanna</th>\n",
       "      <th>Crop Residues</th>\n",
       "      <th>Cultivation of Organic Soils</th>\n",
       "      <th>Enteric Fermentation</th>\n",
       "      <th>Manure Management</th>\n",
       "      <th>Manure applied to Soils</th>\n",
       "      <th>Manure left on Pasture</th>\n",
       "      <th>Rice Cultivation</th>\n",
       "      <th>Synthetic Fertilizers</th>\n",
       "    </tr>\n",
       "    <tr>\n",
       "      <th>Year</th>\n",
       "      <th></th>\n",
       "      <th></th>\n",
       "      <th></th>\n",
       "      <th></th>\n",
       "      <th></th>\n",
       "      <th></th>\n",
       "      <th></th>\n",
       "      <th></th>\n",
       "      <th></th>\n",
       "      <th></th>\n",
       "      <th></th>\n",
       "      <th></th>\n",
       "    </tr>\n",
       "  </thead>\n",
       "  <tbody>\n",
       "    <tr>\n",
       "      <td>1961</td>\n",
       "      <td>7.423140e+05</td>\n",
       "      <td>2.751474e+06</td>\n",
       "      <td>20108.5834</td>\n",
       "      <td>NaN</td>\n",
       "      <td>84002.9553</td>\n",
       "      <td>NaN</td>\n",
       "      <td>1.372453e+06</td>\n",
       "      <td>250642.7499</td>\n",
       "      <td>127533.0080</td>\n",
       "      <td>4.559833e+05</td>\n",
       "      <td>365955.9325</td>\n",
       "      <td>74794.7749</td>\n",
       "    </tr>\n",
       "    <tr>\n",
       "      <td>1962</td>\n",
       "      <td>7.653188e+05</td>\n",
       "      <td>2.813011e+06</td>\n",
       "      <td>20233.7001</td>\n",
       "      <td>NaN</td>\n",
       "      <td>87863.9442</td>\n",
       "      <td>NaN</td>\n",
       "      <td>1.392502e+06</td>\n",
       "      <td>255847.4235</td>\n",
       "      <td>130164.1889</td>\n",
       "      <td>4.624951e+05</td>\n",
       "      <td>379109.0457</td>\n",
       "      <td>84795.5791</td>\n",
       "    </tr>\n",
       "    <tr>\n",
       "      <td>1963</td>\n",
       "      <td>7.836215e+05</td>\n",
       "      <td>2.849990e+06</td>\n",
       "      <td>20606.5104</td>\n",
       "      <td>NaN</td>\n",
       "      <td>88609.4599</td>\n",
       "      <td>NaN</td>\n",
       "      <td>1.407395e+06</td>\n",
       "      <td>258903.1345</td>\n",
       "      <td>131989.3153</td>\n",
       "      <td>4.677551e+05</td>\n",
       "      <td>379464.1001</td>\n",
       "      <td>95267.6498</td>\n",
       "    </tr>\n",
       "    <tr>\n",
       "      <td>1964</td>\n",
       "      <td>8.078094e+05</td>\n",
       "      <td>2.910094e+06</td>\n",
       "      <td>21119.8990</td>\n",
       "      <td>NaN</td>\n",
       "      <td>92894.6728</td>\n",
       "      <td>NaN</td>\n",
       "      <td>1.426616e+06</td>\n",
       "      <td>259543.8939</td>\n",
       "      <td>131372.4133</td>\n",
       "      <td>4.772082e+05</td>\n",
       "      <td>395004.9947</td>\n",
       "      <td>106334.1092</td>\n",
       "    </tr>\n",
       "    <tr>\n",
       "      <td>1965</td>\n",
       "      <td>8.379904e+05</td>\n",
       "      <td>2.971073e+06</td>\n",
       "      <td>21068.5649</td>\n",
       "      <td>NaN</td>\n",
       "      <td>92395.2622</td>\n",
       "      <td>NaN</td>\n",
       "      <td>1.453232e+06</td>\n",
       "      <td>264343.3867</td>\n",
       "      <td>134337.6366</td>\n",
       "      <td>4.879906e+05</td>\n",
       "      <td>394438.5363</td>\n",
       "      <td>123266.8707</td>\n",
       "    </tr>\n",
       "    <tr>\n",
       "      <td>1966</td>\n",
       "      <td>8.752929e+05</td>\n",
       "      <td>3.050038e+06</td>\n",
       "      <td>21435.8203</td>\n",
       "      <td>NaN</td>\n",
       "      <td>97648.0284</td>\n",
       "      <td>NaN</td>\n",
       "      <td>1.484941e+06</td>\n",
       "      <td>268016.1712</td>\n",
       "      <td>137986.2226</td>\n",
       "      <td>4.964990e+05</td>\n",
       "      <td>400351.9645</td>\n",
       "      <td>143159.6411</td>\n",
       "    </tr>\n",
       "    <tr>\n",
       "      <td>1967</td>\n",
       "      <td>9.054521e+05</td>\n",
       "      <td>3.121375e+06</td>\n",
       "      <td>21714.4552</td>\n",
       "      <td>NaN</td>\n",
       "      <td>100340.8951</td>\n",
       "      <td>NaN</td>\n",
       "      <td>1.514403e+06</td>\n",
       "      <td>275698.1244</td>\n",
       "      <td>141471.7620</td>\n",
       "      <td>5.073750e+05</td>\n",
       "      <td>404107.2079</td>\n",
       "      <td>156264.4185</td>\n",
       "    </tr>\n",
       "    <tr>\n",
       "      <td>1968</td>\n",
       "      <td>9.329120e+05</td>\n",
       "      <td>3.180822e+06</td>\n",
       "      <td>21870.0393</td>\n",
       "      <td>NaN</td>\n",
       "      <td>103423.8136</td>\n",
       "      <td>NaN</td>\n",
       "      <td>1.536975e+06</td>\n",
       "      <td>278263.7699</td>\n",
       "      <td>142494.8551</td>\n",
       "      <td>5.175750e+05</td>\n",
       "      <td>410800.6903</td>\n",
       "      <td>169418.3094</td>\n",
       "    </tr>\n",
       "    <tr>\n",
       "      <td>1969</td>\n",
       "      <td>9.526092e+05</td>\n",
       "      <td>3.211459e+06</td>\n",
       "      <td>21724.1911</td>\n",
       "      <td>NaN</td>\n",
       "      <td>103616.0835</td>\n",
       "      <td>NaN</td>\n",
       "      <td>1.544102e+06</td>\n",
       "      <td>277955.6862</td>\n",
       "      <td>142525.0221</td>\n",
       "      <td>5.226995e+05</td>\n",
       "      <td>415067.8733</td>\n",
       "      <td>183768.5941</td>\n",
       "    </tr>\n",
       "    <tr>\n",
       "      <td>1970</td>\n",
       "      <td>9.811472e+05</td>\n",
       "      <td>3.255606e+06</td>\n",
       "      <td>21683.2225</td>\n",
       "      <td>NaN</td>\n",
       "      <td>104877.7435</td>\n",
       "      <td>NaN</td>\n",
       "      <td>1.552681e+06</td>\n",
       "      <td>279530.6480</td>\n",
       "      <td>143446.2332</td>\n",
       "      <td>5.278485e+05</td>\n",
       "      <td>420563.9613</td>\n",
       "      <td>204974.6326</td>\n",
       "    </tr>\n",
       "    <tr>\n",
       "      <td>1971</td>\n",
       "      <td>1.010849e+06</td>\n",
       "      <td>3.325476e+06</td>\n",
       "      <td>22338.7872</td>\n",
       "      <td>NaN</td>\n",
       "      <td>111180.4130</td>\n",
       "      <td>NaN</td>\n",
       "      <td>1.574193e+06</td>\n",
       "      <td>289965.8404</td>\n",
       "      <td>148235.8423</td>\n",
       "      <td>5.349708e+05</td>\n",
       "      <td>428130.1618</td>\n",
       "      <td>216461.4893</td>\n",
       "    </tr>\n",
       "    <tr>\n",
       "      <td>1972</td>\n",
       "      <td>1.036145e+06</td>\n",
       "      <td>3.375277e+06</td>\n",
       "      <td>21969.8573</td>\n",
       "      <td>NaN</td>\n",
       "      <td>108641.7156</td>\n",
       "      <td>NaN</td>\n",
       "      <td>1.600482e+06</td>\n",
       "      <td>295697.5538</td>\n",
       "      <td>151607.4484</td>\n",
       "      <td>5.425990e+05</td>\n",
       "      <td>420982.0391</td>\n",
       "      <td>233296.9019</td>\n",
       "    </tr>\n",
       "    <tr>\n",
       "      <td>1973</td>\n",
       "      <td>1.070896e+06</td>\n",
       "      <td>3.448961e+06</td>\n",
       "      <td>22505.1517</td>\n",
       "      <td>NaN</td>\n",
       "      <td>116481.8711</td>\n",
       "      <td>NaN</td>\n",
       "      <td>1.620861e+06</td>\n",
       "      <td>299523.3889</td>\n",
       "      <td>154042.7442</td>\n",
       "      <td>5.473255e+05</td>\n",
       "      <td>435175.3735</td>\n",
       "      <td>253045.5594</td>\n",
       "    </tr>\n",
       "    <tr>\n",
       "      <td>1974</td>\n",
       "      <td>1.080782e+06</td>\n",
       "      <td>3.505066e+06</td>\n",
       "      <td>22873.5142</td>\n",
       "      <td>NaN</td>\n",
       "      <td>114423.3462</td>\n",
       "      <td>NaN</td>\n",
       "      <td>1.659273e+06</td>\n",
       "      <td>303983.8986</td>\n",
       "      <td>157383.0618</td>\n",
       "      <td>5.609530e+05</td>\n",
       "      <td>438153.1228</td>\n",
       "      <td>248022.4983</td>\n",
       "    </tr>\n",
       "    <tr>\n",
       "      <td>1975</td>\n",
       "      <td>1.135571e+06</td>\n",
       "      <td>3.601213e+06</td>\n",
       "      <td>23364.0277</td>\n",
       "      <td>NaN</td>\n",
       "      <td>116868.2324</td>\n",
       "      <td>NaN</td>\n",
       "      <td>1.687085e+06</td>\n",
       "      <td>304240.9910</td>\n",
       "      <td>159185.0698</td>\n",
       "      <td>5.728041e+05</td>\n",
       "      <td>450952.1335</td>\n",
       "      <td>286713.5511</td>\n",
       "    </tr>\n",
       "    <tr>\n",
       "      <td>1976</td>\n",
       "      <td>1.154337e+06</td>\n",
       "      <td>3.632371e+06</td>\n",
       "      <td>23847.1951</td>\n",
       "      <td>NaN</td>\n",
       "      <td>123460.2075</td>\n",
       "      <td>NaN</td>\n",
       "      <td>1.701607e+06</td>\n",
       "      <td>302489.9649</td>\n",
       "      <td>159143.9590</td>\n",
       "      <td>5.795788e+05</td>\n",
       "      <td>450089.4301</td>\n",
       "      <td>292154.1502</td>\n",
       "    </tr>\n",
       "    <tr>\n",
       "      <td>1977</td>\n",
       "      <td>1.182809e+06</td>\n",
       "      <td>3.673733e+06</td>\n",
       "      <td>23846.5038</td>\n",
       "      <td>NaN</td>\n",
       "      <td>123355.0258</td>\n",
       "      <td>NaN</td>\n",
       "      <td>1.706531e+06</td>\n",
       "      <td>305897.3307</td>\n",
       "      <td>160795.4147</td>\n",
       "      <td>5.816058e+05</td>\n",
       "      <td>454649.9756</td>\n",
       "      <td>317052.4961</td>\n",
       "    </tr>\n",
       "    <tr>\n",
       "      <td>1978</td>\n",
       "      <td>1.228027e+06</td>\n",
       "      <td>3.726871e+06</td>\n",
       "      <td>23865.6801</td>\n",
       "      <td>NaN</td>\n",
       "      <td>131247.4844</td>\n",
       "      <td>NaN</td>\n",
       "      <td>1.710233e+06</td>\n",
       "      <td>309293.3354</td>\n",
       "      <td>163483.5966</td>\n",
       "      <td>5.831174e+05</td>\n",
       "      <td>455453.0516</td>\n",
       "      <td>350178.1944</td>\n",
       "    </tr>\n",
       "    <tr>\n",
       "      <td>1979</td>\n",
       "      <td>1.252336e+06</td>\n",
       "      <td>3.758948e+06</td>\n",
       "      <td>23643.3838</td>\n",
       "      <td>NaN</td>\n",
       "      <td>128648.7673</td>\n",
       "      <td>NaN</td>\n",
       "      <td>1.720497e+06</td>\n",
       "      <td>313922.6570</td>\n",
       "      <td>166662.8613</td>\n",
       "      <td>5.876712e+05</td>\n",
       "      <td>448549.4022</td>\n",
       "      <td>369352.8922</td>\n",
       "    </tr>\n",
       "    <tr>\n",
       "      <td>1980</td>\n",
       "      <td>1.288623e+06</td>\n",
       "      <td>3.830739e+06</td>\n",
       "      <td>24205.1452</td>\n",
       "      <td>NaN</td>\n",
       "      <td>129578.7028</td>\n",
       "      <td>NaN</td>\n",
       "      <td>1.740834e+06</td>\n",
       "      <td>319703.5889</td>\n",
       "      <td>169142.2824</td>\n",
       "      <td>5.976165e+05</td>\n",
       "      <td>457373.5778</td>\n",
       "      <td>392285.6509</td>\n",
       "    </tr>\n",
       "    <tr>\n",
       "      <td>1981</td>\n",
       "      <td>1.299105e+06</td>\n",
       "      <td>3.859544e+06</td>\n",
       "      <td>24479.1104</td>\n",
       "      <td>NaN</td>\n",
       "      <td>134395.2002</td>\n",
       "      <td>NaN</td>\n",
       "      <td>1.756855e+06</td>\n",
       "      <td>319655.5912</td>\n",
       "      <td>169673.9287</td>\n",
       "      <td>6.048424e+05</td>\n",
       "      <td>459449.6679</td>\n",
       "      <td>390193.8625</td>\n",
       "    </tr>\n",
       "    <tr>\n",
       "      <td>1982</td>\n",
       "      <td>1.316477e+06</td>\n",
       "      <td>3.887066e+06</td>\n",
       "      <td>24102.8744</td>\n",
       "      <td>NaN</td>\n",
       "      <td>137759.5188</td>\n",
       "      <td>NaN</td>\n",
       "      <td>1.776852e+06</td>\n",
       "      <td>320761.1288</td>\n",
       "      <td>171087.5416</td>\n",
       "      <td>6.127830e+05</td>\n",
       "      <td>448873.4472</td>\n",
       "      <td>394846.9113</td>\n",
       "    </tr>\n",
       "    <tr>\n",
       "      <td>1983</td>\n",
       "      <td>1.355325e+06</td>\n",
       "      <td>3.938724e+06</td>\n",
       "      <td>23403.8799</td>\n",
       "      <td>NaN</td>\n",
       "      <td>134217.2284</td>\n",
       "      <td>NaN</td>\n",
       "      <td>1.787560e+06</td>\n",
       "      <td>322593.0795</td>\n",
       "      <td>172406.3029</td>\n",
       "      <td>6.154822e+05</td>\n",
       "      <td>449842.7498</td>\n",
       "      <td>433218.8852</td>\n",
       "    </tr>\n",
       "    <tr>\n",
       "      <td>1984</td>\n",
       "      <td>1.391974e+06</td>\n",
       "      <td>3.997649e+06</td>\n",
       "      <td>24270.2134</td>\n",
       "      <td>NaN</td>\n",
       "      <td>143591.9771</td>\n",
       "      <td>NaN</td>\n",
       "      <td>1.798568e+06</td>\n",
       "      <td>326739.2160</td>\n",
       "      <td>175024.2893</td>\n",
       "      <td>6.161359e+05</td>\n",
       "      <td>456096.6882</td>\n",
       "      <td>457222.0044</td>\n",
       "    </tr>\n",
       "    <tr>\n",
       "      <td>1985</td>\n",
       "      <td>1.395070e+06</td>\n",
       "      <td>4.009923e+06</td>\n",
       "      <td>24455.7293</td>\n",
       "      <td>NaN</td>\n",
       "      <td>145483.2354</td>\n",
       "      <td>NaN</td>\n",
       "      <td>1.806972e+06</td>\n",
       "      <td>328437.1675</td>\n",
       "      <td>176316.2311</td>\n",
       "      <td>6.191583e+05</td>\n",
       "      <td>454987.6379</td>\n",
       "      <td>454112.2995</td>\n",
       "    </tr>\n",
       "    <tr>\n",
       "      <td>1986</td>\n",
       "      <td>1.419449e+06</td>\n",
       "      <td>4.053529e+06</td>\n",
       "      <td>24511.7973</td>\n",
       "      <td>NaN</td>\n",
       "      <td>146286.2132</td>\n",
       "      <td>NaN</td>\n",
       "      <td>1.822057e+06</td>\n",
       "      <td>332293.1048</td>\n",
       "      <td>178863.6058</td>\n",
       "      <td>6.264589e+05</td>\n",
       "      <td>455218.7131</td>\n",
       "      <td>467840.4212</td>\n",
       "    </tr>\n",
       "    <tr>\n",
       "      <td>1987</td>\n",
       "      <td>1.442045e+06</td>\n",
       "      <td>4.068555e+06</td>\n",
       "      <td>24031.4972</td>\n",
       "      <td>NaN</td>\n",
       "      <td>142170.4560</td>\n",
       "      <td>NaN</td>\n",
       "      <td>1.823566e+06</td>\n",
       "      <td>332484.1533</td>\n",
       "      <td>180364.4581</td>\n",
       "      <td>6.301790e+05</td>\n",
       "      <td>446427.5802</td>\n",
       "      <td>489331.5225</td>\n",
       "    </tr>\n",
       "    <tr>\n",
       "      <td>1988</td>\n",
       "      <td>1.473053e+06</td>\n",
       "      <td>4.124007e+06</td>\n",
       "      <td>24189.2366</td>\n",
       "      <td>NaN</td>\n",
       "      <td>140311.8588</td>\n",
       "      <td>NaN</td>\n",
       "      <td>1.833513e+06</td>\n",
       "      <td>332206.3573</td>\n",
       "      <td>179916.0625</td>\n",
       "      <td>6.394046e+05</td>\n",
       "      <td>461044.3070</td>\n",
       "      <td>513420.8693</td>\n",
       "    </tr>\n",
       "    <tr>\n",
       "      <td>1989</td>\n",
       "      <td>1.492641e+06</td>\n",
       "      <td>4.181365e+06</td>\n",
       "      <td>24708.4825</td>\n",
       "      <td>NaN</td>\n",
       "      <td>149092.4373</td>\n",
       "      <td>NaN</td>\n",
       "      <td>1.858931e+06</td>\n",
       "      <td>334978.4637</td>\n",
       "      <td>182061.7232</td>\n",
       "      <td>6.524772e+05</td>\n",
       "      <td>470106.2924</td>\n",
       "      <td>509009.6244</td>\n",
       "    </tr>\n",
       "    <tr>\n",
       "      <td>1990</td>\n",
       "      <td>1.616439e+06</td>\n",
       "      <td>4.595257e+06</td>\n",
       "      <td>24717.0561</td>\n",
       "      <td>282352.7424</td>\n",
       "      <td>153792.8085</td>\n",
       "      <td>121055.7969</td>\n",
       "      <td>1.870529e+06</td>\n",
       "      <td>335579.7994</td>\n",
       "      <td>183086.1314</td>\n",
       "      <td>6.603656e+05</td>\n",
       "      <td>465640.3111</td>\n",
       "      <td>498138.6116</td>\n",
       "    </tr>\n",
       "    <tr>\n",
       "      <td>1991</td>\n",
       "      <td>1.603418e+06</td>\n",
       "      <td>4.579783e+06</td>\n",
       "      <td>24732.2360</td>\n",
       "      <td>282352.7424</td>\n",
       "      <td>148964.2115</td>\n",
       "      <td>121055.7969</td>\n",
       "      <td>1.869442e+06</td>\n",
       "      <td>335930.3972</td>\n",
       "      <td>183056.5184</td>\n",
       "      <td>6.621558e+05</td>\n",
       "      <td>463906.5230</td>\n",
       "      <td>488185.9848</td>\n",
       "    </tr>\n",
       "    <tr>\n",
       "      <td>1992</td>\n",
       "      <td>1.598410e+06</td>\n",
       "      <td>4.559813e+06</td>\n",
       "      <td>24959.7771</td>\n",
       "      <td>282352.7424</td>\n",
       "      <td>154200.3638</td>\n",
       "      <td>121055.7969</td>\n",
       "      <td>1.856786e+06</td>\n",
       "      <td>330628.1234</td>\n",
       "      <td>177097.4816</td>\n",
       "      <td>6.706258e+05</td>\n",
       "      <td>466676.0262</td>\n",
       "      <td>475430.6875</td>\n",
       "    </tr>\n",
       "    <tr>\n",
       "      <td>1993</td>\n",
       "      <td>1.585328e+06</td>\n",
       "      <td>4.533061e+06</td>\n",
       "      <td>24464.3589</td>\n",
       "      <td>282352.7424</td>\n",
       "      <td>150952.1409</td>\n",
       "      <td>121055.7969</td>\n",
       "      <td>1.848925e+06</td>\n",
       "      <td>328857.3017</td>\n",
       "      <td>175697.0735</td>\n",
       "      <td>6.703849e+05</td>\n",
       "      <td>463133.4200</td>\n",
       "      <td>467238.4612</td>\n",
       "    </tr>\n",
       "    <tr>\n",
       "      <td>1994</td>\n",
       "      <td>1.598945e+06</td>\n",
       "      <td>4.567713e+06</td>\n",
       "      <td>24818.6244</td>\n",
       "      <td>282352.7424</td>\n",
       "      <td>153279.4451</td>\n",
       "      <td>121055.7969</td>\n",
       "      <td>1.863549e+06</td>\n",
       "      <td>330744.9943</td>\n",
       "      <td>176292.5466</td>\n",
       "      <td>6.808097e+05</td>\n",
       "      <td>467301.9926</td>\n",
       "      <td>467507.9555</td>\n",
       "    </tr>\n",
       "    <tr>\n",
       "      <td>1995</td>\n",
       "      <td>1.640517e+06</td>\n",
       "      <td>4.623785e+06</td>\n",
       "      <td>24824.0147</td>\n",
       "      <td>282352.7424</td>\n",
       "      <td>150323.6122</td>\n",
       "      <td>121055.7969</td>\n",
       "      <td>1.869007e+06</td>\n",
       "      <td>331020.4441</td>\n",
       "      <td>175732.4290</td>\n",
       "      <td>6.876357e+05</td>\n",
       "      <td>476063.9488</td>\n",
       "      <td>505768.9935</td>\n",
       "    </tr>\n",
       "    <tr>\n",
       "      <td>1996</td>\n",
       "      <td>1.681865e+06</td>\n",
       "      <td>4.621037e+06</td>\n",
       "      <td>25436.1520</td>\n",
       "      <td>232588.6487</td>\n",
       "      <td>159427.2629</td>\n",
       "      <td>121055.7969</td>\n",
       "      <td>1.868072e+06</td>\n",
       "      <td>331691.9915</td>\n",
       "      <td>175035.7636</td>\n",
       "      <td>6.932556e+05</td>\n",
       "      <td>481383.2635</td>\n",
       "      <td>533090.2574</td>\n",
       "    </tr>\n",
       "    <tr>\n",
       "      <td>1997</td>\n",
       "      <td>1.668784e+06</td>\n",
       "      <td>4.557004e+06</td>\n",
       "      <td>25687.1636</td>\n",
       "      <td>224112.5034</td>\n",
       "      <td>162904.2789</td>\n",
       "      <td>121055.7969</td>\n",
       "      <td>1.834491e+06</td>\n",
       "      <td>319777.8529</td>\n",
       "      <td>170199.1858</td>\n",
       "      <td>6.897522e+05</td>\n",
       "      <td>484151.6063</td>\n",
       "      <td>524872.6128</td>\n",
       "    </tr>\n",
       "    <tr>\n",
       "      <td>1998</td>\n",
       "      <td>1.678584e+06</td>\n",
       "      <td>4.609039e+06</td>\n",
       "      <td>25319.2763</td>\n",
       "      <td>265852.6264</td>\n",
       "      <td>162030.6438</td>\n",
       "      <td>121055.7969</td>\n",
       "      <td>1.836925e+06</td>\n",
       "      <td>320710.5077</td>\n",
       "      <td>168026.2568</td>\n",
       "      <td>6.929363e+05</td>\n",
       "      <td>481648.1404</td>\n",
       "      <td>534534.5612</td>\n",
       "    </tr>\n",
       "    <tr>\n",
       "      <td>1999</td>\n",
       "      <td>1.700316e+06</td>\n",
       "      <td>4.659399e+06</td>\n",
       "      <td>25186.8298</td>\n",
       "      <td>270997.4997</td>\n",
       "      <td>161666.0206</td>\n",
       "      <td>121055.7969</td>\n",
       "      <td>1.841358e+06</td>\n",
       "      <td>320960.2524</td>\n",
       "      <td>168449.8329</td>\n",
       "      <td>7.010378e+05</td>\n",
       "      <td>500580.1921</td>\n",
       "      <td>548106.5386</td>\n",
       "    </tr>\n",
       "    <tr>\n",
       "      <td>2000</td>\n",
       "      <td>1.681389e+06</td>\n",
       "      <td>4.651613e+06</td>\n",
       "      <td>25103.7366</td>\n",
       "      <td>284014.7437</td>\n",
       "      <td>160948.8496</td>\n",
       "      <td>121055.7969</td>\n",
       "      <td>1.849131e+06</td>\n",
       "      <td>322013.6595</td>\n",
       "      <td>169989.8833</td>\n",
       "      <td>7.079448e+05</td>\n",
       "      <td>489960.5766</td>\n",
       "      <td>521449.4897</td>\n",
       "    </tr>\n",
       "    <tr>\n",
       "      <td>2001</td>\n",
       "      <td>1.697427e+06</td>\n",
       "      <td>4.717436e+06</td>\n",
       "      <td>25049.6753</td>\n",
       "      <td>341618.3250</td>\n",
       "      <td>164029.7611</td>\n",
       "      <td>121054.9025</td>\n",
       "      <td>1.850162e+06</td>\n",
       "      <td>319675.8964</td>\n",
       "      <td>169488.0333</td>\n",
       "      <td>7.124289e+05</td>\n",
       "      <td>483502.7197</td>\n",
       "      <td>530425.1676</td>\n",
       "    </tr>\n",
       "    <tr>\n",
       "      <td>2002</td>\n",
       "      <td>1.716286e+06</td>\n",
       "      <td>4.753139e+06</td>\n",
       "      <td>24927.6397</td>\n",
       "      <td>350895.3832</td>\n",
       "      <td>161510.9498</td>\n",
       "      <td>121306.9214</td>\n",
       "      <td>1.866820e+06</td>\n",
       "      <td>321388.6145</td>\n",
       "      <td>171725.7327</td>\n",
       "      <td>7.233786e+05</td>\n",
       "      <td>472821.3169</td>\n",
       "      <td>538363.9128</td>\n",
       "    </tr>\n",
       "    <tr>\n",
       "      <td>2003</td>\n",
       "      <td>1.752851e+06</td>\n",
       "      <td>4.745256e+06</td>\n",
       "      <td>25288.8308</td>\n",
       "      <td>285049.6661</td>\n",
       "      <td>162586.8440</td>\n",
       "      <td>121564.8567</td>\n",
       "      <td>1.888390e+06</td>\n",
       "      <td>321982.4816</td>\n",
       "      <td>171613.2828</td>\n",
       "      <td>7.347606e+05</td>\n",
       "      <td>471692.9610</td>\n",
       "      <td>562325.6887</td>\n",
       "    </tr>\n",
       "    <tr>\n",
       "      <td>2004</td>\n",
       "      <td>1.796511e+06</td>\n",
       "      <td>4.847669e+06</td>\n",
       "      <td>25855.4582</td>\n",
       "      <td>310333.3285</td>\n",
       "      <td>175924.6771</td>\n",
       "      <td>121924.6215</td>\n",
       "      <td>1.910391e+06</td>\n",
       "      <td>322338.5170</td>\n",
       "      <td>172601.5686</td>\n",
       "      <td>7.477231e+05</td>\n",
       "      <td>482239.6354</td>\n",
       "      <td>578336.9437</td>\n",
       "    </tr>\n",
       "    <tr>\n",
       "      <td>2005</td>\n",
       "      <td>1.817855e+06</td>\n",
       "      <td>4.880774e+06</td>\n",
       "      <td>26267.2101</td>\n",
       "      <td>289190.6918</td>\n",
       "      <td>175962.9932</td>\n",
       "      <td>122541.2565</td>\n",
       "      <td>1.930276e+06</td>\n",
       "      <td>324081.5590</td>\n",
       "      <td>174249.4566</td>\n",
       "      <td>7.604409e+05</td>\n",
       "      <td>493103.8317</td>\n",
       "      <td>584660.2193</td>\n",
       "    </tr>\n",
       "    <tr>\n",
       "      <td>2006</td>\n",
       "      <td>1.837577e+06</td>\n",
       "      <td>4.926418e+06</td>\n",
       "      <td>26055.3886</td>\n",
       "      <td>294003.7226</td>\n",
       "      <td>175555.1297</td>\n",
       "      <td>123294.6685</td>\n",
       "      <td>1.946545e+06</td>\n",
       "      <td>327442.7177</td>\n",
       "      <td>176104.7973</td>\n",
       "      <td>7.672182e+05</td>\n",
       "      <td>494793.5447</td>\n",
       "      <td>595404.6033</td>\n",
       "    </tr>\n",
       "    <tr>\n",
       "      <td>2007</td>\n",
       "      <td>1.882397e+06</td>\n",
       "      <td>5.010669e+06</td>\n",
       "      <td>27054.0597</td>\n",
       "      <td>313722.1040</td>\n",
       "      <td>179312.1785</td>\n",
       "      <td>124197.7248</td>\n",
       "      <td>1.962940e+06</td>\n",
       "      <td>329016.6138</td>\n",
       "      <td>177799.3128</td>\n",
       "      <td>7.781880e+05</td>\n",
       "      <td>495539.3748</td>\n",
       "      <td>622899.3968</td>\n",
       "    </tr>\n",
       "    <tr>\n",
       "      <td>2008</td>\n",
       "      <td>1.900219e+06</td>\n",
       "      <td>5.021245e+06</td>\n",
       "      <td>27896.3004</td>\n",
       "      <td>275239.2787</td>\n",
       "      <td>191269.0917</td>\n",
       "      <td>124822.0972</td>\n",
       "      <td>1.976070e+06</td>\n",
       "      <td>332665.0353</td>\n",
       "      <td>180061.2484</td>\n",
       "      <td>7.859055e+05</td>\n",
       "      <td>509156.6979</td>\n",
       "      <td>618160.6343</td>\n",
       "    </tr>\n",
       "    <tr>\n",
       "      <td>2009</td>\n",
       "      <td>1.914728e+06</td>\n",
       "      <td>5.016259e+06</td>\n",
       "      <td>27529.0933</td>\n",
       "      <td>248648.6019</td>\n",
       "      <td>188898.9190</td>\n",
       "      <td>125210.9794</td>\n",
       "      <td>1.983924e+06</td>\n",
       "      <td>333966.5436</td>\n",
       "      <td>181608.8464</td>\n",
       "      <td>7.917358e+05</td>\n",
       "      <td>507462.6269</td>\n",
       "      <td>627273.2343</td>\n",
       "    </tr>\n",
       "    <tr>\n",
       "      <td>2010</td>\n",
       "      <td>1.945231e+06</td>\n",
       "      <td>5.088785e+06</td>\n",
       "      <td>27795.6181</td>\n",
       "      <td>274288.2064</td>\n",
       "      <td>189108.4205</td>\n",
       "      <td>126027.1311</td>\n",
       "      <td>1.986936e+06</td>\n",
       "      <td>336359.5371</td>\n",
       "      <td>183625.3670</td>\n",
       "      <td>7.953540e+05</td>\n",
       "      <td>518174.9807</td>\n",
       "      <td>651115.8941</td>\n",
       "    </tr>\n",
       "    <tr>\n",
       "      <td>2011</td>\n",
       "      <td>1.979756e+06</td>\n",
       "      <td>5.218047e+06</td>\n",
       "      <td>28654.3249</td>\n",
       "      <td>357825.6305</td>\n",
       "      <td>196771.8855</td>\n",
       "      <td>126734.8339</td>\n",
       "      <td>1.996340e+06</td>\n",
       "      <td>335423.2213</td>\n",
       "      <td>182708.2230</td>\n",
       "      <td>8.015966e+05</td>\n",
       "      <td>520047.7943</td>\n",
       "      <td>671943.9293</td>\n",
       "    </tr>\n",
       "    <tr>\n",
       "      <td>2012</td>\n",
       "      <td>1.994852e+06</td>\n",
       "      <td>5.231983e+06</td>\n",
       "      <td>29264.2600</td>\n",
       "      <td>340397.2891</td>\n",
       "      <td>193947.3404</td>\n",
       "      <td>127270.0527</td>\n",
       "      <td>2.010216e+06</td>\n",
       "      <td>337274.4782</td>\n",
       "      <td>184239.4079</td>\n",
       "      <td>8.120073e+05</td>\n",
       "      <td>519978.6138</td>\n",
       "      <td>677388.3324</td>\n",
       "    </tr>\n",
       "    <tr>\n",
       "      <td>2013</td>\n",
       "      <td>2.030193e+06</td>\n",
       "      <td>5.176417e+06</td>\n",
       "      <td>30014.0468</td>\n",
       "      <td>233804.8211</td>\n",
       "      <td>207442.7064</td>\n",
       "      <td>127469.8977</td>\n",
       "      <td>2.019125e+06</td>\n",
       "      <td>337574.9807</td>\n",
       "      <td>185059.3991</td>\n",
       "      <td>8.195746e+05</td>\n",
       "      <td>525704.2273</td>\n",
       "      <td>690646.5802</td>\n",
       "    </tr>\n",
       "    <tr>\n",
       "      <td>2014</td>\n",
       "      <td>2.044732e+06</td>\n",
       "      <td>5.219062e+06</td>\n",
       "      <td>29918.7008</td>\n",
       "      <td>250828.4880</td>\n",
       "      <td>211849.5421</td>\n",
       "      <td>127910.0548</td>\n",
       "      <td>2.030803e+06</td>\n",
       "      <td>340838.5672</td>\n",
       "      <td>186180.9611</td>\n",
       "      <td>8.257059e+05</td>\n",
       "      <td>521941.6929</td>\n",
       "      <td>693085.3777</td>\n",
       "    </tr>\n",
       "    <tr>\n",
       "      <td>2015</td>\n",
       "      <td>2.065885e+06</td>\n",
       "      <td>5.277803e+06</td>\n",
       "      <td>30308.2518</td>\n",
       "      <td>253500.8312</td>\n",
       "      <td>215231.2088</td>\n",
       "      <td>127889.6925</td>\n",
       "      <td>2.066774e+06</td>\n",
       "      <td>345032.6598</td>\n",
       "      <td>188670.9096</td>\n",
       "      <td>8.474137e+05</td>\n",
       "      <td>516302.0327</td>\n",
       "      <td>686679.6433</td>\n",
       "    </tr>\n",
       "    <tr>\n",
       "      <td>2016</td>\n",
       "      <td>2.095088e+06</td>\n",
       "      <td>5.326002e+06</td>\n",
       "      <td>30700.1972</td>\n",
       "      <td>232494.9324</td>\n",
       "      <td>218879.0176</td>\n",
       "      <td>127889.6925</td>\n",
       "      <td>2.093665e+06</td>\n",
       "      <td>348716.8116</td>\n",
       "      <td>190881.1855</td>\n",
       "      <td>8.614648e+05</td>\n",
       "      <td>525336.9266</td>\n",
       "      <td>695973.2048</td>\n",
       "    </tr>\n",
       "    <tr>\n",
       "      <td>2017</td>\n",
       "      <td>2.114249e+06</td>\n",
       "      <td>5.410477e+06</td>\n",
       "      <td>30848.4542</td>\n",
       "      <td>282352.7424</td>\n",
       "      <td>223915.1636</td>\n",
       "      <td>127889.6925</td>\n",
       "      <td>2.100076e+06</td>\n",
       "      <td>349705.3685</td>\n",
       "      <td>191129.0905</td>\n",
       "      <td>8.668727e+05</td>\n",
       "      <td>533245.4818</td>\n",
       "      <td>704441.9120</td>\n",
       "    </tr>\n",
       "    <tr>\n",
       "      <td>2030</td>\n",
       "      <td>2.289066e+06</td>\n",
       "      <td>5.761294e+06</td>\n",
       "      <td>28279.6566</td>\n",
       "      <td>256069.3740</td>\n",
       "      <td>217380.1387</td>\n",
       "      <td>125766.8114</td>\n",
       "      <td>2.296596e+06</td>\n",
       "      <td>388392.5911</td>\n",
       "      <td>217432.1449</td>\n",
       "      <td>9.457915e+05</td>\n",
       "      <td>502889.9034</td>\n",
       "      <td>782695.4670</td>\n",
       "    </tr>\n",
       "    <tr>\n",
       "      <td>2050</td>\n",
       "      <td>2.561693e+06</td>\n",
       "      <td>6.317832e+06</td>\n",
       "      <td>29126.8911</td>\n",
       "      <td>256069.3740</td>\n",
       "      <td>235627.9225</td>\n",
       "      <td>125766.8114</td>\n",
       "      <td>2.549247e+06</td>\n",
       "      <td>428245.2917</td>\n",
       "      <td>243883.0518</td>\n",
       "      <td>1.079645e+06</td>\n",
       "      <td>493451.3766</td>\n",
       "      <td>876770.2495</td>\n",
       "    </tr>\n",
       "  </tbody>\n",
       "</table>\n",
       "</div>"
      ],
      "text/plain": [
       "Item  Agricultural Soils  Agriculture total  Burning - Crop residues  \\\n",
       "Year                                                                   \n",
       "1961        7.423140e+05       2.751474e+06               20108.5834   \n",
       "1962        7.653188e+05       2.813011e+06               20233.7001   \n",
       "1963        7.836215e+05       2.849990e+06               20606.5104   \n",
       "1964        8.078094e+05       2.910094e+06               21119.8990   \n",
       "1965        8.379904e+05       2.971073e+06               21068.5649   \n",
       "1966        8.752929e+05       3.050038e+06               21435.8203   \n",
       "1967        9.054521e+05       3.121375e+06               21714.4552   \n",
       "1968        9.329120e+05       3.180822e+06               21870.0393   \n",
       "1969        9.526092e+05       3.211459e+06               21724.1911   \n",
       "1970        9.811472e+05       3.255606e+06               21683.2225   \n",
       "1971        1.010849e+06       3.325476e+06               22338.7872   \n",
       "1972        1.036145e+06       3.375277e+06               21969.8573   \n",
       "1973        1.070896e+06       3.448961e+06               22505.1517   \n",
       "1974        1.080782e+06       3.505066e+06               22873.5142   \n",
       "1975        1.135571e+06       3.601213e+06               23364.0277   \n",
       "1976        1.154337e+06       3.632371e+06               23847.1951   \n",
       "1977        1.182809e+06       3.673733e+06               23846.5038   \n",
       "1978        1.228027e+06       3.726871e+06               23865.6801   \n",
       "1979        1.252336e+06       3.758948e+06               23643.3838   \n",
       "1980        1.288623e+06       3.830739e+06               24205.1452   \n",
       "1981        1.299105e+06       3.859544e+06               24479.1104   \n",
       "1982        1.316477e+06       3.887066e+06               24102.8744   \n",
       "1983        1.355325e+06       3.938724e+06               23403.8799   \n",
       "1984        1.391974e+06       3.997649e+06               24270.2134   \n",
       "1985        1.395070e+06       4.009923e+06               24455.7293   \n",
       "1986        1.419449e+06       4.053529e+06               24511.7973   \n",
       "1987        1.442045e+06       4.068555e+06               24031.4972   \n",
       "1988        1.473053e+06       4.124007e+06               24189.2366   \n",
       "1989        1.492641e+06       4.181365e+06               24708.4825   \n",
       "1990        1.616439e+06       4.595257e+06               24717.0561   \n",
       "1991        1.603418e+06       4.579783e+06               24732.2360   \n",
       "1992        1.598410e+06       4.559813e+06               24959.7771   \n",
       "1993        1.585328e+06       4.533061e+06               24464.3589   \n",
       "1994        1.598945e+06       4.567713e+06               24818.6244   \n",
       "1995        1.640517e+06       4.623785e+06               24824.0147   \n",
       "1996        1.681865e+06       4.621037e+06               25436.1520   \n",
       "1997        1.668784e+06       4.557004e+06               25687.1636   \n",
       "1998        1.678584e+06       4.609039e+06               25319.2763   \n",
       "1999        1.700316e+06       4.659399e+06               25186.8298   \n",
       "2000        1.681389e+06       4.651613e+06               25103.7366   \n",
       "2001        1.697427e+06       4.717436e+06               25049.6753   \n",
       "2002        1.716286e+06       4.753139e+06               24927.6397   \n",
       "2003        1.752851e+06       4.745256e+06               25288.8308   \n",
       "2004        1.796511e+06       4.847669e+06               25855.4582   \n",
       "2005        1.817855e+06       4.880774e+06               26267.2101   \n",
       "2006        1.837577e+06       4.926418e+06               26055.3886   \n",
       "2007        1.882397e+06       5.010669e+06               27054.0597   \n",
       "2008        1.900219e+06       5.021245e+06               27896.3004   \n",
       "2009        1.914728e+06       5.016259e+06               27529.0933   \n",
       "2010        1.945231e+06       5.088785e+06               27795.6181   \n",
       "2011        1.979756e+06       5.218047e+06               28654.3249   \n",
       "2012        1.994852e+06       5.231983e+06               29264.2600   \n",
       "2013        2.030193e+06       5.176417e+06               30014.0468   \n",
       "2014        2.044732e+06       5.219062e+06               29918.7008   \n",
       "2015        2.065885e+06       5.277803e+06               30308.2518   \n",
       "2016        2.095088e+06       5.326002e+06               30700.1972   \n",
       "2017        2.114249e+06       5.410477e+06               30848.4542   \n",
       "2030        2.289066e+06       5.761294e+06               28279.6566   \n",
       "2050        2.561693e+06       6.317832e+06               29126.8911   \n",
       "\n",
       "Item  Burning - Savanna  Crop Residues  Cultivation of Organic Soils  \\\n",
       "Year                                                                   \n",
       "1961                NaN     84002.9553                           NaN   \n",
       "1962                NaN     87863.9442                           NaN   \n",
       "1963                NaN     88609.4599                           NaN   \n",
       "1964                NaN     92894.6728                           NaN   \n",
       "1965                NaN     92395.2622                           NaN   \n",
       "1966                NaN     97648.0284                           NaN   \n",
       "1967                NaN    100340.8951                           NaN   \n",
       "1968                NaN    103423.8136                           NaN   \n",
       "1969                NaN    103616.0835                           NaN   \n",
       "1970                NaN    104877.7435                           NaN   \n",
       "1971                NaN    111180.4130                           NaN   \n",
       "1972                NaN    108641.7156                           NaN   \n",
       "1973                NaN    116481.8711                           NaN   \n",
       "1974                NaN    114423.3462                           NaN   \n",
       "1975                NaN    116868.2324                           NaN   \n",
       "1976                NaN    123460.2075                           NaN   \n",
       "1977                NaN    123355.0258                           NaN   \n",
       "1978                NaN    131247.4844                           NaN   \n",
       "1979                NaN    128648.7673                           NaN   \n",
       "1980                NaN    129578.7028                           NaN   \n",
       "1981                NaN    134395.2002                           NaN   \n",
       "1982                NaN    137759.5188                           NaN   \n",
       "1983                NaN    134217.2284                           NaN   \n",
       "1984                NaN    143591.9771                           NaN   \n",
       "1985                NaN    145483.2354                           NaN   \n",
       "1986                NaN    146286.2132                           NaN   \n",
       "1987                NaN    142170.4560                           NaN   \n",
       "1988                NaN    140311.8588                           NaN   \n",
       "1989                NaN    149092.4373                           NaN   \n",
       "1990        282352.7424    153792.8085                   121055.7969   \n",
       "1991        282352.7424    148964.2115                   121055.7969   \n",
       "1992        282352.7424    154200.3638                   121055.7969   \n",
       "1993        282352.7424    150952.1409                   121055.7969   \n",
       "1994        282352.7424    153279.4451                   121055.7969   \n",
       "1995        282352.7424    150323.6122                   121055.7969   \n",
       "1996        232588.6487    159427.2629                   121055.7969   \n",
       "1997        224112.5034    162904.2789                   121055.7969   \n",
       "1998        265852.6264    162030.6438                   121055.7969   \n",
       "1999        270997.4997    161666.0206                   121055.7969   \n",
       "2000        284014.7437    160948.8496                   121055.7969   \n",
       "2001        341618.3250    164029.7611                   121054.9025   \n",
       "2002        350895.3832    161510.9498                   121306.9214   \n",
       "2003        285049.6661    162586.8440                   121564.8567   \n",
       "2004        310333.3285    175924.6771                   121924.6215   \n",
       "2005        289190.6918    175962.9932                   122541.2565   \n",
       "2006        294003.7226    175555.1297                   123294.6685   \n",
       "2007        313722.1040    179312.1785                   124197.7248   \n",
       "2008        275239.2787    191269.0917                   124822.0972   \n",
       "2009        248648.6019    188898.9190                   125210.9794   \n",
       "2010        274288.2064    189108.4205                   126027.1311   \n",
       "2011        357825.6305    196771.8855                   126734.8339   \n",
       "2012        340397.2891    193947.3404                   127270.0527   \n",
       "2013        233804.8211    207442.7064                   127469.8977   \n",
       "2014        250828.4880    211849.5421                   127910.0548   \n",
       "2015        253500.8312    215231.2088                   127889.6925   \n",
       "2016        232494.9324    218879.0176                   127889.6925   \n",
       "2017        282352.7424    223915.1636                   127889.6925   \n",
       "2030        256069.3740    217380.1387                   125766.8114   \n",
       "2050        256069.3740    235627.9225                   125766.8114   \n",
       "\n",
       "Item  Enteric Fermentation  Manure Management  Manure applied to Soils  \\\n",
       "Year                                                                     \n",
       "1961          1.372453e+06        250642.7499              127533.0080   \n",
       "1962          1.392502e+06        255847.4235              130164.1889   \n",
       "1963          1.407395e+06        258903.1345              131989.3153   \n",
       "1964          1.426616e+06        259543.8939              131372.4133   \n",
       "1965          1.453232e+06        264343.3867              134337.6366   \n",
       "1966          1.484941e+06        268016.1712              137986.2226   \n",
       "1967          1.514403e+06        275698.1244              141471.7620   \n",
       "1968          1.536975e+06        278263.7699              142494.8551   \n",
       "1969          1.544102e+06        277955.6862              142525.0221   \n",
       "1970          1.552681e+06        279530.6480              143446.2332   \n",
       "1971          1.574193e+06        289965.8404              148235.8423   \n",
       "1972          1.600482e+06        295697.5538              151607.4484   \n",
       "1973          1.620861e+06        299523.3889              154042.7442   \n",
       "1974          1.659273e+06        303983.8986              157383.0618   \n",
       "1975          1.687085e+06        304240.9910              159185.0698   \n",
       "1976          1.701607e+06        302489.9649              159143.9590   \n",
       "1977          1.706531e+06        305897.3307              160795.4147   \n",
       "1978          1.710233e+06        309293.3354              163483.5966   \n",
       "1979          1.720497e+06        313922.6570              166662.8613   \n",
       "1980          1.740834e+06        319703.5889              169142.2824   \n",
       "1981          1.756855e+06        319655.5912              169673.9287   \n",
       "1982          1.776852e+06        320761.1288              171087.5416   \n",
       "1983          1.787560e+06        322593.0795              172406.3029   \n",
       "1984          1.798568e+06        326739.2160              175024.2893   \n",
       "1985          1.806972e+06        328437.1675              176316.2311   \n",
       "1986          1.822057e+06        332293.1048              178863.6058   \n",
       "1987          1.823566e+06        332484.1533              180364.4581   \n",
       "1988          1.833513e+06        332206.3573              179916.0625   \n",
       "1989          1.858931e+06        334978.4637              182061.7232   \n",
       "1990          1.870529e+06        335579.7994              183086.1314   \n",
       "1991          1.869442e+06        335930.3972              183056.5184   \n",
       "1992          1.856786e+06        330628.1234              177097.4816   \n",
       "1993          1.848925e+06        328857.3017              175697.0735   \n",
       "1994          1.863549e+06        330744.9943              176292.5466   \n",
       "1995          1.869007e+06        331020.4441              175732.4290   \n",
       "1996          1.868072e+06        331691.9915              175035.7636   \n",
       "1997          1.834491e+06        319777.8529              170199.1858   \n",
       "1998          1.836925e+06        320710.5077              168026.2568   \n",
       "1999          1.841358e+06        320960.2524              168449.8329   \n",
       "2000          1.849131e+06        322013.6595              169989.8833   \n",
       "2001          1.850162e+06        319675.8964              169488.0333   \n",
       "2002          1.866820e+06        321388.6145              171725.7327   \n",
       "2003          1.888390e+06        321982.4816              171613.2828   \n",
       "2004          1.910391e+06        322338.5170              172601.5686   \n",
       "2005          1.930276e+06        324081.5590              174249.4566   \n",
       "2006          1.946545e+06        327442.7177              176104.7973   \n",
       "2007          1.962940e+06        329016.6138              177799.3128   \n",
       "2008          1.976070e+06        332665.0353              180061.2484   \n",
       "2009          1.983924e+06        333966.5436              181608.8464   \n",
       "2010          1.986936e+06        336359.5371              183625.3670   \n",
       "2011          1.996340e+06        335423.2213              182708.2230   \n",
       "2012          2.010216e+06        337274.4782              184239.4079   \n",
       "2013          2.019125e+06        337574.9807              185059.3991   \n",
       "2014          2.030803e+06        340838.5672              186180.9611   \n",
       "2015          2.066774e+06        345032.6598              188670.9096   \n",
       "2016          2.093665e+06        348716.8116              190881.1855   \n",
       "2017          2.100076e+06        349705.3685              191129.0905   \n",
       "2030          2.296596e+06        388392.5911              217432.1449   \n",
       "2050          2.549247e+06        428245.2917              243883.0518   \n",
       "\n",
       "Item  Manure left on Pasture  Rice Cultivation  Synthetic Fertilizers  \n",
       "Year                                                                   \n",
       "1961            4.559833e+05       365955.9325             74794.7749  \n",
       "1962            4.624951e+05       379109.0457             84795.5791  \n",
       "1963            4.677551e+05       379464.1001             95267.6498  \n",
       "1964            4.772082e+05       395004.9947            106334.1092  \n",
       "1965            4.879906e+05       394438.5363            123266.8707  \n",
       "1966            4.964990e+05       400351.9645            143159.6411  \n",
       "1967            5.073750e+05       404107.2079            156264.4185  \n",
       "1968            5.175750e+05       410800.6903            169418.3094  \n",
       "1969            5.226995e+05       415067.8733            183768.5941  \n",
       "1970            5.278485e+05       420563.9613            204974.6326  \n",
       "1971            5.349708e+05       428130.1618            216461.4893  \n",
       "1972            5.425990e+05       420982.0391            233296.9019  \n",
       "1973            5.473255e+05       435175.3735            253045.5594  \n",
       "1974            5.609530e+05       438153.1228            248022.4983  \n",
       "1975            5.728041e+05       450952.1335            286713.5511  \n",
       "1976            5.795788e+05       450089.4301            292154.1502  \n",
       "1977            5.816058e+05       454649.9756            317052.4961  \n",
       "1978            5.831174e+05       455453.0516            350178.1944  \n",
       "1979            5.876712e+05       448549.4022            369352.8922  \n",
       "1980            5.976165e+05       457373.5778            392285.6509  \n",
       "1981            6.048424e+05       459449.6679            390193.8625  \n",
       "1982            6.127830e+05       448873.4472            394846.9113  \n",
       "1983            6.154822e+05       449842.7498            433218.8852  \n",
       "1984            6.161359e+05       456096.6882            457222.0044  \n",
       "1985            6.191583e+05       454987.6379            454112.2995  \n",
       "1986            6.264589e+05       455218.7131            467840.4212  \n",
       "1987            6.301790e+05       446427.5802            489331.5225  \n",
       "1988            6.394046e+05       461044.3070            513420.8693  \n",
       "1989            6.524772e+05       470106.2924            509009.6244  \n",
       "1990            6.603656e+05       465640.3111            498138.6116  \n",
       "1991            6.621558e+05       463906.5230            488185.9848  \n",
       "1992            6.706258e+05       466676.0262            475430.6875  \n",
       "1993            6.703849e+05       463133.4200            467238.4612  \n",
       "1994            6.808097e+05       467301.9926            467507.9555  \n",
       "1995            6.876357e+05       476063.9488            505768.9935  \n",
       "1996            6.932556e+05       481383.2635            533090.2574  \n",
       "1997            6.897522e+05       484151.6063            524872.6128  \n",
       "1998            6.929363e+05       481648.1404            534534.5612  \n",
       "1999            7.010378e+05       500580.1921            548106.5386  \n",
       "2000            7.079448e+05       489960.5766            521449.4897  \n",
       "2001            7.124289e+05       483502.7197            530425.1676  \n",
       "2002            7.233786e+05       472821.3169            538363.9128  \n",
       "2003            7.347606e+05       471692.9610            562325.6887  \n",
       "2004            7.477231e+05       482239.6354            578336.9437  \n",
       "2005            7.604409e+05       493103.8317            584660.2193  \n",
       "2006            7.672182e+05       494793.5447            595404.6033  \n",
       "2007            7.781880e+05       495539.3748            622899.3968  \n",
       "2008            7.859055e+05       509156.6979            618160.6343  \n",
       "2009            7.917358e+05       507462.6269            627273.2343  \n",
       "2010            7.953540e+05       518174.9807            651115.8941  \n",
       "2011            8.015966e+05       520047.7943            671943.9293  \n",
       "2012            8.120073e+05       519978.6138            677388.3324  \n",
       "2013            8.195746e+05       525704.2273            690646.5802  \n",
       "2014            8.257059e+05       521941.6929            693085.3777  \n",
       "2015            8.474137e+05       516302.0327            686679.6433  \n",
       "2016            8.614648e+05       525336.9266            695973.2048  \n",
       "2017            8.668727e+05       533245.4818            704441.9120  \n",
       "2030            9.457915e+05       502889.9034            782695.4670  \n",
       "2050            1.079645e+06       493451.3766            876770.2495  "
      ]
     },
     "execution_count": 13,
     "metadata": {},
     "output_type": "execute_result"
    }
   ],
   "source": [
    "# Let us have a quick look at the data\n",
    "emissions_world"
   ]
  },
  {
   "cell_type": "markdown",
   "metadata": {
    "Collapsed": "false"
   },
   "source": [
    "We can see that our data contains NaN values for 'Burning Savanna' and 'Cultivation of Organic Soils'. Is this just in the world data, or is there no data available at all? "
   ]
  },
  {
   "cell_type": "code",
   "execution_count": 14,
   "metadata": {
    "Collapsed": "false"
   },
   "outputs": [
    {
     "name": "stdout",
     "output_type": "stream",
     "text": [
      "[1990 1991 1992 1993 1994 1995 1996 1997 1998 1999 2000 2001 2002 2003\n",
      " 2004 2005 2006 2007 2008 2009 2010 2011 2012 2013 2014 2015 2016 2017\n",
      " 2030 2050]\n",
      "[1990 1991 1992 1993 1994 1995 1996 1997 1998 1999 2000 2001 2002 2003\n",
      " 2004 2005 2006 2007 2008 2009 2010 2011 2012 2013 2014 2015 2016 2017\n",
      " 2030 2050]\n"
     ]
    }
   ],
   "source": [
    "print(emissions_total.loc[(emissions_total['Item'] == \"Burning - Savanna\")].Year.unique())\n",
    "print(emissions_total.loc[(emissions_total['Item'] == \"Cultivation of Organic Soils\")].Year.unique())"
   ]
  },
  {
   "cell_type": "markdown",
   "metadata": {
    "Collapsed": "false"
   },
   "source": [
    "There is no data available before 1990 (but we can assume that there was emission from these factors before that year. We will continue from the year 1990."
   ]
  },
  {
   "cell_type": "code",
   "execution_count": 15,
   "metadata": {
    "Collapsed": "false"
   },
   "outputs": [],
   "source": [
    "emissions_world = emissions_world[~emissions_world.isna().any(axis=1)]"
   ]
  },
  {
   "cell_type": "code",
   "execution_count": 16,
   "metadata": {
    "Collapsed": "false"
   },
   "outputs": [],
   "source": [
    "%%capture\n",
    "# Group by animal and vegetal\n",
    "emissions_world['Animal'] = emissions_world[animal_emissions].sum(axis=1)\n",
    "emissions_world['Vegetal'] = emissions_world[vegetal_emissions].sum(axis=1)\n",
    "emissions_world = emissions_world[['Animal', 'Vegetal']]"
   ]
  },
  {
   "cell_type": "code",
   "execution_count": 17,
   "metadata": {
    "Collapsed": "false"
   },
   "outputs": [
    {
     "data": {
      "image/png": "[encoded data removed]",
      "text/plain": [
       "<Figure size 864x576 with 1 Axes>"
      ]
     },
     "metadata": {
      "needs_background": "light"
     },
     "output_type": "display_data"
    }
   ],
   "source": [
    "# Plot evolution of emission over the years (includes predictions for 2030 and 2050)\n",
    "ax = emissions_world.plot.area()\n",
    "fig = ax.get_figure()\n",
    "fig.set_size_inches((12,8))\n",
    "plt.title(\"Evolution of emission over the world for animal vs vegetal\")\n",
    "plt.ylabel(\"CO2eq emission (Gigagrams)\")\n",
    "plt.show()"
   ]
  },
  {
   "cell_type": "markdown",
   "metadata": {
    "Collapsed": "false"
   },
   "source": [
    "We clearly see that Animal emission is a bigger influence than Vegetal emission (more than double). Moreover, we have not yet considered the fact that many vegetable products are used as fodder. \n",
    "\n",
    "Would humanity prosper by focussing more on vegetal products? The rest of our investigation will shed more light on this."
   ]
  },
  {
   "cell_type": "markdown",
   "metadata": {
    "Collapsed": "false",
    "toc-hr-collapsed": false
   },
   "source": [
    "### Emission By countries <a name=\"emissions_countries\"></a>\n",
    "\n",
    "After studying the emissions in their globality we will focus on the emissions by countries."
   ]
  },
  {
   "cell_type": "code",
   "execution_count": 107,
   "metadata": {
    "Collapsed": "false"
   },
   "outputs": [
    {
     "name": "stdout",
     "output_type": "stream",
     "text": [
      "(517655, 5)\n"
     ]
    },
    {
     "data": {
      "text/html": [
       "<div>\n",
       "<style scoped>\n",
       "    .dataframe tbody tr th:only-of-type {\n",
       "        vertical-align: middle;\n",
       "    }\n",
       "\n",
       "    .dataframe tbody tr th {\n",
       "        vertical-align: top;\n",
       "    }\n",
       "\n",
       "    .dataframe thead th {\n",
       "        text-align: right;\n",
       "    }\n",
       "</style>\n",
       "<table border=\"1\" class=\"dataframe\">\n",
       "  <thead>\n",
       "    <tr style=\"text-align: right;\">\n",
       "      <th></th>\n",
       "      <th>Area</th>\n",
       "      <th>Item</th>\n",
       "      <th>Element</th>\n",
       "      <th>Year</th>\n",
       "      <th>Value</th>\n",
       "    </tr>\n",
       "  </thead>\n",
       "  <tbody>\n",
       "    <tr>\n",
       "      <td>0</td>\n",
       "      <td>Afghanistan</td>\n",
       "      <td>Enteric Fermentation</td>\n",
       "      <td>Emissions (CH4)</td>\n",
       "      <td>1961</td>\n",
       "      <td>240.6831</td>\n",
       "    </tr>\n",
       "    <tr>\n",
       "      <td>1</td>\n",
       "      <td>Afghanistan</td>\n",
       "      <td>Enteric Fermentation</td>\n",
       "      <td>Emissions (CH4)</td>\n",
       "      <td>1962</td>\n",
       "      <td>245.3106</td>\n",
       "    </tr>\n",
       "    <tr>\n",
       "      <td>2</td>\n",
       "      <td>Afghanistan</td>\n",
       "      <td>Enteric Fermentation</td>\n",
       "      <td>Emissions (CH4)</td>\n",
       "      <td>1963</td>\n",
       "      <td>255.8285</td>\n",
       "    </tr>\n",
       "    <tr>\n",
       "      <td>3</td>\n",
       "      <td>Afghanistan</td>\n",
       "      <td>Enteric Fermentation</td>\n",
       "      <td>Emissions (CH4)</td>\n",
       "      <td>1964</td>\n",
       "      <td>259.0650</td>\n",
       "    </tr>\n",
       "    <tr>\n",
       "      <td>4</td>\n",
       "      <td>Afghanistan</td>\n",
       "      <td>Enteric Fermentation</td>\n",
       "      <td>Emissions (CH4)</td>\n",
       "      <td>1965</td>\n",
       "      <td>265.5980</td>\n",
       "    </tr>\n",
       "  </tbody>\n",
       "</table>\n",
       "</div>"
      ],
      "text/plain": [
       "          Area                  Item          Element  Year     Value\n",
       "0  Afghanistan  Enteric Fermentation  Emissions (CH4)  1961  240.6831\n",
       "1  Afghanistan  Enteric Fermentation  Emissions (CH4)  1962  245.3106\n",
       "2  Afghanistan  Enteric Fermentation  Emissions (CH4)  1963  255.8285\n",
       "3  Afghanistan  Enteric Fermentation  Emissions (CH4)  1964  259.0650\n",
       "4  Afghanistan  Enteric Fermentation  Emissions (CH4)  1965  265.5980"
      ]
     },
     "execution_count": 107,
     "metadata": {},
     "output_type": "execute_result"
    }
   ],
   "source": [
    "# Filter only Emmisions (CO2eq)\n",
    "print(emissions_total.shape)\n",
    "emissions_total.head()"
   ]
  },
  {
   "cell_type": "markdown",
   "metadata": {
    "Collapsed": "false"
   },
   "source": [
    "First, we have to investigate the countries to remove aggragated countries."
   ]
  },
  {
   "cell_type": "code",
   "execution_count": 108,
   "metadata": {
    "Collapsed": "false"
   },
   "outputs": [
    {
     "data": {
      "text/plain": [
       "array(['Afghanistan', 'Albania', 'Algeria', 'American Samoa', 'Andorra',\n",
       "       'Angola', 'Anguilla', 'Antigua and Barbuda', 'Argentina',\n",
       "       'Armenia', 'Aruba', 'Australia', 'Austria', 'Azerbaijan',\n",
       "       'Bahamas', 'Bahrain', 'Bangladesh', 'Barbados', 'Belarus',\n",
       "       'Belgium', 'Belgium-Luxembourg', 'Belize', 'Benin', 'Bermuda',\n",
       "       'Bhutan', 'Bolivia (Plurinational State of)',\n",
       "       'Bosnia and Herzegovina', 'Botswana', 'Brazil',\n",
       "       'British Virgin Islands', 'Brunei Darussalam', 'Bulgaria',\n",
       "       'Burkina Faso', 'Burundi', 'Cabo Verde', 'Cambodia', 'Cameroon',\n",
       "       'Canada', 'Cayman Islands', 'Central African Republic', 'Chad',\n",
       "       'Chile', 'China', 'China, Hong Kong SAR', 'China, Macao SAR',\n",
       "       'China, mainland', 'China, Taiwan Province of', 'Colombia',\n",
       "       'Comoros', 'Congo', 'Cook Islands', 'Costa Rica', \"Côte d'Ivoire\",\n",
       "       'Croatia', 'Cuba', 'Cyprus', 'Czechia', 'Czechoslovakia',\n",
       "       \"Democratic People's Republic of Korea\",\n",
       "       'Democratic Republic of the Congo', 'Denmark', 'Djibouti',\n",
       "       'Dominica', 'Dominican Republic', 'Ecuador', 'Egypt',\n",
       "       'El Salvador', 'Equatorial Guinea', 'Eritrea', 'Estonia',\n",
       "       'Eswatini', 'Ethiopia', 'Ethiopia PDR',\n",
       "       'Falkland Islands (Malvinas)', 'Faroe Islands', 'Fiji', 'Finland',\n",
       "       'France', 'French Guiana', 'French Polynesia', 'Gabon', 'Gambia',\n",
       "       'Georgia', 'Germany', 'Ghana', 'Gibraltar', 'Greece', 'Greenland',\n",
       "       'Grenada', 'Guadeloupe', 'Guam', 'Guatemala', 'Guinea',\n",
       "       'Guinea-Bissau', 'Guyana', 'Haiti', 'Holy See', 'Honduras',\n",
       "       'Hungary', 'Iceland', 'India', 'Indonesia',\n",
       "       'Iran (Islamic Republic of)', 'Iraq', 'Ireland', 'Isle of Man',\n",
       "       'Israel', 'Italy', 'Jamaica', 'Japan', 'Jordan', 'Kazakhstan',\n",
       "       'Kenya', 'Kiribati', 'Kuwait', 'Kyrgyzstan',\n",
       "       \"Lao People's Democratic Republic\", 'Latvia', 'Lebanon', 'Lesotho',\n",
       "       'Liberia', 'Libya', 'Liechtenstein', 'Lithuania', 'Luxembourg',\n",
       "       'Madagascar', 'Malawi', 'Malaysia', 'Maldives', 'Mali', 'Malta',\n",
       "       'Marshall Islands', 'Martinique', 'Mauritania', 'Mauritius',\n",
       "       'Mayotte', 'Mexico', 'Micronesia (Federated States of)', 'Monaco',\n",
       "       'Mongolia', 'Montenegro', 'Montserrat', 'Morocco', 'Mozambique',\n",
       "       'Myanmar', 'Namibia', 'Nauru', 'Nepal', 'Netherlands',\n",
       "       'Netherlands Antilles (former)', 'New Caledonia', 'New Zealand',\n",
       "       'Nicaragua', 'Niger', 'Nigeria', 'Niue', 'Norfolk Island',\n",
       "       'North Macedonia', 'Northern Mariana Islands', 'Norway', 'Oman',\n",
       "       'Pacific Islands Trust Territory', 'Pakistan', 'Palau',\n",
       "       'Palestine', 'Panama', 'Papua New Guinea', 'Paraguay', 'Peru',\n",
       "       'Philippines', 'Pitcairn Islands', 'Poland', 'Portugal',\n",
       "       'Puerto Rico', 'Qatar', 'Republic of Korea', 'Republic of Moldova',\n",
       "       'Réunion', 'Romania', 'Russian Federation', 'Rwanda',\n",
       "       'Saint Helena, Ascension and Tristan da Cunha',\n",
       "       'Saint Kitts and Nevis', 'Saint Lucia',\n",
       "       'Saint Pierre and Miquelon', 'Saint Vincent and the Grenadines',\n",
       "       'Samoa', 'San Marino', 'Sao Tome and Principe', 'Saudi Arabia',\n",
       "       'Senegal', 'Serbia', 'Serbia and Montenegro', 'Seychelles',\n",
       "       'Sierra Leone', 'Singapore', 'Slovakia', 'Slovenia',\n",
       "       'Solomon Islands', 'Somalia', 'South Africa', 'South Sudan',\n",
       "       'Spain', 'Sri Lanka', 'Sudan', 'Sudan (former)', 'Suriname',\n",
       "       'Svalbard and Jan Mayen Islands', 'Sweden', 'Switzerland',\n",
       "       'Syrian Arab Republic', 'Tajikistan', 'Thailand', 'Timor-Leste',\n",
       "       'Togo', 'Tokelau', 'Tonga', 'Trinidad and Tobago', 'Tunisia',\n",
       "       'Turkey', 'Turkmenistan', 'Turks and Caicos Islands', 'Tuvalu',\n",
       "       'Uganda', 'Ukraine', 'United Arab Emirates', 'United Kingdom',\n",
       "       'United Republic of Tanzania', 'United States of America',\n",
       "       'United States Virgin Islands', 'Uruguay', 'USSR', 'Uzbekistan',\n",
       "       'Vanuatu', 'Venezuela (Bolivarian Republic of)', 'Viet Nam',\n",
       "       'Wallis and Futuna Islands', 'Western Sahara', 'Yemen',\n",
       "       'Yugoslav SFR', 'Zambia', 'Zimbabwe', 'World', 'Africa',\n",
       "       'Eastern Africa', 'Middle Africa', 'Northern Africa',\n",
       "       'Southern Africa', 'Western Africa', 'Americas',\n",
       "       'Northern America', 'Central America', 'Caribbean',\n",
       "       'South America', 'Asia', 'Central Asia', 'Eastern Asia',\n",
       "       'Southern Asia', 'South-Eastern Asia', 'Western Asia', 'Europe',\n",
       "       'Eastern Europe', 'Northern Europe', 'Southern Europe',\n",
       "       'Western Europe', 'Oceania', 'Australia and New Zealand',\n",
       "       'Melanesia', 'Micronesia', 'Polynesia', 'European Union',\n",
       "       'Least Developed Countries', 'Land Locked Developing Countries',\n",
       "       'Small Island Developing States',\n",
       "       'Low Income Food Deficit Countries',\n",
       "       'Net Food Importing Developing Countries', 'Annex I countries',\n",
       "       'Non-Annex I countries', 'OECD'], dtype=object)"
      ]
     },
     "execution_count": 108,
     "metadata": {},
     "output_type": "execute_result"
    }
   ],
   "source": [
    "emissions_total.Area.unique()"
   ]
  },
  {
   "cell_type": "code",
   "execution_count": 109,
   "metadata": {
    "Collapsed": "false"
   },
   "outputs": [],
   "source": [
    "# Remove aggregation item\n",
    "agg_item = ['Agriculture total', 'Agricultural Soils']\n",
    "emissions_total = emissions_total.drop(emissions_total[emissions_total['Item'].isin(agg_item)].index)\n",
    "\n",
    "# Remove aggregation countries\n",
    "# We remove China as we have different data for Hong kong, Tawain, Macao and the Mainland\n",
    "agg_country = ['Belgium-Luxembourg', 'China', 'Yugoslav SFR','World', 'Africa',\n",
    "       'Eastern Africa', 'Middle Africa', 'Northern Africa',\n",
    "       'Southern Africa', 'Western Africa', 'Americas',\n",
    "       'Northern America', 'Central America', 'Caribbean',\n",
    "       'South America', 'Asia', 'Central Asia', 'Eastern Asia',\n",
    "       'Southern Asia', 'South-Eastern Asia', 'Western Asia', 'Europe',\n",
    "       'Eastern Europe', 'Northern Europe', 'Southern Europe',\n",
    "       'Western Europe', 'Oceania', 'Australia and New Zealand',\n",
    "       'Melanesia', 'Micronesia', 'Polynesia', 'European Union',\n",
    "       'Least Developed Countries', 'Land Locked Developing Countries',\n",
    "       'Small Island Developing States',\n",
    "       'Low Income Food Deficit Countries',\n",
    "       'Net Food Importing Developing Countries', 'Annex I countries',\n",
    "       'Non-Annex I countries', 'OECD']\n",
    "emissions_total = emissions_total.drop(emissions_total[emissions_total['Area'].isin(agg_country)].index)\n",
    "emissions_total = emissions_total.rename(columns={'Area':'Country'})\n",
    "\n",
    "# Keep only past data\n",
    "emissions_total = emissions_total[(emissions_total.Year < 2019)]"
   ]
  },
  {
   "cell_type": "code",
   "execution_count": 110,
   "metadata": {
    "Collapsed": "false"
   },
   "outputs": [
    {
     "data": {
      "text/html": [
       "<div>\n",
       "<style scoped>\n",
       "    .dataframe tbody tr th:only-of-type {\n",
       "        vertical-align: middle;\n",
       "    }\n",
       "\n",
       "    .dataframe tbody tr th {\n",
       "        vertical-align: top;\n",
       "    }\n",
       "\n",
       "    .dataframe thead th {\n",
       "        text-align: right;\n",
       "    }\n",
       "</style>\n",
       "<table border=\"1\" class=\"dataframe\">\n",
       "  <thead>\n",
       "    <tr style=\"text-align: right;\">\n",
       "      <th></th>\n",
       "      <th>Country</th>\n",
       "      <th>Item</th>\n",
       "      <th>Element</th>\n",
       "      <th>Year</th>\n",
       "      <th>Value</th>\n",
       "    </tr>\n",
       "  </thead>\n",
       "  <tbody>\n",
       "    <tr>\n",
       "      <td>0</td>\n",
       "      <td>Afghanistan</td>\n",
       "      <td>Enteric Fermentation</td>\n",
       "      <td>Emissions (CH4)</td>\n",
       "      <td>1961</td>\n",
       "      <td>240.6831</td>\n",
       "    </tr>\n",
       "    <tr>\n",
       "      <td>1</td>\n",
       "      <td>Afghanistan</td>\n",
       "      <td>Enteric Fermentation</td>\n",
       "      <td>Emissions (CH4)</td>\n",
       "      <td>1962</td>\n",
       "      <td>245.3106</td>\n",
       "    </tr>\n",
       "    <tr>\n",
       "      <td>2</td>\n",
       "      <td>Afghanistan</td>\n",
       "      <td>Enteric Fermentation</td>\n",
       "      <td>Emissions (CH4)</td>\n",
       "      <td>1963</td>\n",
       "      <td>255.8285</td>\n",
       "    </tr>\n",
       "    <tr>\n",
       "      <td>3</td>\n",
       "      <td>Afghanistan</td>\n",
       "      <td>Enteric Fermentation</td>\n",
       "      <td>Emissions (CH4)</td>\n",
       "      <td>1964</td>\n",
       "      <td>259.0650</td>\n",
       "    </tr>\n",
       "    <tr>\n",
       "      <td>4</td>\n",
       "      <td>Afghanistan</td>\n",
       "      <td>Enteric Fermentation</td>\n",
       "      <td>Emissions (CH4)</td>\n",
       "      <td>1965</td>\n",
       "      <td>265.5980</td>\n",
       "    </tr>\n",
       "    <tr>\n",
       "      <td>...</td>\n",
       "      <td>...</td>\n",
       "      <td>...</td>\n",
       "      <td>...</td>\n",
       "      <td>...</td>\n",
       "      <td>...</td>\n",
       "    </tr>\n",
       "    <tr>\n",
       "      <td>433705</td>\n",
       "      <td>Zimbabwe</td>\n",
       "      <td>Burning - Savanna</td>\n",
       "      <td>Emissions (N2O)</td>\n",
       "      <td>2013</td>\n",
       "      <td>3.8549</td>\n",
       "    </tr>\n",
       "    <tr>\n",
       "      <td>433706</td>\n",
       "      <td>Zimbabwe</td>\n",
       "      <td>Burning - Savanna</td>\n",
       "      <td>Emissions (N2O)</td>\n",
       "      <td>2014</td>\n",
       "      <td>4.2697</td>\n",
       "    </tr>\n",
       "    <tr>\n",
       "      <td>433707</td>\n",
       "      <td>Zimbabwe</td>\n",
       "      <td>Burning - Savanna</td>\n",
       "      <td>Emissions (N2O)</td>\n",
       "      <td>2015</td>\n",
       "      <td>5.1211</td>\n",
       "    </tr>\n",
       "    <tr>\n",
       "      <td>433708</td>\n",
       "      <td>Zimbabwe</td>\n",
       "      <td>Burning - Savanna</td>\n",
       "      <td>Emissions (N2O)</td>\n",
       "      <td>2016</td>\n",
       "      <td>3.0542</td>\n",
       "    </tr>\n",
       "    <tr>\n",
       "      <td>433709</td>\n",
       "      <td>Zimbabwe</td>\n",
       "      <td>Burning - Savanna</td>\n",
       "      <td>Emissions (N2O)</td>\n",
       "      <td>2017</td>\n",
       "      <td>4.6869</td>\n",
       "    </tr>\n",
       "  </tbody>\n",
       "</table>\n",
       "<p>329791 rows × 5 columns</p>\n",
       "</div>"
      ],
      "text/plain": [
       "            Country                  Item          Element  Year     Value\n",
       "0       Afghanistan  Enteric Fermentation  Emissions (CH4)  1961  240.6831\n",
       "1       Afghanistan  Enteric Fermentation  Emissions (CH4)  1962  245.3106\n",
       "2       Afghanistan  Enteric Fermentation  Emissions (CH4)  1963  255.8285\n",
       "3       Afghanistan  Enteric Fermentation  Emissions (CH4)  1964  259.0650\n",
       "4       Afghanistan  Enteric Fermentation  Emissions (CH4)  1965  265.5980\n",
       "...             ...                   ...              ...   ...       ...\n",
       "433705     Zimbabwe     Burning - Savanna  Emissions (N2O)  2013    3.8549\n",
       "433706     Zimbabwe     Burning - Savanna  Emissions (N2O)  2014    4.2697\n",
       "433707     Zimbabwe     Burning - Savanna  Emissions (N2O)  2015    5.1211\n",
       "433708     Zimbabwe     Burning - Savanna  Emissions (N2O)  2016    3.0542\n",
       "433709     Zimbabwe     Burning - Savanna  Emissions (N2O)  2017    4.6869\n",
       "\n",
       "[329791 rows x 5 columns]"
      ]
     },
     "execution_count": 110,
     "metadata": {},
     "output_type": "execute_result"
    }
   ],
   "source": [
    "emissions_total"
   ]
  },
  {
   "cell_type": "code",
   "execution_count": 90,
   "metadata": {
    "Collapsed": "false"
   },
   "outputs": [],
   "source": [
    "# In 2011, Sudan (former) split into two countries: Sudan and South Sudan. We will just assume one united Sudan and merge them.\n",
    "emissions_total.loc[(emissions_total['Country']=='Sudan') & (emissions_total['Year']>2011), 'Value'] += emissions_total.loc[(emissions_total['Country']=='South Sudan') & (emissions_total['Year']>2011), 'Value'] \n",
    "emissions_total.loc[(emissions_total['Country']=='Sudan (former)', 'Country')] = 'Sudan'\n",
    "emissions_total= emissions_total[emissions_total['Country'] != 'South Sudan']"
   ]
  },
  {
   "cell_type": "markdown",
   "metadata": {
    "Collapsed": "false"
   },
   "source": [
    "Russia also poses a problem, as it only exists from 1992. Before, Russia and many other countries formed the USSR together.\n",
    "As it is too complicated to split this up, we will just keep this data as original."
   ]
  },
  {
   "cell_type": "code",
   "execution_count": 111,
   "metadata": {
    "Collapsed": "false"
   },
   "outputs": [
    {
     "data": {
      "text/html": [
       "<div>\n",
       "<style scoped>\n",
       "    .dataframe tbody tr th:only-of-type {\n",
       "        vertical-align: middle;\n",
       "    }\n",
       "\n",
       "    .dataframe tbody tr th {\n",
       "        vertical-align: top;\n",
       "    }\n",
       "\n",
       "    .dataframe thead th {\n",
       "        text-align: right;\n",
       "    }\n",
       "</style>\n",
       "<table border=\"1\" class=\"dataframe\">\n",
       "  <thead>\n",
       "    <tr style=\"text-align: right;\">\n",
       "      <th></th>\n",
       "      <th>Item</th>\n",
       "      <th>Burning - Crop residues</th>\n",
       "      <th>Burning - Savanna</th>\n",
       "      <th>Crop Residues</th>\n",
       "      <th>Cultivation of Organic Soils</th>\n",
       "      <th>Enteric Fermentation</th>\n",
       "      <th>Manure Management</th>\n",
       "      <th>Manure applied to Soils</th>\n",
       "      <th>Manure left on Pasture</th>\n",
       "      <th>Rice Cultivation</th>\n",
       "      <th>Synthetic Fertilizers</th>\n",
       "    </tr>\n",
       "    <tr>\n",
       "      <th>Country</th>\n",
       "      <th>Year</th>\n",
       "      <th></th>\n",
       "      <th></th>\n",
       "      <th></th>\n",
       "      <th></th>\n",
       "      <th></th>\n",
       "      <th></th>\n",
       "      <th></th>\n",
       "      <th></th>\n",
       "      <th></th>\n",
       "      <th></th>\n",
       "    </tr>\n",
       "  </thead>\n",
       "  <tbody>\n",
       "    <tr>\n",
       "      <td rowspan=\"5\" valign=\"top\">Afghanistan</td>\n",
       "      <td>1961</td>\n",
       "      <td>48.14768</td>\n",
       "      <td>NaN</td>\n",
       "      <td>222.191933</td>\n",
       "      <td>NaN</td>\n",
       "      <td>3449.791633</td>\n",
       "      <td>149.53680</td>\n",
       "      <td>260.714567</td>\n",
       "      <td>1581.328700</td>\n",
       "      <td>421.400000</td>\n",
       "      <td>4.31</td>\n",
       "    </tr>\n",
       "    <tr>\n",
       "      <td>1962</td>\n",
       "      <td>49.56468</td>\n",
       "      <td>NaN</td>\n",
       "      <td>223.887467</td>\n",
       "      <td>NaN</td>\n",
       "      <td>3516.118733</td>\n",
       "      <td>153.04790</td>\n",
       "      <td>264.428667</td>\n",
       "      <td>1553.267767</td>\n",
       "      <td>421.400000</td>\n",
       "      <td>4.31</td>\n",
       "    </tr>\n",
       "    <tr>\n",
       "      <td>1963</td>\n",
       "      <td>49.56468</td>\n",
       "      <td>NaN</td>\n",
       "      <td>208.833033</td>\n",
       "      <td>NaN</td>\n",
       "      <td>3666.875433</td>\n",
       "      <td>159.63620</td>\n",
       "      <td>271.603167</td>\n",
       "      <td>1596.084133</td>\n",
       "      <td>421.400000</td>\n",
       "      <td>4.31</td>\n",
       "    </tr>\n",
       "    <tr>\n",
       "      <td>1964</td>\n",
       "      <td>49.95084</td>\n",
       "      <td>NaN</td>\n",
       "      <td>225.216933</td>\n",
       "      <td>NaN</td>\n",
       "      <td>3713.265000</td>\n",
       "      <td>162.58858</td>\n",
       "      <td>277.219600</td>\n",
       "      <td>1617.861800</td>\n",
       "      <td>441.466667</td>\n",
       "      <td>4.31</td>\n",
       "    </tr>\n",
       "    <tr>\n",
       "      <td>1965</td>\n",
       "      <td>49.82096</td>\n",
       "      <td>NaN</td>\n",
       "      <td>227.653600</td>\n",
       "      <td>NaN</td>\n",
       "      <td>3806.904667</td>\n",
       "      <td>168.10418</td>\n",
       "      <td>285.631033</td>\n",
       "      <td>1657.354567</td>\n",
       "      <td>441.466667</td>\n",
       "      <td>4.31</td>\n",
       "    </tr>\n",
       "  </tbody>\n",
       "</table>\n",
       "</div>"
      ],
      "text/plain": [
       "Item              Burning - Crop residues  Burning - Savanna  Crop Residues  \\\n",
       "Country     Year                                                              \n",
       "Afghanistan 1961                 48.14768                NaN     222.191933   \n",
       "            1962                 49.56468                NaN     223.887467   \n",
       "            1963                 49.56468                NaN     208.833033   \n",
       "            1964                 49.95084                NaN     225.216933   \n",
       "            1965                 49.82096                NaN     227.653600   \n",
       "\n",
       "Item              Cultivation of Organic Soils  Enteric Fermentation  \\\n",
       "Country     Year                                                       \n",
       "Afghanistan 1961                           NaN           3449.791633   \n",
       "            1962                           NaN           3516.118733   \n",
       "            1963                           NaN           3666.875433   \n",
       "            1964                           NaN           3713.265000   \n",
       "            1965                           NaN           3806.904667   \n",
       "\n",
       "Item              Manure Management  Manure applied to Soils  \\\n",
       "Country     Year                                               \n",
       "Afghanistan 1961          149.53680               260.714567   \n",
       "            1962          153.04790               264.428667   \n",
       "            1963          159.63620               271.603167   \n",
       "            1964          162.58858               277.219600   \n",
       "            1965          168.10418               285.631033   \n",
       "\n",
       "Item              Manure left on Pasture  Rice Cultivation  \\\n",
       "Country     Year                                             \n",
       "Afghanistan 1961             1581.328700        421.400000   \n",
       "            1962             1553.267767        421.400000   \n",
       "            1963             1596.084133        421.400000   \n",
       "            1964             1617.861800        441.466667   \n",
       "            1965             1657.354567        441.466667   \n",
       "\n",
       "Item              Synthetic Fertilizers  \n",
       "Country     Year                         \n",
       "Afghanistan 1961                   4.31  \n",
       "            1962                   4.31  \n",
       "            1963                   4.31  \n",
       "            1964                   4.31  \n",
       "            1965                   4.31  "
      ]
     },
     "execution_count": 111,
     "metadata": {},
     "output_type": "execute_result"
    }
   ],
   "source": [
    "# Pivot the table to make element columns\n",
    "emissions_total = pd.pivot_table(emissions_total, values='Value', index=['Country', 'Year'], columns='Item')\n",
    "emissions_total.head()"
   ]
  },
  {
   "cell_type": "code",
   "execution_count": 112,
   "metadata": {
    "Collapsed": "false"
   },
   "outputs": [],
   "source": [
    "# Here we assume that if there is no data the country just did not produce any emission of that type\n",
    "emissions_total.fillna(0, inplace=True)"
   ]
  },
  {
   "cell_type": "markdown",
   "metadata": {
    "Collapsed": "false"
   },
   "source": [
    "We will now divide the emissions between animal and vegetal emissions"
   ]
  },
  {
   "cell_type": "code",
   "execution_count": 113,
   "metadata": {
    "Collapsed": "false"
   },
   "outputs": [],
   "source": [
    "emissions_total['Animal'] = emissions_total[animal_emissions].sum(axis=1)\n",
    "emissions_total['Vegetal'] = emissions_total[vegetal_emissions].sum(axis=1)\n",
    "emissions_total = emissions_total[['Animal', 'Vegetal']]"
   ]
  },
  {
   "cell_type": "code",
   "execution_count": 114,
   "metadata": {
    "Collapsed": "false"
   },
   "outputs": [
    {
     "data": {
      "text/html": [
       "<div>\n",
       "<style scoped>\n",
       "    .dataframe tbody tr th:only-of-type {\n",
       "        vertical-align: middle;\n",
       "    }\n",
       "\n",
       "    .dataframe tbody tr th {\n",
       "        vertical-align: top;\n",
       "    }\n",
       "\n",
       "    .dataframe thead th {\n",
       "        text-align: right;\n",
       "    }\n",
       "</style>\n",
       "<table border=\"1\" class=\"dataframe\">\n",
       "  <thead>\n",
       "    <tr style=\"text-align: right;\">\n",
       "      <th></th>\n",
       "      <th>Item</th>\n",
       "      <th>Animal</th>\n",
       "      <th>Vegetal</th>\n",
       "      <th>Sum</th>\n",
       "    </tr>\n",
       "    <tr>\n",
       "      <th>Country</th>\n",
       "      <th>Year</th>\n",
       "      <th></th>\n",
       "      <th></th>\n",
       "      <th></th>\n",
       "    </tr>\n",
       "  </thead>\n",
       "  <tbody>\n",
       "    <tr>\n",
       "      <td rowspan=\"5\" valign=\"top\">Afghanistan</td>\n",
       "      <td>1961</td>\n",
       "      <td>5180.657133</td>\n",
       "      <td>956.764180</td>\n",
       "      <td>6137.421313</td>\n",
       "    </tr>\n",
       "    <tr>\n",
       "      <td>1962</td>\n",
       "      <td>5222.434400</td>\n",
       "      <td>963.590813</td>\n",
       "      <td>6186.025213</td>\n",
       "    </tr>\n",
       "    <tr>\n",
       "      <td>1963</td>\n",
       "      <td>5422.595767</td>\n",
       "      <td>955.710880</td>\n",
       "      <td>6378.306647</td>\n",
       "    </tr>\n",
       "    <tr>\n",
       "      <td>1964</td>\n",
       "      <td>5493.715380</td>\n",
       "      <td>998.164040</td>\n",
       "      <td>6491.879420</td>\n",
       "    </tr>\n",
       "    <tr>\n",
       "      <td>1965</td>\n",
       "      <td>5632.363413</td>\n",
       "      <td>1008.882260</td>\n",
       "      <td>6641.245673</td>\n",
       "    </tr>\n",
       "  </tbody>\n",
       "</table>\n",
       "</div>"
      ],
      "text/plain": [
       "Item                   Animal      Vegetal          Sum\n",
       "Country     Year                                       \n",
       "Afghanistan 1961  5180.657133   956.764180  6137.421313\n",
       "            1962  5222.434400   963.590813  6186.025213\n",
       "            1963  5422.595767   955.710880  6378.306647\n",
       "            1964  5493.715380   998.164040  6491.879420\n",
       "            1965  5632.363413  1008.882260  6641.245673"
      ]
     },
     "execution_count": 114,
     "metadata": {},
     "output_type": "execute_result"
    }
   ],
   "source": [
    "# Create a new column sum\n",
    "emissions_total['Sum'] = emissions_total.sum(axis=1)\n",
    "emissions_total.head()"
   ]
  },
  {
   "cell_type": "code",
   "execution_count": 84,
   "metadata": {
    "Collapsed": "false"
   },
   "outputs": [
    {
     "data": {
      "text/html": [
       "<div>\n",
       "<style scoped>\n",
       "    .dataframe tbody tr th:only-of-type {\n",
       "        vertical-align: middle;\n",
       "    }\n",
       "\n",
       "    .dataframe tbody tr th {\n",
       "        vertical-align: top;\n",
       "    }\n",
       "\n",
       "    .dataframe thead th {\n",
       "        text-align: right;\n",
       "    }\n",
       "</style>\n",
       "<table border=\"1\" class=\"dataframe\">\n",
       "  <thead>\n",
       "    <tr style=\"text-align: right;\">\n",
       "      <th></th>\n",
       "      <th></th>\n",
       "      <th>% Animal</th>\n",
       "      <th>% Vegetal</th>\n",
       "      <th>% Sum</th>\n",
       "    </tr>\n",
       "    <tr>\n",
       "      <th>Country</th>\n",
       "      <th>Year</th>\n",
       "      <th></th>\n",
       "      <th></th>\n",
       "      <th></th>\n",
       "    </tr>\n",
       "  </thead>\n",
       "  <tbody>\n",
       "    <tr>\n",
       "      <td rowspan=\"5\" valign=\"top\">Afghanistan</td>\n",
       "      <td>1961</td>\n",
       "      <td>84.410974</td>\n",
       "      <td>15.589026</td>\n",
       "      <td>100.0</td>\n",
       "    </tr>\n",
       "    <tr>\n",
       "      <td>1962</td>\n",
       "      <td>84.423102</td>\n",
       "      <td>15.576898</td>\n",
       "      <td>100.0</td>\n",
       "    </tr>\n",
       "    <tr>\n",
       "      <td>1963</td>\n",
       "      <td>85.016229</td>\n",
       "      <td>14.983771</td>\n",
       "      <td>100.0</td>\n",
       "    </tr>\n",
       "    <tr>\n",
       "      <td>1964</td>\n",
       "      <td>84.624421</td>\n",
       "      <td>15.375579</td>\n",
       "      <td>100.0</td>\n",
       "    </tr>\n",
       "    <tr>\n",
       "      <td>1965</td>\n",
       "      <td>84.808840</td>\n",
       "      <td>15.191160</td>\n",
       "      <td>100.0</td>\n",
       "    </tr>\n",
       "  </tbody>\n",
       "</table>\n",
       "</div>"
      ],
      "text/plain": [
       "                   % Animal  % Vegetal  % Sum\n",
       "Country     Year                             \n",
       "Afghanistan 1961  84.410974  15.589026  100.0\n",
       "            1962  84.423102  15.576898  100.0\n",
       "            1963  85.016229  14.983771  100.0\n",
       "            1964  84.624421  15.375579  100.0\n",
       "            1965  84.808840  15.191160  100.0"
      ]
     },
     "execution_count": 84,
     "metadata": {},
     "output_type": "execute_result"
    }
   ],
   "source": [
    "# create a new dataframe with relative numbers\n",
    "relative_emissions_total = pd.DataFrame()\n",
    "for col in emissions_total.columns:\n",
    "    new_col = '% '+col\n",
    "    relative_emissions_total[new_col] = emissions_total[col]/emissions_total['Sum'] * 100\n",
    "    \n",
    "relative_emissions_total.head()"
   ]
  },
  {
   "cell_type": "code",
   "execution_count": 85,
   "metadata": {
    "Collapsed": "false"
   },
   "outputs": [],
   "source": [
    "# Save the datasets for later use\n",
    "emissions_total.to_csv(GENERATED_DATA_PATH+'emissions_total.csv')\n",
    "relative_emissions_total.to_csv(GENERATED_DATA_PATH+'relative_emissions_total.csv')"
   ]
  },
  {
   "cell_type": "markdown",
   "metadata": {
    "Collapsed": "false"
   },
   "source": [
    "#### EDA\n",
    "\n",
    "We will now look at the descriptive statistics of the emission total data frame."
   ]
  },
  {
   "cell_type": "code",
   "execution_count": 117,
   "metadata": {
    "Collapsed": "false"
   },
   "outputs": [
    {
     "data": {
      "image/png": "[encoded data removed]",
      "text/plain": [
       "<Figure size 1008x504 with 3 Axes>"
      ]
     },
     "metadata": {
      "needs_background": "light"
     },
     "output_type": "display_data"
    }
   ],
   "source": [
    "emissions_total.hist(figsize=(14,7), log=True, layout=(1,3))\n",
    "plt.show()"
   ]
  },
  {
   "cell_type": "markdown",
   "metadata": {
    "Collapsed": "false"
   },
   "source": [
    "The distribution seems to follow an exponential law. Indeed, if we look at the higher entry we see that it corresponds to the most populated country in the world (China) for the last years."
   ]
  },
  {
   "cell_type": "code",
   "execution_count": 118,
   "metadata": {
    "Collapsed": "false"
   },
   "outputs": [
    {
     "data": {
      "text/plain": [
       "Country          Year\n",
       "China, mainland  2016    444373.463500\n",
       "                 2015    442483.968093\n",
       "                 2017    436156.198520\n",
       "                 2014    435982.920227\n",
       "                 2013    434647.288000\n",
       "                 2012    432895.890900\n",
       "                 2010    431570.527287\n",
       "                 2011    431304.736207\n",
       "                 1996    428703.425400\n",
       "                 2009    425140.160640\n",
       "Name: Sum, dtype: float64"
      ]
     },
     "execution_count": 118,
     "metadata": {},
     "output_type": "execute_result"
    }
   ],
   "source": [
    "emissions_total['Sum'].sort_values(ascending=False).head(10)"
   ]
  },
  {
   "cell_type": "markdown",
   "metadata": {
    "Collapsed": "false"
   },
   "source": [
    "To balance this bias introduced by the number of habitants we will divide all the emissions by the number of people to obtain the emission per capita.\n",
    "The population information is available in the `Population_E_All_Data_(Normalized).csv` dataset."
   ]
  },
  {
   "cell_type": "code",
   "execution_count": 124,
   "metadata": {
    "Collapsed": "false"
   },
   "outputs": [
    {
     "name": "stdout",
     "output_type": "stream",
     "text": [
      "(160411, 12)\n"
     ]
    },
    {
     "data": {
      "text/html": [
       "<div>\n",
       "<style scoped>\n",
       "    .dataframe tbody tr th:only-of-type {\n",
       "        vertical-align: middle;\n",
       "    }\n",
       "\n",
       "    .dataframe tbody tr th {\n",
       "        vertical-align: top;\n",
       "    }\n",
       "\n",
       "    .dataframe thead th {\n",
       "        text-align: right;\n",
       "    }\n",
       "</style>\n",
       "<table border=\"1\" class=\"dataframe\">\n",
       "  <thead>\n",
       "    <tr style=\"text-align: right;\">\n",
       "      <th></th>\n",
       "      <th>Area Code</th>\n",
       "      <th>Area</th>\n",
       "      <th>Item Code</th>\n",
       "      <th>Item</th>\n",
       "      <th>Element Code</th>\n",
       "      <th>Element</th>\n",
       "      <th>Year Code</th>\n",
       "      <th>Year</th>\n",
       "      <th>Unit</th>\n",
       "      <th>Value</th>\n",
       "      <th>Flag</th>\n",
       "      <th>Note</th>\n",
       "    </tr>\n",
       "  </thead>\n",
       "  <tbody>\n",
       "    <tr>\n",
       "      <td>0</td>\n",
       "      <td>2</td>\n",
       "      <td>Afghanistan</td>\n",
       "      <td>3010</td>\n",
       "      <td>Population - Est. &amp; Proj.</td>\n",
       "      <td>511</td>\n",
       "      <td>Total Population - Both sexes</td>\n",
       "      <td>1950</td>\n",
       "      <td>1950</td>\n",
       "      <td>1000 persons</td>\n",
       "      <td>7752.118</td>\n",
       "      <td>X</td>\n",
       "      <td>NaN</td>\n",
       "    </tr>\n",
       "    <tr>\n",
       "      <td>1</td>\n",
       "      <td>2</td>\n",
       "      <td>Afghanistan</td>\n",
       "      <td>3010</td>\n",
       "      <td>Population - Est. &amp; Proj.</td>\n",
       "      <td>511</td>\n",
       "      <td>Total Population - Both sexes</td>\n",
       "      <td>1951</td>\n",
       "      <td>1951</td>\n",
       "      <td>1000 persons</td>\n",
       "      <td>7840.156</td>\n",
       "      <td>X</td>\n",
       "      <td>NaN</td>\n",
       "    </tr>\n",
       "    <tr>\n",
       "      <td>2</td>\n",
       "      <td>2</td>\n",
       "      <td>Afghanistan</td>\n",
       "      <td>3010</td>\n",
       "      <td>Population - Est. &amp; Proj.</td>\n",
       "      <td>511</td>\n",
       "      <td>Total Population - Both sexes</td>\n",
       "      <td>1952</td>\n",
       "      <td>1952</td>\n",
       "      <td>1000 persons</td>\n",
       "      <td>7935.997</td>\n",
       "      <td>X</td>\n",
       "      <td>NaN</td>\n",
       "    </tr>\n",
       "    <tr>\n",
       "      <td>3</td>\n",
       "      <td>2</td>\n",
       "      <td>Afghanistan</td>\n",
       "      <td>3010</td>\n",
       "      <td>Population - Est. &amp; Proj.</td>\n",
       "      <td>511</td>\n",
       "      <td>Total Population - Both sexes</td>\n",
       "      <td>1953</td>\n",
       "      <td>1953</td>\n",
       "      <td>1000 persons</td>\n",
       "      <td>8039.694</td>\n",
       "      <td>X</td>\n",
       "      <td>NaN</td>\n",
       "    </tr>\n",
       "    <tr>\n",
       "      <td>4</td>\n",
       "      <td>2</td>\n",
       "      <td>Afghanistan</td>\n",
       "      <td>3010</td>\n",
       "      <td>Population - Est. &amp; Proj.</td>\n",
       "      <td>511</td>\n",
       "      <td>Total Population - Both sexes</td>\n",
       "      <td>1954</td>\n",
       "      <td>1954</td>\n",
       "      <td>1000 persons</td>\n",
       "      <td>8151.317</td>\n",
       "      <td>X</td>\n",
       "      <td>NaN</td>\n",
       "    </tr>\n",
       "  </tbody>\n",
       "</table>\n",
       "</div>"
      ],
      "text/plain": [
       "   Area Code         Area  Item Code                       Item  Element Code  \\\n",
       "0          2  Afghanistan       3010  Population - Est. & Proj.           511   \n",
       "1          2  Afghanistan       3010  Population - Est. & Proj.           511   \n",
       "2          2  Afghanistan       3010  Population - Est. & Proj.           511   \n",
       "3          2  Afghanistan       3010  Population - Est. & Proj.           511   \n",
       "4          2  Afghanistan       3010  Population - Est. & Proj.           511   \n",
       "\n",
       "                         Element  Year Code  Year          Unit     Value  \\\n",
       "0  Total Population - Both sexes       1950  1950  1000 persons  7752.118   \n",
       "1  Total Population - Both sexes       1951  1951  1000 persons  7840.156   \n",
       "2  Total Population - Both sexes       1952  1952  1000 persons  7935.997   \n",
       "3  Total Population - Both sexes       1953  1953  1000 persons  8039.694   \n",
       "4  Total Population - Both sexes       1954  1954  1000 persons  8151.317   \n",
       "\n",
       "  Flag  Note  \n",
       "0    X   NaN  \n",
       "1    X   NaN  \n",
       "2    X   NaN  \n",
       "3    X   NaN  \n",
       "4    X   NaN  "
      ]
     },
     "execution_count": 124,
     "metadata": {},
     "output_type": "execute_result"
    }
   ],
   "source": [
    "population = pd.read_csv(DATA_PATH+'Population_E_All_Data_(Normalized).csv',  encoding='latin-1', engine='python')\n",
    "print(population.shape)\n",
    "population.head()"
   ]
  },
  {
   "cell_type": "markdown",
   "metadata": {
    "Collapsed": "false"
   },
   "source": [
    "We need to clean the dataset"
   ]
  },
  {
   "cell_type": "code",
   "execution_count": 125,
   "metadata": {
    "Collapsed": "false"
   },
   "outputs": [
    {
     "name": "stdout",
     "output_type": "stream",
     "text": [
      "(39352, 1)\n"
     ]
    },
    {
     "data": {
      "text/html": [
       "<div>\n",
       "<style scoped>\n",
       "    .dataframe tbody tr th:only-of-type {\n",
       "        vertical-align: middle;\n",
       "    }\n",
       "\n",
       "    .dataframe tbody tr th {\n",
       "        vertical-align: top;\n",
       "    }\n",
       "\n",
       "    .dataframe thead th {\n",
       "        text-align: right;\n",
       "    }\n",
       "</style>\n",
       "<table border=\"1\" class=\"dataframe\">\n",
       "  <thead>\n",
       "    <tr style=\"text-align: right;\">\n",
       "      <th></th>\n",
       "      <th></th>\n",
       "      <th>Population</th>\n",
       "    </tr>\n",
       "    <tr>\n",
       "      <th>Country</th>\n",
       "      <th>Year</th>\n",
       "      <th></th>\n",
       "    </tr>\n",
       "  </thead>\n",
       "  <tbody>\n",
       "    <tr>\n",
       "      <td rowspan=\"5\" valign=\"top\">Afghanistan</td>\n",
       "      <td>1950</td>\n",
       "      <td>7752118.0</td>\n",
       "    </tr>\n",
       "    <tr>\n",
       "      <td>1951</td>\n",
       "      <td>7840156.0</td>\n",
       "    </tr>\n",
       "    <tr>\n",
       "      <td>1952</td>\n",
       "      <td>7935997.0</td>\n",
       "    </tr>\n",
       "    <tr>\n",
       "      <td>1953</td>\n",
       "      <td>8039694.0</td>\n",
       "    </tr>\n",
       "    <tr>\n",
       "      <td>1954</td>\n",
       "      <td>8151317.0</td>\n",
       "    </tr>\n",
       "  </tbody>\n",
       "</table>\n",
       "</div>"
      ],
      "text/plain": [
       "                  Population\n",
       "Country     Year            \n",
       "Afghanistan 1950   7752118.0\n",
       "            1951   7840156.0\n",
       "            1952   7935997.0\n",
       "            1953   8039694.0\n",
       "            1954   8151317.0"
      ]
     },
     "execution_count": 125,
     "metadata": {},
     "output_type": "execute_result"
    }
   ],
   "source": [
    "population = population[population['Element'] == 'Total Population - Both sexes']\n",
    "population = population.drop(columns = ['Area Code', 'Item Code', 'Item', 'Element Code', 'Element', 'Year Code', 'Unit', 'Flag', 'Note'])\n",
    "population = population.rename(columns={'Area':'Country', 'Value':'Population'})\n",
    "\n",
    "# We also apply the transformation from Sudan (former) to Sudan \n",
    "population.loc[(population['Country']=='Sudan') & (population['Year']>2011), 'Population'] += population.loc[(population['Country']=='South Sudan') & (population['Year']>2011), 'Population'] \n",
    "population.loc[(population['Country']=='Sudan (former)', 'Country')] = 'Sudan'\n",
    "population = population[population['Country'] != 'South Sudan']\n",
    "\n",
    "#population.loc[population[population['Country'] == 'USSR'].index,'Country'] = 'Russian Federation'\n",
    "\n",
    "# Set Country + Year as index\n",
    "population = population.set_index(['Country', 'Year'])\n",
    "print(population.shape)\n",
    "# we have to multiply the value of popluation by 1000 because the unit was 1000 people\n",
    "population['Population'] *= 1000\n",
    "population.head()"
   ]
  },
  {
   "cell_type": "code",
   "execution_count": 126,
   "metadata": {
    "Collapsed": "false"
   },
   "outputs": [
    {
     "data": {
      "text/html": [
       "<div>\n",
       "<style scoped>\n",
       "    .dataframe tbody tr th:only-of-type {\n",
       "        vertical-align: middle;\n",
       "    }\n",
       "\n",
       "    .dataframe tbody tr th {\n",
       "        vertical-align: top;\n",
       "    }\n",
       "\n",
       "    .dataframe thead th {\n",
       "        text-align: right;\n",
       "    }\n",
       "</style>\n",
       "<table border=\"1\" class=\"dataframe\">\n",
       "  <thead>\n",
       "    <tr style=\"text-align: right;\">\n",
       "      <th></th>\n",
       "      <th></th>\n",
       "      <th>Animal</th>\n",
       "      <th>Vegetal</th>\n",
       "      <th>Sum</th>\n",
       "      <th>Population</th>\n",
       "    </tr>\n",
       "    <tr>\n",
       "      <th>Country</th>\n",
       "      <th>Year</th>\n",
       "      <th></th>\n",
       "      <th></th>\n",
       "      <th></th>\n",
       "      <th></th>\n",
       "    </tr>\n",
       "  </thead>\n",
       "  <tbody>\n",
       "    <tr>\n",
       "      <td rowspan=\"5\" valign=\"top\">Afghanistan</td>\n",
       "      <td>1961</td>\n",
       "      <td>5180.657133</td>\n",
       "      <td>956.764180</td>\n",
       "      <td>6137.421313</td>\n",
       "      <td>9169410.0</td>\n",
       "    </tr>\n",
       "    <tr>\n",
       "      <td>1962</td>\n",
       "      <td>5222.434400</td>\n",
       "      <td>963.590813</td>\n",
       "      <td>6186.025213</td>\n",
       "      <td>9351441.0</td>\n",
       "    </tr>\n",
       "    <tr>\n",
       "      <td>1963</td>\n",
       "      <td>5422.595767</td>\n",
       "      <td>955.710880</td>\n",
       "      <td>6378.306647</td>\n",
       "      <td>9543205.0</td>\n",
       "    </tr>\n",
       "    <tr>\n",
       "      <td>1964</td>\n",
       "      <td>5493.715380</td>\n",
       "      <td>998.164040</td>\n",
       "      <td>6491.879420</td>\n",
       "      <td>9744781.0</td>\n",
       "    </tr>\n",
       "    <tr>\n",
       "      <td>1965</td>\n",
       "      <td>5632.363413</td>\n",
       "      <td>1008.882260</td>\n",
       "      <td>6641.245673</td>\n",
       "      <td>9956320.0</td>\n",
       "    </tr>\n",
       "  </tbody>\n",
       "</table>\n",
       "</div>"
      ],
      "text/plain": [
       "                       Animal      Vegetal          Sum  Population\n",
       "Country     Year                                                   \n",
       "Afghanistan 1961  5180.657133   956.764180  6137.421313   9169410.0\n",
       "            1962  5222.434400   963.590813  6186.025213   9351441.0\n",
       "            1963  5422.595767   955.710880  6378.306647   9543205.0\n",
       "            1964  5493.715380   998.164040  6491.879420   9744781.0\n",
       "            1965  5632.363413  1008.882260  6641.245673   9956320.0"
      ]
     },
     "execution_count": 126,
     "metadata": {},
     "output_type": "execute_result"
    }
   ],
   "source": [
    "# We can now make a join with the emission dataset\n",
    "emissions_total_population = pd.merge(emissions_total, population, left_index=True, right_index=True).sort_index()\n",
    "emissions_total_population.head()"
   ]
  },
  {
   "cell_type": "markdown",
   "metadata": {
    "Collapsed": "false"
   },
   "source": [
    "Finally we can devide the columns `Animal`, `Vegetal` and `Sum` by the population to obtain the emission per capita. We multiply by $$10^6$$ to receive the emission per capita in kilogram of CO2eq. "
   ]
  },
  {
   "cell_type": "code",
   "execution_count": 127,
   "metadata": {
    "Collapsed": "false"
   },
   "outputs": [
    {
     "data": {
      "text/html": [
       "<div>\n",
       "<style scoped>\n",
       "    .dataframe tbody tr th:only-of-type {\n",
       "        vertical-align: middle;\n",
       "    }\n",
       "\n",
       "    .dataframe tbody tr th {\n",
       "        vertical-align: top;\n",
       "    }\n",
       "\n",
       "    .dataframe thead th {\n",
       "        text-align: right;\n",
       "    }\n",
       "</style>\n",
       "<table border=\"1\" class=\"dataframe\">\n",
       "  <thead>\n",
       "    <tr style=\"text-align: right;\">\n",
       "      <th></th>\n",
       "      <th></th>\n",
       "      <th>Animal</th>\n",
       "      <th>Vegetal</th>\n",
       "      <th>Sum</th>\n",
       "    </tr>\n",
       "    <tr>\n",
       "      <th>Country</th>\n",
       "      <th>Year</th>\n",
       "      <th></th>\n",
       "      <th></th>\n",
       "      <th></th>\n",
       "    </tr>\n",
       "  </thead>\n",
       "  <tbody>\n",
       "    <tr>\n",
       "      <td rowspan=\"5\" valign=\"top\">Afghanistan</td>\n",
       "      <td>1961</td>\n",
       "      <td>564.993509</td>\n",
       "      <td>104.343047</td>\n",
       "      <td>669.336556</td>\n",
       "    </tr>\n",
       "    <tr>\n",
       "      <td>1962</td>\n",
       "      <td>558.463065</td>\n",
       "      <td>103.041960</td>\n",
       "      <td>661.505025</td>\n",
       "    </tr>\n",
       "    <tr>\n",
       "      <td>1963</td>\n",
       "      <td>568.215371</td>\n",
       "      <td>100.145693</td>\n",
       "      <td>668.361064</td>\n",
       "    </tr>\n",
       "    <tr>\n",
       "      <td>1964</td>\n",
       "      <td>563.759758</td>\n",
       "      <td>102.430628</td>\n",
       "      <td>666.190386</td>\n",
       "    </tr>\n",
       "    <tr>\n",
       "      <td>1965</td>\n",
       "      <td>565.707351</td>\n",
       "      <td>101.330839</td>\n",
       "      <td>667.038190</td>\n",
       "    </tr>\n",
       "  </tbody>\n",
       "</table>\n",
       "</div>"
      ],
      "text/plain": [
       "                      Animal     Vegetal         Sum\n",
       "Country     Year                                    \n",
       "Afghanistan 1961  564.993509  104.343047  669.336556\n",
       "            1962  558.463065  103.041960  661.505025\n",
       "            1963  568.215371  100.145693  668.361064\n",
       "            1964  563.759758  102.430628  666.190386\n",
       "            1965  565.707351  101.330839  667.038190"
      ]
     },
     "execution_count": 127,
     "metadata": {},
     "output_type": "execute_result"
    }
   ],
   "source": [
    "emissions_per_capita = pd.DataFrame()\n",
    "for col in ['Animal', 'Vegetal', 'Sum']:\n",
    "    emissions_per_capita[col] = emissions_total_population[col] / emissions_total_population['Population'] * 1e6\n",
    "emissions_per_capita.head()"
   ]
  },
  {
   "cell_type": "code",
   "execution_count": 128,
   "metadata": {
    "Collapsed": "false"
   },
   "outputs": [
    {
     "data": {
      "image/png": "[encoded data removed]",
      "text/plain": [
       "<Figure size 1008x504 with 3 Axes>"
      ]
     },
     "metadata": {
      "needs_background": "light"
     },
     "output_type": "display_data"
    }
   ],
   "source": [
    "emissions_per_capita.hist(figsize=(14,7), log=True, layout=(1,3))\n",
    "plt.show()"
   ]
  },
  {
   "cell_type": "markdown",
   "metadata": {
    "Collapsed": "false"
   },
   "source": [
    "It seems to have outliers. Let's look at them. "
   ]
  },
  {
   "cell_type": "code",
   "execution_count": 129,
   "metadata": {
    "Collapsed": "false"
   },
   "outputs": [
    {
     "data": {
      "text/html": [
       "<div>\n",
       "<style scoped>\n",
       "    .dataframe tbody tr th:only-of-type {\n",
       "        vertical-align: middle;\n",
       "    }\n",
       "\n",
       "    .dataframe tbody tr th {\n",
       "        vertical-align: top;\n",
       "    }\n",
       "\n",
       "    .dataframe thead th {\n",
       "        text-align: right;\n",
       "    }\n",
       "</style>\n",
       "<table border=\"1\" class=\"dataframe\">\n",
       "  <thead>\n",
       "    <tr style=\"text-align: right;\">\n",
       "      <th></th>\n",
       "      <th></th>\n",
       "      <th>Animal</th>\n",
       "      <th>Vegetal</th>\n",
       "      <th>Sum</th>\n",
       "    </tr>\n",
       "    <tr>\n",
       "      <th>Country</th>\n",
       "      <th>Year</th>\n",
       "      <th></th>\n",
       "      <th></th>\n",
       "      <th></th>\n",
       "    </tr>\n",
       "  </thead>\n",
       "  <tbody>\n",
       "    <tr>\n",
       "      <td rowspan=\"34\" valign=\"top\">Falkland Islands (Malvinas)</td>\n",
       "      <td>1961</td>\n",
       "      <td>43684.590781</td>\n",
       "      <td>88.225149</td>\n",
       "      <td>43772.815930</td>\n",
       "    </tr>\n",
       "    <tr>\n",
       "      <td>1962</td>\n",
       "      <td>43764.335224</td>\n",
       "      <td>88.327032</td>\n",
       "      <td>43852.662256</td>\n",
       "    </tr>\n",
       "    <tr>\n",
       "      <td>1963</td>\n",
       "      <td>45116.677730</td>\n",
       "      <td>88.904694</td>\n",
       "      <td>45205.582425</td>\n",
       "    </tr>\n",
       "    <tr>\n",
       "      <td>1964</td>\n",
       "      <td>45066.736943</td>\n",
       "      <td>90.001597</td>\n",
       "      <td>45156.738540</td>\n",
       "    </tr>\n",
       "    <tr>\n",
       "      <td>1965</td>\n",
       "      <td>45282.733397</td>\n",
       "      <td>91.033045</td>\n",
       "      <td>45373.766442</td>\n",
       "    </tr>\n",
       "    <tr>\n",
       "      <td>1966</td>\n",
       "      <td>45489.935212</td>\n",
       "      <td>92.500810</td>\n",
       "      <td>45582.436022</td>\n",
       "    </tr>\n",
       "    <tr>\n",
       "      <td>1967</td>\n",
       "      <td>46545.702574</td>\n",
       "      <td>94.261354</td>\n",
       "      <td>46639.963929</td>\n",
       "    </tr>\n",
       "    <tr>\n",
       "      <td>1968</td>\n",
       "      <td>46232.129309</td>\n",
       "      <td>94.425202</td>\n",
       "      <td>46326.554511</td>\n",
       "    </tr>\n",
       "    <tr>\n",
       "      <td>1969</td>\n",
       "      <td>46672.428476</td>\n",
       "      <td>95.093147</td>\n",
       "      <td>46767.521623</td>\n",
       "    </tr>\n",
       "    <tr>\n",
       "      <td>1970</td>\n",
       "      <td>47304.491299</td>\n",
       "      <td>95.431727</td>\n",
       "      <td>47399.923025</td>\n",
       "    </tr>\n",
       "    <tr>\n",
       "      <td>1971</td>\n",
       "      <td>48377.616862</td>\n",
       "      <td>96.294408</td>\n",
       "      <td>48473.911270</td>\n",
       "    </tr>\n",
       "    <tr>\n",
       "      <td>1972</td>\n",
       "      <td>48024.036791</td>\n",
       "      <td>95.230795</td>\n",
       "      <td>48119.267586</td>\n",
       "    </tr>\n",
       "    <tr>\n",
       "      <td>1973</td>\n",
       "      <td>46768.516598</td>\n",
       "      <td>96.109959</td>\n",
       "      <td>46864.626556</td>\n",
       "    </tr>\n",
       "    <tr>\n",
       "      <td>1974</td>\n",
       "      <td>47850.017325</td>\n",
       "      <td>96.067221</td>\n",
       "      <td>47946.084546</td>\n",
       "    </tr>\n",
       "    <tr>\n",
       "      <td>1975</td>\n",
       "      <td>49613.554037</td>\n",
       "      <td>97.127343</td>\n",
       "      <td>49710.681380</td>\n",
       "    </tr>\n",
       "    <tr>\n",
       "      <td>1976</td>\n",
       "      <td>49947.467796</td>\n",
       "      <td>97.494265</td>\n",
       "      <td>50044.962061</td>\n",
       "    </tr>\n",
       "    <tr>\n",
       "      <td>1977</td>\n",
       "      <td>49657.162138</td>\n",
       "      <td>98.437223</td>\n",
       "      <td>49755.599361</td>\n",
       "    </tr>\n",
       "    <tr>\n",
       "      <td>1978</td>\n",
       "      <td>50313.699947</td>\n",
       "      <td>115.038263</td>\n",
       "      <td>50428.738210</td>\n",
       "    </tr>\n",
       "    <tr>\n",
       "      <td>1979</td>\n",
       "      <td>50984.048772</td>\n",
       "      <td>132.365071</td>\n",
       "      <td>51116.413843</td>\n",
       "    </tr>\n",
       "    <tr>\n",
       "      <td>1980</td>\n",
       "      <td>51369.773463</td>\n",
       "      <td>141.477886</td>\n",
       "      <td>51511.251348</td>\n",
       "    </tr>\n",
       "    <tr>\n",
       "      <td>1981</td>\n",
       "      <td>50671.545684</td>\n",
       "      <td>159.263272</td>\n",
       "      <td>50830.808956</td>\n",
       "    </tr>\n",
       "    <tr>\n",
       "      <td>1982</td>\n",
       "      <td>51338.938820</td>\n",
       "      <td>167.677315</td>\n",
       "      <td>51506.616134</td>\n",
       "    </tr>\n",
       "    <tr>\n",
       "      <td>1983</td>\n",
       "      <td>51882.476915</td>\n",
       "      <td>181.386927</td>\n",
       "      <td>52063.863842</td>\n",
       "    </tr>\n",
       "    <tr>\n",
       "      <td>1984</td>\n",
       "      <td>52236.334417</td>\n",
       "      <td>195.287107</td>\n",
       "      <td>52431.621524</td>\n",
       "    </tr>\n",
       "    <tr>\n",
       "      <td>1985</td>\n",
       "      <td>53140.241441</td>\n",
       "      <td>198.558559</td>\n",
       "      <td>53338.800000</td>\n",
       "    </tr>\n",
       "    <tr>\n",
       "      <td>1986</td>\n",
       "      <td>53292.212040</td>\n",
       "      <td>191.931716</td>\n",
       "      <td>53484.143756</td>\n",
       "    </tr>\n",
       "    <tr>\n",
       "      <td>1987</td>\n",
       "      <td>51669.595149</td>\n",
       "      <td>163.813091</td>\n",
       "      <td>51833.408240</td>\n",
       "    </tr>\n",
       "    <tr>\n",
       "      <td>1988</td>\n",
       "      <td>51780.863741</td>\n",
       "      <td>156.953993</td>\n",
       "      <td>51937.817733</td>\n",
       "    </tr>\n",
       "    <tr>\n",
       "      <td>1989</td>\n",
       "      <td>53388.387766</td>\n",
       "      <td>149.092794</td>\n",
       "      <td>53537.480560</td>\n",
       "    </tr>\n",
       "    <tr>\n",
       "      <td>1990</td>\n",
       "      <td>51361.564077</td>\n",
       "      <td>356975.260679</td>\n",
       "      <td>408336.824756</td>\n",
       "    </tr>\n",
       "    <tr>\n",
       "      <td>1991</td>\n",
       "      <td>48447.261270</td>\n",
       "      <td>342954.968492</td>\n",
       "      <td>391402.229762</td>\n",
       "    </tr>\n",
       "    <tr>\n",
       "      <td>1992</td>\n",
       "      <td>45199.083333</td>\n",
       "      <td>327546.172840</td>\n",
       "      <td>372745.256173</td>\n",
       "    </tr>\n",
       "    <tr>\n",
       "      <td>1993</td>\n",
       "      <td>43313.637961</td>\n",
       "      <td>310845.093732</td>\n",
       "      <td>354158.731693</td>\n",
       "    </tr>\n",
       "    <tr>\n",
       "      <td>1994</td>\n",
       "      <td>41558.454025</td>\n",
       "      <td>296173.670992</td>\n",
       "      <td>337732.125017</td>\n",
       "    </tr>\n",
       "  </tbody>\n",
       "</table>\n",
       "</div>"
      ],
      "text/plain": [
       "                                        Animal        Vegetal            Sum\n",
       "Country                     Year                                            \n",
       "Falkland Islands (Malvinas) 1961  43684.590781      88.225149   43772.815930\n",
       "                            1962  43764.335224      88.327032   43852.662256\n",
       "                            1963  45116.677730      88.904694   45205.582425\n",
       "                            1964  45066.736943      90.001597   45156.738540\n",
       "                            1965  45282.733397      91.033045   45373.766442\n",
       "                            1966  45489.935212      92.500810   45582.436022\n",
       "                            1967  46545.702574      94.261354   46639.963929\n",
       "                            1968  46232.129309      94.425202   46326.554511\n",
       "                            1969  46672.428476      95.093147   46767.521623\n",
       "                            1970  47304.491299      95.431727   47399.923025\n",
       "                            1971  48377.616862      96.294408   48473.911270\n",
       "                            1972  48024.036791      95.230795   48119.267586\n",
       "                            1973  46768.516598      96.109959   46864.626556\n",
       "                            1974  47850.017325      96.067221   47946.084546\n",
       "                            1975  49613.554037      97.127343   49710.681380\n",
       "                            1976  49947.467796      97.494265   50044.962061\n",
       "                            1977  49657.162138      98.437223   49755.599361\n",
       "                            1978  50313.699947     115.038263   50428.738210\n",
       "                            1979  50984.048772     132.365071   51116.413843\n",
       "                            1980  51369.773463     141.477886   51511.251348\n",
       "                            1981  50671.545684     159.263272   50830.808956\n",
       "                            1982  51338.938820     167.677315   51506.616134\n",
       "                            1983  51882.476915     181.386927   52063.863842\n",
       "                            1984  52236.334417     195.287107   52431.621524\n",
       "                            1985  53140.241441     198.558559   53338.800000\n",
       "                            1986  53292.212040     191.931716   53484.143756\n",
       "                            1987  51669.595149     163.813091   51833.408240\n",
       "                            1988  51780.863741     156.953993   51937.817733\n",
       "                            1989  53388.387766     149.092794   53537.480560\n",
       "                            1990  51361.564077  356975.260679  408336.824756\n",
       "                            1991  48447.261270  342954.968492  391402.229762\n",
       "                            1992  45199.083333  327546.172840  372745.256173\n",
       "                            1993  43313.637961  310845.093732  354158.731693\n",
       "                            1994  41558.454025  296173.670992  337732.125017"
      ]
     },
     "execution_count": 129,
     "metadata": {},
     "output_type": "execute_result"
    }
   ],
   "source": [
    "emissions_per_capita[emissions_per_capita['Animal'] > 40000]"
   ]
  },
  {
   "cell_type": "code",
   "execution_count": 130,
   "metadata": {
    "Collapsed": "false"
   },
   "outputs": [
    {
     "data": {
      "text/html": [
       "<div>\n",
       "<style scoped>\n",
       "    .dataframe tbody tr th:only-of-type {\n",
       "        vertical-align: middle;\n",
       "    }\n",
       "\n",
       "    .dataframe tbody tr th {\n",
       "        vertical-align: top;\n",
       "    }\n",
       "\n",
       "    .dataframe thead th {\n",
       "        text-align: right;\n",
       "    }\n",
       "</style>\n",
       "<table border=\"1\" class=\"dataframe\">\n",
       "  <thead>\n",
       "    <tr style=\"text-align: right;\">\n",
       "      <th></th>\n",
       "      <th>Animal</th>\n",
       "      <th>Vegetal</th>\n",
       "      <th>Sum</th>\n",
       "      <th>Population</th>\n",
       "    </tr>\n",
       "    <tr>\n",
       "      <th>Year</th>\n",
       "      <th></th>\n",
       "      <th></th>\n",
       "      <th></th>\n",
       "      <th></th>\n",
       "    </tr>\n",
       "  </thead>\n",
       "  <tbody>\n",
       "    <tr>\n",
       "      <td>1961</td>\n",
       "      <td>92.873440</td>\n",
       "      <td>0.187567</td>\n",
       "      <td>93.061007</td>\n",
       "      <td>2126.0</td>\n",
       "    </tr>\n",
       "    <tr>\n",
       "      <td>1962</td>\n",
       "      <td>92.605333</td>\n",
       "      <td>0.186900</td>\n",
       "      <td>92.792233</td>\n",
       "      <td>2116.0</td>\n",
       "    </tr>\n",
       "    <tr>\n",
       "      <td>1963</td>\n",
       "      <td>95.151073</td>\n",
       "      <td>0.187500</td>\n",
       "      <td>95.338573</td>\n",
       "      <td>2109.0</td>\n",
       "    </tr>\n",
       "    <tr>\n",
       "      <td>1964</td>\n",
       "      <td>94.054280</td>\n",
       "      <td>0.187833</td>\n",
       "      <td>94.242113</td>\n",
       "      <td>2087.0</td>\n",
       "    </tr>\n",
       "    <tr>\n",
       "      <td>1965</td>\n",
       "      <td>94.097520</td>\n",
       "      <td>0.189167</td>\n",
       "      <td>94.286687</td>\n",
       "      <td>2078.0</td>\n",
       "    </tr>\n",
       "  </tbody>\n",
       "</table>\n",
       "</div>"
      ],
      "text/plain": [
       "         Animal   Vegetal        Sum  Population\n",
       "Year                                            \n",
       "1961  92.873440  0.187567  93.061007      2126.0\n",
       "1962  92.605333  0.186900  92.792233      2116.0\n",
       "1963  95.151073  0.187500  95.338573      2109.0\n",
       "1964  94.054280  0.187833  94.242113      2087.0\n",
       "1965  94.097520  0.189167  94.286687      2078.0"
      ]
     },
     "execution_count": 130,
     "metadata": {},
     "output_type": "execute_result"
    }
   ],
   "source": [
    "emissions_total_population.loc['Falkland Islands (Malvinas)'].head()"
   ]
  },
  {
   "cell_type": "markdown",
   "metadata": {
    "Collapsed": "false"
   },
   "source": [
    "We see that the outliers are caused by one country `Falkland Islands (Malvinas)`. The emission seems not so big on absolute, however, the island is only populated by 2000 people (the data contained in the dataset is correct, we have checked). Furthermore the island (which has the 5th highest Gross Product per Capita) is known for its industry of sheep farming. This explains that the emission coming from animals is the biggest one per capita. For now let us remove that country because even if the data is correct, we want to focus on larger countries and this particular case can be neglected."
   ]
  },
  {
   "cell_type": "code",
   "execution_count": 131,
   "metadata": {
    "Collapsed": "false"
   },
   "outputs": [],
   "source": [
    "emissions_per_capita = emissions_per_capita.drop(index='Falkland Islands (Malvinas)')"
   ]
  },
  {
   "cell_type": "markdown",
   "metadata": {
    "Collapsed": "false"
   },
   "source": [
    "We will now take the mean of the emissions for each country over the years in order to see which are the ones that emit the most per capita."
   ]
  },
  {
   "cell_type": "code",
   "execution_count": 132,
   "metadata": {
    "Collapsed": "false"
   },
   "outputs": [
    {
     "data": {
      "image/png": "[encoded data removed]",
      "text/plain": [
       "<Figure size 1008x504 with 3 Axes>"
      ]
     },
     "metadata": {
      "needs_background": "light"
     },
     "output_type": "display_data"
    }
   ],
   "source": [
    "emissions_per_capita = emissions_per_capita.groupby(level=[0]).mean()\n",
    "emissions_per_capita.hist(figsize=(14,7), log=True, layout=(1,3))\n",
    "plt.show()"
   ]
  },
  {
   "cell_type": "code",
   "execution_count": 133,
   "metadata": {
    "Collapsed": "false"
   },
   "outputs": [
    {
     "data": {
      "text/plain": [
       "Country\n",
       "New Zealand    7398.001096\n",
       "Uruguay        4895.881623\n",
       "Mongolia       4451.474875\n",
       "Australia      4254.650018\n",
       "Ireland        3270.815460\n",
       "Paraguay       2346.861893\n",
       "Argentina      2283.933067\n",
       "Namibia        2065.345131\n",
       "Somalia        1980.118501\n",
       "Mauritania     1912.174699\n",
       "Name: Sum, dtype: float64"
      ]
     },
     "execution_count": 133,
     "metadata": {},
     "output_type": "execute_result"
    }
   ],
   "source": [
    "emissions_per_capita['Sum'].sort_values(ascending=False).head(10)"
   ]
  },
  {
   "cell_type": "code",
   "execution_count": 134,
   "metadata": {
    "Collapsed": "false"
   },
   "outputs": [
    {
     "data": {
      "text/plain": [
       "Country\n",
       "New Zealand    7143.584276\n",
       "Uruguay        4610.856385\n",
       "Australia      3975.826568\n",
       "Mongolia       3677.255598\n",
       "Ireland        2467.894539\n",
       "Paraguay       2237.799988\n",
       "Argentina      2126.091030\n",
       "Namibia        2041.993702\n",
       "Somalia        1958.589988\n",
       "Mauritania     1870.103299\n",
       "Name: Animal, dtype: float64"
      ]
     },
     "execution_count": 134,
     "metadata": {},
     "output_type": "execute_result"
    }
   ],
   "source": [
    "emissions_per_capita['Animal'].sort_values(ascending=False).head(10)"
   ]
  },
  {
   "cell_type": "code",
   "execution_count": 135,
   "metadata": {
    "Collapsed": "false"
   },
   "outputs": [
    {
     "data": {
      "text/plain": [
       "Country\n",
       "Guyana       937.373270\n",
       "Ireland      802.920921\n",
       "Mongolia     774.219277\n",
       "Belarus      706.612933\n",
       "Suriname     653.400795\n",
       "Cambodia     518.019752\n",
       "Estonia      507.796001\n",
       "Lithuania    507.333401\n",
       "Thailand     494.949061\n",
       "Denmark      483.404868\n",
       "Name: Vegetal, dtype: float64"
      ]
     },
     "execution_count": 135,
     "metadata": {},
     "output_type": "execute_result"
    }
   ],
   "source": [
    "emissions_per_capita['Vegetal'].sort_values(ascending=False).head(10)"
   ]
  },
  {
   "cell_type": "markdown",
   "metadata": {
    "Collapsed": "false"
   },
   "source": [
    "These country are not necessarily the ones we expected (that would be China or India).\n",
    "This is because this dataset focusses on emission due to agriculture. Moreover we can see that the top 10 emitters are the same (almost in the same order) if we look at the total emsissions and the emsissions due to animal products. These countries are known for producing a lot of meat. It could be interesting to look at their emission when we consider the import and export."
   ]
  },
  {
   "cell_type": "markdown",
   "metadata": {
    "Collapsed": "false"
   },
   "source": [
    "## Correcting emissions for Belgium and Switzerland <a name=\"correcting_emissions\"></a>\n",
    "Then our main analysis will focus on comparing emission from Belgium and Switzerland for vegetable products and meat products.\n",
    "\n",
    "The data presented in the introduction do not take into account the importation/exportation of the country.\n",
    "We will use the `detailed trade matrix` data set to adapt these emission by adding emmission due to the production of imported procuct and removing emission for exportation product.\n",
    "\n",
    "We will then compare these new data between belgium and Switzerland to figure out which country is responsible for the most emission."
   ]
  },
  {
   "cell_type": "markdown",
   "metadata": {
    "Collapsed": "false"
   },
   "source": [
    "First because the trade data set is huge we will only select rows concerning Belgium and then export the dataset to pandas to create a new csv file containing the rows we want."
   ]
  },
  {
   "cell_type": "code",
   "execution_count": 145,
   "metadata": {
    "Collapsed": "false"
   },
   "outputs": [],
   "source": [
    "import pyspark\n",
    "import pyspark.sql\n",
    "from pyspark.sql import *\n",
    "from pyspark.sql.functions import *\n",
    "\n",
    "conf = pyspark.SparkConf().setMaster(\"local[*]\").setAll([\n",
    "                                   ('spark.executor.memory', '12g'),  # find\n",
    "                                   ('spark.driver.memory','4g'), # your\n",
    "                                   ('spark.driver.maxResultSize', '2G') # setup\n",
    "                                  ])\n",
    "# create the session\n",
    "spark = SparkSession.builder.config(conf=conf).getOrCreate()\n",
    "\n",
    "# create the context\n",
    "sc = spark.sparkContext\n",
    "\n",
    "# FIX for Spark 2.x\n",
    "locale = sc._jvm.java.util.Locale\n",
    "locale.setDefault(locale.forLanguageTag(\"en-US\"))"
   ]
  },
  {
   "cell_type": "code",
   "execution_count": 149,
   "metadata": {
    "Collapsed": "false"
   },
   "outputs": [],
   "source": [
    "trades = spark.read.csv(DATA_PATH+'Trade_DetailedTradeMatrix_E_All_Data_(Normalized).csv', header =True)"
   ]
  },
  {
   "cell_type": "code",
   "execution_count": 150,
   "metadata": {
    "Collapsed": "false"
   },
   "outputs": [
    {
     "name": "stdout",
     "output_type": "stream",
     "text": [
      "root\n",
      " |-- Reporter Country Code: string (nullable = true)\n",
      " |-- Reporter Countries: string (nullable = true)\n",
      " |-- Partner Country Code: string (nullable = true)\n",
      " |-- Partner Countries: string (nullable = true)\n",
      " |-- Item Code: string (nullable = true)\n",
      " |-- Item: string (nullable = true)\n",
      " |-- Element Code: string (nullable = true)\n",
      " |-- Element: string (nullable = true)\n",
      " |-- Year Code: string (nullable = true)\n",
      " |-- Year: string (nullable = true)\n",
      " |-- Unit: string (nullable = true)\n",
      " |-- Value: string (nullable = true)\n",
      " |-- Flag: string (nullable = true)\n",
      "\n"
     ]
    }
   ],
   "source": [
    "trades.printSchema()"
   ]
  },
  {
   "cell_type": "code",
   "execution_count": 151,
   "metadata": {
    "Collapsed": "false"
   },
   "outputs": [],
   "source": [
    "trades = trades.withColumnRenamed('Reporter Countries', 'Countries')"
   ]
  },
  {
   "cell_type": "markdown",
   "metadata": {
    "Collapsed": "false"
   },
   "source": [
    "### Belgium <a name=\"belgium_trade\"></a>\n",
    "\n",
    "We will first study the trade of belgium"
   ]
  },
  {
   "cell_type": "code",
   "execution_count": 152,
   "metadata": {
    "Collapsed": "false"
   },
   "outputs": [
    {
     "name": "stdout",
     "output_type": "stream",
     "text": [
      "+---------------------+---------+--------------------+-----------------+---------+---------------+------------+---------------+---------+----+--------+--------+----+\n",
      "|Reporter Country Code|Countries|Partner Country Code|Partner Countries|Item Code|           Item|Element Code|        Element|Year Code|Year|    Unit|   Value|Flag|\n",
      "+---------------------+---------+--------------------+-----------------+---------+---------------+------------+---------------+---------+----+--------+--------+----+\n",
      "|                  255|  Belgium|                   2|      Afghanistan|      231|Almonds shelled|        5610|Import Quantity|     2015|2015|  tonnes|0.000000|null|\n",
      "|                  255|  Belgium|                   2|      Afghanistan|      231|Almonds shelled|        5610|Import Quantity|     2016|2016|  tonnes|1.000000|null|\n",
      "|                  255|  Belgium|                   2|      Afghanistan|      231|Almonds shelled|        5610|Import Quantity|     2017|2017|  tonnes|1.000000|null|\n",
      "|                  255|  Belgium|                   2|      Afghanistan|      231|Almonds shelled|        5622|   Import Value|     2015|2015|1000 US$|0.000000|null|\n",
      "|                  255|  Belgium|                   2|      Afghanistan|      231|Almonds shelled|        5622|   Import Value|     2016|2016|1000 US$|4.000000|null|\n",
      "+---------------------+---------+--------------------+-----------------+---------+---------------+------------+---------------+---------+----+--------+--------+----+\n",
      "only showing top 5 rows\n",
      "\n"
     ]
    }
   ],
   "source": [
    "trades.registerTempTable(\"Trades\")\n",
    "\n",
    "query = \"\"\"\n",
    "SELECT *\n",
    "FROM Trades\n",
    "WHERE Countries = 'Belgium'\n",
    "\"\"\"\n",
    "\n",
    "belgium_trade = spark.sql(query)\n",
    "belgium_trade.show(5)"
   ]
  },
  {
   "cell_type": "code",
   "execution_count": 153,
   "metadata": {
    "Collapsed": "false"
   },
   "outputs": [],
   "source": [
    "belgium_trade_df = belgium_trade.toPandas()"
   ]
  },
  {
   "cell_type": "code",
   "execution_count": 154,
   "metadata": {
    "Collapsed": "false"
   },
   "outputs": [],
   "source": [
    "belgium_trade_df.to_csv(GENERATED_DATA_PATH+'trade_belgium.csv')"
   ]
  },
  {
   "cell_type": "markdown",
   "metadata": {
    "Collapsed": "false"
   },
   "source": [
    "From now we can begin with this cell."
   ]
  },
  {
   "cell_type": "code",
   "execution_count": 155,
   "metadata": {
    "Collapsed": "false"
   },
   "outputs": [],
   "source": [
    "belgium_trade_df = pd.read_csv(GENERATED_DATA_PATH+'trade_belgium.csv', index_col=0)"
   ]
  },
  {
   "cell_type": "code",
   "execution_count": 156,
   "metadata": {
    "Collapsed": "false"
   },
   "outputs": [
    {
     "data": {
      "text/html": [
       "<div>\n",
       "<style scoped>\n",
       "    .dataframe tbody tr th:only-of-type {\n",
       "        vertical-align: middle;\n",
       "    }\n",
       "\n",
       "    .dataframe tbody tr th {\n",
       "        vertical-align: top;\n",
       "    }\n",
       "\n",
       "    .dataframe thead th {\n",
       "        text-align: right;\n",
       "    }\n",
       "</style>\n",
       "<table border=\"1\" class=\"dataframe\">\n",
       "  <thead>\n",
       "    <tr style=\"text-align: right;\">\n",
       "      <th></th>\n",
       "      <th>Reporter Country Code</th>\n",
       "      <th>Countries</th>\n",
       "      <th>Partner Country Code</th>\n",
       "      <th>Partner Countries</th>\n",
       "      <th>Item Code</th>\n",
       "      <th>Item</th>\n",
       "      <th>Element Code</th>\n",
       "      <th>Element</th>\n",
       "      <th>Year Code</th>\n",
       "      <th>Year</th>\n",
       "      <th>Unit</th>\n",
       "      <th>Value</th>\n",
       "      <th>Flag</th>\n",
       "    </tr>\n",
       "  </thead>\n",
       "  <tbody>\n",
       "    <tr>\n",
       "      <td>0</td>\n",
       "      <td>255</td>\n",
       "      <td>Belgium</td>\n",
       "      <td>2</td>\n",
       "      <td>Afghanistan</td>\n",
       "      <td>231</td>\n",
       "      <td>Almonds shelled</td>\n",
       "      <td>5610</td>\n",
       "      <td>Import Quantity</td>\n",
       "      <td>2015</td>\n",
       "      <td>2015</td>\n",
       "      <td>tonnes</td>\n",
       "      <td>0.0</td>\n",
       "      <td>NaN</td>\n",
       "    </tr>\n",
       "    <tr>\n",
       "      <td>1</td>\n",
       "      <td>255</td>\n",
       "      <td>Belgium</td>\n",
       "      <td>2</td>\n",
       "      <td>Afghanistan</td>\n",
       "      <td>231</td>\n",
       "      <td>Almonds shelled</td>\n",
       "      <td>5610</td>\n",
       "      <td>Import Quantity</td>\n",
       "      <td>2016</td>\n",
       "      <td>2016</td>\n",
       "      <td>tonnes</td>\n",
       "      <td>1.0</td>\n",
       "      <td>NaN</td>\n",
       "    </tr>\n",
       "    <tr>\n",
       "      <td>2</td>\n",
       "      <td>255</td>\n",
       "      <td>Belgium</td>\n",
       "      <td>2</td>\n",
       "      <td>Afghanistan</td>\n",
       "      <td>231</td>\n",
       "      <td>Almonds shelled</td>\n",
       "      <td>5610</td>\n",
       "      <td>Import Quantity</td>\n",
       "      <td>2017</td>\n",
       "      <td>2017</td>\n",
       "      <td>tonnes</td>\n",
       "      <td>1.0</td>\n",
       "      <td>NaN</td>\n",
       "    </tr>\n",
       "    <tr>\n",
       "      <td>3</td>\n",
       "      <td>255</td>\n",
       "      <td>Belgium</td>\n",
       "      <td>2</td>\n",
       "      <td>Afghanistan</td>\n",
       "      <td>231</td>\n",
       "      <td>Almonds shelled</td>\n",
       "      <td>5622</td>\n",
       "      <td>Import Value</td>\n",
       "      <td>2015</td>\n",
       "      <td>2015</td>\n",
       "      <td>1000 US$</td>\n",
       "      <td>0.0</td>\n",
       "      <td>NaN</td>\n",
       "    </tr>\n",
       "    <tr>\n",
       "      <td>4</td>\n",
       "      <td>255</td>\n",
       "      <td>Belgium</td>\n",
       "      <td>2</td>\n",
       "      <td>Afghanistan</td>\n",
       "      <td>231</td>\n",
       "      <td>Almonds shelled</td>\n",
       "      <td>5622</td>\n",
       "      <td>Import Value</td>\n",
       "      <td>2016</td>\n",
       "      <td>2016</td>\n",
       "      <td>1000 US$</td>\n",
       "      <td>4.0</td>\n",
       "      <td>NaN</td>\n",
       "    </tr>\n",
       "  </tbody>\n",
       "</table>\n",
       "</div>"
      ],
      "text/plain": [
       "   Reporter Country Code Countries  Partner Country Code Partner Countries  \\\n",
       "0                    255   Belgium                     2       Afghanistan   \n",
       "1                    255   Belgium                     2       Afghanistan   \n",
       "2                    255   Belgium                     2       Afghanistan   \n",
       "3                    255   Belgium                     2       Afghanistan   \n",
       "4                    255   Belgium                     2       Afghanistan   \n",
       "\n",
       "   Item Code             Item  Element Code          Element  Year Code  Year  \\\n",
       "0        231  Almonds shelled          5610  Import Quantity       2015  2015   \n",
       "1        231  Almonds shelled          5610  Import Quantity       2016  2016   \n",
       "2        231  Almonds shelled          5610  Import Quantity       2017  2017   \n",
       "3        231  Almonds shelled          5622     Import Value       2015  2015   \n",
       "4        231  Almonds shelled          5622     Import Value       2016  2016   \n",
       "\n",
       "       Unit  Value Flag  \n",
       "0    tonnes    0.0  NaN  \n",
       "1    tonnes    1.0  NaN  \n",
       "2    tonnes    1.0  NaN  \n",
       "3  1000 US$    0.0  NaN  \n",
       "4  1000 US$    4.0  NaN  "
      ]
     },
     "execution_count": 156,
     "metadata": {},
     "output_type": "execute_result"
    }
   ],
   "source": [
    "belgium_trade_df.head()"
   ]
  },
  {
   "cell_type": "markdown",
   "metadata": {
    "Collapsed": "false"
   },
   "source": [
    "Get rid of useless columns and rename `Partner Countries`"
   ]
  },
  {
   "cell_type": "code",
   "execution_count": 157,
   "metadata": {
    "Collapsed": "false"
   },
   "outputs": [],
   "source": [
    "belgium_trade_df = belgium_trade_df.drop(columns=['Reporter Country Code', 'Countries', 'Partner Country Code', 'Item Code', 'Element Code', 'Year Code', 'Unit', 'Flag'])\n",
    "belgium_trade_df = belgium_trade_df.rename(columns={'Partner Countries': 'Country'})"
   ]
  },
  {
   "cell_type": "code",
   "execution_count": 158,
   "metadata": {
    "Collapsed": "false"
   },
   "outputs": [
    {
     "data": {
      "text/html": [
       "<div>\n",
       "<style scoped>\n",
       "    .dataframe tbody tr th:only-of-type {\n",
       "        vertical-align: middle;\n",
       "    }\n",
       "\n",
       "    .dataframe tbody tr th {\n",
       "        vertical-align: top;\n",
       "    }\n",
       "\n",
       "    .dataframe thead th {\n",
       "        text-align: right;\n",
       "    }\n",
       "</style>\n",
       "<table border=\"1\" class=\"dataframe\">\n",
       "  <thead>\n",
       "    <tr style=\"text-align: right;\">\n",
       "      <th></th>\n",
       "      <th>Country</th>\n",
       "      <th>Item</th>\n",
       "      <th>Element</th>\n",
       "      <th>Year</th>\n",
       "      <th>Value</th>\n",
       "    </tr>\n",
       "  </thead>\n",
       "  <tbody>\n",
       "    <tr>\n",
       "      <td>0</td>\n",
       "      <td>Afghanistan</td>\n",
       "      <td>Almonds shelled</td>\n",
       "      <td>Import Quantity</td>\n",
       "      <td>2015</td>\n",
       "      <td>0.0</td>\n",
       "    </tr>\n",
       "    <tr>\n",
       "      <td>1</td>\n",
       "      <td>Afghanistan</td>\n",
       "      <td>Almonds shelled</td>\n",
       "      <td>Import Quantity</td>\n",
       "      <td>2016</td>\n",
       "      <td>1.0</td>\n",
       "    </tr>\n",
       "    <tr>\n",
       "      <td>2</td>\n",
       "      <td>Afghanistan</td>\n",
       "      <td>Almonds shelled</td>\n",
       "      <td>Import Quantity</td>\n",
       "      <td>2017</td>\n",
       "      <td>1.0</td>\n",
       "    </tr>\n",
       "    <tr>\n",
       "      <td>3</td>\n",
       "      <td>Afghanistan</td>\n",
       "      <td>Almonds shelled</td>\n",
       "      <td>Import Value</td>\n",
       "      <td>2015</td>\n",
       "      <td>0.0</td>\n",
       "    </tr>\n",
       "    <tr>\n",
       "      <td>4</td>\n",
       "      <td>Afghanistan</td>\n",
       "      <td>Almonds shelled</td>\n",
       "      <td>Import Value</td>\n",
       "      <td>2016</td>\n",
       "      <td>4.0</td>\n",
       "    </tr>\n",
       "  </tbody>\n",
       "</table>\n",
       "</div>"
      ],
      "text/plain": [
       "       Country             Item          Element  Year  Value\n",
       "0  Afghanistan  Almonds shelled  Import Quantity  2015    0.0\n",
       "1  Afghanistan  Almonds shelled  Import Quantity  2016    1.0\n",
       "2  Afghanistan  Almonds shelled  Import Quantity  2017    1.0\n",
       "3  Afghanistan  Almonds shelled     Import Value  2015    0.0\n",
       "4  Afghanistan  Almonds shelled     Import Value  2016    4.0"
      ]
     },
     "execution_count": 158,
     "metadata": {},
     "output_type": "execute_result"
    }
   ],
   "source": [
    "belgium_trade_df.head()"
   ]
  },
  {
   "cell_type": "markdown",
   "metadata": {
    "Collapsed": "false"
   },
   "source": [
    "We will separate this dataset into 2 dataset : one for the trading of meat and animal product and the other for the vegetable products. The lists of animal items and vegetable item are in the `anim_items_trade.txt` and `veg_items_trade.txt` and have been done by hand."
   ]
  },
  {
   "cell_type": "code",
   "execution_count": 159,
   "metadata": {
    "Collapsed": "false"
   },
   "outputs": [],
   "source": [
    "animal_item = np.loadtxt(DATA_PATH+'anim_items_trade.txt', delimiter = '  ', dtype='str')"
   ]
  },
  {
   "cell_type": "code",
   "execution_count": 160,
   "metadata": {
    "Collapsed": "false"
   },
   "outputs": [
    {
     "data": {
      "text/html": [
       "<div>\n",
       "<style scoped>\n",
       "    .dataframe tbody tr th:only-of-type {\n",
       "        vertical-align: middle;\n",
       "    }\n",
       "\n",
       "    .dataframe tbody tr th {\n",
       "        vertical-align: top;\n",
       "    }\n",
       "\n",
       "    .dataframe thead th {\n",
       "        text-align: right;\n",
       "    }\n",
       "</style>\n",
       "<table border=\"1\" class=\"dataframe\">\n",
       "  <thead>\n",
       "    <tr style=\"text-align: right;\">\n",
       "      <th></th>\n",
       "      <th>Country</th>\n",
       "      <th>Item</th>\n",
       "      <th>Element</th>\n",
       "      <th>Year</th>\n",
       "      <th>Value</th>\n",
       "    </tr>\n",
       "  </thead>\n",
       "  <tbody>\n",
       "    <tr>\n",
       "      <td>6</td>\n",
       "      <td>Afghanistan</td>\n",
       "      <td>Animals, live, non-food</td>\n",
       "      <td>Export Value</td>\n",
       "      <td>2008</td>\n",
       "      <td>14.0</td>\n",
       "    </tr>\n",
       "    <tr>\n",
       "      <td>7</td>\n",
       "      <td>Afghanistan</td>\n",
       "      <td>Animals, live, non-food</td>\n",
       "      <td>Export Value</td>\n",
       "      <td>2009</td>\n",
       "      <td>9.0</td>\n",
       "    </tr>\n",
       "    <tr>\n",
       "      <td>8</td>\n",
       "      <td>Afghanistan</td>\n",
       "      <td>Animals, live, non-food</td>\n",
       "      <td>Export Value</td>\n",
       "      <td>2017</td>\n",
       "      <td>34.0</td>\n",
       "    </tr>\n",
       "    <tr>\n",
       "      <td>17</td>\n",
       "      <td>Afghanistan</td>\n",
       "      <td>Bacon and ham</td>\n",
       "      <td>Export Quantity</td>\n",
       "      <td>2005</td>\n",
       "      <td>0.0</td>\n",
       "    </tr>\n",
       "    <tr>\n",
       "      <td>18</td>\n",
       "      <td>Afghanistan</td>\n",
       "      <td>Bacon and ham</td>\n",
       "      <td>Export Quantity</td>\n",
       "      <td>2015</td>\n",
       "      <td>5.0</td>\n",
       "    </tr>\n",
       "  </tbody>\n",
       "</table>\n",
       "</div>"
      ],
      "text/plain": [
       "        Country                     Item          Element  Year  Value\n",
       "6   Afghanistan  Animals, live, non-food     Export Value  2008   14.0\n",
       "7   Afghanistan  Animals, live, non-food     Export Value  2009    9.0\n",
       "8   Afghanistan  Animals, live, non-food     Export Value  2017   34.0\n",
       "17  Afghanistan            Bacon and ham  Export Quantity  2005    0.0\n",
       "18  Afghanistan            Bacon and ham  Export Quantity  2015    5.0"
      ]
     },
     "execution_count": 160,
     "metadata": {},
     "output_type": "execute_result"
    }
   ],
   "source": [
    "belgium_animal_trade = belgium_trade_df[belgium_trade_df.Item.isin(animal_item)]\n",
    "belgium_animal_trade.head()"
   ]
  },
  {
   "cell_type": "code",
   "execution_count": 161,
   "metadata": {
    "Collapsed": "false"
   },
   "outputs": [],
   "source": [
    "belgium_animal_trade = belgium_animal_trade.drop(columns='Item')"
   ]
  },
  {
   "cell_type": "markdown",
   "metadata": {
    "Collapsed": "false"
   },
   "source": [
    "Get only the export quantity and import quantity"
   ]
  },
  {
   "cell_type": "code",
   "execution_count": 162,
   "metadata": {
    "Collapsed": "false"
   },
   "outputs": [
    {
     "data": {
      "text/plain": [
       "array(['Export Value', 'Export Quantity', 'Import Quantity',\n",
       "       'Import Value'], dtype=object)"
      ]
     },
     "execution_count": 162,
     "metadata": {},
     "output_type": "execute_result"
    }
   ],
   "source": [
    "belgium_animal_trade.Element.unique()"
   ]
  },
  {
   "cell_type": "code",
   "execution_count": 163,
   "metadata": {
    "Collapsed": "false"
   },
   "outputs": [],
   "source": [
    "belgium_animal_trade = belgium_animal_trade[belgium_animal_trade.Element.isin(['Export Quantity', 'Import Quantity'])]"
   ]
  },
  {
   "cell_type": "code",
   "execution_count": 164,
   "metadata": {
    "Collapsed": "false"
   },
   "outputs": [
    {
     "data": {
      "text/html": [
       "<div>\n",
       "<style scoped>\n",
       "    .dataframe tbody tr th:only-of-type {\n",
       "        vertical-align: middle;\n",
       "    }\n",
       "\n",
       "    .dataframe tbody tr th {\n",
       "        vertical-align: top;\n",
       "    }\n",
       "\n",
       "    .dataframe thead th {\n",
       "        text-align: right;\n",
       "    }\n",
       "</style>\n",
       "<table border=\"1\" class=\"dataframe\">\n",
       "  <thead>\n",
       "    <tr style=\"text-align: right;\">\n",
       "      <th></th>\n",
       "      <th>Element</th>\n",
       "      <th>Export Quantity</th>\n",
       "      <th>Import Quantity</th>\n",
       "    </tr>\n",
       "    <tr>\n",
       "      <th>Country</th>\n",
       "      <th>Year</th>\n",
       "      <th></th>\n",
       "      <th></th>\n",
       "    </tr>\n",
       "  </thead>\n",
       "  <tbody>\n",
       "    <tr>\n",
       "      <td rowspan=\"5\" valign=\"top\">Afghanistan</td>\n",
       "      <td>2003</td>\n",
       "      <td>22.000000</td>\n",
       "      <td>NaN</td>\n",
       "    </tr>\n",
       "    <tr>\n",
       "      <td>2004</td>\n",
       "      <td>0.000000</td>\n",
       "      <td>NaN</td>\n",
       "    </tr>\n",
       "    <tr>\n",
       "      <td>2005</td>\n",
       "      <td>1.166667</td>\n",
       "      <td>NaN</td>\n",
       "    </tr>\n",
       "    <tr>\n",
       "      <td>2006</td>\n",
       "      <td>14.000000</td>\n",
       "      <td>NaN</td>\n",
       "    </tr>\n",
       "    <tr>\n",
       "      <td>2007</td>\n",
       "      <td>25.000000</td>\n",
       "      <td>NaN</td>\n",
       "    </tr>\n",
       "  </tbody>\n",
       "</table>\n",
       "</div>"
      ],
      "text/plain": [
       "Element           Export Quantity  Import Quantity\n",
       "Country     Year                                  \n",
       "Afghanistan 2003        22.000000              NaN\n",
       "            2004         0.000000              NaN\n",
       "            2005         1.166667              NaN\n",
       "            2006        14.000000              NaN\n",
       "            2007        25.000000              NaN"
      ]
     },
     "execution_count": 164,
     "metadata": {},
     "output_type": "execute_result"
    }
   ],
   "source": [
    "# Pivot the table\n",
    "belgium_animal_trade = pd.pivot_table(belgium_animal_trade, values='Value', index=['Country', 'Year'], columns='Element')\n",
    "belgium_animal_trade.head()"
   ]
  },
  {
   "cell_type": "code",
   "execution_count": 165,
   "metadata": {
    "Collapsed": "false"
   },
   "outputs": [
    {
     "data": {
      "text/plain": [
       "Element\n",
       "Export Quantity      22\n",
       "Import Quantity    1702\n",
       "dtype: int64"
      ]
     },
     "execution_count": 165,
     "metadata": {},
     "output_type": "execute_result"
    }
   ],
   "source": [
    "belgium_animal_trade.isnull().sum()[belgium_animal_trade.isnull().sum() != 0]"
   ]
  },
  {
   "cell_type": "markdown",
   "metadata": {
    "Collapsed": "false"
   },
   "source": [
    "We will fill the NaN value with 0 and consider the Belgium dif no import/export animal product the corresponding year from/to the country"
   ]
  },
  {
   "cell_type": "code",
   "execution_count": 166,
   "metadata": {
    "Collapsed": "false"
   },
   "outputs": [],
   "source": [
    "belgium_animal_trade = belgium_animal_trade.fillna(value=0)"
   ]
  },
  {
   "cell_type": "markdown",
   "metadata": {
    "Collapsed": "false"
   },
   "source": [
    "We will compute the net importation/exportation quantity between a country and belgium"
   ]
  },
  {
   "cell_type": "code",
   "execution_count": 167,
   "metadata": {
    "Collapsed": "false"
   },
   "outputs": [],
   "source": [
    "belgium_animal_trade['Net Quantity'] = belgium_animal_trade['Import Quantity'] - belgium_animal_trade['Export Quantity']"
   ]
  },
  {
   "cell_type": "markdown",
   "metadata": {
    "Collapsed": "false"
   },
   "source": [
    "We have information about ony the 21st century"
   ]
  },
  {
   "cell_type": "code",
   "execution_count": 168,
   "metadata": {
    "Collapsed": "false"
   },
   "outputs": [
    {
     "data": {
      "text/plain": [
       "Int64Index([2000, 2001, 2002, 2003, 2004, 2005, 2006, 2007, 2008, 2009, 2010,\n",
       "            2011, 2012, 2013, 2014, 2015, 2016, 2017],\n",
       "           dtype='int64', name='Year')"
      ]
     },
     "execution_count": 168,
     "metadata": {},
     "output_type": "execute_result"
    }
   ],
   "source": [
    "belgium_animal_trade.index.levels[1]"
   ]
  },
  {
   "cell_type": "markdown",
   "metadata": {
    "Collapsed": "false"
   },
   "source": [
    "But for some countries we do not have information about all year. We will just fill these years with 0's and consider that belgium didn't trade with these countries these years."
   ]
  },
  {
   "cell_type": "code",
   "execution_count": 169,
   "metadata": {
    "Collapsed": "false"
   },
   "outputs": [],
   "source": [
    "new_data = pd.DataFrame()\n",
    "for col in belgium_animal_trade.columns:\n",
    "    new_data[col] = belgium_animal_trade[col].unstack().fillna(value=0).stack()\n",
    "belgium_animal_trade = new_data"
   ]
  },
  {
   "cell_type": "code",
   "execution_count": 170,
   "metadata": {
    "Collapsed": "false"
   },
   "outputs": [
    {
     "data": {
      "text/html": [
       "<div>\n",
       "<style scoped>\n",
       "    .dataframe tbody tr th:only-of-type {\n",
       "        vertical-align: middle;\n",
       "    }\n",
       "\n",
       "    .dataframe tbody tr th {\n",
       "        vertical-align: top;\n",
       "    }\n",
       "\n",
       "    .dataframe thead th {\n",
       "        text-align: right;\n",
       "    }\n",
       "</style>\n",
       "<table border=\"1\" class=\"dataframe\">\n",
       "  <thead>\n",
       "    <tr style=\"text-align: right;\">\n",
       "      <th></th>\n",
       "      <th></th>\n",
       "      <th>Export Quantity</th>\n",
       "      <th>Import Quantity</th>\n",
       "      <th>Net Quantity</th>\n",
       "    </tr>\n",
       "    <tr>\n",
       "      <th>Country</th>\n",
       "      <th>Year</th>\n",
       "      <th></th>\n",
       "      <th></th>\n",
       "      <th></th>\n",
       "    </tr>\n",
       "  </thead>\n",
       "  <tbody>\n",
       "    <tr>\n",
       "      <td rowspan=\"5\" valign=\"top\">Afghanistan</td>\n",
       "      <td>2000</td>\n",
       "      <td>0.0</td>\n",
       "      <td>0.0</td>\n",
       "      <td>0.0</td>\n",
       "    </tr>\n",
       "    <tr>\n",
       "      <td>2001</td>\n",
       "      <td>0.0</td>\n",
       "      <td>0.0</td>\n",
       "      <td>0.0</td>\n",
       "    </tr>\n",
       "    <tr>\n",
       "      <td>2002</td>\n",
       "      <td>0.0</td>\n",
       "      <td>0.0</td>\n",
       "      <td>0.0</td>\n",
       "    </tr>\n",
       "    <tr>\n",
       "      <td>2003</td>\n",
       "      <td>22.0</td>\n",
       "      <td>0.0</td>\n",
       "      <td>-22.0</td>\n",
       "    </tr>\n",
       "    <tr>\n",
       "      <td>2004</td>\n",
       "      <td>0.0</td>\n",
       "      <td>0.0</td>\n",
       "      <td>0.0</td>\n",
       "    </tr>\n",
       "  </tbody>\n",
       "</table>\n",
       "</div>"
      ],
      "text/plain": [
       "                  Export Quantity  Import Quantity  Net Quantity\n",
       "Country     Year                                                \n",
       "Afghanistan 2000              0.0              0.0           0.0\n",
       "            2001              0.0              0.0           0.0\n",
       "            2002              0.0              0.0           0.0\n",
       "            2003             22.0              0.0         -22.0\n",
       "            2004              0.0              0.0           0.0"
      ]
     },
     "execution_count": 170,
     "metadata": {},
     "output_type": "execute_result"
    }
   ],
   "source": [
    "belgium_animal_trade.head()"
   ]
  },
  {
   "cell_type": "markdown",
   "metadata": {
    "Collapsed": "false"
   },
   "source": [
    "We will do the same with the vegetable products"
   ]
  },
  {
   "cell_type": "code",
   "execution_count": 171,
   "metadata": {
    "Collapsed": "false"
   },
   "outputs": [
    {
     "data": {
      "text/html": [
       "<div>\n",
       "<style scoped>\n",
       "    .dataframe tbody tr th:only-of-type {\n",
       "        vertical-align: middle;\n",
       "    }\n",
       "\n",
       "    .dataframe tbody tr th {\n",
       "        vertical-align: top;\n",
       "    }\n",
       "\n",
       "    .dataframe thead th {\n",
       "        text-align: right;\n",
       "    }\n",
       "</style>\n",
       "<table border=\"1\" class=\"dataframe\">\n",
       "  <thead>\n",
       "    <tr style=\"text-align: right;\">\n",
       "      <th></th>\n",
       "      <th></th>\n",
       "      <th>Export Quantity</th>\n",
       "      <th>Import Quantity</th>\n",
       "      <th>Net Quantity</th>\n",
       "    </tr>\n",
       "    <tr>\n",
       "      <th>Country</th>\n",
       "      <th>Year</th>\n",
       "      <th></th>\n",
       "      <th></th>\n",
       "      <th></th>\n",
       "    </tr>\n",
       "  </thead>\n",
       "  <tbody>\n",
       "    <tr>\n",
       "      <td rowspan=\"5\" valign=\"top\">Afghanistan</td>\n",
       "      <td>2000</td>\n",
       "      <td>8154.50</td>\n",
       "      <td>0.0</td>\n",
       "      <td>-8154.50</td>\n",
       "    </tr>\n",
       "    <tr>\n",
       "      <td>2001</td>\n",
       "      <td>1014.00</td>\n",
       "      <td>0.0</td>\n",
       "      <td>-1014.00</td>\n",
       "    </tr>\n",
       "    <tr>\n",
       "      <td>2002</td>\n",
       "      <td>151.40</td>\n",
       "      <td>0.0</td>\n",
       "      <td>-151.40</td>\n",
       "    </tr>\n",
       "    <tr>\n",
       "      <td>2003</td>\n",
       "      <td>373.00</td>\n",
       "      <td>0.0</td>\n",
       "      <td>-373.00</td>\n",
       "    </tr>\n",
       "    <tr>\n",
       "      <td>2004</td>\n",
       "      <td>710.25</td>\n",
       "      <td>0.0</td>\n",
       "      <td>-710.25</td>\n",
       "    </tr>\n",
       "  </tbody>\n",
       "</table>\n",
       "</div>"
      ],
      "text/plain": [
       "                  Export Quantity  Import Quantity  Net Quantity\n",
       "Country     Year                                                \n",
       "Afghanistan 2000          8154.50              0.0      -8154.50\n",
       "            2001          1014.00              0.0      -1014.00\n",
       "            2002           151.40              0.0       -151.40\n",
       "            2003           373.00              0.0       -373.00\n",
       "            2004           710.25              0.0       -710.25"
      ]
     },
     "execution_count": 171,
     "metadata": {},
     "output_type": "execute_result"
    }
   ],
   "source": [
    "vegetable_item = np.loadtxt(DATA_PATH+'veg_items_trade.txt', delimiter = '  ', dtype='str')\n",
    "\n",
    "def clean_trade_data(country_trade, item_list):\n",
    "    # Keep animal or vegetable items\n",
    "    trade = country_trade[country_trade.Item.isin(item_list)]\n",
    "    trade = trade.drop(columns='Item')\n",
    "    trade = trade[trade.Element.isin(['Export Quantity', 'Import Quantity'])]\n",
    "    # Keep data from 2000 and after\n",
    "    trade = trade[trade.Year >= 2000]\n",
    "    # Pivot the table\n",
    "    trade = pd.pivot_table(trade, values='Value', index=['Country', 'Year'], columns='Element')\n",
    "    # Fill NaN\n",
    "    trade.fillna(value=0, inplace=True)\n",
    "    # Compute the Net Quantity\n",
    "    trade['Net Quantity'] = trade['Import Quantity'] - trade['Export Quantity']\n",
    "    # Fill the missing years with 0's\n",
    "    new_data = pd.DataFrame()\n",
    "    for col in trade.columns:\n",
    "        new_data[col] = trade[col].unstack().fillna(value=0).stack()\n",
    "    trade = new_data\n",
    "    return trade\n",
    "\n",
    "belgium_vegetable_trade = clean_trade_data(belgium_trade_df, vegetable_item)\n",
    "belgium_vegetable_trade.head()"
   ]
  },
  {
   "cell_type": "markdown",
   "metadata": {
    "Collapsed": "false"
   },
   "source": [
    "We will now look at the evolution of the total net quantity traded by belgium from 2000 to 2017 for animal products and vegetable products."
   ]
  },
  {
   "cell_type": "code",
   "execution_count": 172,
   "metadata": {
    "Collapsed": "false"
   },
   "outputs": [
    {
     "data": {
      "image/png": "[encoded data removed]",
      "text/plain": [
       "<Figure size 432x288 with 1 Axes>"
      ]
     },
     "metadata": {
      "needs_background": "light"
     },
     "output_type": "display_data"
    }
   ],
   "source": [
    "total_animal_product = belgium_animal_trade.groupby(level=1).sum()['Net Quantity']\n",
    "total_vegetable_product = belgium_vegetable_trade.groupby(level=1).sum()['Net Quantity']\n",
    "\n",
    "plt.plot(range(2000,2018), total_animal_product, label='Animal products')\n",
    "plt.plot(range(2000,2018), total_vegetable_product, label='Vegetable products')\n",
    "plt.title(\"Evolution of the quantity of traded products in Belgium\")\n",
    "plt.ylabel(\"Quantity (tons) of traded products (negative for exportation)\")\n",
    "plt.xlabel(\"Year\")\n",
    "plt.legend()\n",
    "plt.show()"
   ]
  },
  {
   "cell_type": "markdown",
   "metadata": {
    "Collapsed": "false"
   },
   "source": [
    "We can see that Belgium export more animal product than it import and that the quantity of exported animal product is relatively constant while Belgium imports much more vegetable products (one part of these vegetable product are used to feed the livestock). Moreover the importation of vegetable product has grown in the past few years."
   ]
  },
  {
   "cell_type": "markdown",
   "metadata": {
    "Collapsed": "false"
   },
   "source": [
    "### Switzerland <a name=\"swiss_trade\"></a>\n",
    "\n",
    "We will do the same job for switzerland\n",
    "We first neeed to extract data related to switzerlad in the detailed trade matrix"
   ]
  },
  {
   "cell_type": "code",
   "execution_count": 173,
   "metadata": {
    "Collapsed": "false"
   },
   "outputs": [],
   "source": [
    "trades.registerTempTable(\"Trades\")\n",
    "\n",
    "query = \"\"\"\n",
    "SELECT *\n",
    "FROM Trades\n",
    "WHERE Countries = 'Switzerland'\n",
    "\"\"\"\n",
    "\n",
    "swiss_trade = spark.sql(query)"
   ]
  },
  {
   "cell_type": "code",
   "execution_count": 174,
   "metadata": {
    "Collapsed": "false"
   },
   "outputs": [],
   "source": [
    "swiss_trade_df = swiss_trade.toPandas()\n",
    "swiss_trade_df.to_csv(GENERATED_DATA_PATH+'trade_switzerland.csv')"
   ]
  },
  {
   "cell_type": "code",
   "execution_count": 175,
   "metadata": {
    "Collapsed": "false"
   },
   "outputs": [],
   "source": [
    "swiss_trade_df = pd.read_csv(GENERATED_DATA_PATH+'trade_switzerland.csv', index_col=0)\n",
    "swiss_trade_df = swiss_trade_df.drop(columns=['Reporter Country Code', 'Countries', 'Partner Country Code', 'Item Code', 'Element Code', 'Year Code', 'Unit', 'Flag'])\n",
    "swiss_trade_df = swiss_trade_df.rename(columns={'Partner Countries': 'Country'})"
   ]
  },
  {
   "cell_type": "code",
   "execution_count": 176,
   "metadata": {
    "Collapsed": "false"
   },
   "outputs": [],
   "source": [
    "swiss_animal_trade = clean_trade_data(swiss_trade_df, animal_item)\n",
    "swiss_vegetable_trade = clean_trade_data(swiss_trade_df, vegetable_item)"
   ]
  },
  {
   "cell_type": "code",
   "execution_count": 177,
   "metadata": {
    "Collapsed": "false"
   },
   "outputs": [
    {
     "data": {
      "image/png": "[encoded data removed]",
      "text/plain": [
       "<Figure size 432x288 with 1 Axes>"
      ]
     },
     "metadata": {
      "needs_background": "light"
     },
     "output_type": "display_data"
    }
   ],
   "source": [
    "total_animal_product = swiss_animal_trade.groupby(level=1).sum()['Net Quantity']\n",
    "total_vegetable_product = swiss_vegetable_trade.groupby(level=1).sum()['Net Quantity']\n",
    "\n",
    "plt.plot(range(2000,2018), total_animal_product, label='Animal products')\n",
    "plt.plot(range(2000,2018), total_vegetable_product, label='Vegetable products')\n",
    "plt.title(\"Evolution of the quantity of traded products in Switzerland\")\n",
    "plt.ylabel(\"Quantity (tons) of traded products (negative for exportation)\")\n",
    "plt.xlabel(\"Year\")\n",
    "plt.legend()\n",
    "plt.show()"
   ]
  },
  {
   "cell_type": "markdown",
   "metadata": {
    "Collapsed": "false"
   },
   "source": [
    "We can see that switzerland import both animal and vegetable products. The importation of meat product is constant while the importation of vegetable product has decrease from 2002."
   ]
  },
  {
   "cell_type": "markdown",
   "metadata": {
    "Collapsed": "false"
   },
   "source": [
    "### Comparison between belgium and switzerland <a name=\"comparison_belgium_swiss_trade\"></a>\n",
    "The first comparison is made based on the quantity of importation for animal and vegetable products."
   ]
  },
  {
   "cell_type": "code",
   "execution_count": 178,
   "metadata": {
    "Collapsed": "false"
   },
   "outputs": [
    {
     "data": {
      "image/png": "[encoded data removed]",
      "text/plain": [
       "<Figure size 1008x576 with 1 Axes>"
      ]
     },
     "metadata": {
      "needs_background": "light"
     },
     "output_type": "display_data"
    }
   ],
   "source": [
    "total_animal_product_belgium = []\n",
    "total_vegetable_product_belgium = []\n",
    "total_animal_product_switzerland = []\n",
    "total_vegetable_product_switzerland = []\n",
    "\n",
    "people_swiss = 8556000\n",
    "people_belgium = 11400000\n",
    "\n",
    "for year in range(2000, 2018):\n",
    "    total_animal_product_belgium.append(belgium_animal_trade.xs(year, level=1)['Net Quantity'].sum()/people_belgium)\n",
    "    total_vegetable_product_belgium.append(belgium_vegetable_trade.xs(year, level=1)['Net Quantity'].sum()/people_belgium)\n",
    "    total_animal_product_switzerland.append(swiss_animal_trade.xs(year, level=1)['Net Quantity'].sum()/people_swiss)\n",
    "    total_vegetable_product_switzerland.append(swiss_vegetable_trade.xs(year, level=1)['Net Quantity'].sum()/people_swiss)\n",
    "\n",
    "plt.figure(figsize=(14,8))\n",
    "plt.plot(range(2000,2018), total_animal_product_belgium, label='Animal products Belgium')\n",
    "plt.plot(range(2000,2018), total_vegetable_product_belgium, label='Vegetable products Belgium')\n",
    "plt.plot(range(2000,2018), total_animal_product_switzerland, label='Animal products Switzerland')\n",
    "plt.plot(range(2000,2018), total_vegetable_product_switzerland, label='Vegetable products Switzerland')\n",
    "plt.title(\"Comparison of the evolution of the quantity of traded products in Switzerland and in Belgium\")\n",
    "plt.ylabel(\"Quantity (tons) of traded products per capita (negative for exportation)\")\n",
    "plt.xlabel(\"Year\")\n",
    "plt.legend()\n",
    "plt.show()"
   ]
  },
  {
   "cell_type": "markdown",
   "metadata": {
    "Collapsed": "false"
   },
   "source": [
    "We can see that per capita, Belgium export more animal products but import much more vegetable product than Switzerland."
   ]
  },
  {
   "cell_type": "markdown",
   "metadata": {
    "Collapsed": "false"
   },
   "source": [
    "### Adding emissions <a name=\"adding_emissions\"></a>\n",
    "We will first compare direct emissions of the two countries. Then we will add the emission from the country where Belgium and Switzerland import their food. \n",
    "\n",
    "We will now join the emission dataframe with the dataframes created in the previous section"
   ]
  },
  {
   "cell_type": "code",
   "execution_count": 179,
   "metadata": {
    "Collapsed": "false"
   },
   "outputs": [],
   "source": [
    "swiss_emission = emissions_total.loc['Switzerland']\n",
    "swiss_emission = swiss_emission[swiss_emission.index >= 2000]\n",
    "swiss_emission = swiss_emission[swiss_emission.index < 2018]\n",
    "\n",
    "belgium_emission = emissions_total.loc['Belgium']\n",
    "belgium_emission = belgium_emission[belgium_emission.index >= 2000]\n",
    "belgium_emission = belgium_emission[belgium_emission.index < 2018]"
   ]
  },
  {
   "cell_type": "code",
   "execution_count": 180,
   "metadata": {
    "Collapsed": "false"
   },
   "outputs": [
    {
     "data": {
      "image/png": "[encoded data removed]",
      "text/plain": [
       "<Figure size 1008x576 with 1 Axes>"
      ]
     },
     "metadata": {
      "needs_background": "light"
     },
     "output_type": "display_data"
    }
   ],
   "source": [
    "plt.figure(figsize=(14,8))\n",
    "plt.plot(swiss_emission.index, swiss_emission.Sum/people_swiss, label='Swiss Emssion')\n",
    "plt.plot(belgium_emission.index, belgium_emission.Sum/people_belgium, label='Belgium Emssion')\n",
    "plt.title(\"Comparison between the emission of CO2(eq) per capita from Switzerland and Belgium\")\n",
    "plt.ylabel(\"Emission (Gigagram of CO2eq) per capita\")\n",
    "plt.xlabel(\"Year\")\n",
    "plt.legend()\n",
    "plt.show()"
   ]
  },
  {
   "cell_type": "markdown",
   "metadata": {
    "Collapsed": "false"
   },
   "source": [
    "We see that Belgium emits much more CO2eq per capita than Switerland. But it seems that both country try to reduce their emissions of CO2 eq."
   ]
  },
  {
   "cell_type": "code",
   "execution_count": 181,
   "metadata": {
    "Collapsed": "false"
   },
   "outputs": [
    {
     "data": {
      "image/png": "[encoded data removed]",
      "text/plain": [
       "<Figure size 1008x576 with 1 Axes>"
      ]
     },
     "metadata": {
      "needs_background": "light"
     },
     "output_type": "display_data"
    }
   ],
   "source": [
    "plt.figure(figsize=(14,8))\n",
    "plt.plot(swiss_emission.index, swiss_emission.Animal/people_swiss, label='Swiss Emssion from Animals')\n",
    "plt.plot(swiss_emission.index, swiss_emission.Vegetal/people_swiss, label='Swiss Emssion from Vegetables')\n",
    "plt.plot(belgium_emission.index, belgium_emission.Animal/people_belgium, label='Belgium Emssion from Animals')\n",
    "plt.plot(belgium_emission.index, belgium_emission.Vegetal/people_belgium, label='Belgium Emssion from Vegetables')\n",
    "plt.title(\"Comparison between the emission of CO2(eq) of vegetable and animal production per capita from Switzerland and Belgium\")\n",
    "plt.ylabel(\"Emission (Gigagram of CO2eq) per capita\")\n",
    "plt.xlabel(\"Year\")\n",
    "plt.legend()\n",
    "plt.show()"
   ]
  },
  {
   "cell_type": "markdown",
   "metadata": {
    "Collapsed": "false"
   },
   "source": [
    "As seen before the majority of the emission is due to the production of animal product. Moreover the decreasing of the emission in total is due more by the reduction of emission of CO2eq from the production of animal products."
   ]
  },
  {
   "cell_type": "markdown",
   "metadata": {
    "Collapsed": "false"
   },
   "source": [
    "We now add the emission in the previously constructed datasets"
   ]
  },
  {
   "cell_type": "code",
   "execution_count": 182,
   "metadata": {
    "Collapsed": "false"
   },
   "outputs": [],
   "source": [
    "def add_emissions(trade, emissions_total, local_emission):\n",
    "    trade = pd.merge(trade, emissions_total['Animal'], left_index=True, right_index=True)\n",
    "    trade = trade.rename(columns={'Animal':'Emission'})\n",
    "    trade = pd.merge(trade, local_emission['Animal'], left_index=True, right_index=True)\n",
    "    trade = trade.rename(columns={'Animal':'Local Emission'})\n",
    "    return trade\n",
    "\n",
    "\n",
    "belgium_animal_trade = add_emissions(belgium_animal_trade, emissions_total, belgium_emission)\n",
    "belgium_vegetable_trade = add_emissions(belgium_vegetable_trade, emissions_total, belgium_emission)\n",
    "swiss_animal_trade = add_emissions(swiss_animal_trade, emissions_total, swiss_emission)\n",
    "swiss_vegetable_trade = add_emissions(swiss_vegetable_trade, emissions_total, swiss_emission)"
   ]
  },
  {
   "cell_type": "code",
   "execution_count": 183,
   "metadata": {
    "Collapsed": "false"
   },
   "outputs": [],
   "source": [
    "belgium_animal_trade.to_csv(GENERATED_DATA_PATH+'belgium_animal_trade.csv')\n",
    "belgium_vegetable_trade.to_csv(GENERATED_DATA_PATH+'belgium_vegetable_trade.csv')\n",
    "swiss_animal_trade.to_csv(GENERATED_DATA_PATH+'swiss_animal_trade.csv')\n",
    "swiss_vegetable_trade.to_csv(GENERATED_DATA_PATH+'swiss_vegetable_trade.csv')"
   ]
  },
  {
   "cell_type": "markdown",
   "metadata": {
    "Collapsed": "false"
   },
   "source": [
    "### Production\n",
    "\n",
    "We now add the information about production "
   ]
  },
  {
   "cell_type": "code",
   "execution_count": 184,
   "metadata": {
    "Collapsed": "false"
   },
   "outputs": [
    {
     "data": {
      "text/html": [
       "<div>\n",
       "<style scoped>\n",
       "    .dataframe tbody tr th:only-of-type {\n",
       "        vertical-align: middle;\n",
       "    }\n",
       "\n",
       "    .dataframe tbody tr th {\n",
       "        vertical-align: top;\n",
       "    }\n",
       "\n",
       "    .dataframe thead th {\n",
       "        text-align: right;\n",
       "    }\n",
       "</style>\n",
       "<table border=\"1\" class=\"dataframe\">\n",
       "  <thead>\n",
       "    <tr style=\"text-align: right;\">\n",
       "      <th></th>\n",
       "      <th></th>\n",
       "      <th>Cereals</th>\n",
       "      <th>Roots</th>\n",
       "      <th>Sugar</th>\n",
       "      <th>Pulses</th>\n",
       "      <th>Nuts</th>\n",
       "      <th>Oilcrops</th>\n",
       "      <th>Vegetables</th>\n",
       "      <th>Fruit</th>\n",
       "      <th>Spices</th>\n",
       "      <th>Stimulants</th>\n",
       "      <th>Milk</th>\n",
       "      <th>Eggs</th>\n",
       "      <th>Meat</th>\n",
       "    </tr>\n",
       "    <tr>\n",
       "      <th>Country</th>\n",
       "      <th>Year</th>\n",
       "      <th></th>\n",
       "      <th></th>\n",
       "      <th></th>\n",
       "      <th></th>\n",
       "      <th></th>\n",
       "      <th></th>\n",
       "      <th></th>\n",
       "      <th></th>\n",
       "      <th></th>\n",
       "      <th></th>\n",
       "      <th></th>\n",
       "      <th></th>\n",
       "      <th></th>\n",
       "    </tr>\n",
       "  </thead>\n",
       "  <tbody>\n",
       "    <tr>\n",
       "      <td rowspan=\"5\" valign=\"top\">Armenia</td>\n",
       "      <td>2000</td>\n",
       "      <td>216970.0</td>\n",
       "      <td>290260.0</td>\n",
       "      <td>800.0</td>\n",
       "      <td>3863.0</td>\n",
       "      <td>0.0</td>\n",
       "      <td>12.0</td>\n",
       "      <td>372662.0</td>\n",
       "      <td>368496.0</td>\n",
       "      <td>NaN</td>\n",
       "      <td>NaN</td>\n",
       "      <td>452100.0</td>\n",
       "      <td>21609.0</td>\n",
       "      <td>51321.0</td>\n",
       "    </tr>\n",
       "    <tr>\n",
       "      <td>2001</td>\n",
       "      <td>360144.0</td>\n",
       "      <td>363834.0</td>\n",
       "      <td>800.0</td>\n",
       "      <td>3108.0</td>\n",
       "      <td>0.0</td>\n",
       "      <td>46.0</td>\n",
       "      <td>448573.0</td>\n",
       "      <td>305323.0</td>\n",
       "      <td>NaN</td>\n",
       "      <td>NaN</td>\n",
       "      <td>465315.0</td>\n",
       "      <td>25114.0</td>\n",
       "      <td>48373.0</td>\n",
       "    </tr>\n",
       "    <tr>\n",
       "      <td>2002</td>\n",
       "      <td>407583.0</td>\n",
       "      <td>374263.0</td>\n",
       "      <td>811.0</td>\n",
       "      <td>3368.0</td>\n",
       "      <td>0.0</td>\n",
       "      <td>267.0</td>\n",
       "      <td>463056.0</td>\n",
       "      <td>299247.0</td>\n",
       "      <td>NaN</td>\n",
       "      <td>NaN</td>\n",
       "      <td>489548.0</td>\n",
       "      <td>26715.0</td>\n",
       "      <td>50256.0</td>\n",
       "    </tr>\n",
       "    <tr>\n",
       "      <td>2003</td>\n",
       "      <td>305303.0</td>\n",
       "      <td>507518.0</td>\n",
       "      <td>1500.0</td>\n",
       "      <td>4710.0</td>\n",
       "      <td>0.0</td>\n",
       "      <td>86.0</td>\n",
       "      <td>569327.0</td>\n",
       "      <td>325506.0</td>\n",
       "      <td>NaN</td>\n",
       "      <td>NaN</td>\n",
       "      <td>513709.0</td>\n",
       "      <td>28157.0</td>\n",
       "      <td>52684.0</td>\n",
       "    </tr>\n",
       "    <tr>\n",
       "      <td>2004</td>\n",
       "      <td>451641.0</td>\n",
       "      <td>576427.0</td>\n",
       "      <td>6000.0</td>\n",
       "      <td>5234.0</td>\n",
       "      <td>330.0</td>\n",
       "      <td>52.0</td>\n",
       "      <td>600690.0</td>\n",
       "      <td>411605.0</td>\n",
       "      <td>NaN</td>\n",
       "      <td>NaN</td>\n",
       "      <td>555240.0</td>\n",
       "      <td>31532.0</td>\n",
       "      <td>53456.0</td>\n",
       "    </tr>\n",
       "  </tbody>\n",
       "</table>\n",
       "</div>"
      ],
      "text/plain": [
       "               Cereals     Roots   Sugar  Pulses   Nuts  Oilcrops  Vegetables  \\\n",
       "Country Year                                                                    \n",
       "Armenia 2000  216970.0  290260.0   800.0  3863.0    0.0      12.0    372662.0   \n",
       "        2001  360144.0  363834.0   800.0  3108.0    0.0      46.0    448573.0   \n",
       "        2002  407583.0  374263.0   811.0  3368.0    0.0     267.0    463056.0   \n",
       "        2003  305303.0  507518.0  1500.0  4710.0    0.0      86.0    569327.0   \n",
       "        2004  451641.0  576427.0  6000.0  5234.0  330.0      52.0    600690.0   \n",
       "\n",
       "                 Fruit  Spices  Stimulants      Milk     Eggs     Meat  \n",
       "Country Year                                                            \n",
       "Armenia 2000  368496.0     NaN         NaN  452100.0  21609.0  51321.0  \n",
       "        2001  305323.0     NaN         NaN  465315.0  25114.0  48373.0  \n",
       "        2002  299247.0     NaN         NaN  489548.0  26715.0  50256.0  \n",
       "        2003  325506.0     NaN         NaN  513709.0  28157.0  52684.0  \n",
       "        2004  411605.0     NaN         NaN  555240.0  31532.0  53456.0  "
      ]
     },
     "execution_count": 184,
     "metadata": {},
     "output_type": "execute_result"
    }
   ],
   "source": [
    "# Thomas you can add your code here instead of loading the data\n",
    "production = pd.read_csv(GENERATED_DATA_PATH+'production_aggr.csv', encoding='latin-1')\n",
    "production = production.drop(columns=['Unnamed: 0', 'Area Code'])\n",
    "production = production.rename(columns={'Area':'Country'})\n",
    "production = production[production['Year'] >= 2000]\n",
    "production = production.set_index(['Country', 'Year'])\n",
    "production.head()"
   ]
  },
  {
   "cell_type": "code",
   "execution_count": 185,
   "metadata": {
    "Collapsed": "false"
   },
   "outputs": [],
   "source": [
    "vegetal_col = ['Cereals', 'Roots', 'Sugar', 'Pulses', 'Nuts', 'Oilcrops', 'Vegetables', 'Fruit', 'Spices', 'Stimulants']\n",
    "animal_col = ['Milk', 'Eggs', 'Meat']\n",
    "production_animal = pd.DataFrame(production[animal_col].sum(axis=1), columns=['Production'])\n",
    "production_vegetal = pd.DataFrame(production[vegetal_col].sum(axis=1), columns=['Production'])\n",
    "# We drop data for which the production is 0\n",
    "production_animal = production_animal.drop(index=production_animal[production_animal['Production'] == 0].index)\n",
    "production_vegetal = production_vegetal.drop(index=production_vegetal[production_vegetal['Production'] == 0].index)"
   ]
  },
  {
   "cell_type": "code",
   "execution_count": 186,
   "metadata": {
    "Collapsed": "false"
   },
   "outputs": [],
   "source": [
    "belgium_animal_trade = pd.read_csv(GENERATED_DATA_PATH+'belgium_animal_trade.csv', index_col=[0,1])\n",
    "belgium_vegetable_trade = pd.read_csv(GENERATED_DATA_PATH+'belgium_vegetable_trade.csv', index_col=[0,1])\n",
    "swiss_animal_trade = pd.read_csv(GENERATED_DATA_PATH+'swiss_animal_trade.csv', index_col=[0,1])\n",
    "swiss_vegetable_trade = pd.read_csv(GENERATED_DATA_PATH+'swiss_vegetable_trade.csv', index_col=[0,1])"
   ]
  },
  {
   "cell_type": "code",
   "execution_count": 187,
   "metadata": {
    "Collapsed": "false"
   },
   "outputs": [],
   "source": [
    "def create_emissions_correction(trade, production, country):\n",
    "    trade = pd.merge(trade, production, left_index=True, right_index=True).sort_index()\n",
    "    local_production = production.loc[country]\n",
    "    local_production = local_production.rename(columns={'Production' : 'Local Production'})\n",
    "    trade = pd.merge(trade, local_production, left_index=True, right_index=True)\n",
    "    trade['% of production'] = trade['Import Quantity'] / trade['Production']\n",
    "    trade['% of local production'] = trade['Export Quantity'] / trade['Local Production']\n",
    "    trade['Emission to add'] = trade['Emission'] * trade['% of production']\n",
    "    trade['Emission to remove'] = trade['Local Emission'] * trade['% of local production']\n",
    "    trade['Correction'] = trade['Emission to add'] - trade['Emission to remove']\n",
    "    correction = trade.groupby(level=1).sum()['Correction']\n",
    "    return correction"
   ]
  },
  {
   "cell_type": "code",
   "execution_count": 188,
   "metadata": {
    "Collapsed": "false"
   },
   "outputs": [],
   "source": [
    "def correct_emissions(emissions, trade, production, country, product='Animal'):\n",
    "    col_correction = product+' Correction'\n",
    "    emissions[col_correction] = create_emissions_correction(trade, production, country)\n",
    "    return emissions[product] + emissions[col_correction]    "
   ]
  },
  {
   "cell_type": "code",
   "execution_count": 189,
   "metadata": {
    "Collapsed": "false"
   },
   "outputs": [],
   "source": [
    "belgium_emission_corrected = pd.DataFrame()\n",
    "belgium_emission_corrected['Animal'] = correct_emissions(belgium_emission, belgium_animal_trade, production_animal, 'Belgium')\n",
    "belgium_emission_corrected['Vegetal'] = correct_emissions(belgium_emission, belgium_vegetable_trade, production_vegetal, 'Belgium')\n",
    "belgium_emission_corrected['Sum'] = belgium_emission_corrected['Animal'] + belgium_emission_corrected['Vegetal']\n",
    "\n",
    "swiss_emission_corrected = pd.DataFrame()\n",
    "swiss_emission_corrected['Animal'] = correct_emissions(swiss_emission, swiss_animal_trade, production_animal, 'Switzerland')\n",
    "swiss_emission_corrected['Vegetal'] = correct_emissions(swiss_emission, swiss_vegetable_trade, production_vegetal, 'Switzerland')\n",
    "swiss_emission_corrected['Sum'] = swiss_emission_corrected['Animal'] + swiss_emission_corrected['Vegetal']"
   ]
  },
  {
   "cell_type": "code",
   "execution_count": 190,
   "metadata": {
    "Collapsed": "false"
   },
   "outputs": [
    {
     "data": {
      "image/png": "[encoded data removed]",
      "text/plain": [
       "<Figure size 1008x576 with 1 Axes>"
      ]
     },
     "metadata": {
      "needs_background": "light"
     },
     "output_type": "display_data"
    }
   ],
   "source": [
    "plt.figure(figsize=(14,8))\n",
    "plt.plot(swiss_emission.index, swiss_emission.Sum/people_swiss, label='Swiss Emissions')\n",
    "plt.plot(swiss_emission.index, swiss_emission_corrected.Sum/people_swiss, label='Corrected Swiss Emissions')\n",
    "plt.plot(belgium_emission.index, belgium_emission.Sum/people_belgium, label='Belgium Emissions')\n",
    "plt.plot(belgium_emission.index, belgium_emission_corrected.Sum/people_belgium, label='Corrected Belgium Emission')\n",
    "plt.title(\"Comparison between the emission of CO2(eq) in agriculture per capita from Switzerland and Belgium with and without correction\")\n",
    "plt.ylabel(\"Emission (Gigagram of CO2eq) per capita\")\n",
    "plt.xlabel(\"Year\")\n",
    "plt.legend()\n",
    "plt.show()"
   ]
  }
 ],
 "metadata": {
  "kernelspec": {
   "display_name": "Python 3",
   "language": "python",
   "name": "python3"
  },
  "language_info": {
   "codemirror_mode": {
    "name": "ipython",
    "version": 3
   },
   "file_extension": ".py",
   "mimetype": "text/x-python",
   "name": "python",
   "nbconvert_exporter": "python",
   "pygments_lexer": "ipython3",
   "version": "3.7.4"
  }
 },
 "nbformat": 4,
 "nbformat_minor": 4
}
