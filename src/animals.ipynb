{
 "cells": [
  {
   "cell_type": "markdown",
   "metadata": {
    "Collapsed": "false"
   },
   "source": [
    "# Animals"
   ]
  },
  {
   "cell_type": "markdown",
   "metadata": {
    "Collapsed": "false"
   },
   "source": [
    "Here, we will investigate the emission of GHG that comes from animals. First, we will focus on the **direct** emission (enteric fermentation, manure,...), later we will look at the emission that comes from crops used to feed animals"
   ]
  },
  {
   "cell_type": "code",
   "execution_count": 2,
   "metadata": {
    "Collapsed": "false"
   },
   "outputs": [],
   "source": [
    "# imports\n",
    "import pandas as pd\n",
    "import numpy as np\n",
    "import matplotlib.pyplot as plt\n",
    "\n",
    "# constants\n",
    "DATA_PATH = '../data/'\n",
    "RAW_DATA_PATH = DATA_PATH + 'current_FAO/raw_files/'\n",
    "GENERATED_DATA_PATH = '../generated/'"
   ]
  },
  {
   "cell_type": "markdown",
   "metadata": {
    "Collapsed": "false"
   },
   "source": [
    "## Direct GHG"
   ]
  },
  {
   "cell_type": "markdown",
   "metadata": {
    "Collapsed": "false"
   },
   "source": [
    "Direct GHG emission includes: Enteric Fermentation, Manure left on pasture and Manure Management. As shown in *greenhouse.ipynb*, the two biggest causes of GHG emission are Enteric Fermentation and Manure left on pasture. \n",
    "\n",
    "NOTE: Download file from here for most recent data: http://www.fao.org/faostat/en/#data/GE"
   ]
  },
  {
   "cell_type": "code",
   "execution_count": 46,
   "metadata": {
    "Collapsed": "false"
   },
   "outputs": [],
   "source": [
    "enteric_fermentation_path = RAW_DATA_PATH+'Emissions_Agriculture_Enteric_Fermentation_E_ALL_DATA_(Normalized).csv'\n",
    "enteric_fermentation = pd.read_csv(enteric_fermentation_path, encoding='latin-1', engine='python')"
   ]
  },
  {
   "cell_type": "code",
   "execution_count": 47,
   "metadata": {
    "Collapsed": "false"
   },
   "outputs": [
    {
     "data": {
      "text/html": [
       "<div>\n",
       "<style scoped>\n",
       "    .dataframe tbody tr th:only-of-type {\n",
       "        vertical-align: middle;\n",
       "    }\n",
       "\n",
       "    .dataframe tbody tr th {\n",
       "        vertical-align: top;\n",
       "    }\n",
       "\n",
       "    .dataframe thead th {\n",
       "        text-align: right;\n",
       "    }\n",
       "</style>\n",
       "<table border=\"1\" class=\"dataframe\">\n",
       "  <thead>\n",
       "    <tr style=\"text-align: right;\">\n",
       "      <th></th>\n",
       "      <th>Area Code</th>\n",
       "      <th>Area</th>\n",
       "      <th>Item Code</th>\n",
       "      <th>Item</th>\n",
       "      <th>Element Code</th>\n",
       "      <th>Element</th>\n",
       "      <th>Year Code</th>\n",
       "      <th>Year</th>\n",
       "      <th>Unit</th>\n",
       "      <th>Value</th>\n",
       "      <th>Flag</th>\n",
       "    </tr>\n",
       "  </thead>\n",
       "  <tbody>\n",
       "    <tr>\n",
       "      <td>0</td>\n",
       "      <td>2</td>\n",
       "      <td>Afghanistan</td>\n",
       "      <td>1107</td>\n",
       "      <td>Asses</td>\n",
       "      <td>5111</td>\n",
       "      <td>Stocks</td>\n",
       "      <td>1961</td>\n",
       "      <td>1961</td>\n",
       "      <td>Head</td>\n",
       "      <td>1300000.0</td>\n",
       "      <td>NaN</td>\n",
       "    </tr>\n",
       "    <tr>\n",
       "      <td>1</td>\n",
       "      <td>2</td>\n",
       "      <td>Afghanistan</td>\n",
       "      <td>1107</td>\n",
       "      <td>Asses</td>\n",
       "      <td>5111</td>\n",
       "      <td>Stocks</td>\n",
       "      <td>1962</td>\n",
       "      <td>1962</td>\n",
       "      <td>Head</td>\n",
       "      <td>851850.0</td>\n",
       "      <td>NaN</td>\n",
       "    </tr>\n",
       "    <tr>\n",
       "      <td>2</td>\n",
       "      <td>2</td>\n",
       "      <td>Afghanistan</td>\n",
       "      <td>1107</td>\n",
       "      <td>Asses</td>\n",
       "      <td>5111</td>\n",
       "      <td>Stocks</td>\n",
       "      <td>1963</td>\n",
       "      <td>1963</td>\n",
       "      <td>Head</td>\n",
       "      <td>1001112.0</td>\n",
       "      <td>NaN</td>\n",
       "    </tr>\n",
       "    <tr>\n",
       "      <td>3</td>\n",
       "      <td>2</td>\n",
       "      <td>Afghanistan</td>\n",
       "      <td>1107</td>\n",
       "      <td>Asses</td>\n",
       "      <td>5111</td>\n",
       "      <td>Stocks</td>\n",
       "      <td>1964</td>\n",
       "      <td>1964</td>\n",
       "      <td>Head</td>\n",
       "      <td>1150000.0</td>\n",
       "      <td>F</td>\n",
       "    </tr>\n",
       "    <tr>\n",
       "      <td>4</td>\n",
       "      <td>2</td>\n",
       "      <td>Afghanistan</td>\n",
       "      <td>1107</td>\n",
       "      <td>Asses</td>\n",
       "      <td>5111</td>\n",
       "      <td>Stocks</td>\n",
       "      <td>1965</td>\n",
       "      <td>1965</td>\n",
       "      <td>Head</td>\n",
       "      <td>1300000.0</td>\n",
       "      <td>NaN</td>\n",
       "    </tr>\n",
       "  </tbody>\n",
       "</table>\n",
       "</div>"
      ],
      "text/plain": [
       "   Area Code         Area  Item Code   Item  Element Code Element  Year Code  \\\n",
       "0          2  Afghanistan       1107  Asses          5111  Stocks       1961   \n",
       "1          2  Afghanistan       1107  Asses          5111  Stocks       1962   \n",
       "2          2  Afghanistan       1107  Asses          5111  Stocks       1963   \n",
       "3          2  Afghanistan       1107  Asses          5111  Stocks       1964   \n",
       "4          2  Afghanistan       1107  Asses          5111  Stocks       1965   \n",
       "\n",
       "   Year  Unit      Value Flag  \n",
       "0  1961  Head  1300000.0  NaN  \n",
       "1  1962  Head   851850.0  NaN  \n",
       "2  1963  Head  1001112.0  NaN  \n",
       "3  1964  Head  1150000.0    F  \n",
       "4  1965  Head  1300000.0  NaN  "
      ]
     },
     "execution_count": 47,
     "metadata": {},
     "output_type": "execute_result"
    }
   ],
   "source": [
    "enteric_fermentation.head()"
   ]
  },
  {
   "cell_type": "code",
   "execution_count": 48,
   "metadata": {
    "Collapsed": "false"
   },
   "outputs": [
    {
     "data": {
      "text/plain": [
       "Fc    279113\n",
       "A     256601\n",
       "F      61267\n",
       "*       1879\n",
       "Im      1626\n",
       "Name: Flag, dtype: int64"
      ]
     },
     "execution_count": 48,
     "metadata": {},
     "output_type": "execute_result"
    }
   ],
   "source": [
    "# Check present values\n",
    "enteric_fermentation.Flag.value_counts()"
   ]
  },
  {
   "cell_type": "markdown",
   "metadata": {
    "Collapsed": "false"
   },
   "source": [
    "The flags represent : \n",
    "* `A` : Aggregate, may include official, semi-official, estimated or calculated data\n",
    "* `Fc` : Calculated data\n",
    "* `F` : FAO estimate\n",
    "* `Im` : FAO data based on imputation methodology\n",
    "* `*`: Unofficial figure\n"
   ]
  },
  {
   "cell_type": "code",
   "execution_count": 81,
   "metadata": {
    "Collapsed": "false"
   },
   "outputs": [
    {
     "name": "stdout",
     "output_type": "stream",
     "text": [
      "gigagrams      364004\n",
      "Head           167913\n",
      "kg CH4/head     92249\n",
      "Name: Unit, dtype: int64\n"
     ]
    },
    {
     "data": {
      "text/plain": [
       "Emissions (CO2eq) (Enteric)                  182002\n",
       "Emissions (CH4) (Enteric)                    182002\n",
       "Stocks                                       167913\n",
       "Implied emission factor for CH4 (Enteric)     92249\n",
       "Name: Element, dtype: int64"
      ]
     },
     "execution_count": 81,
     "metadata": {},
     "output_type": "execute_result"
    }
   ],
   "source": [
    "print(enteric_fermentation.Unit.value_counts())\n",
    "#print(enteric_fermentation.Item.value_counts())\n",
    "#print(enteric_fermentation.Year.value_counts())\n",
    "enteric_fermentation.Element.value_counts()"
   ]
  },
  {
   "cell_type": "markdown",
   "metadata": {
    "Collapsed": "false"
   },
   "source": [
    "If element is stocks, this means the amount of animals (Unit = Head)"
   ]
  },
  {
   "cell_type": "code",
   "execution_count": 52,
   "metadata": {
    "Collapsed": "false"
   },
   "outputs": [],
   "source": [
    "# Drop some unnecessary columns\n",
    "enteric_fermentation.drop(columns=[\"Area Code\", \"Item Code\", \"Element Code\", \"Year Code\"], inplace=True)"
   ]
  },
  {
   "cell_type": "markdown",
   "metadata": {
    "Collapsed": "false"
   },
   "source": [
    "Let us first just look at the year 2017 (most recent data)"
   ]
  },
  {
   "cell_type": "code",
   "execution_count": 114,
   "metadata": {
    "Collapsed": "false"
   },
   "outputs": [],
   "source": [
    "enteric_fermentation_2017 = enteric_fermentation[enteric_fermentation.Year == 2017].copy()\n",
    "enteric_fermentation_2017.drop(columns=[\"Year\"], inplace=True)"
   ]
  },
  {
   "cell_type": "code",
   "execution_count": 115,
   "metadata": {
    "Collapsed": "false"
   },
   "outputs": [
    {
     "data": {
      "text/plain": [
       "Area       False\n",
       "Item       False\n",
       "Element    False\n",
       "Unit       False\n",
       "Value      False\n",
       "Flag        True\n",
       "dtype: bool"
      ]
     },
     "execution_count": 115,
     "metadata": {},
     "output_type": "execute_result"
    }
   ],
   "source": [
    "# Check for missing data\n",
    "enteric_fermentation_2017.isna().any()"
   ]
  },
  {
   "cell_type": "code",
   "execution_count": 116,
   "metadata": {
    "Collapsed": "false"
   },
   "outputs": [
    {
     "data": {
      "text/plain": [
       "0.026938122332859176"
      ]
     },
     "execution_count": 116,
     "metadata": {},
     "output_type": "execute_result"
    }
   ],
   "source": [
    "# Around 2.5% of our flags are unknown, which means we do not know how the data is gatherd\n",
    "np.count_nonzero(enteric_fermentation_2017.isna().Flag)/len(enteric_fermentation_2017.Flag)"
   ]
  },
  {
   "cell_type": "markdown",
   "metadata": {
    "Collapsed": "false"
   },
   "source": [
    "The missing flags are only present when element = stocks"
   ]
  },
  {
   "cell_type": "code",
   "execution_count": 117,
   "metadata": {
    "Collapsed": "false"
   },
   "outputs": [
    {
     "data": {
      "text/plain": [
       "Stocks    303\n",
       "Name: Element, dtype: int64"
      ]
     },
     "execution_count": 117,
     "metadata": {},
     "output_type": "execute_result"
    }
   ],
   "source": [
    "enteric_fermentation_2017[enteric_fermentation_2017.isna().any(axis=1)].Element.value_counts()"
   ]
  },
  {
   "cell_type": "code",
   "execution_count": 118,
   "metadata": {
    "Collapsed": "false"
   },
   "outputs": [],
   "source": [
    "# Drop the flags in the meantime\n",
    "enteric_fermentation_2017.drop(columns=['Flag'], inplace=True)"
   ]
  },
  {
   "cell_type": "markdown",
   "metadata": {
    "Collapsed": "false"
   },
   "source": [
    "We now want to see the total emission per kind of animal"
   ]
  },
  {
   "cell_type": "code",
   "execution_count": 176,
   "metadata": {
    "Collapsed": "false"
   },
   "outputs": [],
   "source": [
    "columns=[\"Animal\", \"CO2eq (Gg)\", \"Stocks\"]"
   ]
  },
  {
   "cell_type": "code",
   "execution_count": 179,
   "metadata": {
    "Collapsed": "false"
   },
   "outputs": [],
   "source": [
    "# Take all world data\n",
    "enteric_fermentation_2017_world = enteric_fermentation_2017[enteric_fermentation_2017[\"Area\"]==\"World\"].copy()\n",
    "# Drop unecessary colomns (units are known) and pivot \n",
    "enteric_fermentation_2017_world_total = enteric_fermentation_2017_world.drop(columns=['Area', 'Unit']).pivot(index=\"Item\", columns=\"Element\")\n",
    "# Format\n",
    "enteric_fermentation_2017_world_total.columns = enteric_fermentation_2017_world_total.columns.droplevel()\n",
    "enteric_fermentation_2017_world_total.reset_index(inplace=True)\n",
    "# Drop unecessary CH4 column (same as CO2eq multiplied by constant)\n",
    "enteric_fermentation_2017_world_total.drop(columns=[\"Emissions (CH4) (Enteric)\"], inplace=True)\n",
    "enteric_fermentation_2017_world_total.columns = columns"
   ]
  },
  {
   "cell_type": "code",
   "execution_count": 180,
   "metadata": {
    "Collapsed": "false"
   },
   "outputs": [
    {
     "data": {
      "text/html": [
       "<div>\n",
       "<style scoped>\n",
       "    .dataframe tbody tr th:only-of-type {\n",
       "        vertical-align: middle;\n",
       "    }\n",
       "\n",
       "    .dataframe tbody tr th {\n",
       "        vertical-align: top;\n",
       "    }\n",
       "\n",
       "    .dataframe thead th {\n",
       "        text-align: right;\n",
       "    }\n",
       "</style>\n",
       "<table border=\"1\" class=\"dataframe\">\n",
       "  <thead>\n",
       "    <tr style=\"text-align: right;\">\n",
       "      <th></th>\n",
       "      <th>Animal</th>\n",
       "      <th>CO2eq (Gg)</th>\n",
       "      <th>Stocks</th>\n",
       "    </tr>\n",
       "  </thead>\n",
       "  <tbody>\n",
       "    <tr>\n",
       "      <td>0</td>\n",
       "      <td>All Animals</td>\n",
       "      <td>2.100076e+06</td>\n",
       "      <td>NaN</td>\n",
       "    </tr>\n",
       "    <tr>\n",
       "      <td>1</td>\n",
       "      <td>Asses</td>\n",
       "      <td>9.617656e+03</td>\n",
       "      <td>4.579836e+07</td>\n",
       "    </tr>\n",
       "    <tr>\n",
       "      <td>2</td>\n",
       "      <td>Buffaloes</td>\n",
       "      <td>2.321177e+05</td>\n",
       "      <td>2.009677e+08</td>\n",
       "    </tr>\n",
       "    <tr>\n",
       "      <td>3</td>\n",
       "      <td>Camels</td>\n",
       "      <td>3.364576e+04</td>\n",
       "      <td>3.482998e+07</td>\n",
       "    </tr>\n",
       "    <tr>\n",
       "      <td>4</td>\n",
       "      <td>Camels and Llamas</td>\n",
       "      <td>3.923297e+04</td>\n",
       "      <td>4.384889e+07</td>\n",
       "    </tr>\n",
       "    <tr>\n",
       "      <td>5</td>\n",
       "      <td>Cattle</td>\n",
       "      <td>1.521011e+06</td>\n",
       "      <td>1.491687e+09</td>\n",
       "    </tr>\n",
       "    <tr>\n",
       "      <td>6</td>\n",
       "      <td>Cattle, dairy</td>\n",
       "      <td>3.944052e+05</td>\n",
       "      <td>2.780345e+08</td>\n",
       "    </tr>\n",
       "    <tr>\n",
       "      <td>7</td>\n",
       "      <td>Cattle, non-dairy</td>\n",
       "      <td>1.126606e+06</td>\n",
       "      <td>1.213653e+09</td>\n",
       "    </tr>\n",
       "    <tr>\n",
       "      <td>8</td>\n",
       "      <td>Goats</td>\n",
       "      <td>1.086127e+05</td>\n",
       "      <td>1.034407e+09</td>\n",
       "    </tr>\n",
       "    <tr>\n",
       "      <td>9</td>\n",
       "      <td>Horses</td>\n",
       "      <td>2.289418e+04</td>\n",
       "      <td>6.056660e+07</td>\n",
       "    </tr>\n",
       "    <tr>\n",
       "      <td>10</td>\n",
       "      <td>Llamas</td>\n",
       "      <td>5.587217e+03</td>\n",
       "      <td>9.018913e+06</td>\n",
       "    </tr>\n",
       "    <tr>\n",
       "      <td>11</td>\n",
       "      <td>Mules</td>\n",
       "      <td>2.033908e+03</td>\n",
       "      <td>9.685278e+06</td>\n",
       "    </tr>\n",
       "    <tr>\n",
       "      <td>12</td>\n",
       "      <td>Mules and Asses</td>\n",
       "      <td>1.165156e+04</td>\n",
       "      <td>5.548364e+07</td>\n",
       "    </tr>\n",
       "    <tr>\n",
       "      <td>13</td>\n",
       "      <td>Sheep</td>\n",
       "      <td>1.412441e+05</td>\n",
       "      <td>1.202431e+09</td>\n",
       "    </tr>\n",
       "    <tr>\n",
       "      <td>14</td>\n",
       "      <td>Sheep and Goats</td>\n",
       "      <td>2.498567e+05</td>\n",
       "      <td>2.236837e+09</td>\n",
       "    </tr>\n",
       "    <tr>\n",
       "      <td>15</td>\n",
       "      <td>Swine</td>\n",
       "      <td>2.331185e+04</td>\n",
       "      <td>9.673851e+08</td>\n",
       "    </tr>\n",
       "    <tr>\n",
       "      <td>16</td>\n",
       "      <td>Swine, breeding</td>\n",
       "      <td>2.331186e+03</td>\n",
       "      <td>9.673852e+07</td>\n",
       "    </tr>\n",
       "    <tr>\n",
       "      <td>17</td>\n",
       "      <td>Swine, market</td>\n",
       "      <td>2.098067e+04</td>\n",
       "      <td>8.706466e+08</td>\n",
       "    </tr>\n",
       "  </tbody>\n",
       "</table>\n",
       "</div>"
      ],
      "text/plain": [
       "               Animal    CO2eq (Gg)        Stocks\n",
       "0         All Animals  2.100076e+06           NaN\n",
       "1               Asses  9.617656e+03  4.579836e+07\n",
       "2           Buffaloes  2.321177e+05  2.009677e+08\n",
       "3              Camels  3.364576e+04  3.482998e+07\n",
       "4   Camels and Llamas  3.923297e+04  4.384889e+07\n",
       "5              Cattle  1.521011e+06  1.491687e+09\n",
       "6       Cattle, dairy  3.944052e+05  2.780345e+08\n",
       "7   Cattle, non-dairy  1.126606e+06  1.213653e+09\n",
       "8               Goats  1.086127e+05  1.034407e+09\n",
       "9              Horses  2.289418e+04  6.056660e+07\n",
       "10             Llamas  5.587217e+03  9.018913e+06\n",
       "11              Mules  2.033908e+03  9.685278e+06\n",
       "12    Mules and Asses  1.165156e+04  5.548364e+07\n",
       "13              Sheep  1.412441e+05  1.202431e+09\n",
       "14    Sheep and Goats  2.498567e+05  2.236837e+09\n",
       "15              Swine  2.331185e+04  9.673851e+08\n",
       "16    Swine, breeding  2.331186e+03  9.673852e+07\n",
       "17      Swine, market  2.098067e+04  8.706466e+08"
      ]
     },
     "execution_count": 180,
     "metadata": {},
     "output_type": "execute_result"
    }
   ],
   "source": [
    "enteric_fermentation_2017_world_total"
   ]
  },
  {
   "cell_type": "code",
   "execution_count": null,
   "metadata": {
    "Collapsed": "false"
   },
   "outputs": [],
   "source": []
  }
 ],
 "metadata": {
  "kernelspec": {
   "display_name": "Python [conda env:ada] *",
   "language": "python",
   "name": "conda-env-ada-py"
  },
  "language_info": {
   "codemirror_mode": {
    "name": "ipython",
    "version": 3
   },
   "file_extension": ".py",
   "mimetype": "text/x-python",
   "name": "python",
   "nbconvert_exporter": "python",
   "pygments_lexer": "ipython3",
   "version": "3.7.4"
  }
 },
 "nbformat": 4,
 "nbformat_minor": 4
}
