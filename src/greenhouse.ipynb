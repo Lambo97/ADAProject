{
 "cells": [
  {
   "cell_type": "markdown",
   "metadata": {
    "Collapsed": "false"
   },
   "source": [
    "# Searching the most-efficient source of food\n"
   ]
  },
  {
   "cell_type": "markdown",
   "metadata": {
    "Collapsed": "false"
   },
   "source": [
    "## Greenhouse gas emission"
   ]
  },
  {
   "cell_type": "code",
   "execution_count": 1,
   "metadata": {
    "Collapsed": "false"
   },
   "outputs": [],
   "source": [
    "import pandas as pd\n",
    "import numpy as np\n",
    "import matplotlib.pyplot as plt"
   ]
  },
  {
   "cell_type": "code",
   "execution_count": 24,
   "metadata": {
    "Collapsed": "false"
   },
   "outputs": [],
   "source": [
    "# constants\n",
    "DATA_PATH = '../data/'\n",
    "GENERATED_DATA_PATH = '../generated/'"
   ]
  },
  {
   "cell_type": "markdown",
   "metadata": {
    "Collapsed": "false"
   },
   "source": [
    "Let us first have a look at the total emission by agriculture. For this we use the 'Emissions_Agriculture_Agriculture_total_E_All_Data_(Norm)' dataset. MetaData can be found here: http://www.fao.org/faostat/en/#data/GT/metadata"
   ]
  },
  {
   "cell_type": "code",
   "execution_count": 3,
   "metadata": {
    "Collapsed": "false"
   },
   "outputs": [],
   "source": [
    "emission_total_path = DATA_PATH+'Emissions_Agriculture_Agriculture_total_E_All_Data_(Norm).csv'\n",
    "emissions_total = pd.read_csv(emission_total_path, encoding='latin-1', engine='python')"
   ]
  },
  {
   "cell_type": "code",
   "execution_count": 4,
   "metadata": {
    "Collapsed": "false"
   },
   "outputs": [
    {
     "name": "stdout",
     "output_type": "stream",
     "text": [
      "(326182, 11)\n"
     ]
    },
    {
     "data": {
      "text/html": [
       "<div>\n",
       "<style scoped>\n",
       "    .dataframe tbody tr th:only-of-type {\n",
       "        vertical-align: middle;\n",
       "    }\n",
       "\n",
       "    .dataframe tbody tr th {\n",
       "        vertical-align: top;\n",
       "    }\n",
       "\n",
       "    .dataframe thead th {\n",
       "        text-align: right;\n",
       "    }\n",
       "</style>\n",
       "<table border=\"1\" class=\"dataframe\">\n",
       "  <thead>\n",
       "    <tr style=\"text-align: right;\">\n",
       "      <th></th>\n",
       "      <th>Country Code</th>\n",
       "      <th>Country</th>\n",
       "      <th>Item Code</th>\n",
       "      <th>Item</th>\n",
       "      <th>Element Code</th>\n",
       "      <th>Element</th>\n",
       "      <th>Year Code</th>\n",
       "      <th>Year</th>\n",
       "      <th>Unit</th>\n",
       "      <th>Value</th>\n",
       "      <th>Flag</th>\n",
       "    </tr>\n",
       "  </thead>\n",
       "  <tbody>\n",
       "    <tr>\n",
       "      <td>0</td>\n",
       "      <td>2</td>\n",
       "      <td>Afghanistan</td>\n",
       "      <td>5058</td>\n",
       "      <td>Enteric Fermentation</td>\n",
       "      <td>7231</td>\n",
       "      <td>Emissions (CO2eq)</td>\n",
       "      <td>1961</td>\n",
       "      <td>1961</td>\n",
       "      <td>Gigagrams</td>\n",
       "      <td>5054.3459</td>\n",
       "      <td>A</td>\n",
       "    </tr>\n",
       "    <tr>\n",
       "      <td>1</td>\n",
       "      <td>2</td>\n",
       "      <td>Afghanistan</td>\n",
       "      <td>5058</td>\n",
       "      <td>Enteric Fermentation</td>\n",
       "      <td>7231</td>\n",
       "      <td>Emissions (CO2eq)</td>\n",
       "      <td>1962</td>\n",
       "      <td>1962</td>\n",
       "      <td>Gigagrams</td>\n",
       "      <td>5151.5228</td>\n",
       "      <td>A</td>\n",
       "    </tr>\n",
       "    <tr>\n",
       "      <td>2</td>\n",
       "      <td>2</td>\n",
       "      <td>Afghanistan</td>\n",
       "      <td>5058</td>\n",
       "      <td>Enteric Fermentation</td>\n",
       "      <td>7231</td>\n",
       "      <td>Emissions (CO2eq)</td>\n",
       "      <td>1963</td>\n",
       "      <td>1963</td>\n",
       "      <td>Gigagrams</td>\n",
       "      <td>5372.3989</td>\n",
       "      <td>A</td>\n",
       "    </tr>\n",
       "    <tr>\n",
       "      <td>3</td>\n",
       "      <td>2</td>\n",
       "      <td>Afghanistan</td>\n",
       "      <td>5058</td>\n",
       "      <td>Enteric Fermentation</td>\n",
       "      <td>7231</td>\n",
       "      <td>Emissions (CO2eq)</td>\n",
       "      <td>1964</td>\n",
       "      <td>1964</td>\n",
       "      <td>Gigagrams</td>\n",
       "      <td>5440.3650</td>\n",
       "      <td>A</td>\n",
       "    </tr>\n",
       "    <tr>\n",
       "      <td>4</td>\n",
       "      <td>2</td>\n",
       "      <td>Afghanistan</td>\n",
       "      <td>5058</td>\n",
       "      <td>Enteric Fermentation</td>\n",
       "      <td>7231</td>\n",
       "      <td>Emissions (CO2eq)</td>\n",
       "      <td>1965</td>\n",
       "      <td>1965</td>\n",
       "      <td>Gigagrams</td>\n",
       "      <td>5577.5580</td>\n",
       "      <td>A</td>\n",
       "    </tr>\n",
       "    <tr>\n",
       "      <td>...</td>\n",
       "      <td>...</td>\n",
       "      <td>...</td>\n",
       "      <td>...</td>\n",
       "      <td>...</td>\n",
       "      <td>...</td>\n",
       "      <td>...</td>\n",
       "      <td>...</td>\n",
       "      <td>...</td>\n",
       "      <td>...</td>\n",
       "      <td>...</td>\n",
       "      <td>...</td>\n",
       "    </tr>\n",
       "    <tr>\n",
       "      <td>326177</td>\n",
       "      <td>5873</td>\n",
       "      <td>OECD</td>\n",
       "      <td>1709</td>\n",
       "      <td>Agricultural Soils</td>\n",
       "      <td>7243</td>\n",
       "      <td>Emissions (CO2eq) from N2O</td>\n",
       "      <td>2012</td>\n",
       "      <td>2012</td>\n",
       "      <td>Gigagrams</td>\n",
       "      <td>507201.5669</td>\n",
       "      <td>A</td>\n",
       "    </tr>\n",
       "    <tr>\n",
       "      <td>326178</td>\n",
       "      <td>5873</td>\n",
       "      <td>OECD</td>\n",
       "      <td>1709</td>\n",
       "      <td>Agricultural Soils</td>\n",
       "      <td>7243</td>\n",
       "      <td>Emissions (CO2eq) from N2O</td>\n",
       "      <td>2013</td>\n",
       "      <td>2013</td>\n",
       "      <td>Gigagrams</td>\n",
       "      <td>515750.7919</td>\n",
       "      <td>A</td>\n",
       "    </tr>\n",
       "    <tr>\n",
       "      <td>326179</td>\n",
       "      <td>5873</td>\n",
       "      <td>OECD</td>\n",
       "      <td>1709</td>\n",
       "      <td>Agricultural Soils</td>\n",
       "      <td>7243</td>\n",
       "      <td>Emissions (CO2eq) from N2O</td>\n",
       "      <td>2014</td>\n",
       "      <td>2014</td>\n",
       "      <td>Gigagrams</td>\n",
       "      <td>526015.4357</td>\n",
       "      <td>A</td>\n",
       "    </tr>\n",
       "    <tr>\n",
       "      <td>326180</td>\n",
       "      <td>5873</td>\n",
       "      <td>OECD</td>\n",
       "      <td>1709</td>\n",
       "      <td>Agricultural Soils</td>\n",
       "      <td>7243</td>\n",
       "      <td>Emissions (CO2eq) from N2O</td>\n",
       "      <td>2030</td>\n",
       "      <td>2030</td>\n",
       "      <td>Gigagrams</td>\n",
       "      <td>525722.7988</td>\n",
       "      <td>A</td>\n",
       "    </tr>\n",
       "    <tr>\n",
       "      <td>326181</td>\n",
       "      <td>5873</td>\n",
       "      <td>OECD</td>\n",
       "      <td>1709</td>\n",
       "      <td>Agricultural Soils</td>\n",
       "      <td>7243</td>\n",
       "      <td>Emissions (CO2eq) from N2O</td>\n",
       "      <td>2050</td>\n",
       "      <td>2050</td>\n",
       "      <td>Gigagrams</td>\n",
       "      <td>542459.3841</td>\n",
       "      <td>A</td>\n",
       "    </tr>\n",
       "  </tbody>\n",
       "</table>\n",
       "<p>326182 rows × 11 columns</p>\n",
       "</div>"
      ],
      "text/plain": [
       "        Country Code      Country  Item Code                  Item  \\\n",
       "0                  2  Afghanistan       5058  Enteric Fermentation   \n",
       "1                  2  Afghanistan       5058  Enteric Fermentation   \n",
       "2                  2  Afghanistan       5058  Enteric Fermentation   \n",
       "3                  2  Afghanistan       5058  Enteric Fermentation   \n",
       "4                  2  Afghanistan       5058  Enteric Fermentation   \n",
       "...              ...          ...        ...                   ...   \n",
       "326177          5873         OECD       1709    Agricultural Soils   \n",
       "326178          5873         OECD       1709    Agricultural Soils   \n",
       "326179          5873         OECD       1709    Agricultural Soils   \n",
       "326180          5873         OECD       1709    Agricultural Soils   \n",
       "326181          5873         OECD       1709    Agricultural Soils   \n",
       "\n",
       "        Element Code                     Element  Year Code  Year       Unit  \\\n",
       "0               7231           Emissions (CO2eq)       1961  1961  Gigagrams   \n",
       "1               7231           Emissions (CO2eq)       1962  1962  Gigagrams   \n",
       "2               7231           Emissions (CO2eq)       1963  1963  Gigagrams   \n",
       "3               7231           Emissions (CO2eq)       1964  1964  Gigagrams   \n",
       "4               7231           Emissions (CO2eq)       1965  1965  Gigagrams   \n",
       "...              ...                         ...        ...   ...        ...   \n",
       "326177          7243  Emissions (CO2eq) from N2O       2012  2012  Gigagrams   \n",
       "326178          7243  Emissions (CO2eq) from N2O       2013  2013  Gigagrams   \n",
       "326179          7243  Emissions (CO2eq) from N2O       2014  2014  Gigagrams   \n",
       "326180          7243  Emissions (CO2eq) from N2O       2030  2030  Gigagrams   \n",
       "326181          7243  Emissions (CO2eq) from N2O       2050  2050  Gigagrams   \n",
       "\n",
       "              Value Flag  \n",
       "0         5054.3459    A  \n",
       "1         5151.5228    A  \n",
       "2         5372.3989    A  \n",
       "3         5440.3650    A  \n",
       "4         5577.5580    A  \n",
       "...             ...  ...  \n",
       "326177  507201.5669    A  \n",
       "326178  515750.7919    A  \n",
       "326179  526015.4357    A  \n",
       "326180  525722.7988    A  \n",
       "326181  542459.3841    A  \n",
       "\n",
       "[326182 rows x 11 columns]"
      ]
     },
     "execution_count": 4,
     "metadata": {},
     "output_type": "execute_result"
    }
   ],
   "source": [
    "print(emissions_total.shape)\n",
    "emissions_total"
   ]
  },
  {
   "cell_type": "code",
   "execution_count": 5,
   "metadata": {
    "Collapsed": "false"
   },
   "outputs": [
    {
     "data": {
      "text/plain": [
       "Index([], dtype='object')"
      ]
     },
     "execution_count": 5,
     "metadata": {},
     "output_type": "execute_result"
    }
   ],
   "source": [
    "# check for NaN values\n",
    "emissions_total.columns[emissions_total.isna().any()]"
   ]
  },
  {
   "cell_type": "code",
   "execution_count": 6,
   "metadata": {
    "Collapsed": "false"
   },
   "outputs": [
    {
     "name": "stdout",
     "output_type": "stream",
     "text": [
      "We have the following kind of emissions: ['Emissions (CO2eq)' 'Emissions (CO2eq) from CH4'\n",
      " 'Emissions (CO2eq) from N2O']\n"
     ]
    }
   ],
   "source": [
    "# What kind of emissions are there?\n",
    "print(\"We have the following kind of emissions:\",emissions_total['Element'].unique())\n",
    "#print(emissions_total['Element Code'].unique())\n",
    "\n",
    "# Units are all in Gigagrams\n",
    "# print(emissions_total['Unit'].unique())\n",
    "\n",
    "#emissions_total['Country'].unique()"
   ]
  },
  {
   "cell_type": "markdown",
   "metadata": {
    "Collapsed": "false"
   },
   "source": [
    "CO2eq means 'Carbon dioxide equivalent'\n",
    "https://ec.europa.eu/eurostat/statistics-explained/index.php/Glossary:Carbon_dioxide_equivalent"
   ]
  },
  {
   "cell_type": "markdown",
   "metadata": {
    "Collapsed": "false"
   },
   "source": [
    "Amount of greenhouse gas (N20 + CH4) emitted per product? "
   ]
  },
  {
   "cell_type": "code",
   "execution_count": 7,
   "metadata": {
    "Collapsed": "false"
   },
   "outputs": [],
   "source": [
    "# CO2eq is the total (CH4+N20) expressed as Carbon dioxide equivalent\n",
    "\n",
    "element_code = {'CO2eq': 7231, 'N2O': 7243, 'CH4': 7244}\n",
    "columns = ['Item', 'Value']"
   ]
  },
  {
   "cell_type": "code",
   "execution_count": 8,
   "metadata": {
    "Collapsed": "false"
   },
   "outputs": [],
   "source": [
    "emissions_world = emissions_total[(emissions_total['Country'] == 'World')]"
   ]
  },
  {
   "cell_type": "code",
   "execution_count": 9,
   "metadata": {
    "Collapsed": "false"
   },
   "outputs": [],
   "source": [
    "%%capture\n",
    "\n",
    "emissions_world_C02eq = emissions_world[emissions_world['Element Code'] == element_code['CO2eq']]\n",
    "emissions_world_C02eq = emissions_world_C02eq[columns].groupby(['Item']).sum().reset_index().set_index('Item')\n",
    "\n",
    "emissions_world_N2O = emissions_world[emissions_world['Element Code'] == element_code['N2O']]\n",
    "emissions_world_N2O = emissions_world_N2O[columns].groupby(['Item']).sum().reset_index().set_index('Item')\n",
    "\n",
    "emissions_world_CH4 = emissions_world[emissions_world['Element Code'] == element_code['CH4']]\n",
    "emissions_world_CH4 = emissions_world_CH4[columns].groupby(['Item']).sum().reset_index().set_index('Item')"
   ]
  },
  {
   "cell_type": "code",
   "execution_count": 10,
   "metadata": {
    "Collapsed": "false"
   },
   "outputs": [],
   "source": [
    "# Drop stats that are sum of the others\n",
    "emissions_world_C02eq.drop(['Agricultural Soils', 'Agriculture total'], inplace=True)\n",
    "emissions_world_C02eq.sort_values('Value', ascending=False, inplace=True)\n",
    "\n",
    "emissions_world_N2O.drop(['Agricultural Soils', 'Agriculture total'], inplace=True)\n",
    "emissions_world_N2O.sort_values('Value', ascending=False, inplace=True)\n",
    "\n",
    "emissions_world_CH4.drop('Agriculture total', inplace=True)\n",
    "emissions_world_CH4.sort_values('Value', ascending=False, inplace=True)"
   ]
  },
  {
   "cell_type": "code",
   "execution_count": 11,
   "metadata": {
    "Collapsed": "false"
   },
   "outputs": [],
   "source": [
    "# Left join\n",
    "emissions_plot = emissions_world_C02eq.join(emissions_world_N2O, lsuffix=\"CO2eq\", rsuffix=\"N20\").join(emissions_world_CH4)\\\n",
    "                    .rename({'Value':'ValueCH4'}, axis=1).reset_index().fillna(0)"
   ]
  },
  {
   "cell_type": "code",
   "execution_count": 12,
   "metadata": {
    "Collapsed": "false"
   },
   "outputs": [
    {
     "ename": "NameError",
     "evalue": "name 'c' is not defined",
     "output_type": "error",
     "traceback": [
      "\u001b[0;31m---------------------------------------------------------------------------\u001b[0m",
      "\u001b[0;31mNameError\u001b[0m                                 Traceback (most recent call last)",
      "\u001b[0;32m<ipython-input-12-04debfa7345b>\u001b[0m in \u001b[0;36m<module>\u001b[0;34m\u001b[0m\n\u001b[1;32m     12\u001b[0m \u001b[0;32mfor\u001b[0m \u001b[0mnum\u001b[0m\u001b[0;34m,\u001b[0m \u001b[0mitem\u001b[0m \u001b[0;32min\u001b[0m \u001b[0menumerate\u001b[0m\u001b[0;34m(\u001b[0m\u001b[0mitems\u001b[0m\u001b[0;34m)\u001b[0m\u001b[0;34m:\u001b[0m\u001b[0;34m\u001b[0m\u001b[0;34m\u001b[0m\u001b[0m\n\u001b[1;32m     13\u001b[0m     \u001b[0mvalues\u001b[0m \u001b[0;34m=\u001b[0m \u001b[0mlist\u001b[0m\u001b[0;34m(\u001b[0m\u001b[0memissions_plot\u001b[0m\u001b[0;34m.\u001b[0m\u001b[0mloc\u001b[0m\u001b[0;34m[\u001b[0m\u001b[0mnum\u001b[0m\u001b[0;34m]\u001b[0m\u001b[0;34m)\u001b[0m\u001b[0;34m[\u001b[0m\u001b[0;36m1\u001b[0m\u001b[0;34m:\u001b[0m\u001b[0;36m4\u001b[0m\u001b[0;34m]\u001b[0m\u001b[0;34m\u001b[0m\u001b[0;34m\u001b[0m\u001b[0m\n\u001b[0;32m---> 14\u001b[0;31m     \u001b[0max\u001b[0m\u001b[0;34m.\u001b[0m\u001b[0mset_prop_cycle\u001b[0m\u001b[0;34m(\u001b[0m\u001b[0mc\u001b[0m\u001b[0;34m)\u001b[0m\u001b[0;34m\u001b[0m\u001b[0;34m\u001b[0m\u001b[0m\n\u001b[0m\u001b[1;32m     15\u001b[0m     \u001b[0mplt\u001b[0m\u001b[0;34m.\u001b[0m\u001b[0mbar\u001b[0m\u001b[0;34m(\u001b[0m\u001b[0mind\u001b[0m\u001b[0;34m,\u001b[0m \u001b[0mvalues\u001b[0m\u001b[0;34m,\u001b[0m \u001b[0mbottom\u001b[0m\u001b[0;34m=\u001b[0m\u001b[0mmargin_bottom\u001b[0m\u001b[0;34m,\u001b[0m \u001b[0mcolor\u001b[0m \u001b[0;34m=\u001b[0m \u001b[0mcolors\u001b[0m\u001b[0;34m[\u001b[0m\u001b[0mnum\u001b[0m\u001b[0;34m]\u001b[0m\u001b[0;34m,\u001b[0m\u001b[0mlabel\u001b[0m\u001b[0;34m=\u001b[0m\u001b[0mitem\u001b[0m\u001b[0;34m)\u001b[0m\u001b[0;34m\u001b[0m\u001b[0;34m\u001b[0m\u001b[0m\n\u001b[1;32m     16\u001b[0m     \u001b[0mmargin_bottom\u001b[0m \u001b[0;34m+=\u001b[0m \u001b[0mvalues\u001b[0m\u001b[0;34m\u001b[0m\u001b[0;34m\u001b[0m\u001b[0m\n",
      "\u001b[0;31mNameError\u001b[0m: name 'c' is not defined"
     ]
    },
    {
     "data": {
      "image/png": "[encoded data removed]",
      "text/plain": [
       "<Figure size 720x504 with 1 Axes>"
      ]
     },
     "metadata": {
      "needs_background": "light"
     },
     "output_type": "display_data"
    }
   ],
   "source": [
    "from matplotlib.rcsetup import cycler\n",
    "\n",
    "fig, ax = plt.subplots(figsize=(10,7))  \n",
    "\n",
    "items = emissions_plot['Item']\n",
    "margin_bottom = np.zeros(emissions_plot.shape[1]-1)\n",
    "\n",
    "ind = [\"Total\", \"N2O\", \"CH4\"]\n",
    "\n",
    "colors = plt.cm.tab10(np.linspace(0, 1, len(emissions_plot['Item'])))\n",
    "\n",
    "for num, item in enumerate(items):\n",
    "    values = list(emissions_plot.loc[num])[1:4]\n",
    "    ax.set_prop_cycle(c)\n",
    "    plt.bar(ind, values, bottom=margin_bottom, color = colors[num],label=item)\n",
    "    margin_bottom += values\n",
    "plt.legend()\n",
    "plt.show()\n"
   ]
  },
  {
   "cell_type": "markdown",
   "metadata": {
    "Collapsed": "false"
   },
   "source": [
    "In total, CH4 has a bigger CO2eq impact than N20, but they are both big \n",
    "\n",
    "It is obvious that Enteric Fermentation is (in total) the biggest emmitor of greenhouse gasses, but this is only from CH4, and it produces no N20"
   ]
  },
  {
   "cell_type": "markdown",
   "metadata": {
    "Collapsed": "false"
   },
   "source": [
    "We could now focus on the ones that have the most impact for example"
   ]
  },
  {
   "cell_type": "markdown",
   "metadata": {},
   "source": [
    "## Transform the dataset\n",
    "We transform the dataset to be able to show the evolution of the CO2eq emission by country over the years"
   ]
  },
  {
   "cell_type": "code",
   "execution_count": 13,
   "metadata": {},
   "outputs": [],
   "source": [
    "# Filter only Emmisions (CO2eq)\n",
    "emissions_total = emissions_total[emissions_total.Element == 'Emissions (CO2eq)']\n",
    "# We can get rid of all codes + Unit + Element\n",
    "emissions_total = emissions_total.drop(columns=['Country Code', 'Item Code', 'Element Code', 'Year Code', 'Unit', 'Element'])"
   ]
  },
  {
   "cell_type": "code",
   "execution_count": 14,
   "metadata": {},
   "outputs": [
    {
     "name": "stdout",
     "output_type": "stream",
     "text": [
      "(139965, 5)\n"
     ]
    },
    {
     "data": {
      "text/html": [
       "<div>\n",
       "<style scoped>\n",
       "    .dataframe tbody tr th:only-of-type {\n",
       "        vertical-align: middle;\n",
       "    }\n",
       "\n",
       "    .dataframe tbody tr th {\n",
       "        vertical-align: top;\n",
       "    }\n",
       "\n",
       "    .dataframe thead th {\n",
       "        text-align: right;\n",
       "    }\n",
       "</style>\n",
       "<table border=\"1\" class=\"dataframe\">\n",
       "  <thead>\n",
       "    <tr style=\"text-align: right;\">\n",
       "      <th></th>\n",
       "      <th>Country</th>\n",
       "      <th>Item</th>\n",
       "      <th>Year</th>\n",
       "      <th>Value</th>\n",
       "      <th>Flag</th>\n",
       "    </tr>\n",
       "  </thead>\n",
       "  <tbody>\n",
       "    <tr>\n",
       "      <td>0</td>\n",
       "      <td>Afghanistan</td>\n",
       "      <td>Enteric Fermentation</td>\n",
       "      <td>1961</td>\n",
       "      <td>5054.3459</td>\n",
       "      <td>A</td>\n",
       "    </tr>\n",
       "    <tr>\n",
       "      <td>1</td>\n",
       "      <td>Afghanistan</td>\n",
       "      <td>Enteric Fermentation</td>\n",
       "      <td>1962</td>\n",
       "      <td>5151.5228</td>\n",
       "      <td>A</td>\n",
       "    </tr>\n",
       "    <tr>\n",
       "      <td>2</td>\n",
       "      <td>Afghanistan</td>\n",
       "      <td>Enteric Fermentation</td>\n",
       "      <td>1963</td>\n",
       "      <td>5372.3989</td>\n",
       "      <td>A</td>\n",
       "    </tr>\n",
       "    <tr>\n",
       "      <td>3</td>\n",
       "      <td>Afghanistan</td>\n",
       "      <td>Enteric Fermentation</td>\n",
       "      <td>1964</td>\n",
       "      <td>5440.3650</td>\n",
       "      <td>A</td>\n",
       "    </tr>\n",
       "    <tr>\n",
       "      <td>4</td>\n",
       "      <td>Afghanistan</td>\n",
       "      <td>Enteric Fermentation</td>\n",
       "      <td>1965</td>\n",
       "      <td>5577.5580</td>\n",
       "      <td>A</td>\n",
       "    </tr>\n",
       "  </tbody>\n",
       "</table>\n",
       "</div>"
      ],
      "text/plain": [
       "       Country                  Item  Year      Value Flag\n",
       "0  Afghanistan  Enteric Fermentation  1961  5054.3459    A\n",
       "1  Afghanistan  Enteric Fermentation  1962  5151.5228    A\n",
       "2  Afghanistan  Enteric Fermentation  1963  5372.3989    A\n",
       "3  Afghanistan  Enteric Fermentation  1964  5440.3650    A\n",
       "4  Afghanistan  Enteric Fermentation  1965  5577.5580    A"
      ]
     },
     "execution_count": 14,
     "metadata": {},
     "output_type": "execute_result"
    }
   ],
   "source": [
    "# Filter only Emmisions (CO2eq)\n",
    "print(emissions_total.shape)\n",
    "emissions_total.head()"
   ]
  },
  {
   "cell_type": "code",
   "execution_count": 15,
   "metadata": {},
   "outputs": [
    {
     "data": {
      "text/plain": [
       "A     123645\n",
       "Fc      8919\n",
       "EA      7401\n",
       "Name: Flag, dtype: int64"
      ]
     },
     "execution_count": 15,
     "metadata": {},
     "output_type": "execute_result"
    }
   ],
   "source": [
    "# Flags\n",
    "emissions_total.Flag.value_counts()"
   ]
  },
  {
   "cell_type": "markdown",
   "metadata": {},
   "source": [
    "The flags represent : \n",
    "* `A` : Aggregate, may include official, semi-official, estimated or calculated data\n",
    "* `Fc` : Calculated data\n",
    "* `EA` : Emissions computed using data from Fertilizer Archive dataset\n",
    "\n",
    "All these flag are acceptable we can then drop this column"
   ]
  },
  {
   "cell_type": "code",
   "execution_count": 16,
   "metadata": {},
   "outputs": [],
   "source": [
    "emissions_total = emissions_total.drop(columns='Flag')"
   ]
  },
  {
   "cell_type": "code",
   "execution_count": 17,
   "metadata": {},
   "outputs": [],
   "source": [
    "# Remove aggregation item\n",
    "agg_item = ['Agriculture total', 'Agricultural Soils']\n",
    "emissions_total = emissions_total.drop(emissions_total[emissions_total['Item'].isin(agg_item)].index)\n",
    "\n",
    "# Remove aggregation country\n",
    "emissions_total.Country.unique()\n",
    "agg_country = ['World', 'Africa',\n",
    "       'Eastern Africa', 'Middle Africa', 'Northern Africa',\n",
    "       'Southern Africa', 'Western Africa', 'Americas',\n",
    "       'Northern America', 'Central America', 'Caribbean',\n",
    "       'South America', 'Asia', 'Central Asia', 'Eastern Asia',\n",
    "       'Southern Asia', 'South-Eastern Asia', 'Western Asia', 'Europe',\n",
    "       'Eastern Europe', 'Northern Europe', 'Southern Europe',\n",
    "       'Western Europe', 'Oceania', 'Australia & New Zealand',\n",
    "       'Melanesia', 'Micronesia', 'Polynesia', 'European Union',\n",
    "       'Least Developed Countries', 'Land Locked Developing Countries',\n",
    "       'Small Island Developing States',\n",
    "       'Low Income Food Deficit Countries',\n",
    "       'Net Food Importing Developing Countries', 'Annex I countries',\n",
    "       'Non-Annex I countries', 'OECD']\n",
    "emissions_total = emissions_total.drop(emissions_total[emissions_total['Country'].isin(agg_country)].index)"
   ]
  },
  {
   "cell_type": "code",
   "execution_count": 18,
   "metadata": {},
   "outputs": [
    {
     "data": {
      "text/html": [
       "<div>\n",
       "<style scoped>\n",
       "    .dataframe tbody tr th:only-of-type {\n",
       "        vertical-align: middle;\n",
       "    }\n",
       "\n",
       "    .dataframe tbody tr th {\n",
       "        vertical-align: top;\n",
       "    }\n",
       "\n",
       "    .dataframe thead th {\n",
       "        text-align: right;\n",
       "    }\n",
       "</style>\n",
       "<table border=\"1\" class=\"dataframe\">\n",
       "  <thead>\n",
       "    <tr style=\"text-align: right;\">\n",
       "      <th></th>\n",
       "      <th>Item</th>\n",
       "      <th>Burning - Crop residues</th>\n",
       "      <th>Burning - Savanna</th>\n",
       "      <th>Crop Residues</th>\n",
       "      <th>Cultivation of Organic Soils</th>\n",
       "      <th>Enteric Fermentation</th>\n",
       "      <th>Manure Management</th>\n",
       "      <th>Manure applied to Soils</th>\n",
       "      <th>Manure left on Pasture</th>\n",
       "      <th>Rice Cultivation</th>\n",
       "      <th>Synthetic Fertilizers</th>\n",
       "    </tr>\n",
       "    <tr>\n",
       "      <th>Country</th>\n",
       "      <th>Year</th>\n",
       "      <th></th>\n",
       "      <th></th>\n",
       "      <th></th>\n",
       "      <th></th>\n",
       "      <th></th>\n",
       "      <th></th>\n",
       "      <th></th>\n",
       "      <th></th>\n",
       "      <th></th>\n",
       "      <th></th>\n",
       "    </tr>\n",
       "  </thead>\n",
       "  <tbody>\n",
       "    <tr>\n",
       "      <td rowspan=\"5\" valign=\"top\">Afghanistan</td>\n",
       "      <td>1961</td>\n",
       "      <td>118.2797</td>\n",
       "      <td>NaN</td>\n",
       "      <td>332.7512</td>\n",
       "      <td>NaN</td>\n",
       "      <td>5054.3459</td>\n",
       "      <td>367.8310</td>\n",
       "      <td>390.4421</td>\n",
       "      <td>2368.1734</td>\n",
       "      <td>617.4</td>\n",
       "      <td>6.4546</td>\n",
       "    </tr>\n",
       "    <tr>\n",
       "      <td>1962</td>\n",
       "      <td>121.7607</td>\n",
       "      <td>NaN</td>\n",
       "      <td>335.2904</td>\n",
       "      <td>NaN</td>\n",
       "      <td>5151.5228</td>\n",
       "      <td>376.4362</td>\n",
       "      <td>396.0043</td>\n",
       "      <td>2326.1498</td>\n",
       "      <td>617.4</td>\n",
       "      <td>6.4546</td>\n",
       "    </tr>\n",
       "    <tr>\n",
       "      <td>1963</td>\n",
       "      <td>121.7607</td>\n",
       "      <td>NaN</td>\n",
       "      <td>312.7451</td>\n",
       "      <td>NaN</td>\n",
       "      <td>5372.3989</td>\n",
       "      <td>392.5811</td>\n",
       "      <td>406.7487</td>\n",
       "      <td>2390.2709</td>\n",
       "      <td>617.4</td>\n",
       "      <td>6.4546</td>\n",
       "    </tr>\n",
       "    <tr>\n",
       "      <td>1964</td>\n",
       "      <td>122.7093</td>\n",
       "      <td>NaN</td>\n",
       "      <td>337.2814</td>\n",
       "      <td>NaN</td>\n",
       "      <td>5440.3650</td>\n",
       "      <td>399.8526</td>\n",
       "      <td>415.1598</td>\n",
       "      <td>2422.8848</td>\n",
       "      <td>646.8</td>\n",
       "      <td>6.4546</td>\n",
       "    </tr>\n",
       "    <tr>\n",
       "      <td>1965</td>\n",
       "      <td>122.3902</td>\n",
       "      <td>NaN</td>\n",
       "      <td>340.9305</td>\n",
       "      <td>NaN</td>\n",
       "      <td>5577.5580</td>\n",
       "      <td>413.3914</td>\n",
       "      <td>427.7566</td>\n",
       "      <td>2482.0286</td>\n",
       "      <td>646.8</td>\n",
       "      <td>6.4546</td>\n",
       "    </tr>\n",
       "  </tbody>\n",
       "</table>\n",
       "</div>"
      ],
      "text/plain": [
       "Item              Burning - Crop residues  Burning - Savanna  Crop Residues  \\\n",
       "Country     Year                                                              \n",
       "Afghanistan 1961                 118.2797                NaN       332.7512   \n",
       "            1962                 121.7607                NaN       335.2904   \n",
       "            1963                 121.7607                NaN       312.7451   \n",
       "            1964                 122.7093                NaN       337.2814   \n",
       "            1965                 122.3902                NaN       340.9305   \n",
       "\n",
       "Item              Cultivation of Organic Soils  Enteric Fermentation  \\\n",
       "Country     Year                                                       \n",
       "Afghanistan 1961                           NaN             5054.3459   \n",
       "            1962                           NaN             5151.5228   \n",
       "            1963                           NaN             5372.3989   \n",
       "            1964                           NaN             5440.3650   \n",
       "            1965                           NaN             5577.5580   \n",
       "\n",
       "Item              Manure Management  Manure applied to Soils  \\\n",
       "Country     Year                                               \n",
       "Afghanistan 1961           367.8310                 390.4421   \n",
       "            1962           376.4362                 396.0043   \n",
       "            1963           392.5811                 406.7487   \n",
       "            1964           399.8526                 415.1598   \n",
       "            1965           413.3914                 427.7566   \n",
       "\n",
       "Item              Manure left on Pasture  Rice Cultivation  \\\n",
       "Country     Year                                             \n",
       "Afghanistan 1961               2368.1734             617.4   \n",
       "            1962               2326.1498             617.4   \n",
       "            1963               2390.2709             617.4   \n",
       "            1964               2422.8848             646.8   \n",
       "            1965               2482.0286             646.8   \n",
       "\n",
       "Item              Synthetic Fertilizers  \n",
       "Country     Year                         \n",
       "Afghanistan 1961                 6.4546  \n",
       "            1962                 6.4546  \n",
       "            1963                 6.4546  \n",
       "            1964                 6.4546  \n",
       "            1965                 6.4546  "
      ]
     },
     "execution_count": 18,
     "metadata": {},
     "output_type": "execute_result"
    }
   ],
   "source": [
    "# Pivot the table to make element columns\n",
    "emissions_total = pd.pivot_table(emissions_total, values='Value', index=['Country', 'Year'], columns='Item')\n",
    "emissions_total.head()"
   ]
  },
  {
   "cell_type": "code",
   "execution_count": 19,
   "metadata": {},
   "outputs": [],
   "source": [
    "# Here we assume that if there is no data the country just do not produce any emission of that type\n",
    "emissions_total.fillna(0, inplace=True)"
   ]
  },
  {
   "cell_type": "code",
   "execution_count": 20,
   "metadata": {},
   "outputs": [
    {
     "data": {
      "text/html": [
       "<div>\n",
       "<style scoped>\n",
       "    .dataframe tbody tr th:only-of-type {\n",
       "        vertical-align: middle;\n",
       "    }\n",
       "\n",
       "    .dataframe tbody tr th {\n",
       "        vertical-align: top;\n",
       "    }\n",
       "\n",
       "    .dataframe thead th {\n",
       "        text-align: right;\n",
       "    }\n",
       "</style>\n",
       "<table border=\"1\" class=\"dataframe\">\n",
       "  <thead>\n",
       "    <tr style=\"text-align: right;\">\n",
       "      <th></th>\n",
       "      <th>Item</th>\n",
       "      <th>Burning - Crop residues</th>\n",
       "      <th>Burning - Savanna</th>\n",
       "      <th>Crop Residues</th>\n",
       "      <th>Cultivation of Organic Soils</th>\n",
       "      <th>Enteric Fermentation</th>\n",
       "      <th>Manure Management</th>\n",
       "      <th>Manure applied to Soils</th>\n",
       "      <th>Manure left on Pasture</th>\n",
       "      <th>Rice Cultivation</th>\n",
       "      <th>Synthetic Fertilizers</th>\n",
       "      <th>Sum</th>\n",
       "    </tr>\n",
       "    <tr>\n",
       "      <th>Country</th>\n",
       "      <th>Year</th>\n",
       "      <th></th>\n",
       "      <th></th>\n",
       "      <th></th>\n",
       "      <th></th>\n",
       "      <th></th>\n",
       "      <th></th>\n",
       "      <th></th>\n",
       "      <th></th>\n",
       "      <th></th>\n",
       "      <th></th>\n",
       "      <th></th>\n",
       "    </tr>\n",
       "  </thead>\n",
       "  <tbody>\n",
       "    <tr>\n",
       "      <td rowspan=\"5\" valign=\"top\">Afghanistan</td>\n",
       "      <td>1961</td>\n",
       "      <td>118.2797</td>\n",
       "      <td>0.0</td>\n",
       "      <td>332.7512</td>\n",
       "      <td>0.0</td>\n",
       "      <td>5054.3459</td>\n",
       "      <td>367.8310</td>\n",
       "      <td>390.4421</td>\n",
       "      <td>2368.1734</td>\n",
       "      <td>617.4</td>\n",
       "      <td>6.4546</td>\n",
       "      <td>9255.6779</td>\n",
       "    </tr>\n",
       "    <tr>\n",
       "      <td>1962</td>\n",
       "      <td>121.7607</td>\n",
       "      <td>0.0</td>\n",
       "      <td>335.2904</td>\n",
       "      <td>0.0</td>\n",
       "      <td>5151.5228</td>\n",
       "      <td>376.4362</td>\n",
       "      <td>396.0043</td>\n",
       "      <td>2326.1498</td>\n",
       "      <td>617.4</td>\n",
       "      <td>6.4546</td>\n",
       "      <td>9331.0188</td>\n",
       "    </tr>\n",
       "    <tr>\n",
       "      <td>1963</td>\n",
       "      <td>121.7607</td>\n",
       "      <td>0.0</td>\n",
       "      <td>312.7451</td>\n",
       "      <td>0.0</td>\n",
       "      <td>5372.3989</td>\n",
       "      <td>392.5811</td>\n",
       "      <td>406.7487</td>\n",
       "      <td>2390.2709</td>\n",
       "      <td>617.4</td>\n",
       "      <td>6.4546</td>\n",
       "      <td>9620.3600</td>\n",
       "    </tr>\n",
       "    <tr>\n",
       "      <td>1964</td>\n",
       "      <td>122.7093</td>\n",
       "      <td>0.0</td>\n",
       "      <td>337.2814</td>\n",
       "      <td>0.0</td>\n",
       "      <td>5440.3650</td>\n",
       "      <td>399.8526</td>\n",
       "      <td>415.1598</td>\n",
       "      <td>2422.8848</td>\n",
       "      <td>646.8</td>\n",
       "      <td>6.4546</td>\n",
       "      <td>9791.5075</td>\n",
       "    </tr>\n",
       "    <tr>\n",
       "      <td>1965</td>\n",
       "      <td>122.3902</td>\n",
       "      <td>0.0</td>\n",
       "      <td>340.9305</td>\n",
       "      <td>0.0</td>\n",
       "      <td>5577.5580</td>\n",
       "      <td>413.3914</td>\n",
       "      <td>427.7566</td>\n",
       "      <td>2482.0286</td>\n",
       "      <td>646.8</td>\n",
       "      <td>6.4546</td>\n",
       "      <td>10017.3099</td>\n",
       "    </tr>\n",
       "  </tbody>\n",
       "</table>\n",
       "</div>"
      ],
      "text/plain": [
       "Item              Burning - Crop residues  Burning - Savanna  Crop Residues  \\\n",
       "Country     Year                                                              \n",
       "Afghanistan 1961                 118.2797                0.0       332.7512   \n",
       "            1962                 121.7607                0.0       335.2904   \n",
       "            1963                 121.7607                0.0       312.7451   \n",
       "            1964                 122.7093                0.0       337.2814   \n",
       "            1965                 122.3902                0.0       340.9305   \n",
       "\n",
       "Item              Cultivation of Organic Soils  Enteric Fermentation  \\\n",
       "Country     Year                                                       \n",
       "Afghanistan 1961                           0.0             5054.3459   \n",
       "            1962                           0.0             5151.5228   \n",
       "            1963                           0.0             5372.3989   \n",
       "            1964                           0.0             5440.3650   \n",
       "            1965                           0.0             5577.5580   \n",
       "\n",
       "Item              Manure Management  Manure applied to Soils  \\\n",
       "Country     Year                                               \n",
       "Afghanistan 1961           367.8310                 390.4421   \n",
       "            1962           376.4362                 396.0043   \n",
       "            1963           392.5811                 406.7487   \n",
       "            1964           399.8526                 415.1598   \n",
       "            1965           413.3914                 427.7566   \n",
       "\n",
       "Item              Manure left on Pasture  Rice Cultivation  \\\n",
       "Country     Year                                             \n",
       "Afghanistan 1961               2368.1734             617.4   \n",
       "            1962               2326.1498             617.4   \n",
       "            1963               2390.2709             617.4   \n",
       "            1964               2422.8848             646.8   \n",
       "            1965               2482.0286             646.8   \n",
       "\n",
       "Item              Synthetic Fertilizers         Sum  \n",
       "Country     Year                                     \n",
       "Afghanistan 1961                 6.4546   9255.6779  \n",
       "            1962                 6.4546   9331.0188  \n",
       "            1963                 6.4546   9620.3600  \n",
       "            1964                 6.4546   9791.5075  \n",
       "            1965                 6.4546  10017.3099  "
      ]
     },
     "execution_count": 20,
     "metadata": {},
     "output_type": "execute_result"
    }
   ],
   "source": [
    "# Create a new column sum\n",
    "emissions_total['Sum'] = emissions_total.sum(axis=1)\n",
    "emissions_total.head()"
   ]
  },
  {
   "cell_type": "code",
   "execution_count": 21,
   "metadata": {},
   "outputs": [
    {
     "data": {
      "text/html": [
       "<div>\n",
       "<style scoped>\n",
       "    .dataframe tbody tr th:only-of-type {\n",
       "        vertical-align: middle;\n",
       "    }\n",
       "\n",
       "    .dataframe tbody tr th {\n",
       "        vertical-align: top;\n",
       "    }\n",
       "\n",
       "    .dataframe thead th {\n",
       "        text-align: right;\n",
       "    }\n",
       "</style>\n",
       "<table border=\"1\" class=\"dataframe\">\n",
       "  <thead>\n",
       "    <tr style=\"text-align: right;\">\n",
       "      <th></th>\n",
       "      <th></th>\n",
       "      <th>% Burning - Crop residues</th>\n",
       "      <th>% Burning - Savanna</th>\n",
       "      <th>% Crop Residues</th>\n",
       "      <th>% Cultivation of Organic Soils</th>\n",
       "      <th>% Enteric Fermentation</th>\n",
       "      <th>% Manure Management</th>\n",
       "      <th>% Manure applied to Soils</th>\n",
       "      <th>% Manure left on Pasture</th>\n",
       "      <th>% Rice Cultivation</th>\n",
       "      <th>% Synthetic Fertilizers</th>\n",
       "      <th>% Sum</th>\n",
       "    </tr>\n",
       "    <tr>\n",
       "      <th>Country</th>\n",
       "      <th>Year</th>\n",
       "      <th></th>\n",
       "      <th></th>\n",
       "      <th></th>\n",
       "      <th></th>\n",
       "      <th></th>\n",
       "      <th></th>\n",
       "      <th></th>\n",
       "      <th></th>\n",
       "      <th></th>\n",
       "      <th></th>\n",
       "      <th></th>\n",
       "    </tr>\n",
       "  </thead>\n",
       "  <tbody>\n",
       "    <tr>\n",
       "      <td rowspan=\"5\" valign=\"top\">Afghanistan</td>\n",
       "      <td>1961</td>\n",
       "      <td>1.277915</td>\n",
       "      <td>0.0</td>\n",
       "      <td>3.595103</td>\n",
       "      <td>0.0</td>\n",
       "      <td>54.608057</td>\n",
       "      <td>3.974112</td>\n",
       "      <td>4.218406</td>\n",
       "      <td>25.586169</td>\n",
       "      <td>6.670500</td>\n",
       "      <td>0.069737</td>\n",
       "      <td>100.0</td>\n",
       "    </tr>\n",
       "    <tr>\n",
       "      <td>1962</td>\n",
       "      <td>1.304903</td>\n",
       "      <td>0.0</td>\n",
       "      <td>3.593288</td>\n",
       "      <td>0.0</td>\n",
       "      <td>55.208578</td>\n",
       "      <td>4.034245</td>\n",
       "      <td>4.243956</td>\n",
       "      <td>24.929216</td>\n",
       "      <td>6.616641</td>\n",
       "      <td>0.069174</td>\n",
       "      <td>100.0</td>\n",
       "    </tr>\n",
       "    <tr>\n",
       "      <td>1963</td>\n",
       "      <td>1.265656</td>\n",
       "      <td>0.0</td>\n",
       "      <td>3.250867</td>\n",
       "      <td>0.0</td>\n",
       "      <td>55.844053</td>\n",
       "      <td>4.080732</td>\n",
       "      <td>4.227999</td>\n",
       "      <td>24.845961</td>\n",
       "      <td>6.417639</td>\n",
       "      <td>0.067093</td>\n",
       "      <td>100.0</td>\n",
       "    </tr>\n",
       "    <tr>\n",
       "      <td>1964</td>\n",
       "      <td>1.253222</td>\n",
       "      <td>0.0</td>\n",
       "      <td>3.444632</td>\n",
       "      <td>0.0</td>\n",
       "      <td>55.562078</td>\n",
       "      <td>4.083667</td>\n",
       "      <td>4.239999</td>\n",
       "      <td>24.744758</td>\n",
       "      <td>6.605724</td>\n",
       "      <td>0.065920</td>\n",
       "      <td>100.0</td>\n",
       "    </tr>\n",
       "    <tr>\n",
       "      <td>1965</td>\n",
       "      <td>1.221787</td>\n",
       "      <td>0.0</td>\n",
       "      <td>3.403414</td>\n",
       "      <td>0.0</td>\n",
       "      <td>55.679200</td>\n",
       "      <td>4.126771</td>\n",
       "      <td>4.270174</td>\n",
       "      <td>24.777397</td>\n",
       "      <td>6.456823</td>\n",
       "      <td>0.064434</td>\n",
       "      <td>100.0</td>\n",
       "    </tr>\n",
       "  </tbody>\n",
       "</table>\n",
       "</div>"
      ],
      "text/plain": [
       "                  % Burning - Crop residues  % Burning - Savanna  \\\n",
       "Country     Year                                                   \n",
       "Afghanistan 1961                   1.277915                  0.0   \n",
       "            1962                   1.304903                  0.0   \n",
       "            1963                   1.265656                  0.0   \n",
       "            1964                   1.253222                  0.0   \n",
       "            1965                   1.221787                  0.0   \n",
       "\n",
       "                  % Crop Residues  % Cultivation of Organic Soils  \\\n",
       "Country     Year                                                    \n",
       "Afghanistan 1961         3.595103                             0.0   \n",
       "            1962         3.593288                             0.0   \n",
       "            1963         3.250867                             0.0   \n",
       "            1964         3.444632                             0.0   \n",
       "            1965         3.403414                             0.0   \n",
       "\n",
       "                  % Enteric Fermentation  % Manure Management  \\\n",
       "Country     Year                                                \n",
       "Afghanistan 1961               54.608057             3.974112   \n",
       "            1962               55.208578             4.034245   \n",
       "            1963               55.844053             4.080732   \n",
       "            1964               55.562078             4.083667   \n",
       "            1965               55.679200             4.126771   \n",
       "\n",
       "                  % Manure applied to Soils  % Manure left on Pasture  \\\n",
       "Country     Year                                                        \n",
       "Afghanistan 1961                   4.218406                 25.586169   \n",
       "            1962                   4.243956                 24.929216   \n",
       "            1963                   4.227999                 24.845961   \n",
       "            1964                   4.239999                 24.744758   \n",
       "            1965                   4.270174                 24.777397   \n",
       "\n",
       "                  % Rice Cultivation  % Synthetic Fertilizers  % Sum  \n",
       "Country     Year                                                      \n",
       "Afghanistan 1961            6.670500                 0.069737  100.0  \n",
       "            1962            6.616641                 0.069174  100.0  \n",
       "            1963            6.417639                 0.067093  100.0  \n",
       "            1964            6.605724                 0.065920  100.0  \n",
       "            1965            6.456823                 0.064434  100.0  "
      ]
     },
     "execution_count": 21,
     "metadata": {},
     "output_type": "execute_result"
    }
   ],
   "source": [
    "# create a new dataframe with relative numbers\n",
    "relative_emissions_total = pd.DataFrame()\n",
    "for col in emissions_total.columns:\n",
    "    new_col = '% '+col\n",
    "    relative_emissions_total[new_col] = emissions_total[col]/emissions_total['Sum'] * 100\n",
    "    \n",
    "relative_emissions_total.head()"
   ]
  },
  {
   "cell_type": "code",
   "execution_count": 25,
   "metadata": {},
   "outputs": [],
   "source": [
    "# Save the datasets\n",
    "emissions_total.to_csv(GENERATED_DATA_PATH+'emissions_total.csv')\n",
    "relative_emissions_total.to_csv(GENERATED_DATA_PATH+'relative_emissions_total.csv')"
   ]
  }
 ],
 "metadata": {
  "kernelspec": {
   "display_name": "Python [conda env:ada] *",
   "language": "python",
   "name": "conda-env-ada-py"
  },
  "language_info": {
   "codemirror_mode": {
    "name": "ipython",
    "version": 3
   },
   "file_extension": ".py",
   "mimetype": "text/x-python",
   "name": "python",
   "nbconvert_exporter": "python",
   "pygments_lexer": "ipython3",
   "version": "3.7.4"
  }
 },
 "nbformat": 4,
 "nbformat_minor": 4
}
