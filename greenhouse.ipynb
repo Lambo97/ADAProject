{
 "cells": [
  {
   "cell_type": "markdown",
   "metadata": {
    "Collapsed": "false"
   },
   "source": [
    "# Searching the most-efficient source of food\n"
   ]
  },
  {
   "cell_type": "markdown",
   "metadata": {
    "Collapsed": "false"
   },
   "source": [
    "## Greenhouse gas emission"
   ]
  },
  {
   "cell_type": "code",
   "execution_count": 441,
   "metadata": {
    "Collapsed": "false"
   },
   "outputs": [],
   "source": [
    "import pandas as pd\n",
    "import numpy as np\n",
    "import matplotlib.pyplot as plt"
   ]
  },
  {
   "cell_type": "code",
   "execution_count": 442,
   "metadata": {
    "Collapsed": "false"
   },
   "outputs": [],
   "source": [
    "# constants\n",
    "\n",
    "DATA_PATH = './data/'\n",
    "DATA_PATH_RAW = DATA_PATH + 'current_FAO/raw_files/'"
   ]
  },
  {
   "cell_type": "markdown",
   "metadata": {
    "Collapsed": "false"
   },
   "source": [
    "Let us first have a look at the total emission by agriculture. For this we use the 'Emissions_Agriculture_Agriculture_total_E_All_Data_(Norm)' dataset. MetaData can be found here: http://www.fao.org/faostat/en/#data/GT/metadata"
   ]
  },
  {
   "cell_type": "code",
   "execution_count": 443,
   "metadata": {
    "Collapsed": "false"
   },
   "outputs": [],
   "source": [
    "emission_total_path = DATA_PATH_RAW+'Emissions_Agriculture_Agriculture_total_E_All_Data_(Norm).csv'\n",
    "emissions_total = pd.read_csv(emission_total_path, encoding='latin-1', engine='python')"
   ]
  },
  {
   "cell_type": "code",
   "execution_count": 444,
   "metadata": {
    "Collapsed": "false"
   },
   "outputs": [
    {
     "name": "stdout",
     "output_type": "stream",
     "text": [
      "(326182, 11)\n"
     ]
    },
    {
     "data": {
      "text/html": [
       "<div>\n",
       "<style scoped>\n",
       "    .dataframe tbody tr th:only-of-type {\n",
       "        vertical-align: middle;\n",
       "    }\n",
       "\n",
       "    .dataframe tbody tr th {\n",
       "        vertical-align: top;\n",
       "    }\n",
       "\n",
       "    .dataframe thead th {\n",
       "        text-align: right;\n",
       "    }\n",
       "</style>\n",
       "<table border=\"1\" class=\"dataframe\">\n",
       "  <thead>\n",
       "    <tr style=\"text-align: right;\">\n",
       "      <th></th>\n",
       "      <th>Country Code</th>\n",
       "      <th>Country</th>\n",
       "      <th>Item Code</th>\n",
       "      <th>Item</th>\n",
       "      <th>Element Code</th>\n",
       "      <th>Element</th>\n",
       "      <th>Year Code</th>\n",
       "      <th>Year</th>\n",
       "      <th>Unit</th>\n",
       "      <th>Value</th>\n",
       "      <th>Flag</th>\n",
       "    </tr>\n",
       "  </thead>\n",
       "  <tbody>\n",
       "    <tr>\n",
       "      <td>0</td>\n",
       "      <td>2</td>\n",
       "      <td>Afghanistan</td>\n",
       "      <td>5058</td>\n",
       "      <td>Enteric Fermentation</td>\n",
       "      <td>7231</td>\n",
       "      <td>Emissions (CO2eq)</td>\n",
       "      <td>1961</td>\n",
       "      <td>1961</td>\n",
       "      <td>Gigagrams</td>\n",
       "      <td>5054.3459</td>\n",
       "      <td>A</td>\n",
       "    </tr>\n",
       "    <tr>\n",
       "      <td>1</td>\n",
       "      <td>2</td>\n",
       "      <td>Afghanistan</td>\n",
       "      <td>5058</td>\n",
       "      <td>Enteric Fermentation</td>\n",
       "      <td>7231</td>\n",
       "      <td>Emissions (CO2eq)</td>\n",
       "      <td>1962</td>\n",
       "      <td>1962</td>\n",
       "      <td>Gigagrams</td>\n",
       "      <td>5151.5228</td>\n",
       "      <td>A</td>\n",
       "    </tr>\n",
       "    <tr>\n",
       "      <td>2</td>\n",
       "      <td>2</td>\n",
       "      <td>Afghanistan</td>\n",
       "      <td>5058</td>\n",
       "      <td>Enteric Fermentation</td>\n",
       "      <td>7231</td>\n",
       "      <td>Emissions (CO2eq)</td>\n",
       "      <td>1963</td>\n",
       "      <td>1963</td>\n",
       "      <td>Gigagrams</td>\n",
       "      <td>5372.3989</td>\n",
       "      <td>A</td>\n",
       "    </tr>\n",
       "    <tr>\n",
       "      <td>3</td>\n",
       "      <td>2</td>\n",
       "      <td>Afghanistan</td>\n",
       "      <td>5058</td>\n",
       "      <td>Enteric Fermentation</td>\n",
       "      <td>7231</td>\n",
       "      <td>Emissions (CO2eq)</td>\n",
       "      <td>1964</td>\n",
       "      <td>1964</td>\n",
       "      <td>Gigagrams</td>\n",
       "      <td>5440.3650</td>\n",
       "      <td>A</td>\n",
       "    </tr>\n",
       "    <tr>\n",
       "      <td>4</td>\n",
       "      <td>2</td>\n",
       "      <td>Afghanistan</td>\n",
       "      <td>5058</td>\n",
       "      <td>Enteric Fermentation</td>\n",
       "      <td>7231</td>\n",
       "      <td>Emissions (CO2eq)</td>\n",
       "      <td>1965</td>\n",
       "      <td>1965</td>\n",
       "      <td>Gigagrams</td>\n",
       "      <td>5577.5580</td>\n",
       "      <td>A</td>\n",
       "    </tr>\n",
       "    <tr>\n",
       "      <td>...</td>\n",
       "      <td>...</td>\n",
       "      <td>...</td>\n",
       "      <td>...</td>\n",
       "      <td>...</td>\n",
       "      <td>...</td>\n",
       "      <td>...</td>\n",
       "      <td>...</td>\n",
       "      <td>...</td>\n",
       "      <td>...</td>\n",
       "      <td>...</td>\n",
       "      <td>...</td>\n",
       "    </tr>\n",
       "    <tr>\n",
       "      <td>326177</td>\n",
       "      <td>5873</td>\n",
       "      <td>OECD</td>\n",
       "      <td>1709</td>\n",
       "      <td>Agricultural Soils</td>\n",
       "      <td>7243</td>\n",
       "      <td>Emissions (CO2eq) from N2O</td>\n",
       "      <td>2012</td>\n",
       "      <td>2012</td>\n",
       "      <td>Gigagrams</td>\n",
       "      <td>507201.5669</td>\n",
       "      <td>A</td>\n",
       "    </tr>\n",
       "    <tr>\n",
       "      <td>326178</td>\n",
       "      <td>5873</td>\n",
       "      <td>OECD</td>\n",
       "      <td>1709</td>\n",
       "      <td>Agricultural Soils</td>\n",
       "      <td>7243</td>\n",
       "      <td>Emissions (CO2eq) from N2O</td>\n",
       "      <td>2013</td>\n",
       "      <td>2013</td>\n",
       "      <td>Gigagrams</td>\n",
       "      <td>515750.7919</td>\n",
       "      <td>A</td>\n",
       "    </tr>\n",
       "    <tr>\n",
       "      <td>326179</td>\n",
       "      <td>5873</td>\n",
       "      <td>OECD</td>\n",
       "      <td>1709</td>\n",
       "      <td>Agricultural Soils</td>\n",
       "      <td>7243</td>\n",
       "      <td>Emissions (CO2eq) from N2O</td>\n",
       "      <td>2014</td>\n",
       "      <td>2014</td>\n",
       "      <td>Gigagrams</td>\n",
       "      <td>526015.4357</td>\n",
       "      <td>A</td>\n",
       "    </tr>\n",
       "    <tr>\n",
       "      <td>326180</td>\n",
       "      <td>5873</td>\n",
       "      <td>OECD</td>\n",
       "      <td>1709</td>\n",
       "      <td>Agricultural Soils</td>\n",
       "      <td>7243</td>\n",
       "      <td>Emissions (CO2eq) from N2O</td>\n",
       "      <td>2030</td>\n",
       "      <td>2030</td>\n",
       "      <td>Gigagrams</td>\n",
       "      <td>525722.7988</td>\n",
       "      <td>A</td>\n",
       "    </tr>\n",
       "    <tr>\n",
       "      <td>326181</td>\n",
       "      <td>5873</td>\n",
       "      <td>OECD</td>\n",
       "      <td>1709</td>\n",
       "      <td>Agricultural Soils</td>\n",
       "      <td>7243</td>\n",
       "      <td>Emissions (CO2eq) from N2O</td>\n",
       "      <td>2050</td>\n",
       "      <td>2050</td>\n",
       "      <td>Gigagrams</td>\n",
       "      <td>542459.3841</td>\n",
       "      <td>A</td>\n",
       "    </tr>\n",
       "  </tbody>\n",
       "</table>\n",
       "<p>326182 rows × 11 columns</p>\n",
       "</div>"
      ],
      "text/plain": [
       "        Country Code      Country  Item Code                  Item  \\\n",
       "0                  2  Afghanistan       5058  Enteric Fermentation   \n",
       "1                  2  Afghanistan       5058  Enteric Fermentation   \n",
       "2                  2  Afghanistan       5058  Enteric Fermentation   \n",
       "3                  2  Afghanistan       5058  Enteric Fermentation   \n",
       "4                  2  Afghanistan       5058  Enteric Fermentation   \n",
       "...              ...          ...        ...                   ...   \n",
       "326177          5873         OECD       1709    Agricultural Soils   \n",
       "326178          5873         OECD       1709    Agricultural Soils   \n",
       "326179          5873         OECD       1709    Agricultural Soils   \n",
       "326180          5873         OECD       1709    Agricultural Soils   \n",
       "326181          5873         OECD       1709    Agricultural Soils   \n",
       "\n",
       "        Element Code                     Element  Year Code  Year       Unit  \\\n",
       "0               7231           Emissions (CO2eq)       1961  1961  Gigagrams   \n",
       "1               7231           Emissions (CO2eq)       1962  1962  Gigagrams   \n",
       "2               7231           Emissions (CO2eq)       1963  1963  Gigagrams   \n",
       "3               7231           Emissions (CO2eq)       1964  1964  Gigagrams   \n",
       "4               7231           Emissions (CO2eq)       1965  1965  Gigagrams   \n",
       "...              ...                         ...        ...   ...        ...   \n",
       "326177          7243  Emissions (CO2eq) from N2O       2012  2012  Gigagrams   \n",
       "326178          7243  Emissions (CO2eq) from N2O       2013  2013  Gigagrams   \n",
       "326179          7243  Emissions (CO2eq) from N2O       2014  2014  Gigagrams   \n",
       "326180          7243  Emissions (CO2eq) from N2O       2030  2030  Gigagrams   \n",
       "326181          7243  Emissions (CO2eq) from N2O       2050  2050  Gigagrams   \n",
       "\n",
       "              Value Flag  \n",
       "0         5054.3459    A  \n",
       "1         5151.5228    A  \n",
       "2         5372.3989    A  \n",
       "3         5440.3650    A  \n",
       "4         5577.5580    A  \n",
       "...             ...  ...  \n",
       "326177  507201.5669    A  \n",
       "326178  515750.7919    A  \n",
       "326179  526015.4357    A  \n",
       "326180  525722.7988    A  \n",
       "326181  542459.3841    A  \n",
       "\n",
       "[326182 rows x 11 columns]"
      ]
     },
     "execution_count": 444,
     "metadata": {},
     "output_type": "execute_result"
    }
   ],
   "source": [
    "print(emissions_total.shape)\n",
    "emissions_total"
   ]
  },
  {
   "cell_type": "code",
   "execution_count": 445,
   "metadata": {
    "Collapsed": "false"
   },
   "outputs": [
    {
     "data": {
      "text/plain": [
       "Index([], dtype='object')"
      ]
     },
     "execution_count": 445,
     "metadata": {},
     "output_type": "execute_result"
    }
   ],
   "source": [
    "# check for NaN values\n",
    "emissions_total.columns[emissions_total.isna().any()]"
   ]
  },
  {
   "cell_type": "code",
   "execution_count": 446,
   "metadata": {
    "Collapsed": "false"
   },
   "outputs": [
    {
     "name": "stdout",
     "output_type": "stream",
     "text": [
      "We have the following kind of emissions: ['Emissions (CO2eq)' 'Emissions (CO2eq) from CH4'\n",
      " 'Emissions (CO2eq) from N2O']\n"
     ]
    }
   ],
   "source": [
    "# What kind of emissions are there?\n",
    "print(\"We have the following kind of emissions:\",emissions_total['Element'].unique())\n",
    "#print(emissions_total['Element Code'].unique())\n",
    "\n",
    "# Units are all in Gigagrams\n",
    "# print(emissions_total['Unit'].unique())\n",
    "\n",
    "#emissions_total['Country'].unique()"
   ]
  },
  {
   "cell_type": "markdown",
   "metadata": {
    "Collapsed": "false"
   },
   "source": [
    "CO2eq means 'Carbon dioxide equivalent'\n",
    "https://ec.europa.eu/eurostat/statistics-explained/index.php/Glossary:Carbon_dioxide_equivalent"
   ]
  },
  {
   "cell_type": "markdown",
   "metadata": {
    "Collapsed": "false"
   },
   "source": [
    "Amount of greenhouse gas (N20 + CH4) emitted per product? "
   ]
  },
  {
   "cell_type": "code",
   "execution_count": 447,
   "metadata": {
    "Collapsed": "false"
   },
   "outputs": [],
   "source": [
    "element_code = {'CO2eq': 7231, 'N2O': 7243, 'CH4': 7244}\n",
    "columns = ['Item', 'Value']"
   ]
  },
  {
   "cell_type": "code",
   "execution_count": 448,
   "metadata": {
    "Collapsed": "false"
   },
   "outputs": [],
   "source": [
    "emissions_world = emissions_total[(emissions_total['Country'] == 'World')]"
   ]
  },
  {
   "cell_type": "code",
   "execution_count": 449,
   "metadata": {
    "Collapsed": "false"
   },
   "outputs": [],
   "source": [
    "%%capture\n",
    "\n",
    "emissions_world_C02eq = emissions_world[emissions_world['Element Code'] == element_code['CO2eq']]\n",
    "emissions_world_C02eq = emissions_world_C02eq[columns].groupby(['Item']).sum().reset_index().set_index('Item')\n",
    "\n",
    "emissions_world_N2O = emissions_world[emissions_world['Element Code'] == element_code['N2O']]\n",
    "emissions_world_N2O = emissions_world_N2O[columns].groupby(['Item']).sum().reset_index().set_index('Item')\n",
    "\n",
    "emissions_world_CH4 = emissions_world[emissions_world['Element Code'] == element_code['CH4']]\n",
    "emissions_world_CH4 = emissions_world_CH4[columns].groupby(['Item']).sum().reset_index().set_index('Item')"
   ]
  },
  {
   "cell_type": "code",
   "execution_count": 450,
   "metadata": {
    "Collapsed": "false"
   },
   "outputs": [],
   "source": [
    "# Drop stats that are sum of the others\n",
    "emissions_world_C02eq.drop(['Agricultural Soils', 'Agriculture total'], inplace=True)\n",
    "emissions_world_C02eq.sort_values('Value', ascending=False, inplace=True)\n",
    "\n",
    "emissions_world_N2O.drop(['Agricultural Soils', 'Agriculture total'], inplace=True)\n",
    "emissions_world_N2O.sort_values('Value', ascending=False, inplace=True)\n",
    "\n",
    "emissions_world_CH4.drop('Agriculture total', inplace=True)\n",
    "emissions_world_CH4.sort_values('Value', ascending=False, inplace=True)"
   ]
  },
  {
   "cell_type": "code",
   "execution_count": 451,
   "metadata": {
    "Collapsed": "false"
   },
   "outputs": [],
   "source": [
    "# Left join\n",
    "emissions_plot = emissions_world_C02eq.join(emissions_world_N2O, lsuffix=\"CO2eq\", rsuffix=\"N20\").join(emissions_world_CH4)\\\n",
    "                    .rename({'Value':'ValueCH4'}, axis=1).reset_index().fillna(0)"
   ]
  },
  {
   "cell_type": "code",
   "execution_count": 452,
   "metadata": {
    "Collapsed": "false"
   },
   "outputs": [
    {
     "data": {
      "image/png": "[encoded data removed]",
      "text/plain": [
       "<Figure size 720x504 with 1 Axes>"
      ]
     },
     "metadata": {
      "needs_background": "light"
     },
     "output_type": "display_data"
    }
   ],
   "source": [
    "from matplotlib.rcsetup import cycler\n",
    "\n",
    "fig, ax = plt.subplots(figsize=(10,7))  \n",
    "\n",
    "items = emissions_plot['Item']\n",
    "margin_bottom = np.zeros(emissions_plot.shape[1]-1)\n",
    "\n",
    "ind = [\"CO2\", \"N2O\", \"CH4\"]\n",
    "\n",
    "colors = plt.cm.tab10(np.linspace(0, 1, len(emissions_plot['Item'])))\n",
    "\n",
    "for num, item in enumerate(items):\n",
    "    values = list(emissions_plot.loc[num])[1:4]\n",
    "    ax.set_prop_cycle(c)\n",
    "    plt.bar(ind, values, bottom=margin_bottom, color = colors[num],label=item)\n",
    "    margin_bottom += values\n",
    "plt.legend()\n",
    "plt.show()\n"
   ]
  },
  {
   "cell_type": "markdown",
   "metadata": {
    "Collapsed": "false"
   },
   "source": [
    "It is obvious that Enteric Fermentation is (in total) the biggest emmitor of greenhouse gasses, but this is only from CH4, and it produces no N20\n",
    "<font color=red>TODO: check what has the worst impact on the environment</font> "
   ]
  },
  {
   "cell_type": "code",
   "execution_count": null,
   "metadata": {},
   "outputs": [],
   "source": []
  }
 ],
 "metadata": {
  "kernelspec": {
   "display_name": "Python [conda env:ada] *",
   "language": "python",
   "name": "conda-env-ada-py"
  },
  "language_info": {
   "codemirror_mode": {
    "name": "ipython",
    "version": 3
   },
   "file_extension": ".py",
   "mimetype": "text/x-python",
   "name": "python",
   "nbconvert_exporter": "python",
   "pygments_lexer": "ipython3",
   "version": "3.7.3"
  }
 },
 "nbformat": 4,
 "nbformat_minor": 4
}
